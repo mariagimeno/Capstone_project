{
 "cells": [
  {
   "cell_type": "markdown",
   "metadata": {},
   "source": [
    "# CAPSTONE PART 4 FINDINGS AND TECHNICAL REPORT WINE BLIND TASTING (VARIETY)"
   ]
  },
  {
   "cell_type": "markdown",
   "metadata": {},
   "source": [
    "I have built a classification model that, based on a wine description given by an expert or semi-expert, is able to tell what grape was used to produce that wine.\n",
    "\n",
    "I am going to use for training and testing the data, the same models I defined with the other targets (country and province)"
   ]
  },
  {
   "cell_type": "code",
   "execution_count": 1,
   "metadata": {},
   "outputs": [],
   "source": [
    "import pandas as pd\n",
    "import numpy as np\n",
    "import matplotlib.pyplot as plt\n",
    "import seaborn as sns\n",
    "from wordcloud import WordCloud, STOPWORDS, ImageColorGenerator\n",
    "from PIL import Image\n",
    "\n",
    "\n",
    "pd.set_option('display.max_columns',500)\n",
    "%config InlineBackend.figure_format = 'retina'\n",
    "%matplotlib inline"
   ]
  },
  {
   "cell_type": "code",
   "execution_count": 2,
   "metadata": {},
   "outputs": [],
   "source": [
    "from sklearn.model_selection import train_test_split\n",
    "from sklearn.feature_extraction.text import CountVectorizer, TfidfTransformer, TfidfVectorizer\n",
    "from sklearn.model_selection import train_test_split, cross_val_score, GridSearchCV\n",
    "from sklearn.metrics import confusion_matrix, classification_report\n",
    "from sklearn.naive_bayes import MultinomialNB, BernoulliNB, GaussianNB\n",
    "from sklearn.linear_model import LogisticRegression\n",
    "from sklearn.pipeline import Pipeline\n",
    "from sklearn.ensemble import RandomForestClassifier"
   ]
  },
  {
   "cell_type": "markdown",
   "metadata": {},
   "source": [
    "## SMALL DATASET"
   ]
  },
  {
   "cell_type": "code",
   "execution_count": 3,
   "metadata": {},
   "outputs": [],
   "source": [
    "df = pd.read_csv('small_wineV1.csv', )"
   ]
  },
  {
   "cell_type": "code",
   "execution_count": 34,
   "metadata": {
    "scrolled": false
   },
   "outputs": [
    {
     "data": {
      "text/html": [
       "<div>\n",
       "<style scoped>\n",
       "    .dataframe tbody tr th:only-of-type {\n",
       "        vertical-align: middle;\n",
       "    }\n",
       "\n",
       "    .dataframe tbody tr th {\n",
       "        vertical-align: top;\n",
       "    }\n",
       "\n",
       "    .dataframe thead th {\n",
       "        text-align: right;\n",
       "    }\n",
       "</style>\n",
       "<table border=\"1\" class=\"dataframe\">\n",
       "  <thead>\n",
       "    <tr style=\"text-align: right;\">\n",
       "      <th></th>\n",
       "      <th>country</th>\n",
       "      <th>description</th>\n",
       "      <th>designation</th>\n",
       "      <th>points</th>\n",
       "      <th>price</th>\n",
       "      <th>province</th>\n",
       "      <th>region_1</th>\n",
       "      <th>taster_name</th>\n",
       "      <th>title</th>\n",
       "      <th>variety</th>\n",
       "      <th>winery</th>\n",
       "      <th>vintage</th>\n",
       "    </tr>\n",
       "  </thead>\n",
       "  <tbody>\n",
       "    <tr>\n",
       "      <th>0</th>\n",
       "      <td>France</td>\n",
       "      <td>Buxom and heady, this is a delightfully rich, ...</td>\n",
       "      <td>Vieilles Vignes</td>\n",
       "      <td>99</td>\n",
       "      <td>114.0</td>\n",
       "      <td>Châteauneuf-du-Pape</td>\n",
       "      <td>Rhône Valley</td>\n",
       "      <td>Anna Lee C. Iijima</td>\n",
       "      <td>Domaine de la Janasse 2016 Vieilles Vignes Red...</td>\n",
       "      <td>Rhône-style Red Blend</td>\n",
       "      <td>Domaine de la Janasse</td>\n",
       "      <td>2016.0</td>\n",
       "    </tr>\n",
       "    <tr>\n",
       "      <th>1</th>\n",
       "      <td>France</td>\n",
       "      <td>Sultry and silken on the palate, this wine sta...</td>\n",
       "      <td>La Réserve</td>\n",
       "      <td>98</td>\n",
       "      <td>175.0</td>\n",
       "      <td>Châteauneuf-du-Pape</td>\n",
       "      <td>Rhône Valley</td>\n",
       "      <td>Anna Lee C. Iijima</td>\n",
       "      <td>Domaine le Clos du Caillou 2016 La Réserve Red...</td>\n",
       "      <td>Rhône-style Red Blend</td>\n",
       "      <td>Domaine le Clos du Caillou</td>\n",
       "      <td>2016.0</td>\n",
       "    </tr>\n",
       "    <tr>\n",
       "      <th>2</th>\n",
       "      <td>Portugal</td>\n",
       "      <td>The wine's fine perfumed black plum fruits giv...</td>\n",
       "      <td>NaN</td>\n",
       "      <td>98</td>\n",
       "      <td>120.0</td>\n",
       "      <td>Port</td>\n",
       "      <td>Port Blend</td>\n",
       "      <td>Roger Voss</td>\n",
       "      <td>Fonseca 2017  Port</td>\n",
       "      <td>Port</td>\n",
       "      <td>Fonseca</td>\n",
       "      <td>2017.0</td>\n",
       "    </tr>\n",
       "    <tr>\n",
       "      <th>3</th>\n",
       "      <td>France</td>\n",
       "      <td>Veins of vanilla, smoke and toast amplify blac...</td>\n",
       "      <td>Hommage à Henry Tacussel</td>\n",
       "      <td>98</td>\n",
       "      <td>80.0</td>\n",
       "      <td>Châteauneuf-du-Pape</td>\n",
       "      <td>Rhône Valley</td>\n",
       "      <td>Anna Lee C. Iijima</td>\n",
       "      <td>Domaine Moulin-Tacussel 2016 Hommage à Henry T...</td>\n",
       "      <td>Grenache</td>\n",
       "      <td>Domaine Moulin-Tacussel</td>\n",
       "      <td>2016.0</td>\n",
       "    </tr>\n",
       "    <tr>\n",
       "      <th>4</th>\n",
       "      <td>France</td>\n",
       "      <td>This juicy, fruit-forward wine drenches the pa...</td>\n",
       "      <td>La Muse</td>\n",
       "      <td>97</td>\n",
       "      <td>88.0</td>\n",
       "      <td>Châteauneuf-du-Pape</td>\n",
       "      <td>Rhône Valley</td>\n",
       "      <td>Anna Lee C. Iijima</td>\n",
       "      <td>Guillaume Gonnet 2016 La Muse Red (Châteauneuf...</td>\n",
       "      <td>Rhône-style Red Blend</td>\n",
       "      <td>Guillaume Gonnet</td>\n",
       "      <td>2016.0</td>\n",
       "    </tr>\n",
       "  </tbody>\n",
       "</table>\n",
       "</div>"
      ],
      "text/plain": [
       "    country                                        description  \\\n",
       "0    France  Buxom and heady, this is a delightfully rich, ...   \n",
       "1    France  Sultry and silken on the palate, this wine sta...   \n",
       "2  Portugal  The wine's fine perfumed black plum fruits giv...   \n",
       "3    France  Veins of vanilla, smoke and toast amplify blac...   \n",
       "4    France  This juicy, fruit-forward wine drenches the pa...   \n",
       "\n",
       "                designation  points  price             province      region_1  \\\n",
       "0           Vieilles Vignes      99  114.0  Châteauneuf-du-Pape  Rhône Valley   \n",
       "1                La Réserve      98  175.0  Châteauneuf-du-Pape  Rhône Valley   \n",
       "2                       NaN      98  120.0                 Port    Port Blend   \n",
       "3  Hommage à Henry Tacussel      98   80.0  Châteauneuf-du-Pape  Rhône Valley   \n",
       "4                   La Muse      97   88.0  Châteauneuf-du-Pape  Rhône Valley   \n",
       "\n",
       "          taster_name                                              title  \\\n",
       "0  Anna Lee C. Iijima  Domaine de la Janasse 2016 Vieilles Vignes Red...   \n",
       "1  Anna Lee C. Iijima  Domaine le Clos du Caillou 2016 La Réserve Red...   \n",
       "2          Roger Voss                                 Fonseca 2017  Port   \n",
       "3  Anna Lee C. Iijima  Domaine Moulin-Tacussel 2016 Hommage à Henry T...   \n",
       "4  Anna Lee C. Iijima  Guillaume Gonnet 2016 La Muse Red (Châteauneuf...   \n",
       "\n",
       "                 variety                      winery  vintage  \n",
       "0  Rhône-style Red Blend       Domaine de la Janasse   2016.0  \n",
       "1  Rhône-style Red Blend  Domaine le Clos du Caillou   2016.0  \n",
       "2                   Port                     Fonseca   2017.0  \n",
       "3               Grenache     Domaine Moulin-Tacussel   2016.0  \n",
       "4  Rhône-style Red Blend            Guillaume Gonnet   2016.0  "
      ]
     },
     "execution_count": 34,
     "metadata": {},
     "output_type": "execute_result"
    }
   ],
   "source": [
    "df.head()"
   ]
  },
  {
   "cell_type": "code",
   "execution_count": 6,
   "metadata": {},
   "outputs": [
    {
     "name": "stdout",
     "output_type": "stream",
     "text": [
      "There are 541 types of grapes(varieties) in this dataset such as Rhône-style Red Blend, Port, Grenache, Grenache-Mourvèdre, Champagne Blend... \n",
      "\n"
     ]
    }
   ],
   "source": [
    "print(\"There are {} types of grapes(varieties) in this dataset such as {}... \\n\".\n",
    "      format(len(df.variety.unique()), \", \".join(df.variety.unique()[0:5])))\n"
   ]
  },
  {
   "cell_type": "code",
   "execution_count": 7,
   "metadata": {
    "scrolled": true
   },
   "outputs": [
    {
     "name": "stdout",
     "output_type": "stream",
     "text": [
      "The variety baseline is 0.1092695257518743\n"
     ]
    }
   ],
   "source": [
    "print('The variety baseline is', df.variety.value_counts(normalize=True).max())"
   ]
  },
  {
   "cell_type": "code",
   "execution_count": 7,
   "metadata": {},
   "outputs": [
    {
     "data": {
      "text/plain": [
       "<34813x15200 sparse matrix of type '<class 'numpy.int64'>'\n",
       "\twith 910512 stored elements in Compressed Sparse Row format>"
      ]
     },
     "execution_count": 7,
     "metadata": {},
     "output_type": "execute_result"
    }
   ],
   "source": [
    "cvec = CountVectorizer(strip_accents='unicode',\n",
    "                       stop_words=\"english\", \n",
    "                       ngram_range=(1, 1))\n",
    "\n",
    "X_all = cvec.fit_transform(df['description'])\n",
    "columns = cvec.get_feature_names()\n",
    "X_all"
   ]
  },
  {
   "cell_type": "markdown",
   "metadata": {},
   "source": [
    "### DEFINE THE VARIABLE VARIETY AS A TARGET\n"
   ]
  },
  {
   "cell_type": "code",
   "execution_count": 4,
   "metadata": {},
   "outputs": [],
   "source": [
    "# The target is the variable 'variety'. This datset has 542  differents types of grapes.\n",
    "y = df.variety\n",
    "X =  df.description"
   ]
  },
  {
   "cell_type": "code",
   "execution_count": 5,
   "metadata": {},
   "outputs": [],
   "source": [
    "X_train, X_test, y_train, y_test = train_test_split(X, y, test_size=0.2)"
   ]
  },
  {
   "cell_type": "markdown",
   "metadata": {},
   "source": [
    "### COUNTVECTORIZER  AND LOGISTIC REGRESSION "
   ]
  },
  {
   "cell_type": "markdown",
   "metadata": {},
   "source": [
    "The scores did not differ so much but the best performed model was with CountVectorizer and Logistic Regression with Lasso Regularization and multiclass ovr. I calculated the cross validation in this model and the score does not differ so much than the accuracy score.\n",
    "\n",
    "All of the models have better scores than the baseline.\n"
   ]
  },
  {
   "cell_type": "code",
   "execution_count": 37,
   "metadata": {},
   "outputs": [
    {
     "name": "stderr",
     "output_type": "stream",
     "text": [
      "[Parallel(n_jobs=2)]: Using backend LokyBackend with 2 concurrent workers.\n",
      "[Parallel(n_jobs=2)]: Done  46 tasks      | elapsed:    6.7s\n",
      "[Parallel(n_jobs=2)]: Done 196 tasks      | elapsed:   21.9s\n",
      "[Parallel(n_jobs=2)]: Done 446 tasks      | elapsed:   48.0s\n",
      "[Parallel(n_jobs=2)]: Done 498 out of 498 | elapsed:   53.1s finished\n"
     ]
    },
    {
     "data": {
      "text/plain": [
       "0.577193738331179"
      ]
     },
     "execution_count": 37,
     "metadata": {},
     "output_type": "execute_result"
    }
   ],
   "source": [
    "# CountVectorizer and Logistic Regression with Ridge regularization\n",
    "pipeline_ridge = Pipeline([\n",
    "    ('vect', cvec),\n",
    "    ('cls', LogisticRegression(penalty = 'l2', solver='lbfgs', multi_class='ovr', verbose = 1, n_jobs = 2))\n",
    "])\n",
    "pipeline_ridge.fit(X_train, y_train)\n",
    "predicted_ridge = pipeline_ridge.predict(X_test)\n",
    "pipeline_ridge.score(X_test, y_test)"
   ]
  },
  {
   "cell_type": "code",
   "execution_count": 7,
   "metadata": {},
   "outputs": [
    {
     "name": "stderr",
     "output_type": "stream",
     "text": [
      "/Users/Mariagimenoperez/anaconda3/lib/python3.6/site-packages/sklearn/linear_model/sag.py:337: ConvergenceWarning: The max_iter was reached which means the coef_ did not converge\n",
      "  \"the coef_ did not converge\", ConvergenceWarning)\n"
     ]
    },
    {
     "data": {
      "text/plain": [
       "0.5980180956484275"
      ]
     },
     "execution_count": 7,
     "metadata": {},
     "output_type": "execute_result"
    }
   ],
   "source": [
    "# CountVectorizer and Logistic Regression with Lasso regularization\n",
    "cvec = CountVectorizer(strip_accents='unicode', stop_words=\"english\", ngram_range=(1, 1))\n",
    "pipeline = Pipeline([\n",
    "    ('vect', cvec),\n",
    "    ('cls', LogisticRegression(penalty = 'l1', solver='saga', multi_class='ovr'))\n",
    "])\n",
    "pipeline.fit(X_train, y_train)\n",
    "predicted = pipeline.predict(X_test)\n",
    "pipeline.score(X_test, y_test)"
   ]
  },
  {
   "cell_type": "code",
   "execution_count": 8,
   "metadata": {},
   "outputs": [
    {
     "name": "stdout",
     "output_type": "stream",
     "text": [
      "                                    precision    recall  f1-score   support\n",
      "\n",
      "                         Aglianico       0.50      0.12      0.19        25\n",
      "                          Albariño       0.52      0.33      0.41        36\n",
      "                           Albillo       0.00      0.00      0.00         1\n",
      "                          Aleatico       0.00      0.00      0.00         1\n",
      "                          Alicante       0.00      0.00      0.00         1\n",
      "                 Alicante Bouschet       0.00      0.00      0.00         2\n",
      "                           Aligoté       0.00      0.00      0.00         4\n",
      "                Alsace white blend       0.00      0.00      0.00         2\n",
      "                           Altesse       0.00      0.00      0.00         1\n",
      "                         Alvarinho       0.71      0.36      0.48        14\n",
      "               Alvarinho-Trajadura       0.00      0.00      0.00         1\n",
      "                            Arinto       1.00      0.33      0.50         3\n",
      "                            Arneis       0.00      0.00      0.00         0\n",
      "                         Assyrtico       0.00      0.00      0.00         1\n",
      "                         Assyrtiko       0.50      1.00      0.67         1\n",
      "         Assyrtiko-Sauvignon Blanc       0.00      0.00      0.00         1\n",
      "                Austrian Red Blend       0.00      0.00      0.00         4\n",
      "              Austrian white blend       0.00      0.00      0.00        10\n",
      "                         Auxerrois       0.00      0.00      0.00         5\n",
      "                            Avesso       0.00      0.00      0.00         2\n",
      "                           Barbera       0.59      0.30      0.40        43\n",
      "                     Blaufränkisch       0.50      0.53      0.51        17\n",
      "                             Bobal       1.00      1.00      1.00         1\n",
      "                    Bombino Bianco       0.00      0.00      0.00         1\n",
      "                           Bonarda       0.00      0.00      0.00         1\n",
      "          Bordeaux-style Red Blend       0.69      0.82      0.74       347\n",
      "        Bordeaux-style White Blend       0.56      0.55      0.55        73\n",
      "                          Cabernet       0.00      0.00      0.00         1\n",
      "                    Cabernet Franc       0.40      0.33      0.36        95\n",
      "             Cabernet Franc-Merlot       0.00      0.00      0.00         1\n",
      "                Cabernet Sauvignon       0.50      0.72      0.59       451\n",
      "Cabernet Sauvignon-Feteasca Neagra       0.00      0.00      0.00         1\n",
      "      Cabernet Sauvignon-Mourvèdre       0.00      0.00      0.00         1\n",
      "   Cabernet Sauvignon-Petite Sirah       0.00      0.00      0.00         1\n",
      "         Cabernet Sauvignon-Shiraz       0.00      0.00      0.00         1\n",
      "          Cabernet Sauvignon-Syrah       0.00      0.00      0.00         1\n",
      "    Cabernet Sauvignon-Tempranillo       0.00      0.00      0.00         1\n",
      "                    Cabernet-Syrah       0.00      0.00      0.00         1\n",
      "                          Cannonau       0.33      0.25      0.29         4\n",
      "                          Carignan       0.00      0.00      0.00         5\n",
      "                 Carignan-Grenache       0.00      0.00      0.00         1\n",
      "                         Carignane       0.00      0.00      0.00         1\n",
      "                         Carmenère       0.40      0.25      0.31        24\n",
      "      Carmenère-Cabernet Sauvignon       0.00      0.00      0.00         0\n",
      "                        Carricante       0.00      0.00      0.00        12\n",
      "                          Castelão       0.00      0.00      0.00         3\n",
      "                        Catarratto       0.00      0.00      0.00         2\n",
      "                   Champagne Blend       0.88      0.73      0.80       107\n",
      "                          Charbono       0.00      0.00      0.00         1\n",
      "                        Chardonnay       0.61      0.82      0.70       587\n",
      "        Chardonnay-Sauvignon Blanc       0.00      0.00      0.00         1\n",
      "                         Chasselas       0.00      0.00      0.00         2\n",
      "                      Chenin Blanc       0.50      0.15      0.23        27\n",
      "                        Ciliegiolo       0.00      0.00      0.00         2\n",
      "                          Cinsault       0.00      0.00      0.00         2\n",
      "                         Clairette       0.00      0.00      0.00         1\n",
      "                            Claret       0.00      0.00      0.00         2\n",
      "         Colombard-Sauvignon Blanc       0.00      0.00      0.00         2\n",
      "                           Cortese       0.50      0.40      0.44        10\n",
      "                          Counoise       0.00      0.00      0.00         1\n",
      "                 Códega do Larinho       0.00      0.00      0.00         1\n",
      "                         Diagalves       0.00      0.00      0.00         1\n",
      "                          Dolcetto       0.00      0.00      0.00         2\n",
      "                        Dornfelder       0.00      0.00      0.00         1\n",
      "                           Durella       0.00      0.00      0.00         3\n",
      "                         Encruzado       0.00      0.00      0.00         5\n",
      "                        Falanghina       0.00      0.00      0.00         8\n",
      "                      Fernão Pires       0.00      0.00      0.00         1\n",
      "                   Feteasca Neagra       0.00      0.00      0.00         2\n",
      "                   Feteascǎ Regalǎ       0.00      0.00      0.00         1\n",
      "                             Fiano       0.50      0.29      0.36        14\n",
      "                     Folle Blanche       0.00      0.00      0.00         1\n",
      "                          Frappato       0.00      0.00      0.00         1\n",
      "                          Friulano       0.00      0.00      0.00         4\n",
      "                        Fumé Blanc       0.00      0.00      0.00         2\n",
      "                           Furmint       0.00      0.00      0.00         2\n",
      "                             G-S-M       0.25      0.06      0.10        16\n",
      "                             Gamay       0.73      0.56      0.63        43\n",
      "                        Gamay Noir       1.00      0.25      0.40         4\n",
      "                         Garganega       1.00      0.25      0.40         4\n",
      "                          Garnacha       0.81      0.72      0.76        18\n",
      "                   Garnacha Blanca       1.00      1.00      1.00         1\n",
      "                    Garnacha Blend       0.00      0.00      0.00         1\n",
      "                    Garnacha-Syrah       0.00      0.00      0.00         1\n",
      "                Gelber Muskateller       0.00      0.00      0.00         1\n",
      "                    Gewürztraminer       0.77      0.61      0.68        56\n",
      "                             Glera       0.00      0.00      0.00         7\n",
      "                           Godello       1.00      0.50      0.67         6\n",
      "                     Grauburgunder       0.00      0.00      0.00         1\n",
      "                             Greco       0.00      0.00      0.00         3\n",
      "                      Greco Bianco       0.00      0.00      0.00         1\n",
      "                          Grenache       0.39      0.22      0.28        59\n",
      "                    Grenache Blanc       0.00      0.00      0.00         9\n",
      "                     Grenache Gris       0.00      0.00      0.00         1\n",
      "                     Grenache Noir       0.00      0.00      0.00         3\n",
      "                 Grenache-Carignan       0.00      0.00      0.00         1\n",
      "                Grenache-Mourvèdre       0.00      0.00      0.00         3\n",
      "                    Grenache-Syrah       0.40      0.17      0.24        12\n",
      "                            Grillo       0.00      0.00      0.00         4\n",
      "                          Grolleau       0.00      0.00      0.00         1\n",
      "                      Gros Manseng       1.00      0.12      0.22         8\n",
      "            Gros and Petit Manseng       0.20      0.50      0.29         2\n",
      "                  Grüner Veltliner       0.79      0.88      0.83        81\n",
      "                   Hondarrabi Zuri       0.00      0.00      0.00         1\n",
      "                        Hárslevelü       0.00      0.00      0.00         1\n",
      "                           Insolia       0.00      0.00      0.00         1\n",
      "                          Jacquère       0.00      0.00      0.00         2\n",
      "                    Kalecik Karasi       0.00      0.00      0.00         1\n",
      "                            Kerner       0.00      0.00      0.00         1\n",
      "                              Kisi       0.00      0.00      0.00         1\n",
      "                         Kotsifali       0.00      0.00      0.00         1\n",
      "              Kotsifali-Mandilaria       0.00      0.00      0.00         1\n",
      "                           Lagrein       0.00      0.00      0.00         1\n",
      "                  Lagrein-Dolcetto       0.00      0.00      0.00         1\n",
      "                         Lambrusco       0.00      0.00      0.00         3\n",
      "             Lambrusco Grasparossa       0.00      0.00      0.00         1\n",
      "                Lambrusco Salamino       0.00      0.00      0.00         1\n",
      "              Lambrusco di Sorbara       0.00      0.00      0.00         0\n",
      "                         Lemberger       0.00      0.00      0.00         4\n",
      "                          Limniona       0.00      0.00      0.00         1\n",
      "                          Loureiro       0.00      0.00      0.00         2\n",
      "                Loureiro-Alvarinho       0.00      0.00      0.00         1\n",
      "                           Macabeo       0.00      0.00      0.00         1\n",
      "                Macabeo-Chardonnay       0.00      0.00      0.00         1\n",
      "                        Malagousia       0.00      0.00      0.00         1\n",
      "                        Malagouzia       0.00      0.00      0.00         1\n",
      "                            Malbec       0.48      0.46      0.47       112\n",
      "                      Malbec Blend       0.00      0.00      0.00         3\n",
      "         Malbec-Cabernet Sauvignon       0.00      0.00      0.00         2\n",
      "                   Malbec-Marselan       0.00      0.00      0.00         1\n",
      "                     Malbec-Merlot       0.00      0.00      0.00         8\n",
      "               Malbec-Petit Verdot       0.00      0.00      0.00         2\n",
      "                      Malbec-Syrah       0.00      0.00      0.00         1\n",
      "                          Malvasia       0.00      0.00      0.00         3\n",
      "                   Malvasia Bianca       0.00      0.00      0.00         1\n",
      "                         Marquette       0.00      0.00      0.00         2\n",
      "                          Marsanne       0.00      0.00      0.00         4\n",
      "                   Maturana Blanca       0.00      0.00      0.00         1\n",
      "                           Mazuelo       0.00      0.00      0.00         1\n",
      "                             Melon       0.00      0.00      0.00         3\n",
      "                Melon de Bourgogne       0.40      0.15      0.22        13\n",
      "                            Mencía       1.00      0.30      0.46        10\n",
      "                          Meritage       0.00      0.00      0.00        12\n",
      "                            Merlot       0.19      0.07      0.10       120\n",
      "         Merlot-Cabernet Sauvignon       0.00      0.00      0.00         3\n",
      "                     Merlot-Tannat       0.00      0.00      0.00         1\n",
      "                            Merwah       0.00      0.00      0.00         1\n",
      "                           Mission       0.00      0.00      0.00         1\n",
      "                        Monastrell       0.50      0.14      0.22         7\n",
      "                  Monastrell-Syrah       0.00      0.00      0.00         1\n",
      "                          Mondeuse       0.00      0.00      0.00         1\n",
      "                     Montepulciano       0.08      0.12      0.10         8\n",
      "                          Moscatel       0.00      0.00      0.00         2\n",
      "                           Moscato       0.00      0.00      0.00         6\n",
      "                    Moscato Giallo       0.00      0.00      0.00         1\n",
      "                      Moschofilero       1.00      0.50      0.67         4\n",
      "                         Mourvèdre       0.00      0.00      0.00        16\n",
      "                        Muscadelle       0.00      0.00      0.00         1\n",
      "                            Muscat       0.00      0.00      0.00         2\n",
      "                      Muscat Blanc       0.00      0.00      0.00         1\n",
      "                    Muscat Canelli       0.00      0.00      0.00         1\n",
      "                    Muscat Ottonel       0.00      0.00      0.00         1\n",
      "                          Muscatel       0.00      0.00      0.00         1\n",
      "                            Muskat       0.00      0.00      0.00         1\n",
      "                    Müller-Thurgau       0.00      0.00      0.00         2\n",
      "                           Narince       0.00      0.00      0.00         0\n",
      "                          Nebbiolo       0.72      0.87      0.79       219\n",
      "                          Negrette       0.00      0.00      0.00         2\n",
      "                        Negroamaro       0.00      0.00      0.00         5\n",
      "                 Nerello Mascalese       0.50      0.31      0.38        13\n",
      "                      Nero d'Avola       0.86      0.75      0.80         8\n",
      "                     Nero di Troia       0.00      0.00      0.00         2\n",
      "                         Neuburger       0.00      0.00      0.00         1\n",
      "                      Orangetraube       0.00      0.00      0.00         1\n",
      "                              País       0.00      0.00      0.00         1\n",
      "                          Pecorino       0.00      0.00      0.00         5\n",
      "                     Pedro Ximénez       0.00      0.00      0.00         2\n",
      "                         Perricone       0.00      0.00      0.00         1\n",
      "                     Petit Manseng       1.00      0.38      0.55         8\n",
      "                      Petit Verdot       0.00      0.00      0.00        24\n",
      "                     Petite Arvine       0.00      0.00      0.00         2\n",
      "                      Petite Sirah       0.59      0.40      0.47        43\n",
      "                     Picpoul Blanc       0.00      0.00      0.00         1\n",
      "                        Piedirosso       0.00      0.00      0.00         1\n",
      "                      Pinot Bianco       0.33      0.14      0.20        14\n",
      "                       Pinot Blanc       0.11      0.08      0.09        13\n",
      "                      Pinot Grigio       0.32      0.30      0.31        50\n",
      "           Pinot Grigio-Chardonnay       0.00      0.00      0.00         0\n",
      "                        Pinot Gris       0.58      0.63      0.60        78\n",
      "                     Pinot Meunier       0.00      0.00      0.00         4\n",
      "                        Pinot Nero       0.33      0.17      0.22         6\n",
      "                        Pinot Noir       0.71      0.80      0.75       809\n",
      "                 Pinot Noir-Tannat       0.00      0.00      0.00         1\n",
      "                          Pinotage       0.00      0.00      0.00         3\n",
      "                       Plavac Mali       0.00      0.00      0.00         2\n",
      "                              Port       0.79      0.85      0.82        40\n",
      "                    Portuguese Red       0.62      0.78      0.69       130\n",
      "                  Portuguese White       0.39      0.40      0.40        55\n",
      "                             Posip       0.00      0.00      0.00         1\n",
      "                         Primitivo       0.62      0.48      0.54        21\n",
      "            Primitivo-Susumaniello       0.00      0.00      0.00         1\n",
      "                Provence red blend       1.00      0.14      0.25         7\n",
      "              Provence white blend       0.00      0.00      0.00         3\n",
      "                       Rara Neagra       0.00      0.00      0.00         1\n",
      "                        Red Blends       0.54      0.55      0.54       370\n",
      "             Rhône-style Red Blend       0.68      0.69      0.69       123\n",
      "           Rhône-style White Blend       0.70      0.66      0.68        35\n",
      "                    Ribolla Gialla       0.00      0.00      0.00         4\n",
      "                          Riesling       0.78      0.86      0.82       271\n",
      "                        Rkatsiteli       0.00      0.00      0.00         1\n",
      "                             Rolle       0.00      0.00      0.00         1\n",
      "                            Rosado       0.00      0.00      0.00         6\n",
      "                            Rosato       0.50      0.36      0.42        22\n",
      "                              Rosé       0.63      0.79      0.71       330\n",
      "                   Roter Veltliner       0.00      0.00      0.00         1\n",
      "                         Roussanne       0.50      0.40      0.44         5\n",
      "                        Sagrantino       0.50      0.14      0.22         7\n",
      "                        Sangiovese       0.55      0.48      0.51       159\n",
      "     Sangiovese-Cabernet Sauvignon       0.00      0.00      0.00         1\n",
      "                          Saperavi       0.43      0.43      0.43         7\n",
      "                         Sauvignon       0.82      0.93      0.87        15\n",
      "                   Sauvignon Blanc       0.60      0.64      0.62       262\n",
      "        Sauvignon Blanc-Chardonnay       0.00      0.00      0.00         1\n",
      "          Sauvignon Blanc-Semillon       0.00      0.00      0.00         5\n",
      "                         Scheurebe       0.00      0.00      0.00         1\n",
      "          Semillon-Sauvignon Blanc       0.00      0.00      0.00         3\n",
      "                            Sherry       0.00      0.00      0.00         2\n",
      "                            Shiraz       0.74      0.78      0.76        50\n",
      "                   Shiraz-Grenache       0.00      0.00      0.00         1\n",
      "                   Shiraz-Viognier       0.00      0.00      0.00         1\n",
      "                          Silvaner       0.67      0.67      0.67         3\n",
      "                            Sousão       0.00      0.00      0.00         1\n",
      "                   Sparkling Blend       0.59      0.76      0.66       135\n",
      "                     Spätburgunder       0.75      0.50      0.60         6\n",
      "                       St. Laurent       0.00      0.00      0.00         6\n",
      "                      Susumaniello       0.00      0.00      0.00         2\n",
      "                          Sylvaner       0.00      0.00      0.00         1\n",
      "                             Syrah       0.47      0.44      0.46       173\n",
      "          Syrah-Cabernet Sauvignon       0.00      0.00      0.00         4\n",
      "                    Syrah-Garnacha       0.00      0.00      0.00         1\n",
      "                Syrah-Petite Sirah       0.00      0.00      0.00         2\n",
      "                  Syrah-Pinot Noir       0.00      0.00      0.00         1\n",
      "                    Syrah-Viognier       0.00      0.00      0.00         1\n",
      "                          Sémillon       0.00      0.00      0.00         9\n",
      "                     Sémillon Gris       0.00      0.00      0.00         1\n",
      "                            Tannat       0.83      0.42      0.56        12\n",
      "             Tannat-Cabernet Franc       0.00      0.00      0.00         1\n",
      "                     Tannat-Merlot       0.00      0.00      0.00         1\n",
      "                   Tannat-Viognier       0.00      0.00      0.00         1\n",
      "                       Tempranillo       0.42      0.47      0.45       118\n",
      "                Tempranillo Blanco       0.00      0.00      0.00         1\n",
      "                 Tempranillo Blend       0.22      0.25      0.24        32\n",
      "    Tempranillo-Cabernet Sauvignon       0.00      0.00      0.00         1\n",
      "              Tempranillo-Garnacha       0.00      0.00      0.00         5\n",
      "                 Tempranillo-Syrah       0.00      0.00      0.00         1\n",
      "                         Teroldego       0.00      0.00      0.00         1\n",
      "                         Tinta Cao       0.00      0.00      0.00         1\n",
      "                     Tinta de Toro       1.00      0.25      0.40         4\n",
      "                    Tinta del Toro       0.00      0.00      0.00         1\n",
      "                        Tinto Fino       0.00      0.00      0.00         1\n",
      "                    Tinto del Pais       0.00      0.00      0.00         1\n",
      "                    Tocai Friulano       0.00      0.00      0.00         2\n",
      "                         Torrontés       1.00      0.57      0.73         7\n",
      "                    Touriga Franca       0.00      0.00      0.00         1\n",
      "                  Touriga Nacional       1.00      0.20      0.33         5\n",
      "                        Traminette       0.00      0.00      0.00         1\n",
      "                         Trebbiano       0.00      0.00      0.00         2\n",
      "                       Trincadeira       0.00      0.00      0.00         1\n",
      "                    Trousseau Gris       0.00      0.00      0.00         1\n",
      "                          Turbiana       0.22      0.24      0.23        17\n",
      "                        Ugni Blanc       0.00      0.00      0.00         1\n",
      "              Ugni Blanc-Colombard       0.00      0.00      0.00         1\n",
      "                         Valdiguié       0.00      0.00      0.00         1\n",
      "                           Verdeca       0.00      0.00      0.00         1\n",
      "                           Verdejo       0.64      0.50      0.56        18\n",
      "                     Verdejo-Viura       0.00      0.00      0.00         2\n",
      "                          Verdelho       0.00      0.00      0.00         2\n",
      "                        Verdicchio       0.27      0.36      0.31        11\n",
      "                        Vermentino       0.67      0.15      0.25        13\n",
      "                         Vernaccia       0.43      0.17      0.24        18\n",
      "                          Viognier       0.48      0.22      0.30        59\n",
      "               Viognier-Chardonnay       0.00      0.00      0.00         1\n",
      "                             Viura       0.00      0.00      0.00         0\n",
      "             Viura-Sauvignon Blanc       0.00      0.00      0.00         1\n",
      "                    Weissburgunder       0.00      0.00      0.00         3\n",
      "                 Weisser Burgunder       0.00      0.00      0.00         1\n",
      "                    Welschriesling       0.00      0.00      0.00         4\n",
      "                       White Blend       0.40      0.46      0.43       100\n",
      "                          Xarel-lo       1.00      1.00      1.00         1\n",
      "                         Xinomavro       0.67      0.67      0.67         3\n",
      "                           Zibibbo       0.00      0.00      0.00         1\n",
      "                         Zinfandel       0.42      0.40      0.41       141\n",
      "                          Zweigelt       0.41      0.53      0.46        17\n",
      "\n",
      "                          accuracy                           0.60      6963\n",
      "                         macro avg       0.18      0.14      0.15      6963\n",
      "                      weighted avg       0.56      0.60      0.57      6963\n",
      "\n"
     ]
    },
    {
     "name": "stderr",
     "output_type": "stream",
     "text": [
      "/Users/Mariagimenoperez/anaconda3/lib/python3.6/site-packages/sklearn/metrics/classification.py:1437: UndefinedMetricWarning: Precision and F-score are ill-defined and being set to 0.0 in labels with no predicted samples.\n",
      "  'precision', 'predicted', average, warn_for)\n",
      "/Users/Mariagimenoperez/anaconda3/lib/python3.6/site-packages/sklearn/metrics/classification.py:1439: UndefinedMetricWarning: Recall and F-score are ill-defined and being set to 0.0 in labels with no true samples.\n",
      "  'recall', 'true', average, warn_for)\n"
     ]
    }
   ],
   "source": [
    "print(classification_report(y_test, predicted))"
   ]
  },
  {
   "cell_type": "code",
   "execution_count": 9,
   "metadata": {
    "scrolled": true
   },
   "outputs": [
    {
     "name": "stderr",
     "output_type": "stream",
     "text": [
      "/Users/Mariagimenoperez/anaconda3/lib/python3.6/site-packages/sklearn/model_selection/_split.py:657: Warning: The least populated class in y has only 1 members, which is too few. The minimum number of members in any class cannot be less than n_splits=5.\n",
      "  % (min_groups, self.n_splits)), Warning)\n",
      "/Users/Mariagimenoperez/anaconda3/lib/python3.6/site-packages/sklearn/linear_model/sag.py:337: ConvergenceWarning: The max_iter was reached which means the coef_ did not converge\n",
      "  \"the coef_ did not converge\", ConvergenceWarning)\n",
      "/Users/Mariagimenoperez/anaconda3/lib/python3.6/site-packages/sklearn/linear_model/sag.py:337: ConvergenceWarning: The max_iter was reached which means the coef_ did not converge\n",
      "  \"the coef_ did not converge\", ConvergenceWarning)\n",
      "/Users/Mariagimenoperez/anaconda3/lib/python3.6/site-packages/sklearn/linear_model/sag.py:337: ConvergenceWarning: The max_iter was reached which means the coef_ did not converge\n",
      "  \"the coef_ did not converge\", ConvergenceWarning)\n",
      "/Users/Mariagimenoperez/anaconda3/lib/python3.6/site-packages/sklearn/linear_model/sag.py:337: ConvergenceWarning: The max_iter was reached which means the coef_ did not converge\n",
      "  \"the coef_ did not converge\", ConvergenceWarning)\n",
      "/Users/Mariagimenoperez/anaconda3/lib/python3.6/site-packages/sklearn/linear_model/sag.py:337: ConvergenceWarning: The max_iter was reached which means the coef_ did not converge\n",
      "  \"the coef_ did not converge\", ConvergenceWarning)\n"
     ]
    },
    {
     "name": "stdout",
     "output_type": "stream",
     "text": [
      "[0.55576495 0.56470797 0.58318264 0.59838769 0.60905045]\n",
      "0.5822187383358466\n"
     ]
    }
   ],
   "source": [
    "cross = cross_val_score(pipeline, X_train, y_train, cv=5)\n",
    "print(cross)\n",
    "print(cross.mean())"
   ]
  },
  {
   "cell_type": "code",
   "execution_count": 12,
   "metadata": {},
   "outputs": [
    {
     "name": "stderr",
     "output_type": "stream",
     "text": [
      "/Users/Mariagimenoperez/anaconda3/lib/python3.6/site-packages/sklearn/linear_model/sag.py:337: ConvergenceWarning: The max_iter was reached which means the coef_ did not converge\n",
      "  \"the coef_ did not converge\", ConvergenceWarning)\n"
     ]
    },
    {
     "data": {
      "text/plain": [
       "0.5878213413758437"
      ]
     },
     "execution_count": 12,
     "metadata": {},
     "output_type": "execute_result"
    }
   ],
   "source": [
    "# CountVectorizer and Logistic Regression with Ridge regularization and mult_class multinomial\n",
    "cvec = CountVectorizer(strip_accents='unicode', stop_words=\"english\", ngram_range=(1, 1))\n",
    "pipeline = Pipeline([\n",
    "    ('vect', cvec),\n",
    "    ('cls', LogisticRegression(penalty = 'l1', solver='saga', multi_class='multinomial'))\n",
    "])\n",
    "pipeline.fit(X_train, y_train)\n",
    "predicted = pipeline.predict(X_test)\n",
    "pipeline.score(X_test, y_test)"
   ]
  },
  {
   "cell_type": "markdown",
   "metadata": {},
   "source": [
    "### TFIDFVECTORIZER  AND LOGISTIC REGRESSION "
   ]
  },
  {
   "cell_type": "markdown",
   "metadata": {},
   "source": [
    "CountVectorizer just counts the word frequencies. The TFIDFVectorizer count the word frequencies and compute the Inverse Document Frequency values, that measure how much information the word provide (whether the term is common or rare in all the documents).\n",
    "\n",
    "I am going to define the same parameters thay I used with CountVectorize but I am going to include sublinear_tf to scale tf and max_features = 2000 that only is going to consider the top 2000 max_features ordered by term frequency across the corpus.\n",
    "\n",
    "\n",
    "The best model performer was when I included the Lasso regularization with multinomial multiclass.\n",
    "\n",
    "All of the models have better scores than the baseline.\n"
   ]
  },
  {
   "cell_type": "code",
   "execution_count": 18,
   "metadata": {},
   "outputs": [
    {
     "name": "stderr",
     "output_type": "stream",
     "text": [
      "/Users/Mariagimenoperez/anaconda3/lib/python3.6/site-packages/sklearn/linear_model/sag.py:337: ConvergenceWarning: The max_iter was reached which means the coef_ did not converge\n",
      "  \"the coef_ did not converge\", ConvergenceWarning)\n"
     ]
    },
    {
     "data": {
      "text/plain": [
       "0.5839437024271148"
      ]
     },
     "execution_count": 18,
     "metadata": {},
     "output_type": "execute_result"
    }
   ],
   "source": [
    "# TfidfVectorizer and Logistic Regression with Lasso regularization\n",
    "cvec = CountVectorizer(strip_accents='unicode', stop_words=\"english\", ngram_range=(1, 1))\n",
    "pipeline = Pipeline([\n",
    "    ('vect', TfidfVectorizer(stop_words='english', sublinear_tf=True,\n",
    "                             ngram_range = (1,1), strip_accents='unicode')),\n",
    "    ('cls', LogisticRegression(penalty = 'l1', solver='saga', multi_class='ovr'))\n",
    "])\n",
    "pipeline.fit(X_train, y_train)\n",
    "predicted = pipeline.predict(X_test)\n",
    "pipeline.score(X_test, y_test)"
   ]
  },
  {
   "cell_type": "code",
   "execution_count": 15,
   "metadata": {},
   "outputs": [
    {
     "name": "stderr",
     "output_type": "stream",
     "text": [
      "/Users/Mariagimenoperez/anaconda3/lib/python3.6/site-packages/sklearn/linear_model/sag.py:337: ConvergenceWarning: The max_iter was reached which means the coef_ did not converge\n",
      "  \"the coef_ did not converge\", ConvergenceWarning)\n"
     ]
    },
    {
     "data": {
      "text/plain": [
       "0.5866724113169611"
      ]
     },
     "execution_count": 15,
     "metadata": {},
     "output_type": "execute_result"
    }
   ],
   "source": [
    "# TFIDFVECTORIZER AND LOGISTIC REGRESSION inluding Lasso regularization and multinomial multi_class\n",
    "pipelinesv = Pipeline([\n",
    "    ('vect', TfidfVectorizer(stop_words='english', sublinear_tf=True,\n",
    "                             ngram_range = (1,1), strip_accents='unicode')),\n",
    "    ('cls', LogisticRegression(solver='saga', multi_class='multinomial', penalty = 'l1'))\n",
    "])\n",
    "pipelinesv.fit(X_train, y_train)\n",
    "predictedsv = pipelinesv.predict(X_test)\n",
    "pipelinesv.score(X_test, y_test)"
   ]
  },
  {
   "cell_type": "code",
   "execution_count": 16,
   "metadata": {},
   "outputs": [
    {
     "name": "stderr",
     "output_type": "stream",
     "text": [
      "/Users/Mariagimenoperez/anaconda3/lib/python3.6/site-packages/sklearn/linear_model/sag.py:337: ConvergenceWarning: The max_iter was reached which means the coef_ did not converge\n",
      "  \"the coef_ did not converge\", ConvergenceWarning)\n"
     ]
    },
    {
     "data": {
      "text/plain": [
       "0.5830820048829527"
      ]
     },
     "execution_count": 16,
     "metadata": {},
     "output_type": "execute_result"
    }
   ],
   "source": [
    "# TFIDFVECTORIZER AND LOGISTIC REGRESSION inluding Lasso regularization and max_features = 2000\n",
    "pipelinesv = Pipeline([\n",
    "    ('vect', TfidfVectorizer(stop_words='english', sublinear_tf=True,\n",
    "                             ngram_range = (1,1), strip_accents='unicode',  max_features = 2000)),\n",
    "    ('cls', LogisticRegression(solver='saga', multi_class='multinomial', penalty = 'l1'))\n",
    "])\n",
    "pipelinesv.fit(X_train, y_train)\n",
    "predictedsv = pipelinesv.predict(X_test)\n",
    "pipelinesv.score(X_test, y_test)"
   ]
  },
  {
   "cell_type": "code",
   "execution_count": 17,
   "metadata": {},
   "outputs": [
    {
     "data": {
      "text/plain": [
       "0.5727416343530087"
      ]
     },
     "execution_count": 17,
     "metadata": {},
     "output_type": "execute_result"
    }
   ],
   "source": [
    "# TFIDFVECTORIZER AND LOGISTIC REGRESSION inluding Ridge regularization solver sag.\n",
    "pipelinesv = Pipeline([\n",
    "    ('vect', TfidfVectorizer(stop_words='english', sublinear_tf=True,\n",
    "                             ngram_range = (1,1), strip_accents='unicode')),\n",
    "    ('cls', LogisticRegression(solver='sag', multi_class='multinomial', penalty = 'l2'))\n",
    "])\n",
    "pipelinesv.fit(X_train, y_train)\n",
    "predictedsv = pipelinesv.predict(X_test)\n",
    "pipelinesv.score(X_test, y_test)"
   ]
  },
  {
   "cell_type": "markdown",
   "metadata": {},
   "source": [
    "### RANDOM FOREST CLASSIFIER, COUNTVECTORIZER AND TFDFVECTORIZER\n",
    "\n",
    "Logistic Regression performs better than Random Forest Classifier in this data set, with higher accuracy.\n",
    "\n",
    "The best performed model was Random Forest with CountVectorizer.\n",
    "\n",
    "All of the models have better scores than the baseline"
   ]
  },
  {
   "cell_type": "code",
   "execution_count": 19,
   "metadata": {},
   "outputs": [
    {
     "data": {
      "text/plain": [
       "0.5487577193738331"
      ]
     },
     "execution_count": 19,
     "metadata": {},
     "output_type": "execute_result"
    }
   ],
   "source": [
    "# Random Forest with CountVectorizer\n",
    "cvecsr = CountVectorizer(strip_accents='unicode', stop_words=\"english\", ngram_range=(1, 1),  max_features=1000)\n",
    "pipelinesr = Pipeline([\n",
    "    ('vect', cvecsr),\n",
    "    #('tfidf', TfidfTransformer()),\n",
    "    ('cls', RandomForestClassifier(n_estimators=200, n_jobs = 2))\n",
    "])\n",
    "pipelinesr.fit(X_train, y_train)\n",
    "predictedsr = pipelinesr.predict(X_test)\n",
    "pipelinesr.score(X_test, y_test)"
   ]
  },
  {
   "cell_type": "code",
   "execution_count": 20,
   "metadata": {},
   "outputs": [
    {
     "data": {
      "text/plain": [
       "0.5455981617119058"
      ]
     },
     "execution_count": 20,
     "metadata": {},
     "output_type": "execute_result"
    }
   ],
   "source": [
    "# Random Forest with TfidfVectorizer\n",
    "pipelinesr = Pipeline([\n",
    "    ('vect', TfidfVectorizer(stop_words='english', sublinear_tf=True,\n",
    "                             ngram_range = (1,1), strip_accents='unicode')),\n",
    "    \n",
    "    ('cls', RandomForestClassifier(n_estimators=200, n_jobs = 2))\n",
    "])\n",
    "pipelinesr.fit(X_train, y_train)\n",
    "predictedsr = pipelinesr.predict(X_test)\n",
    "pipelinesr.score(X_test, y_test)"
   ]
  },
  {
   "cell_type": "code",
   "execution_count": 21,
   "metadata": {},
   "outputs": [
    {
     "data": {
      "text/plain": [
       "0.33074824070084735"
      ]
     },
     "execution_count": 21,
     "metadata": {},
     "output_type": "execute_result"
    }
   ],
   "source": [
    "# Random Forest with TfidfVectorizer and max_depth = 10\n",
    "pipelinesr = Pipeline([\n",
    "    ('vect', TfidfVectorizer(stop_words='english', sublinear_tf=True,\n",
    "                             ngram_range = (1,1), strip_accents='unicode')),\n",
    "    \n",
    "    ('cls', RandomForestClassifier(n_estimators=200, n_jobs = 2, max_depth = 10 ))\n",
    "])\n",
    "pipelinesr.fit(X_train, y_train)\n",
    "predictedsr = pipelinesr.predict(X_test)\n",
    "pipelinesr.score(X_test, y_test)"
   ]
  },
  {
   "cell_type": "markdown",
   "metadata": {},
   "source": [
    "### NATIVE BAYES, COUNTVECTORIZER AND TFDFVECTORIZER\n",
    "\n",
    "The best accuracy I got in MultinomialNB with CountVectorizer. MultinomialNB is one of the two classic Naive Bayes variants used in text classification.\n",
    "\n",
    "Logistic Regression and some of the Random Forest Classifier models perform better than Native Bayes in this data set, with higher accuracy.\n",
    "\n",
    "All of the models have better scores than the baseline\n"
   ]
  },
  {
   "cell_type": "code",
   "execution_count": null,
   "metadata": {},
   "outputs": [],
   "source": [
    "cvect = CountVectorizer(lowercase=True, strip_accents='unicode', stop_words='english')"
   ]
  },
  {
   "cell_type": "code",
   "execution_count": 23,
   "metadata": {},
   "outputs": [
    {
     "data": {
      "text/plain": [
       "0.3742639666810283"
      ]
     },
     "execution_count": 23,
     "metadata": {},
     "output_type": "execute_result"
    }
   ],
   "source": [
    "# MultinomialNB with CountVectorizer and TfidfTransformer\n",
    "pipelinesn = Pipeline([\n",
    "    ('vect', cvect),\n",
    "    ('tfidf', TfidfTransformer()),\n",
    "    ('cls', MultinomialNB())\n",
    "])\n",
    "pipelinesn.fit(X_train, y_train)\n",
    "predictedsn = pipelinesn.predict(X_test)\n",
    "pipelinesn.score(X_test, y_test)"
   ]
  },
  {
   "cell_type": "code",
   "execution_count": 24,
   "metadata": {},
   "outputs": [
    {
     "data": {
      "text/plain": [
       "0.4707740916271722"
      ]
     },
     "execution_count": 24,
     "metadata": {},
     "output_type": "execute_result"
    }
   ],
   "source": [
    "# MultinomialNB with CountVectorizer\n",
    "pipelinesn1 = Pipeline([\n",
    "    ('vect', cvect),\n",
    "    ('cls', MultinomialNB())\n",
    "])\n",
    "pipelinesn1.fit(X_train, y_train)\n",
    "predictedsn1 = pipelinesn1.predict(X_test)\n",
    "pipelinesn1.score(X_test, y_test)"
   ]
  },
  {
   "cell_type": "code",
   "execution_count": 26,
   "metadata": {},
   "outputs": [
    {
     "data": {
      "text/plain": [
       "0.4229498779261812"
      ]
     },
     "execution_count": 26,
     "metadata": {},
     "output_type": "execute_result"
    }
   ],
   "source": [
    "# BernoulliNB\n",
    "pipelinesn2 = Pipeline([\n",
    "    ('vect', cvect),\n",
    "    ('cls', BernoulliNB())\n",
    "])\n",
    "pipelinesn2.fit(X_train, y_train)\n",
    "predictedsn2 = pipelinesn2.predict(X_test)\n",
    "pipelinesn2.score(X_test, y_test)"
   ]
  },
  {
   "cell_type": "code",
   "execution_count": 27,
   "metadata": {},
   "outputs": [],
   "source": [
    "vect1 = TfidfVectorizer(stop_words='english', sublinear_tf=True,\n",
    "                             ngram_range = (1,1), strip_accents='unicode')"
   ]
  },
  {
   "cell_type": "code",
   "execution_count": 28,
   "metadata": {},
   "outputs": [
    {
     "data": {
      "text/plain": [
       "0.3744075829383886"
      ]
     },
     "execution_count": 28,
     "metadata": {},
     "output_type": "execute_result"
    }
   ],
   "source": [
    "# MultinomialNB with  TdidfVectorizer\n",
    "pipelinesn3 = Pipeline([\n",
    "    ('vect',vect1) ,\n",
    "    ('cls', MultinomialNB())\n",
    "])\n",
    "pipelinesn3.fit(X_train, y_train)\n",
    "predictedsn3 = pipelinesn3.predict(X_test)\n",
    "pipelinesn3.score(X_test, y_test)"
   ]
  },
  {
   "cell_type": "code",
   "execution_count": 29,
   "metadata": {},
   "outputs": [
    {
     "data": {
      "text/plain": [
       "0.4229498779261812"
      ]
     },
     "execution_count": 29,
     "metadata": {},
     "output_type": "execute_result"
    }
   ],
   "source": [
    "# BernoulliNB with  TdidfVectorizer\n",
    "pipelinesn4 = Pipeline([\n",
    "    ('vect', vect1),\n",
    "    ('cls', BernoulliNB())\n",
    "])\n",
    "pipelinesn4.fit(X_train, y_train)\n",
    "predictedsn4 = pipelinesn4.predict(X_test)\n",
    "pipelinesn4.score(X_test, y_test)"
   ]
  },
  {
   "cell_type": "markdown",
   "metadata": {},
   "source": [
    "# SMALL DATASET WITH VARIETIES REDUCTION"
   ]
  },
  {
   "cell_type": "markdown",
   "metadata": {},
   "source": [
    "By looking at the varieties, we can find out that there are 542 varieties in the small dataset. I am going to limit the number of varieties. I am going to define the varieties that appear more than 50 times. I am also going to replace some of the varieties that they are similar.\n",
    "\n",
    "I am going to train some of the models I define above with this dataset."
   ]
  },
  {
   "cell_type": "code",
   "execution_count": 9,
   "metadata": {},
   "outputs": [],
   "source": [
    "df1 = df[df['variety'].map(df['variety'].value_counts()) > 50]"
   ]
  },
  {
   "cell_type": "code",
   "execution_count": 12,
   "metadata": {},
   "outputs": [],
   "source": [
    "df1.variety = df1.variety.apply(lambda x: str(x).replace('Syrah', 'Shiraz').\n",
    "                                    replace('Pinot Gris', 'Pinot Grigio').replace('Petite Sirah', 'Shiraz').\n",
    "                                   replace('Grenache', 'Garnacha').replace('Garnacha Blanc', 'Garnacha').\n",
    "                                   replace('Rosato', 'Rosé').replace('Pinot Bianco', 'Pinot Blanc').\n",
    "                                   replace('Zinfandel', 'Primitivo').replace('Alvarinho', 'Alvariño').\n",
    "                                   replace('Alvariño', 'Albariño'))"
   ]
  },
  {
   "cell_type": "code",
   "execution_count": 14,
   "metadata": {
    "scrolled": true
   },
   "outputs": [
    {
     "data": {
      "text/plain": [
       "57"
      ]
     },
     "execution_count": 14,
     "metadata": {},
     "output_type": "execute_result"
    }
   ],
   "source": [
    "len(df1.variety.unique())"
   ]
  },
  {
   "cell_type": "code",
   "execution_count": 15,
   "metadata": {},
   "outputs": [
    {
     "name": "stdout",
     "output_type": "stream",
     "text": [
      "The variety baseline is 0.11847514638096425\n"
     ]
    }
   ],
   "source": [
    "print('The variety baseline is', df1.variety.value_counts(normalize=True).max())"
   ]
  },
  {
   "cell_type": "code",
   "execution_count": 16,
   "metadata": {},
   "outputs": [],
   "source": [
    "X1 = df1.description\n",
    "y1 = df1.variety"
   ]
  },
  {
   "cell_type": "code",
   "execution_count": 17,
   "metadata": {},
   "outputs": [],
   "source": [
    "#split and stratify\n",
    "X_train1, X_test1, y_train1, y_test1 = train_test_split(X1, y1, test_size=0.2, stratify = y1, random_state = 1)"
   ]
  },
  {
   "cell_type": "markdown",
   "metadata": {},
   "source": [
    "### COUNTVECTORIZER  AND TFIDFVECTORIZER WITH LOGISTIC REGRESSION "
   ]
  },
  {
   "cell_type": "markdown",
   "metadata": {},
   "source": [
    "The scores did not differ so much but the best performed model was with CountVectorizer and Logistic Regression with Lasso Regularization and multiclass ovr. I calculated the cross validation in this model and the score does not differ so much than the accuracy score.\n",
    "\n",
    "All of the models have better scores than the baseline.\n"
   ]
  },
  {
   "cell_type": "code",
   "execution_count": 18,
   "metadata": {},
   "outputs": [],
   "source": [
    "cvec = CountVectorizer(strip_accents='unicode', stop_words=\"english\", ngram_range=(1, 1))"
   ]
  },
  {
   "cell_type": "code",
   "execution_count": 160,
   "metadata": {},
   "outputs": [
    {
     "name": "stderr",
     "output_type": "stream",
     "text": [
      "[Parallel(n_jobs=2)]: Using backend LokyBackend with 2 concurrent workers.\n",
      "[Parallel(n_jobs=2)]: Done  46 tasks      | elapsed:   11.0s\n",
      "[Parallel(n_jobs=2)]: Done  57 out of  57 | elapsed:   12.8s finished\n"
     ]
    },
    {
     "data": {
      "text/plain": [
       "0.63640610401744"
      ]
     },
     "execution_count": 160,
     "metadata": {},
     "output_type": "execute_result"
    }
   ],
   "source": [
    "# CountVectorizer and LogisticRegression with Ridge Regularization\n",
    "pipeline_ridge1 = Pipeline([\n",
    "    ('vect', cvec),\n",
    "    ('cls', LogisticRegression(penalty = 'l2', solver='lbfgs', multi_class='ovr', verbose = 1, n_jobs = 2))\n",
    "])\n",
    "pipeline_ridge1.fit(X_train1, y_train1)\n",
    "predicted_ridge1 = pipeline_ridge1.predict(X_test1)\n",
    "pipeline_ridge1.score(X_test1, y_test1)"
   ]
  },
  {
   "cell_type": "code",
   "execution_count": 42,
   "metadata": {},
   "outputs": [
    {
     "name": "stderr",
     "output_type": "stream",
     "text": [
      "[Parallel(n_jobs=2)]: Using backend ThreadingBackend with 2 concurrent workers.\n"
     ]
    },
    {
     "name": "stdout",
     "output_type": "stream",
     "text": [
      "max_iter reached after 5 seconds\n"
     ]
    },
    {
     "name": "stderr",
     "output_type": "stream",
     "text": [
      "/Users/Mariagimenoperez/anaconda3/lib/python3.6/site-packages/sklearn/linear_model/sag.py:337: ConvergenceWarning: The max_iter was reached which means the coef_ did not converge\n",
      "  \"the coef_ did not converge\", ConvergenceWarning)\n"
     ]
    },
    {
     "name": "stdout",
     "output_type": "stream",
     "text": [
      "max_iter reached after 6 seconds\n",
      "max_iter reached after 3 seconds\n",
      "max_iter reached after 5 seconds\n",
      "max_iter reached after 6 seconds\n",
      "max_iter reached after 13 seconds\n",
      "max_iter reached after 10 seconds\n",
      "max_iter reached after 5 seconds\n",
      "max_iter reached after 6 seconds\n",
      "max_iter reached after 18 seconds\n",
      "max_iter reached after 6 seconds\n",
      "max_iter reached after 3 seconds\n",
      "max_iter reached after 5 seconds\n",
      "max_iter reached after 17 seconds\n",
      "max_iter reached after 5 seconds\n",
      "max_iter reached after 4 seconds\n",
      "max_iter reached after 11 seconds\n",
      "max_iter reached after 6 seconds\n",
      "max_iter reached after 5 seconds\n",
      "max_iter reached after 4 seconds\n",
      "max_iter reached after 5 seconds\n",
      "max_iter reached after 12 seconds\n",
      "max_iter reached after 5 seconds\n",
      "max_iter reached after 6 seconds\n",
      "max_iter reached after 13 seconds\n",
      "max_iter reached after 4 seconds\n",
      "max_iter reached after 8 seconds\n",
      "max_iter reached after 6 seconds\n",
      "max_iter reached after 7 seconds\n",
      "max_iter reached after 13 seconds\n",
      "max_iter reached after 6 seconds\n",
      "max_iter reached after 10 seconds\n",
      "max_iter reached after 26 seconds\n",
      "max_iter reached after 7 seconds\n",
      "max_iter reached after 14 seconds\n",
      "max_iter reached after 10 seconds\n",
      "max_iter reached after 21 seconds\n",
      "max_iter reached after 6 seconds\n",
      "max_iter reached after 12 seconds\n",
      "max_iter reached after 17 seconds\n",
      "max_iter reached after 10 seconds\n",
      "max_iter reached after 4 seconds\n",
      "max_iter reached after 17 seconds\n",
      "max_iter reached after 19 seconds\n",
      "max_iter reached after 4 seconds\n",
      "max_iter reached after 12 seconds\n"
     ]
    },
    {
     "name": "stderr",
     "output_type": "stream",
     "text": [
      "[Parallel(n_jobs=2)]: Done  46 tasks      | elapsed:  3.5min\n"
     ]
    },
    {
     "name": "stdout",
     "output_type": "stream",
     "text": [
      "max_iter reached after 4 seconds\n",
      "max_iter reached after 7 seconds\n",
      "max_iter reached after 11 seconds\n",
      "max_iter reached after 5 seconds\n",
      "max_iter reached after 4 seconds\n",
      "max_iter reached after 4 seconds\n",
      "max_iter reached after 6 seconds\n",
      "max_iter reached after 4 seconds\n",
      "max_iter reached after 8 seconds\n",
      "max_iter reached after 11 seconds\n",
      "max_iter reached after 5 seconds\n"
     ]
    },
    {
     "name": "stderr",
     "output_type": "stream",
     "text": [
      "[Parallel(n_jobs=2)]: Done  57 out of  57 | elapsed:  4.1min finished\n"
     ]
    },
    {
     "data": {
      "text/plain": [
       "0.6418561195889131"
      ]
     },
     "execution_count": 42,
     "metadata": {},
     "output_type": "execute_result"
    }
   ],
   "source": [
    "# CountVectorizer and LogisticRegression with Lasso Regularization\n",
    "cvec = CountVectorizer(strip_accents='unicode', stop_words=\"english\", ngram_range=(1, 1))\n",
    "pipelines1 = Pipeline([\n",
    "    ('vect', cvec),\n",
    "    ('cls', LogisticRegression(penalty = 'l1', solver='saga', multi_class='ovr', verbose = 1, n_jobs = 2))\n",
    "])\n",
    "pipelines1.fit(X_train1, y_train1)\n",
    "predicteds1 = pipelines1.predict(X_test1)\n",
    "pipelines1.score(X_test1, y_test1)"
   ]
  },
  {
   "cell_type": "code",
   "execution_count": 43,
   "metadata": {},
   "outputs": [
    {
     "name": "stdout",
     "output_type": "stream",
     "text": [
      "                            precision    recall  f1-score   support\n",
      "\n",
      "                 Aglianico       0.33      0.14      0.20        21\n",
      "                  Albariño       0.52      0.36      0.42        42\n",
      "                   Barbera       0.63      0.31      0.41        39\n",
      "             Blaufränkisch       0.56      0.60      0.58        15\n",
      "  Bordeaux-style Red Blend       0.73      0.85      0.78       368\n",
      "Bordeaux-style White Blend       0.64      0.52      0.58        69\n",
      "            Cabernet Franc       0.53      0.23      0.32        92\n",
      "        Cabernet Sauvignon       0.51      0.64      0.56       444\n",
      "                 Carmenère       0.62      0.37      0.47        27\n",
      "           Champagne Blend       0.83      0.72      0.77        95\n",
      "                Chardonnay       0.67      0.82      0.73       568\n",
      "              Chenin Blanc       0.60      0.12      0.20        25\n",
      "                     Fiano       0.40      0.36      0.38        11\n",
      "                     G-S-M       0.33      0.07      0.11        15\n",
      "                     Gamay       0.69      0.69      0.69        55\n",
      "                  Garnacha       0.54      0.32      0.40        92\n",
      "           Garnacha-Shiraz       0.25      0.07      0.11        15\n",
      "            Gewürztraminer       0.79      0.51      0.62        51\n",
      "          Grüner Veltliner       0.76      0.87      0.81        75\n",
      "                    Malbec       0.45      0.34      0.39       132\n",
      "        Melon de Bourgogne       0.67      0.20      0.31        10\n",
      "                  Meritage       0.00      0.00      0.00        11\n",
      "                    Merlot       0.26      0.07      0.12       108\n",
      "             Montepulciano       0.42      0.44      0.43        18\n",
      "                 Mourvèdre       0.00      0.00      0.00        15\n",
      "                  Nebbiolo       0.73      0.87      0.80       206\n",
      "              Nero d'Avola       0.86      0.60      0.71        10\n",
      "              Petit Verdot       1.00      0.12      0.22        16\n",
      "               Pinot Blanc       0.37      0.25      0.30        28\n",
      "              Pinot Grigio       0.52      0.45      0.48       130\n",
      "                Pinot Noir       0.70      0.82      0.76       761\n",
      "                      Port       0.89      0.82      0.85        49\n",
      "            Portuguese Red       0.68      0.71      0.69       131\n",
      "          Portuguese White       0.65      0.53      0.59        68\n",
      "                 Primitivo       0.45      0.42      0.43       150\n",
      "                Red Blends       0.62      0.57      0.59       396\n",
      "     Rhône-style Red Blend       0.75      0.85      0.79       138\n",
      "   Rhône-style White Blend       0.75      0.83      0.78        46\n",
      "                  Riesling       0.81      0.90      0.86       271\n",
      "                      Rosé       0.70      0.75      0.72       348\n",
      "                Sangiovese       0.57      0.47      0.52       157\n",
      "                 Sauvignon       0.87      0.93      0.90        14\n",
      "           Sauvignon Blanc       0.63      0.66      0.64       254\n",
      "                    Shiraz       0.58      0.58      0.58       272\n",
      "           Sparkling Blend       0.63      0.67      0.65       163\n",
      "                  Sémillon       1.00      0.08      0.15        12\n",
      "                    Tannat       1.00      0.17      0.29        12\n",
      "               Tempranillo       0.46      0.47      0.46       105\n",
      "         Tempranillo Blend       0.26      0.21      0.23        33\n",
      "                  Turbiana       0.33      0.29      0.31        17\n",
      "                   Verdejo       0.40      0.27      0.32        15\n",
      "                Verdicchio       0.45      0.36      0.40        14\n",
      "                Vermentino       0.00      0.00      0.00        16\n",
      "                 Vernaccia       0.38      0.30      0.33        10\n",
      "                  Viognier       0.43      0.26      0.32        47\n",
      "               White Blend       0.54      0.44      0.49       106\n",
      "                  Zweigelt       0.54      0.50      0.52        14\n",
      "\n",
      "                  accuracy                           0.64      6422\n",
      "                 macro avg       0.57      0.45      0.47      6422\n",
      "              weighted avg       0.63      0.64      0.62      6422\n",
      "\n"
     ]
    }
   ],
   "source": [
    "print(classification_report(y_test1, predicteds1))"
   ]
  },
  {
   "cell_type": "code",
   "execution_count": 19,
   "metadata": {
    "scrolled": true
   },
   "outputs": [
    {
     "name": "stderr",
     "output_type": "stream",
     "text": [
      "[Parallel(n_jobs=2)]: Using backend ThreadingBackend with 2 concurrent workers.\n"
     ]
    },
    {
     "name": "stdout",
     "output_type": "stream",
     "text": [
      "max_iter reached after 6 seconds\n"
     ]
    },
    {
     "name": "stderr",
     "output_type": "stream",
     "text": [
      "/Users/Mariagimenoperez/anaconda3/lib/python3.6/site-packages/sklearn/linear_model/sag.py:337: ConvergenceWarning: The max_iter was reached which means the coef_ did not converge\n",
      "  \"the coef_ did not converge\", ConvergenceWarning)\n"
     ]
    },
    {
     "name": "stdout",
     "output_type": "stream",
     "text": [
      "max_iter reached after 7 seconds\n",
      "max_iter reached after 5 seconds\n",
      "max_iter reached after 7 seconds\n",
      "max_iter reached after 8 seconds\n",
      "max_iter reached after 16 seconds\n",
      "max_iter reached after 12 seconds\n",
      "max_iter reached after 6 seconds\n",
      "max_iter reached after 7 seconds\n",
      "max_iter reached after 21 seconds\n",
      "max_iter reached after 6 seconds\n",
      "max_iter reached after 5 seconds\n",
      "max_iter reached after 6 seconds\n",
      "max_iter reached after 20 seconds\n",
      "max_iter reached after 6 seconds\n",
      "max_iter reached after 5 seconds\n",
      "max_iter reached after 12 seconds\n",
      "max_iter reached after 6 seconds\n",
      "max_iter reached after 7 seconds\n",
      "max_iter reached after 4 seconds\n",
      "max_iter reached after 5 seconds\n",
      "max_iter reached after 13 seconds\n",
      "max_iter reached after 5 seconds\n",
      "max_iter reached after 5 seconds\n",
      "max_iter reached after 12 seconds\n",
      "max_iter reached after 4 seconds\n",
      "max_iter reached after 7 seconds\n",
      "max_iter reached after 5 seconds\n",
      "max_iter reached after 6 seconds\n",
      "max_iter reached after 11 seconds\n",
      "max_iter reached after 5 seconds\n",
      "max_iter reached after 9 seconds\n",
      "max_iter reached after 23 seconds\n",
      "max_iter reached after 6 seconds\n",
      "max_iter reached after 12 seconds\n",
      "max_iter reached after 9 seconds\n",
      "max_iter reached after 18 seconds\n",
      "max_iter reached after 6 seconds\n",
      "max_iter reached after 11 seconds\n",
      "max_iter reached after 15 seconds\n",
      "max_iter reached after 10 seconds\n",
      "max_iter reached after 4 seconds\n",
      "max_iter reached after 15 seconds\n",
      "max_iter reached after 18 seconds\n",
      "max_iter reached after 4 seconds\n",
      "max_iter reached after 11 seconds\n"
     ]
    },
    {
     "name": "stderr",
     "output_type": "stream",
     "text": [
      "[Parallel(n_jobs=2)]: Done  46 tasks      | elapsed:  3.5min\n"
     ]
    },
    {
     "name": "stdout",
     "output_type": "stream",
     "text": [
      "max_iter reached after 4 seconds\n",
      "max_iter reached after 7 seconds\n",
      "max_iter reached after 12 seconds\n",
      "max_iter reached after 5 seconds\n",
      "max_iter reached after 4 seconds\n",
      "max_iter reached after 5 seconds\n",
      "max_iter reached after 6 seconds\n",
      "max_iter reached after 4 seconds\n",
      "max_iter reached after 8 seconds\n",
      "max_iter reached after 3 seconds\n",
      "max_iter reached after 10 seconds\n"
     ]
    },
    {
     "name": "stderr",
     "output_type": "stream",
     "text": [
      "[Parallel(n_jobs=2)]: Done  57 out of  57 | elapsed:  4.1min finished\n"
     ]
    },
    {
     "data": {
      "text/plain": [
       "0.6418561195889131"
      ]
     },
     "execution_count": 19,
     "metadata": {},
     "output_type": "execute_result"
    }
   ],
   "source": [
    "# CountVectorizer and LogisticRegression with Lasso Regularization\n",
    "cvec = CountVectorizer(strip_accents='unicode', stop_words=\"english\", ngram_range=(1, 1))\n",
    "pipelines1 = Pipeline([\n",
    "    ('vect', cvec),\n",
    "    ('cls', LogisticRegression(penalty = 'l1', solver='saga', multi_class='ovr', verbose = 1, n_jobs = 2))\n",
    "])\n",
    "pipelines1.fit(X_train1, y_train1)\n",
    "predicteds1 = pipelines1.predict(X_test1)\n",
    "pipelines1.score(X_test1, y_test1)"
   ]
  },
  {
   "cell_type": "code",
   "execution_count": 20,
   "metadata": {},
   "outputs": [
    {
     "name": "stdout",
     "output_type": "stream",
     "text": [
      "                            precision    recall  f1-score   support\n",
      "\n",
      "                 Aglianico       0.33      0.14      0.20        21\n",
      "                  Albariño       0.52      0.36      0.42        42\n",
      "                   Barbera       0.63      0.31      0.41        39\n",
      "             Blaufränkisch       0.56      0.60      0.58        15\n",
      "  Bordeaux-style Red Blend       0.73      0.85      0.79       368\n",
      "Bordeaux-style White Blend       0.64      0.52      0.58        69\n",
      "            Cabernet Franc       0.53      0.23      0.32        92\n",
      "        Cabernet Sauvignon       0.51      0.64      0.57       444\n",
      "                 Carmenère       0.59      0.37      0.45        27\n",
      "           Champagne Blend       0.83      0.72      0.77        95\n",
      "                Chardonnay       0.67      0.82      0.74       568\n",
      "              Chenin Blanc       0.60      0.12      0.20        25\n",
      "                     Fiano       0.40      0.36      0.38        11\n",
      "                     G-S-M       0.33      0.07      0.11        15\n",
      "                     Gamay       0.69      0.69      0.69        55\n",
      "                  Garnacha       0.54      0.32      0.40        92\n",
      "           Garnacha-Shiraz       0.25      0.07      0.11        15\n",
      "            Gewürztraminer       0.79      0.51      0.62        51\n",
      "          Grüner Veltliner       0.76      0.87      0.81        75\n",
      "                    Malbec       0.45      0.34      0.39       132\n",
      "        Melon de Bourgogne       0.67      0.20      0.31        10\n",
      "                  Meritage       0.00      0.00      0.00        11\n",
      "                    Merlot       0.26      0.07      0.12       108\n",
      "             Montepulciano       0.42      0.44      0.43        18\n",
      "                 Mourvèdre       0.00      0.00      0.00        15\n",
      "                  Nebbiolo       0.73      0.87      0.80       206\n",
      "              Nero d'Avola       0.86      0.60      0.71        10\n",
      "              Petit Verdot       1.00      0.12      0.22        16\n",
      "               Pinot Blanc       0.37      0.25      0.30        28\n",
      "              Pinot Grigio       0.52      0.45      0.49       130\n",
      "                Pinot Noir       0.70      0.82      0.76       761\n",
      "                      Port       0.89      0.82      0.85        49\n",
      "            Portuguese Red       0.68      0.71      0.69       131\n",
      "          Portuguese White       0.65      0.53      0.59        68\n",
      "                 Primitivo       0.45      0.42      0.43       150\n",
      "                Red Blends       0.62      0.56      0.59       396\n",
      "     Rhône-style Red Blend       0.75      0.85      0.79       138\n",
      "   Rhône-style White Blend       0.75      0.83      0.78        46\n",
      "                  Riesling       0.81      0.90      0.86       271\n",
      "                      Rosé       0.70      0.75      0.72       348\n",
      "                Sangiovese       0.56      0.47      0.51       157\n",
      "                 Sauvignon       0.87      0.93      0.90        14\n",
      "           Sauvignon Blanc       0.63      0.66      0.64       254\n",
      "                    Shiraz       0.58      0.58      0.58       272\n",
      "           Sparkling Blend       0.63      0.67      0.65       163\n",
      "                  Sémillon       1.00      0.08      0.15        12\n",
      "                    Tannat       1.00      0.17      0.29        12\n",
      "               Tempranillo       0.46      0.47      0.46       105\n",
      "         Tempranillo Blend       0.26      0.21      0.23        33\n",
      "                  Turbiana       0.33      0.29      0.31        17\n",
      "                   Verdejo       0.40      0.27      0.32        15\n",
      "                Verdicchio       0.45      0.36      0.40        14\n",
      "                Vermentino       0.00      0.00      0.00        16\n",
      "                 Vernaccia       0.38      0.30      0.33        10\n",
      "                  Viognier       0.43      0.26      0.32        47\n",
      "               White Blend       0.54      0.44      0.49       106\n",
      "                  Zweigelt       0.54      0.50      0.52        14\n",
      "\n",
      "                  accuracy                           0.64      6422\n",
      "                 macro avg       0.57      0.45      0.47      6422\n",
      "              weighted avg       0.63      0.64      0.62      6422\n",
      "\n"
     ]
    }
   ],
   "source": [
    "print(classification_report(y_test1, predicteds1))"
   ]
  },
  {
   "cell_type": "code",
   "execution_count": 26,
   "metadata": {},
   "outputs": [
    {
     "name": "stderr",
     "output_type": "stream",
     "text": [
      "[Parallel(n_jobs=2)]: Using backend LokyBackend with 2 concurrent workers.\n",
      "[Parallel(n_jobs=2)]: Done  46 tasks      | elapsed:  2.6min\n",
      "[Parallel(n_jobs=2)]: Done  57 out of  57 | elapsed:  3.1min finished\n",
      "[Parallel(n_jobs=2)]: Using backend LokyBackend with 2 concurrent workers.\n",
      "[Parallel(n_jobs=2)]: Done  46 tasks      | elapsed:  2.5min\n",
      "[Parallel(n_jobs=2)]: Done  57 out of  57 | elapsed:  2.8min finished\n",
      "[Parallel(n_jobs=2)]: Using backend LokyBackend with 2 concurrent workers.\n",
      "[Parallel(n_jobs=2)]: Done  46 tasks      | elapsed:  2.8min\n",
      "[Parallel(n_jobs=2)]: Done  57 out of  57 | elapsed:  3.2min finished\n",
      "[Parallel(n_jobs=2)]: Using backend LokyBackend with 2 concurrent workers.\n",
      "[Parallel(n_jobs=2)]: Done  46 tasks      | elapsed:  2.3min\n",
      "[Parallel(n_jobs=2)]: Done  57 out of  57 | elapsed:  2.6min finished\n",
      "[Parallel(n_jobs=2)]: Using backend LokyBackend with 2 concurrent workers.\n",
      "[Parallel(n_jobs=2)]: Done  46 tasks      | elapsed:  2.7min\n",
      "[Parallel(n_jobs=2)]: Done  57 out of  57 | elapsed:  3.1min finished\n"
     ]
    },
    {
     "name": "stdout",
     "output_type": "stream",
     "text": [
      "[0.63100775 0.63616939 0.63875365 0.63219512 0.63345057]\n",
      "0.6343152956196116\n"
     ]
    }
   ],
   "source": [
    "#Cross validation scores\n",
    "cross = cross_val_score(pipelines1, X_train1, y_train1, cv=5)\n",
    "print(cross)\n",
    "print(cross.mean())"
   ]
  },
  {
   "cell_type": "code",
   "execution_count": 38,
   "metadata": {},
   "outputs": [
    {
     "name": "stderr",
     "output_type": "stream",
     "text": [
      "[Parallel(n_jobs=2)]: Using backend ThreadingBackend with 2 concurrent workers.\n"
     ]
    },
    {
     "name": "stdout",
     "output_type": "stream",
     "text": [
      "max_iter reached after 284 seconds\n"
     ]
    },
    {
     "name": "stderr",
     "output_type": "stream",
     "text": [
      "/Users/Mariagimenoperez/anaconda3/lib/python3.6/site-packages/sklearn/linear_model/sag.py:337: ConvergenceWarning: The max_iter was reached which means the coef_ did not converge\n",
      "  \"the coef_ did not converge\", ConvergenceWarning)\n",
      "[Parallel(n_jobs=2)]: Done   1 out of   1 | elapsed:  4.7min finished\n"
     ]
    },
    {
     "data": {
      "text/plain": [
       "0.6348489567113049"
      ]
     },
     "execution_count": 38,
     "metadata": {},
     "output_type": "execute_result"
    }
   ],
   "source": [
    "# CountVectorizer and LogisticRegression with Lasso Regularization and multinomial as a multiclass\n",
    "pipelines2 = Pipeline([\n",
    "    ('vect', cvec),\n",
    "    ('cls', LogisticRegression(penalty = 'l1', solver='saga', multi_class='multinomial', verbose = 1, n_jobs = 2))\n",
    "])\n",
    "pipelines2.fit(X_train1, y_train1)\n",
    "predicteds2 = pipelines2.predict(X_test1)\n",
    "pipelines2.score(X_test1, y_test1)"
   ]
  },
  {
   "cell_type": "code",
   "execution_count": 41,
   "metadata": {},
   "outputs": [
    {
     "name": "stdout",
     "output_type": "stream",
     "text": [
      "                            precision    recall  f1-score   support\n",
      "\n",
      "                 Aglianico       0.27      0.14      0.19        21\n",
      "                  Albariño       0.45      0.33      0.38        42\n",
      "                   Barbera       0.64      0.36      0.46        39\n",
      "             Blaufränkisch       0.69      0.73      0.71        15\n",
      "  Bordeaux-style Red Blend       0.72      0.84      0.78       368\n",
      "Bordeaux-style White Blend       0.59      0.49      0.54        69\n",
      "            Cabernet Franc       0.47      0.21      0.29        92\n",
      "        Cabernet Sauvignon       0.51      0.61      0.55       444\n",
      "                 Carmenère       0.48      0.37      0.42        27\n",
      "           Champagne Blend       0.78      0.69      0.73        95\n",
      "                Chardonnay       0.67      0.79      0.72       568\n",
      "              Chenin Blanc       0.67      0.16      0.26        25\n",
      "                     Fiano       0.62      0.45      0.53        11\n",
      "                     G-S-M       0.17      0.07      0.10        15\n",
      "                     Gamay       0.66      0.67      0.67        55\n",
      "                  Garnacha       0.48      0.35      0.41        92\n",
      "           Garnacha-Shiraz       0.50      0.13      0.21        15\n",
      "            Gewürztraminer       0.79      0.53      0.64        51\n",
      "          Grüner Veltliner       0.76      0.87      0.81        75\n",
      "                    Malbec       0.42      0.37      0.40       132\n",
      "        Melon de Bourgogne       0.40      0.20      0.27        10\n",
      "                  Meritage       0.00      0.00      0.00        11\n",
      "                    Merlot       0.24      0.10      0.14       108\n",
      "             Montepulciano       0.35      0.44      0.39        18\n",
      "                 Mourvèdre       0.00      0.00      0.00        15\n",
      "                  Nebbiolo       0.74      0.83      0.79       206\n",
      "              Nero d'Avola       0.75      0.60      0.67        10\n",
      "              Petit Verdot       1.00      0.12      0.22        16\n",
      "               Pinot Blanc       0.44      0.29      0.35        28\n",
      "              Pinot Grigio       0.51      0.49      0.50       130\n",
      "                Pinot Noir       0.71      0.80      0.75       761\n",
      "                      Port       0.82      0.76      0.79        49\n",
      "            Portuguese Red       0.68      0.69      0.68       131\n",
      "          Portuguese White       0.63      0.53      0.58        68\n",
      "                 Primitivo       0.43      0.45      0.44       150\n",
      "                Red Blends       0.61      0.58      0.59       396\n",
      "     Rhône-style Red Blend       0.75      0.84      0.79       138\n",
      "   Rhône-style White Blend       0.80      0.78      0.79        46\n",
      "                  Riesling       0.81      0.89      0.84       271\n",
      "                      Rosé       0.72      0.75      0.74       348\n",
      "                Sangiovese       0.57      0.45      0.50       157\n",
      "                 Sauvignon       0.88      1.00      0.93        14\n",
      "           Sauvignon Blanc       0.65      0.67      0.66       254\n",
      "                    Shiraz       0.56      0.57      0.57       272\n",
      "           Sparkling Blend       0.64      0.67      0.65       163\n",
      "                  Sémillon       0.75      0.25      0.38        12\n",
      "                    Tannat       1.00      0.33      0.50        12\n",
      "               Tempranillo       0.44      0.38      0.41       105\n",
      "         Tempranillo Blend       0.24      0.24      0.24        33\n",
      "                  Turbiana       0.44      0.41      0.42        17\n",
      "                   Verdejo       0.27      0.27      0.27        15\n",
      "                Verdicchio       0.46      0.43      0.44        14\n",
      "                Vermentino       0.50      0.06      0.11        16\n",
      "                 Vernaccia       0.38      0.30      0.33        10\n",
      "                  Viognier       0.37      0.30      0.33        47\n",
      "               White Blend       0.52      0.44      0.48       106\n",
      "                  Zweigelt       0.67      0.57      0.62        14\n",
      "\n",
      "                  accuracy                           0.63      6422\n",
      "                 macro avg       0.56      0.47      0.49      6422\n",
      "              weighted avg       0.62      0.63      0.62      6422\n",
      "\n"
     ]
    }
   ],
   "source": [
    "print(classification_report(y_test1, predicteds2))"
   ]
  },
  {
   "cell_type": "code",
   "execution_count": 28,
   "metadata": {},
   "outputs": [],
   "source": [
    "vect = TfidfVectorizer(stop_words='english', sublinear_tf=True,\n",
    "                             ngram_range = (1,1), strip_accents='unicode')"
   ]
  },
  {
   "cell_type": "code",
   "execution_count": 169,
   "metadata": {},
   "outputs": [
    {
     "name": "stderr",
     "output_type": "stream",
     "text": [
      "[Parallel(n_jobs=2)]: Using backend LokyBackend with 2 concurrent workers.\n",
      "[Parallel(n_jobs=2)]: Done  46 tasks      | elapsed:    7.0s\n",
      "[Parallel(n_jobs=2)]: Done  57 out of  57 | elapsed:    7.8s finished\n"
     ]
    },
    {
     "data": {
      "text/plain": [
       "0.611336032388664"
      ]
     },
     "execution_count": 169,
     "metadata": {},
     "output_type": "execute_result"
    }
   ],
   "source": [
    "# TfidfVectorizer and LogisticRegression with Ridge Regularization\n",
    "pipelines3 = Pipeline([\n",
    "    ('vect', vect),\n",
    "    ('cls', LogisticRegression(penalty = 'l2', solver='lbfgs', multi_class='ovr', verbose = 1, n_jobs = 2))\n",
    "])\n",
    "pipelines3.fit(X_train1, y_train1)\n",
    "predicteds3 = pipelines3.predict(X_test1)\n",
    "pipelines3.score(X_test1, y_test1)"
   ]
  },
  {
   "cell_type": "code",
   "execution_count": 170,
   "metadata": {},
   "outputs": [
    {
     "name": "stdout",
     "output_type": "stream",
     "text": [
      "                            precision    recall  f1-score   support\n",
      "\n",
      "                 Aglianico       0.00      0.00      0.00        21\n",
      "                  Albariño       0.77      0.24      0.36        42\n",
      "                   Barbera       1.00      0.15      0.27        39\n",
      "             Blaufränkisch       1.00      0.07      0.12        15\n",
      "  Bordeaux-style Red Blend       0.66      0.82      0.73       368\n",
      "Bordeaux-style White Blend       0.72      0.42      0.53        69\n",
      "            Cabernet Franc       0.60      0.10      0.17        92\n",
      "        Cabernet Sauvignon       0.47      0.68      0.55       444\n",
      "                 Carmenère       0.75      0.11      0.19        27\n",
      "           Champagne Blend       0.89      0.66      0.76        95\n",
      "                Chardonnay       0.56      0.87      0.68       568\n",
      "              Chenin Blanc       0.00      0.00      0.00        25\n",
      "                     Fiano       0.00      0.00      0.00        11\n",
      "                     G-S-M       0.00      0.00      0.00        15\n",
      "                     Gamay       0.90      0.51      0.65        55\n",
      "                  Garnacha       1.00      0.11      0.20        92\n",
      "           Garnacha-Shiraz       0.00      0.00      0.00        15\n",
      "            Gewürztraminer       0.89      0.33      0.49        51\n",
      "          Grüner Veltliner       0.80      0.85      0.83        75\n",
      "                    Malbec       0.51      0.30      0.37       132\n",
      "        Melon de Bourgogne       0.00      0.00      0.00        10\n",
      "                  Meritage       0.00      0.00      0.00        11\n",
      "                    Merlot       0.33      0.03      0.05       108\n",
      "             Montepulciano       0.60      0.17      0.26        18\n",
      "                 Mourvèdre       0.00      0.00      0.00        15\n",
      "                  Nebbiolo       0.66      0.89      0.76       206\n",
      "              Nero d'Avola       1.00      0.50      0.67        10\n",
      "              Petit Verdot       0.00      0.00      0.00        16\n",
      "               Pinot Blanc       1.00      0.04      0.07        28\n",
      "              Pinot Grigio       0.54      0.38      0.45       130\n",
      "                Pinot Noir       0.62      0.86      0.72       761\n",
      "                      Port       0.97      0.57      0.72        49\n",
      "            Portuguese Red       0.69      0.66      0.67       131\n",
      "          Portuguese White       0.83      0.43      0.56        68\n",
      "                 Primitivo       0.44      0.28      0.34       150\n",
      "                Red Blends       0.60      0.56      0.58       396\n",
      "     Rhône-style Red Blend       0.70      0.78      0.74       138\n",
      "   Rhône-style White Blend       0.88      0.63      0.73        46\n",
      "                  Riesling       0.75      0.90      0.82       271\n",
      "                      Rosé       0.67      0.79      0.73       348\n",
      "                Sangiovese       0.59      0.36      0.44       157\n",
      "                 Sauvignon       1.00      0.71      0.83        14\n",
      "           Sauvignon Blanc       0.61      0.61      0.61       254\n",
      "                    Shiraz       0.54      0.54      0.54       272\n",
      "           Sparkling Blend       0.61      0.65      0.63       163\n",
      "                  Sémillon       0.00      0.00      0.00        12\n",
      "                    Tannat       0.00      0.00      0.00        12\n",
      "               Tempranillo       0.46      0.53      0.49       105\n",
      "         Tempranillo Blend       0.50      0.09      0.15        33\n",
      "                  Turbiana       0.40      0.12      0.18        17\n",
      "                   Verdejo       1.00      0.13      0.24        15\n",
      "                Verdicchio       0.50      0.14      0.22        14\n",
      "                Vermentino       0.00      0.00      0.00        16\n",
      "                 Vernaccia       0.67      0.20      0.31        10\n",
      "                  Viognier       0.67      0.04      0.08        47\n",
      "               White Blend       0.51      0.42      0.46       106\n",
      "                  Zweigelt       1.00      0.14      0.25        14\n",
      "\n",
      "                  accuracy                           0.61      6422\n",
      "                 macro avg       0.56      0.34      0.37      6422\n",
      "              weighted avg       0.61      0.61      0.57      6422\n",
      "\n"
     ]
    },
    {
     "name": "stderr",
     "output_type": "stream",
     "text": [
      "/Users/Mariagimenoperez/anaconda3/lib/python3.6/site-packages/sklearn/metrics/classification.py:1437: UndefinedMetricWarning: Precision and F-score are ill-defined and being set to 0.0 in labels with no predicted samples.\n",
      "  'precision', 'predicted', average, warn_for)\n"
     ]
    }
   ],
   "source": [
    "print(classification_report(y_test1, predicteds3))"
   ]
  },
  {
   "cell_type": "code",
   "execution_count": 171,
   "metadata": {},
   "outputs": [
    {
     "name": "stderr",
     "output_type": "stream",
     "text": [
      "/Users/Mariagimenoperez/anaconda3/lib/python3.6/site-packages/sklearn/linear_model/sag.py:337: ConvergenceWarning: The max_iter was reached which means the coef_ did not converge\n",
      "  \"the coef_ did not converge\", ConvergenceWarning)\n"
     ]
    },
    {
     "data": {
      "text/plain": [
       "0.6248832139520398"
      ]
     },
     "execution_count": 171,
     "metadata": {},
     "output_type": "execute_result"
    }
   ],
   "source": [
    "# TfidfVectorizer and LogisticRegression with Lasso Regularization\n",
    "pipelines4 = Pipeline([\n",
    "    ('vect', vect),\n",
    "    ('cls', LogisticRegression(penalty = 'l1', solver='saga', multi_class='ovr', ))\n",
    "])\n",
    "pipelines4.fit(X_train1, y_train1)\n",
    "predicteds4 = pipelines4.predict(X_test1)\n",
    "pipelines4.score(X_test1, y_test1)"
   ]
  },
  {
   "cell_type": "code",
   "execution_count": 172,
   "metadata": {},
   "outputs": [
    {
     "name": "stdout",
     "output_type": "stream",
     "text": [
      "                            precision    recall  f1-score   support\n",
      "\n",
      "                 Aglianico       0.50      0.05      0.09        21\n",
      "                  Albariño       0.68      0.40      0.51        42\n",
      "                   Barbera       0.89      0.21      0.33        39\n",
      "             Blaufränkisch       0.75      0.20      0.32        15\n",
      "  Bordeaux-style Red Blend       0.70      0.82      0.76       368\n",
      "Bordeaux-style White Blend       0.66      0.42      0.51        69\n",
      "            Cabernet Franc       0.55      0.13      0.21        92\n",
      "        Cabernet Sauvignon       0.49      0.66      0.56       444\n",
      "                 Carmenère       0.69      0.33      0.45        27\n",
      "           Champagne Blend       0.86      0.63      0.73        95\n",
      "                Chardonnay       0.60      0.85      0.70       568\n",
      "              Chenin Blanc       0.67      0.08      0.14        25\n",
      "                     Fiano       1.00      0.18      0.31        11\n",
      "                     G-S-M       0.00      0.00      0.00        15\n",
      "                     Gamay       0.77      0.60      0.67        55\n",
      "                  Garnacha       0.62      0.23      0.33        92\n",
      "           Garnacha-Shiraz       0.00      0.00      0.00        15\n",
      "            Gewürztraminer       0.88      0.43      0.58        51\n",
      "          Grüner Veltliner       0.74      0.85      0.80        75\n",
      "                    Malbec       0.63      0.33      0.43       132\n",
      "        Melon de Bourgogne       0.50      0.10      0.17        10\n",
      "                  Meritage       0.00      0.00      0.00        11\n",
      "                    Merlot       0.20      0.03      0.05       108\n",
      "             Montepulciano       0.29      0.22      0.25        18\n",
      "                 Mourvèdre       0.00      0.00      0.00        15\n",
      "                  Nebbiolo       0.69      0.88      0.78       206\n",
      "              Nero d'Avola       0.86      0.60      0.71        10\n",
      "              Petit Verdot       0.00      0.00      0.00        16\n",
      "               Pinot Blanc       0.33      0.07      0.12        28\n",
      "              Pinot Grigio       0.52      0.44      0.48       130\n",
      "                Pinot Noir       0.66      0.85      0.74       761\n",
      "                      Port       0.89      0.69      0.78        49\n",
      "            Portuguese Red       0.67      0.69      0.68       131\n",
      "          Portuguese White       0.88      0.43      0.57        68\n",
      "                 Primitivo       0.41      0.35      0.37       150\n",
      "                Red Blends       0.59      0.54      0.56       396\n",
      "     Rhône-style Red Blend       0.69      0.80      0.74       138\n",
      "   Rhône-style White Blend       0.76      0.67      0.71        46\n",
      "                  Riesling       0.77      0.89      0.83       271\n",
      "                      Rosé       0.69      0.76      0.73       348\n",
      "                Sangiovese       0.56      0.41      0.48       157\n",
      "                 Sauvignon       1.00      0.86      0.92        14\n",
      "           Sauvignon Blanc       0.59      0.65      0.62       254\n",
      "                    Shiraz       0.56      0.55      0.55       272\n",
      "           Sparkling Blend       0.64      0.67      0.65       163\n",
      "                  Sémillon       0.00      0.00      0.00        12\n",
      "                    Tannat       1.00      0.33      0.50        12\n",
      "               Tempranillo       0.39      0.53      0.45       105\n",
      "         Tempranillo Blend       0.31      0.15      0.20        33\n",
      "                  Turbiana       0.38      0.18      0.24        17\n",
      "                   Verdejo       0.75      0.40      0.52        15\n",
      "                Verdicchio       0.50      0.21      0.30        14\n",
      "                Vermentino       1.00      0.06      0.12        16\n",
      "                 Vernaccia       0.50      0.20      0.29        10\n",
      "                  Viognier       0.58      0.23      0.33        47\n",
      "               White Blend       0.51      0.39      0.44       106\n",
      "                  Zweigelt       0.60      0.43      0.50        14\n",
      "\n",
      "                  accuracy                           0.62      6422\n",
      "                 macro avg       0.58      0.40      0.44      6422\n",
      "              weighted avg       0.61      0.62      0.60      6422\n",
      "\n"
     ]
    },
    {
     "name": "stderr",
     "output_type": "stream",
     "text": [
      "/Users/Mariagimenoperez/anaconda3/lib/python3.6/site-packages/sklearn/metrics/classification.py:1437: UndefinedMetricWarning: Precision and F-score are ill-defined and being set to 0.0 in labels with no predicted samples.\n",
      "  'precision', 'predicted', average, warn_for)\n"
     ]
    }
   ],
   "source": [
    "print(classification_report(y_test1, predicteds4))"
   ]
  },
  {
   "cell_type": "code",
   "execution_count": 173,
   "metadata": {},
   "outputs": [
    {
     "name": "stderr",
     "output_type": "stream",
     "text": [
      "/Users/Mariagimenoperez/anaconda3/lib/python3.6/site-packages/sklearn/linear_model/sag.py:337: ConvergenceWarning: The max_iter was reached which means the coef_ did not converge\n",
      "  \"the coef_ did not converge\", ConvergenceWarning)\n"
     ]
    },
    {
     "data": {
      "text/plain": [
       "0.6334475241357832"
      ]
     },
     "execution_count": 173,
     "metadata": {},
     "output_type": "execute_result"
    }
   ],
   "source": [
    "# TfidfVectorizer and LogisticRegression with Lasso Regularization and multinomial as a multiclass\n",
    "pipelines5 = Pipeline([\n",
    "    ('vect', TfidfVectorizer(stop_words='english', sublinear_tf=True,\n",
    "                             ngram_range = (1,1), strip_accents='unicode')),\n",
    "    ('cls', LogisticRegression(solver='saga', multi_class='multinomial', penalty = 'l1'))\n",
    "])\n",
    "pipelines5.fit(X_train1, y_train1)\n",
    "predicteds5 = pipelines5.predict(X_test1)\n",
    "pipelines5.score(X_test1, y_test1)"
   ]
  },
  {
   "cell_type": "code",
   "execution_count": 174,
   "metadata": {},
   "outputs": [
    {
     "name": "stdout",
     "output_type": "stream",
     "text": [
      "                            precision    recall  f1-score   support\n",
      "\n",
      "                 Aglianico       0.25      0.05      0.08        21\n",
      "                  Albariño       0.71      0.40      0.52        42\n",
      "                   Barbera       0.83      0.26      0.39        39\n",
      "             Blaufränkisch       0.83      0.33      0.48        15\n",
      "  Bordeaux-style Red Blend       0.72      0.82      0.77       368\n",
      "Bordeaux-style White Blend       0.65      0.46      0.54        69\n",
      "            Cabernet Franc       0.57      0.14      0.23        92\n",
      "        Cabernet Sauvignon       0.51      0.67      0.58       444\n",
      "                 Carmenère       0.44      0.30      0.36        27\n",
      "           Champagne Blend       0.83      0.68      0.75        95\n",
      "                Chardonnay       0.61      0.82      0.70       568\n",
      "              Chenin Blanc       0.50      0.08      0.14        25\n",
      "                     Fiano       1.00      0.27      0.43        11\n",
      "                     G-S-M       0.00      0.00      0.00        15\n",
      "                     Gamay       0.70      0.58      0.63        55\n",
      "                  Garnacha       0.58      0.27      0.37        92\n",
      "           Garnacha-Shiraz       0.00      0.00      0.00        15\n",
      "            Gewürztraminer       0.80      0.47      0.59        51\n",
      "          Grüner Veltliner       0.77      0.83      0.79        75\n",
      "                    Malbec       0.64      0.36      0.46       132\n",
      "        Melon de Bourgogne       0.50      0.10      0.17        10\n",
      "                  Meritage       0.00      0.00      0.00        11\n",
      "                    Merlot       0.36      0.08      0.14       108\n",
      "             Montepulciano       0.25      0.28      0.26        18\n",
      "                 Mourvèdre       0.00      0.00      0.00        15\n",
      "                  Nebbiolo       0.73      0.87      0.79       206\n",
      "              Nero d'Avola       0.88      0.70      0.78        10\n",
      "              Petit Verdot       1.00      0.06      0.12        16\n",
      "               Pinot Blanc       0.36      0.18      0.24        28\n",
      "              Pinot Grigio       0.54      0.46      0.50       130\n",
      "                Pinot Noir       0.69      0.84      0.76       761\n",
      "                      Port       0.89      0.67      0.77        49\n",
      "            Portuguese Red       0.66      0.70      0.68       131\n",
      "          Portuguese White       0.73      0.44      0.55        68\n",
      "                 Primitivo       0.41      0.38      0.39       150\n",
      "                Red Blends       0.60      0.56      0.58       396\n",
      "     Rhône-style Red Blend       0.69      0.82      0.75       138\n",
      "   Rhône-style White Blend       0.79      0.74      0.76        46\n",
      "                  Riesling       0.78      0.89      0.83       271\n",
      "                      Rosé       0.69      0.75      0.72       348\n",
      "                Sangiovese       0.57      0.41      0.48       157\n",
      "                 Sauvignon       0.86      0.86      0.86        14\n",
      "           Sauvignon Blanc       0.61      0.65      0.63       254\n",
      "                    Shiraz       0.55      0.57      0.56       272\n",
      "           Sparkling Blend       0.62      0.67      0.64       163\n",
      "                  Sémillon       0.00      0.00      0.00        12\n",
      "                    Tannat       1.00      0.42      0.59        12\n",
      "               Tempranillo       0.41      0.55      0.47       105\n",
      "         Tempranillo Blend       0.39      0.21      0.27        33\n",
      "                  Turbiana       0.40      0.35      0.38        17\n",
      "                   Verdejo       0.67      0.40      0.50        15\n",
      "                Verdicchio       0.57      0.29      0.38        14\n",
      "                Vermentino       0.50      0.06      0.11        16\n",
      "                 Vernaccia       0.44      0.40      0.42        10\n",
      "                  Viognier       0.56      0.30      0.39        47\n",
      "               White Blend       0.59      0.43      0.50       106\n",
      "                  Zweigelt       0.53      0.64      0.58        14\n",
      "\n",
      "                  accuracy                           0.63      6422\n",
      "                 macro avg       0.57      0.43      0.46      6422\n",
      "              weighted avg       0.62      0.63      0.61      6422\n",
      "\n"
     ]
    },
    {
     "name": "stderr",
     "output_type": "stream",
     "text": [
      "/Users/Mariagimenoperez/anaconda3/lib/python3.6/site-packages/sklearn/metrics/classification.py:1437: UndefinedMetricWarning: Precision and F-score are ill-defined and being set to 0.0 in labels with no predicted samples.\n",
      "  'precision', 'predicted', average, warn_for)\n"
     ]
    }
   ],
   "source": [
    "print(classification_report(y_test1, predicteds5))"
   ]
  },
  {
   "cell_type": "markdown",
   "metadata": {},
   "source": [
    "### RANDOM FOREST CLASSIFIER, COUNTVECTORIZER AND TFDFVECTORIZER"
   ]
  },
  {
   "cell_type": "markdown",
   "metadata": {},
   "source": [
    "Logistic Regression performs better than Random Forest Classifier in this data set, with higher accuracy.\n",
    "\n",
    "The best performed model was Random Forest with CountVectorizer.\n",
    "\n",
    "All of the models have better scores than the baseline\n"
   ]
  },
  {
   "cell_type": "code",
   "execution_count": 13,
   "metadata": {},
   "outputs": [],
   "source": [
    "cvecsr = CountVectorizer(strip_accents='unicode', stop_words=\"english\", ngram_range=(1, 1))"
   ]
  },
  {
   "cell_type": "code",
   "execution_count": 14,
   "metadata": {},
   "outputs": [
    {
     "data": {
      "text/plain": [
       "0.597477421364061"
      ]
     },
     "execution_count": 14,
     "metadata": {},
     "output_type": "execute_result"
    }
   ],
   "source": [
    "# Random Forest with CountVectorizer\n",
    "pipelines6  = Pipeline([\n",
    "    ('vect', cvecsr),\n",
    "    #('tfidf', TfidfTransformer()),\n",
    "    ('cls', RandomForestClassifier(n_estimators=200, n_jobs = 2))\n",
    "])\n",
    "pipelines6.fit(X_train1, y_train1)\n",
    "predicteds6 = pipelines6.predict(X_test1)\n",
    "pipelines6.score(X_test1, y_test1)"
   ]
  },
  {
   "cell_type": "code",
   "execution_count": 19,
   "metadata": {},
   "outputs": [
    {
     "name": "stdout",
     "output_type": "stream",
     "text": [
      "                            precision    recall  f1-score   support\n",
      "\n",
      "                 Aglianico       0.00      0.00      0.00        21\n",
      "                  Albariño       0.77      0.24      0.36        42\n",
      "                   Barbera       1.00      0.08      0.14        39\n",
      "             Blaufränkisch       0.75      0.40      0.52        15\n",
      "  Bordeaux-style Red Blend       0.55      0.84      0.67       368\n",
      "Bordeaux-style White Blend       0.68      0.43      0.53        69\n",
      "            Cabernet Franc       0.75      0.03      0.06        92\n",
      "        Cabernet Sauvignon       0.48      0.68      0.56       444\n",
      "                 Carmenère       1.00      0.26      0.41        27\n",
      "           Champagne Blend       0.86      0.58      0.69        95\n",
      "                Chardonnay       0.53      0.88      0.66       568\n",
      "              Chenin Blanc       0.00      0.00      0.00        25\n",
      "                     Fiano       0.00      0.00      0.00        11\n",
      "                     G-S-M       0.00      0.00      0.00        15\n",
      "                     Gamay       0.86      0.35      0.49        55\n",
      "                  Garnacha       0.89      0.09      0.16        92\n",
      "           Garnacha-Shiraz       0.00      0.00      0.00        15\n",
      "            Gewürztraminer       0.91      0.39      0.55        51\n",
      "          Grüner Veltliner       0.74      0.88      0.80        75\n",
      "                    Malbec       0.53      0.32      0.40       132\n",
      "        Melon de Bourgogne       0.00      0.00      0.00        10\n",
      "                  Meritage       0.00      0.00      0.00        11\n",
      "                    Merlot       0.67      0.04      0.07       108\n",
      "             Montepulciano       0.29      0.11      0.16        18\n",
      "                 Mourvèdre       0.00      0.00      0.00        15\n",
      "                  Nebbiolo       0.58      0.94      0.71       206\n",
      "              Nero d'Avola       1.00      0.40      0.57        10\n",
      "              Petit Verdot       0.00      0.00      0.00        16\n",
      "               Pinot Blanc       0.67      0.07      0.13        28\n",
      "              Pinot Grigio       0.55      0.42      0.48       130\n",
      "                Pinot Noir       0.59      0.86      0.70       761\n",
      "                      Port       1.00      0.53      0.69        49\n",
      "            Portuguese Red       0.78      0.46      0.58       131\n",
      "          Portuguese White       0.81      0.38      0.52        68\n",
      "                 Primitivo       0.46      0.28      0.35       150\n",
      "                Red Blends       0.63      0.52      0.57       396\n",
      "     Rhône-style Red Blend       0.69      0.88      0.77       138\n",
      "   Rhône-style White Blend       0.90      0.61      0.73        46\n",
      "                  Riesling       0.73      0.91      0.81       271\n",
      "                      Rosé       0.70      0.78      0.74       348\n",
      "                Sangiovese       0.52      0.15      0.23       157\n",
      "                 Sauvignon       0.87      0.93      0.90        14\n",
      "           Sauvignon Blanc       0.62      0.57      0.59       254\n",
      "                    Shiraz       0.62      0.48      0.54       272\n",
      "           Sparkling Blend       0.66      0.56      0.61       163\n",
      "                  Sémillon       0.00      0.00      0.00        12\n",
      "                    Tannat       0.00      0.00      0.00        12\n",
      "               Tempranillo       0.39      0.57      0.46       105\n",
      "         Tempranillo Blend       1.00      0.09      0.17        33\n",
      "                  Turbiana       0.71      0.29      0.42        17\n",
      "                   Verdejo       0.67      0.27      0.38        15\n",
      "                Verdicchio       0.83      0.36      0.50        14\n",
      "                Vermentino       0.67      0.12      0.21        16\n",
      "                 Vernaccia       0.60      0.30      0.40        10\n",
      "                  Viognier       1.00      0.04      0.08        47\n",
      "               White Blend       0.53      0.29      0.38       106\n",
      "                  Zweigelt       0.39      0.50      0.44        14\n",
      "\n",
      "                  accuracy                           0.60      6422\n",
      "                 macro avg       0.57      0.35      0.38      6422\n",
      "              weighted avg       0.61      0.60      0.56      6422\n",
      "\n"
     ]
    },
    {
     "name": "stderr",
     "output_type": "stream",
     "text": [
      "/Users/Mariagimenoperez/anaconda3/lib/python3.6/site-packages/sklearn/metrics/classification.py:1437: UndefinedMetricWarning: Precision and F-score are ill-defined and being set to 0.0 in labels with no predicted samples.\n",
      "  'precision', 'predicted', average, warn_for)\n"
     ]
    }
   ],
   "source": [
    "print(classification_report(y_test1, predicteds6))"
   ]
  },
  {
   "cell_type": "code",
   "execution_count": 20,
   "metadata": {},
   "outputs": [
    {
     "data": {
      "text/plain": [
       "0.35970102771722207"
      ]
     },
     "execution_count": 20,
     "metadata": {},
     "output_type": "execute_result"
    }
   ],
   "source": [
    "# Random Forest with TfidfVectorizer and max_depth = 10\n",
    "pipelines7 = Pipeline([\n",
    "    ('vect', TfidfVectorizer(stop_words='english', sublinear_tf=True,\n",
    "                             ngram_range = (1,1), strip_accents='unicode')),\n",
    "    \n",
    "    ('cls', RandomForestClassifier(n_estimators=200, n_jobs = 2, max_depth = 10 ))\n",
    "])\n",
    "pipelines7.fit(X_train1, y_train1)\n",
    "predicteds7 = pipelines7.predict(X_test1)\n",
    "pipelines7.score(X_test1, y_test1)"
   ]
  },
  {
   "cell_type": "code",
   "execution_count": 21,
   "metadata": {},
   "outputs": [
    {
     "name": "stdout",
     "output_type": "stream",
     "text": [
      "                            precision    recall  f1-score   support\n",
      "\n",
      "                 Aglianico       0.00      0.00      0.00        21\n",
      "                  Albariño       0.00      0.00      0.00        42\n",
      "                   Barbera       0.00      0.00      0.00        39\n",
      "             Blaufränkisch       0.00      0.00      0.00        15\n",
      "  Bordeaux-style Red Blend       0.55      0.70      0.61       368\n",
      "Bordeaux-style White Blend       0.00      0.00      0.00        69\n",
      "            Cabernet Franc       0.00      0.00      0.00        92\n",
      "        Cabernet Sauvignon       0.78      0.21      0.34       444\n",
      "                 Carmenère       0.00      0.00      0.00        27\n",
      "           Champagne Blend       0.94      0.16      0.27        95\n",
      "                Chardonnay       0.37      0.80      0.50       568\n",
      "              Chenin Blanc       0.00      0.00      0.00        25\n",
      "                     Fiano       0.00      0.00      0.00        11\n",
      "                     G-S-M       0.00      0.00      0.00        15\n",
      "                     Gamay       0.00      0.00      0.00        55\n",
      "                  Garnacha       0.00      0.00      0.00        92\n",
      "           Garnacha-Shiraz       0.00      0.00      0.00        15\n",
      "            Gewürztraminer       1.00      0.02      0.04        51\n",
      "          Grüner Veltliner       1.00      0.17      0.30        75\n",
      "                    Malbec       0.00      0.00      0.00       132\n",
      "        Melon de Bourgogne       0.00      0.00      0.00        10\n",
      "                  Meritage       0.00      0.00      0.00        11\n",
      "                    Merlot       0.00      0.00      0.00       108\n",
      "             Montepulciano       0.00      0.00      0.00        18\n",
      "                 Mourvèdre       0.00      0.00      0.00        15\n",
      "                  Nebbiolo       0.51      0.97      0.66       206\n",
      "              Nero d'Avola       0.00      0.00      0.00        10\n",
      "              Petit Verdot       0.00      0.00      0.00        16\n",
      "               Pinot Blanc       0.00      0.00      0.00        28\n",
      "              Pinot Grigio       0.00      0.00      0.00       130\n",
      "                Pinot Noir       0.22      0.94      0.36       761\n",
      "                      Port       0.00      0.00      0.00        49\n",
      "            Portuguese Red       0.95      0.14      0.24       131\n",
      "          Portuguese White       0.00      0.00      0.00        68\n",
      "                 Primitivo       0.00      0.00      0.00       150\n",
      "                Red Blends       0.61      0.36      0.45       396\n",
      "     Rhône-style Red Blend       0.69      0.61      0.65       138\n",
      "   Rhône-style White Blend       1.00      0.02      0.04        46\n",
      "                  Riesling       0.48      0.72      0.58       271\n",
      "                      Rosé       0.87      0.23      0.36       348\n",
      "                Sangiovese       0.00      0.00      0.00       157\n",
      "                 Sauvignon       0.00      0.00      0.00        14\n",
      "           Sauvignon Blanc       0.88      0.06      0.10       254\n",
      "                    Shiraz       0.75      0.01      0.02       272\n",
      "           Sparkling Blend       0.69      0.12      0.21       163\n",
      "                  Sémillon       0.00      0.00      0.00        12\n",
      "                    Tannat       0.00      0.00      0.00        12\n",
      "               Tempranillo       0.00      0.00      0.00       105\n",
      "         Tempranillo Blend       0.00      0.00      0.00        33\n",
      "                  Turbiana       0.00      0.00      0.00        17\n",
      "                   Verdejo       0.00      0.00      0.00        15\n",
      "                Verdicchio       0.00      0.00      0.00        14\n",
      "                Vermentino       0.00      0.00      0.00        16\n",
      "                 Vernaccia       0.00      0.00      0.00        10\n",
      "                  Viognier       0.00      0.00      0.00        47\n",
      "               White Blend       0.00      0.00      0.00       106\n",
      "                  Zweigelt       0.00      0.00      0.00        14\n",
      "\n",
      "                  accuracy                           0.36      6422\n",
      "                 macro avg       0.22      0.11      0.10      6422\n",
      "              weighted avg       0.42      0.36      0.28      6422\n",
      "\n"
     ]
    },
    {
     "name": "stderr",
     "output_type": "stream",
     "text": [
      "/Users/Mariagimenoperez/anaconda3/lib/python3.6/site-packages/sklearn/metrics/classification.py:1437: UndefinedMetricWarning: Precision and F-score are ill-defined and being set to 0.0 in labels with no predicted samples.\n",
      "  'precision', 'predicted', average, warn_for)\n"
     ]
    }
   ],
   "source": [
    "print(classification_report(y_test1, predicteds7))"
   ]
  },
  {
   "cell_type": "markdown",
   "metadata": {},
   "source": [
    "### NATIVE BAYES, COUNTVECTORIZER AND TFDFVECTORIZER"
   ]
  },
  {
   "cell_type": "markdown",
   "metadata": {},
   "source": [
    "he best accuracy I got in MultinomialNB with CountVectorizer. MultinomialNB is one of the two classic Naive Bayes variants used in text classification.\n",
    "\n",
    "Logistic Regression and some of the Random Forest Classifier models perform better than Native Bayes in this data set, with higher accuracy.\n",
    "\n",
    "All of the models have better scores than the baseline\n"
   ]
  },
  {
   "cell_type": "code",
   "execution_count": 25,
   "metadata": {},
   "outputs": [
    {
     "data": {
      "text/plain": [
       "0.5317658050451572"
      ]
     },
     "execution_count": 25,
     "metadata": {},
     "output_type": "execute_result"
    }
   ],
   "source": [
    "# MultinomialNB with CountVectorizer\n",
    "pipelines8 = Pipeline([\n",
    "    ('vect', cvec),\n",
    "    ('cls', MultinomialNB())\n",
    "])\n",
    "pipelines8.fit(X_train1, y_train1)\n",
    "predicteds8 = pipelines8.predict(X_test1)\n",
    "pipelines8.score(X_test1, y_test1)"
   ]
  },
  {
   "cell_type": "code",
   "execution_count": 31,
   "metadata": {},
   "outputs": [
    {
     "name": "stdout",
     "output_type": "stream",
     "text": [
      "                            precision    recall  f1-score   support\n",
      "\n",
      "                 Aglianico       0.00      0.00      0.00        21\n",
      "                  Albariño       0.00      0.00      0.00        42\n",
      "                   Barbera       0.00      0.00      0.00        39\n",
      "             Blaufränkisch       0.00      0.00      0.00        15\n",
      "  Bordeaux-style Red Blend       0.44      0.73      0.55       368\n",
      "Bordeaux-style White Blend       0.69      0.16      0.26        69\n",
      "            Cabernet Franc       0.25      0.01      0.02        92\n",
      "        Cabernet Sauvignon       0.41      0.65      0.50       444\n",
      "                 Carmenère       0.00      0.00      0.00        27\n",
      "           Champagne Blend       0.73      0.64      0.69        95\n",
      "                Chardonnay       0.55      0.82      0.66       568\n",
      "              Chenin Blanc       0.00      0.00      0.00        25\n",
      "                     Fiano       0.00      0.00      0.00        11\n",
      "                     G-S-M       0.00      0.00      0.00        15\n",
      "                     Gamay       0.90      0.16      0.28        55\n",
      "                  Garnacha       1.00      0.01      0.02        92\n",
      "           Garnacha-Shiraz       0.00      0.00      0.00        15\n",
      "            Gewürztraminer       1.00      0.10      0.18        51\n",
      "          Grüner Veltliner       0.85      0.69      0.76        75\n",
      "                    Malbec       0.33      0.21      0.26       132\n",
      "        Melon de Bourgogne       0.00      0.00      0.00        10\n",
      "                  Meritage       0.00      0.00      0.00        11\n",
      "                    Merlot       0.00      0.00      0.00       108\n",
      "             Montepulciano       0.00      0.00      0.00        18\n",
      "                 Mourvèdre       0.00      0.00      0.00        15\n",
      "                  Nebbiolo       0.52      0.98      0.68       206\n",
      "              Nero d'Avola       0.00      0.00      0.00        10\n",
      "              Petit Verdot       0.00      0.00      0.00        16\n",
      "               Pinot Blanc       0.00      0.00      0.00        28\n",
      "              Pinot Grigio       0.51      0.20      0.29       130\n",
      "                Pinot Noir       0.63      0.76      0.69       761\n",
      "                      Port       1.00      0.06      0.12        49\n",
      "            Portuguese Red       0.62      0.58      0.60       131\n",
      "          Portuguese White       0.75      0.26      0.39        68\n",
      "                 Primitivo       0.40      0.22      0.28       150\n",
      "                Red Blends       0.50      0.51      0.50       396\n",
      "     Rhône-style Red Blend       0.65      0.77      0.71       138\n",
      "   Rhône-style White Blend       0.94      0.35      0.51        46\n",
      "                  Riesling       0.56      0.85      0.68       271\n",
      "                      Rosé       0.59      0.70      0.64       348\n",
      "                Sangiovese       0.53      0.18      0.27       157\n",
      "                 Sauvignon       0.00      0.00      0.00        14\n",
      "           Sauvignon Blanc       0.57      0.51      0.54       254\n",
      "                    Shiraz       0.54      0.50      0.52       272\n",
      "           Sparkling Blend       0.56      0.64      0.60       163\n",
      "                  Sémillon       0.00      0.00      0.00        12\n",
      "                    Tannat       0.00      0.00      0.00        12\n",
      "               Tempranillo       0.33      0.52      0.40       105\n",
      "         Tempranillo Blend       0.00      0.00      0.00        33\n",
      "                  Turbiana       0.00      0.00      0.00        17\n",
      "                   Verdejo       0.00      0.00      0.00        15\n",
      "                Verdicchio       0.00      0.00      0.00        14\n",
      "                Vermentino       0.00      0.00      0.00        16\n",
      "                 Vernaccia       0.00      0.00      0.00        10\n",
      "                  Viognier       0.00      0.00      0.00        47\n",
      "               White Blend       0.37      0.41      0.39       106\n",
      "                  Zweigelt       0.00      0.00      0.00        14\n",
      "\n",
      "                  accuracy                           0.53      6422\n",
      "                 macro avg       0.31      0.23      0.23      6422\n",
      "              weighted avg       0.50      0.53      0.48      6422\n",
      "\n"
     ]
    },
    {
     "name": "stderr",
     "output_type": "stream",
     "text": [
      "/Users/Mariagimenoperez/anaconda3/lib/python3.6/site-packages/sklearn/metrics/classification.py:1437: UndefinedMetricWarning: Precision and F-score are ill-defined and being set to 0.0 in labels with no predicted samples.\n",
      "  'precision', 'predicted', average, warn_for)\n"
     ]
    }
   ],
   "source": [
    "print(classification_report(y_test1, predicteds8))"
   ]
  },
  {
   "cell_type": "code",
   "execution_count": 26,
   "metadata": {},
   "outputs": [
    {
     "data": {
      "text/plain": [
       "0.4796013702896294"
      ]
     },
     "execution_count": 26,
     "metadata": {},
     "output_type": "execute_result"
    }
   ],
   "source": [
    "# BernoulliNB\n",
    "pipelines9 = Pipeline([\n",
    "    ('vect', cvec),\n",
    "    ('cls', BernoulliNB())\n",
    "])\n",
    "pipelines9.fit(X_train1, y_train1)\n",
    "predicteds9 = pipelines9.predict(X_test1)\n",
    "pipelines9.score(X_test1, y_test1)"
   ]
  },
  {
   "cell_type": "code",
   "execution_count": 29,
   "metadata": {},
   "outputs": [
    {
     "data": {
      "text/plain": [
       "0.4198069137340392"
      ]
     },
     "execution_count": 29,
     "metadata": {},
     "output_type": "execute_result"
    }
   ],
   "source": [
    "# MultinomialNB with  TdidfVectorizer\n",
    "pipelines10 = Pipeline([\n",
    "    ('vect',vect) ,\n",
    "    ('cls', MultinomialNB())\n",
    "])\n",
    "pipelines10.fit(X_train1, y_train1)\n",
    "predicteds10 = pipelines10.predict(X_test1)\n",
    "pipelines10.score(X_test1, y_test1)"
   ]
  },
  {
   "cell_type": "markdown",
   "metadata": {},
   "source": [
    "This dataset with some reductions performs better. The accuracy has been improved, in all the models. And as happend in the other dataset the best accuracy is in the model with CountVectorizer, Logistic Regression and Lasso Regularization."
   ]
  },
  {
   "cell_type": "markdown",
   "metadata": {},
   "source": [
    "# BIG DATASET VARIETY REDUCTIONS"
   ]
  },
  {
   "cell_type": "markdown",
   "metadata": {},
   "source": [
    "By looking at the varieties, we can find out that there are 745 varieties in the big data set. I am going to limit how many samples a variety has to have. I eliminated the varieties that appear less than 100 times and I replace some of them that there are the same family.\n",
    "\n",
    "I am going to train some of the models I define above with this dataset."
   ]
  },
  {
   "cell_type": "code",
   "execution_count": 12,
   "metadata": {},
   "outputs": [],
   "source": [
    "vino = pd.read_csv('big_wineV1.csv')"
   ]
  },
  {
   "cell_type": "code",
   "execution_count": 8,
   "metadata": {
    "scrolled": true
   },
   "outputs": [
    {
     "data": {
      "text/html": [
       "<div>\n",
       "<style scoped>\n",
       "    .dataframe tbody tr th:only-of-type {\n",
       "        vertical-align: middle;\n",
       "    }\n",
       "\n",
       "    .dataframe tbody tr th {\n",
       "        vertical-align: top;\n",
       "    }\n",
       "\n",
       "    .dataframe thead th {\n",
       "        text-align: right;\n",
       "    }\n",
       "</style>\n",
       "<table border=\"1\" class=\"dataframe\">\n",
       "  <thead>\n",
       "    <tr style=\"text-align: right;\">\n",
       "      <th></th>\n",
       "      <th>Unnamed: 0</th>\n",
       "      <th>country</th>\n",
       "      <th>description</th>\n",
       "      <th>designation</th>\n",
       "      <th>points</th>\n",
       "      <th>price</th>\n",
       "      <th>province</th>\n",
       "      <th>region_1</th>\n",
       "      <th>taster_name</th>\n",
       "      <th>title</th>\n",
       "      <th>variety</th>\n",
       "      <th>winery</th>\n",
       "      <th>vintage</th>\n",
       "    </tr>\n",
       "  </thead>\n",
       "  <tbody>\n",
       "    <tr>\n",
       "      <th>0</th>\n",
       "      <td>1</td>\n",
       "      <td>Portugal</td>\n",
       "      <td>This is ripe and fruity, a wine that is smooth...</td>\n",
       "      <td>Avidagos</td>\n",
       "      <td>87</td>\n",
       "      <td>15.0</td>\n",
       "      <td>Douro</td>\n",
       "      <td>NaN</td>\n",
       "      <td>Roger Voss</td>\n",
       "      <td>Quinta dos Avidagos 2011 Avidagos Red (Douro)</td>\n",
       "      <td>Portuguese Red</td>\n",
       "      <td>Quinta dos Avidagos</td>\n",
       "      <td>2011.0</td>\n",
       "    </tr>\n",
       "    <tr>\n",
       "      <th>1</th>\n",
       "      <td>2</td>\n",
       "      <td>US</td>\n",
       "      <td>Tart and snappy, the flavors of lime flesh and...</td>\n",
       "      <td>NaN</td>\n",
       "      <td>87</td>\n",
       "      <td>14.0</td>\n",
       "      <td>Oregon</td>\n",
       "      <td>Willamette Valley</td>\n",
       "      <td>Paul Gregutt</td>\n",
       "      <td>Rainstorm 2013 Pinot Gris (Willamette Valley)</td>\n",
       "      <td>Pinot Gris</td>\n",
       "      <td>Rainstorm</td>\n",
       "      <td>2013.0</td>\n",
       "    </tr>\n",
       "    <tr>\n",
       "      <th>2</th>\n",
       "      <td>3</td>\n",
       "      <td>US</td>\n",
       "      <td>Pineapple rind, lemon pith and orange blossom ...</td>\n",
       "      <td>Reserve Late Harvest</td>\n",
       "      <td>87</td>\n",
       "      <td>13.0</td>\n",
       "      <td>Michigan</td>\n",
       "      <td>Lake Michigan Shore</td>\n",
       "      <td>Alexander Peartree</td>\n",
       "      <td>St. Julian 2013 Reserve Late Harvest Riesling ...</td>\n",
       "      <td>Riesling</td>\n",
       "      <td>St. Julian</td>\n",
       "      <td>2013.0</td>\n",
       "    </tr>\n",
       "    <tr>\n",
       "      <th>3</th>\n",
       "      <td>4</td>\n",
       "      <td>US</td>\n",
       "      <td>Much like the regular bottling from 2012, this...</td>\n",
       "      <td>Vintner's Reserve Wild Child Block</td>\n",
       "      <td>87</td>\n",
       "      <td>65.0</td>\n",
       "      <td>Oregon</td>\n",
       "      <td>Willamette Valley</td>\n",
       "      <td>Paul Gregutt</td>\n",
       "      <td>Sweet Cheeks 2012 Vintner's Reserve Wild Child...</td>\n",
       "      <td>Pinot Noir</td>\n",
       "      <td>Sweet Cheeks</td>\n",
       "      <td>2012.0</td>\n",
       "    </tr>\n",
       "    <tr>\n",
       "      <th>4</th>\n",
       "      <td>5</td>\n",
       "      <td>Spain</td>\n",
       "      <td>Blackberry and raspberry aromas show a typical...</td>\n",
       "      <td>Ars In Vitro</td>\n",
       "      <td>87</td>\n",
       "      <td>15.0</td>\n",
       "      <td>Northern Spain</td>\n",
       "      <td>Navarra</td>\n",
       "      <td>Michael Schachner</td>\n",
       "      <td>Tandem 2011 Ars In Vitro Tempranillo-Merlot (N...</td>\n",
       "      <td>Tempranillo-Merlot</td>\n",
       "      <td>Tandem</td>\n",
       "      <td>2011.0</td>\n",
       "    </tr>\n",
       "  </tbody>\n",
       "</table>\n",
       "</div>"
      ],
      "text/plain": [
       "   Unnamed: 0   country                                        description  \\\n",
       "0           1  Portugal  This is ripe and fruity, a wine that is smooth...   \n",
       "1           2        US  Tart and snappy, the flavors of lime flesh and...   \n",
       "2           3        US  Pineapple rind, lemon pith and orange blossom ...   \n",
       "3           4        US  Much like the regular bottling from 2012, this...   \n",
       "4           5     Spain  Blackberry and raspberry aromas show a typical...   \n",
       "\n",
       "                          designation  points  price        province  \\\n",
       "0                            Avidagos      87   15.0           Douro   \n",
       "1                                 NaN      87   14.0          Oregon   \n",
       "2                Reserve Late Harvest      87   13.0        Michigan   \n",
       "3  Vintner's Reserve Wild Child Block      87   65.0          Oregon   \n",
       "4                        Ars In Vitro      87   15.0  Northern Spain   \n",
       "\n",
       "              region_1         taster_name  \\\n",
       "0                  NaN          Roger Voss   \n",
       "1    Willamette Valley        Paul Gregutt   \n",
       "2  Lake Michigan Shore  Alexander Peartree   \n",
       "3    Willamette Valley        Paul Gregutt   \n",
       "4              Navarra   Michael Schachner   \n",
       "\n",
       "                                               title             variety  \\\n",
       "0      Quinta dos Avidagos 2011 Avidagos Red (Douro)      Portuguese Red   \n",
       "1      Rainstorm 2013 Pinot Gris (Willamette Valley)          Pinot Gris   \n",
       "2  St. Julian 2013 Reserve Late Harvest Riesling ...            Riesling   \n",
       "3  Sweet Cheeks 2012 Vintner's Reserve Wild Child...          Pinot Noir   \n",
       "4  Tandem 2011 Ars In Vitro Tempranillo-Merlot (N...  Tempranillo-Merlot   \n",
       "\n",
       "                winery  vintage  \n",
       "0  Quinta dos Avidagos   2011.0  \n",
       "1            Rainstorm   2013.0  \n",
       "2           St. Julian   2013.0  \n",
       "3         Sweet Cheeks   2012.0  \n",
       "4               Tandem   2011.0  "
      ]
     },
     "execution_count": 8,
     "metadata": {},
     "output_type": "execute_result"
    }
   ],
   "source": [
    "vino.head()"
   ]
  },
  {
   "cell_type": "code",
   "execution_count": 13,
   "metadata": {},
   "outputs": [],
   "source": [
    "vino1 = vino[vino['variety'].map(vino['variety'].value_counts()) > 100]"
   ]
  },
  {
   "cell_type": "code",
   "execution_count": 16,
   "metadata": {},
   "outputs": [],
   "source": [
    "vino1.variety = vino1.variety.apply(lambda x: str(x).replace('Syrah', 'Shiraz').\n",
    "                                    replace('Pinot Gris', 'Pinot Grigio').replace('Petite Sirah', 'Shiraz').\n",
    "                                   replace('Grenache', 'Garnacha').replace('Garnacha Blanc', 'Garnacha').\n",
    "                                   replace('Rosato', 'Rosé').replace('Pinot Bianco', 'Pinot Blanc').\n",
    "                                   replace('Zinfandel', 'Primitivo').replace('Alvarinho', 'Alvariño').\n",
    "                                   replace('Alvariño', 'Albariño'))"
   ]
  },
  {
   "cell_type": "code",
   "execution_count": 17,
   "metadata": {},
   "outputs": [
    {
     "data": {
      "text/plain": [
       "85"
      ]
     },
     "execution_count": 17,
     "metadata": {},
     "output_type": "execute_result"
    }
   ],
   "source": [
    "len(vino1.variety.unique())"
   ]
  },
  {
   "cell_type": "code",
   "execution_count": 18,
   "metadata": {},
   "outputs": [
    {
     "name": "stdout",
     "output_type": "stream",
     "text": [
      "There are 743 types of grapes(varieties) in this dataset such as Portuguese Red, Pinot Gris, Riesling, Pinot Noir, Tempranillo-Merlot... \n",
      "\n"
     ]
    }
   ],
   "source": [
    "print(\"There are {} types of grapes(varieties) in this dataset such as {}... \\n\".\n",
    "      format(len(vino.variety.unique()), \", \".join(vino.variety.unique()[0:5])))"
   ]
  },
  {
   "cell_type": "code",
   "execution_count": 19,
   "metadata": {},
   "outputs": [
    {
     "name": "stdout",
     "output_type": "stream",
     "text": [
      "The variety baseline is 0.11419319067554863\n"
     ]
    }
   ],
   "source": [
    "print('The variety baseline is', vino1.variety.value_counts(normalize=True).max())"
   ]
  },
  {
   "cell_type": "markdown",
   "metadata": {},
   "source": [
    "### DEFINE THE VARIABLE VARIETY AS A TARGET"
   ]
  },
  {
   "cell_type": "code",
   "execution_count": 20,
   "metadata": {},
   "outputs": [],
   "source": [
    "yb = vino1.variety\n",
    "Xb =  vino1.description"
   ]
  },
  {
   "cell_type": "code",
   "execution_count": 21,
   "metadata": {},
   "outputs": [
    {
     "data": {
      "text/plain": [
       "((124447,), (124447,))"
      ]
     },
     "execution_count": 21,
     "metadata": {},
     "output_type": "execute_result"
    }
   ],
   "source": [
    "yb.shape, Xb.shape"
   ]
  },
  {
   "cell_type": "code",
   "execution_count": 22,
   "metadata": {},
   "outputs": [],
   "source": [
    "#Split and stratify the data\n",
    "X_trainb, X_testb, y_trainb, y_testb = train_test_split(Xb, yb, test_size=0.2, stratify = yb, random_state = 1)"
   ]
  },
  {
   "cell_type": "markdown",
   "metadata": {},
   "source": [
    "### COUNT VECTORIZER  AND LOGISTIC REGRESSION \n",
    "\n",
    "I am going to train some of the models I define above with this dataset.\n",
    "\n",
    "The scores did not differ so much but the best performed model was with CountVectorizer and Logistic Regression with Lasso Regularization and multiclass ovr. I calculated the cross validation in this model and the score does not differ so much than the accuracy score.\n",
    " \n",
    "All of the models have better scores than the baseline.\n"
   ]
  },
  {
   "cell_type": "code",
   "execution_count": 11,
   "metadata": {},
   "outputs": [],
   "source": [
    "cvec = CountVectorizer(strip_accents='unicode', stop_words=\"english\", ngram_range=(1, 1))"
   ]
  },
  {
   "cell_type": "code",
   "execution_count": 117,
   "metadata": {},
   "outputs": [
    {
     "data": {
      "text/plain": [
       "<124447x30170 sparse matrix of type '<class 'numpy.int64'>'\n",
       "\twith 2959640 stored elements in Compressed Sparse Row format>"
      ]
     },
     "execution_count": 117,
     "metadata": {},
     "output_type": "execute_result"
    }
   ],
   "source": [
    "cvec.fit_transform(Xb)"
   ]
  },
  {
   "cell_type": "code",
   "execution_count": 118,
   "metadata": {
    "scrolled": true
   },
   "outputs": [
    {
     "name": "stderr",
     "output_type": "stream",
     "text": [
      "[Parallel(n_jobs=2)]: Using backend LokyBackend with 2 concurrent workers.\n",
      "[Parallel(n_jobs=2)]: Done  46 tasks      | elapsed:   29.5s\n",
      "[Parallel(n_jobs=2)]: Done  85 out of  85 | elapsed:   54.5s finished\n"
     ]
    },
    {
     "data": {
      "text/plain": [
       "0.6383688228204099"
      ]
     },
     "execution_count": 118,
     "metadata": {},
     "output_type": "execute_result"
    }
   ],
   "source": [
    "#CountVectorizer and Logistic Regression with Ridge regularization\n",
    "pipeline = Pipeline([\n",
    "    ('vect', cvec),\n",
    "    ('cls', LogisticRegression(penalty = 'l2', solver='lbfgs', multi_class='ovr', verbose = 1, n_jobs = 2))\n",
    "])\n",
    "pipeline.fit(X_trainb, y_trainb)\n",
    "predicte = pipeline.predict(X_testb)\n",
    "pipeline.score(X_testb, y_testb)"
   ]
  },
  {
   "cell_type": "code",
   "execution_count": 120,
   "metadata": {
    "scrolled": true
   },
   "outputs": [
    {
     "name": "stdout",
     "output_type": "stream",
     "text": [
      "                               precision    recall  f1-score   support\n",
      "\n",
      "                    Aglianico       0.76      0.47      0.58        66\n",
      "                     Albariño       0.62      0.45      0.52       130\n",
      "                      Barbera       0.62      0.41      0.50       135\n",
      "                Blaufränkisch       0.72      0.40      0.51        45\n",
      "                      Bonarda       1.00      0.24      0.38        21\n",
      "     Bordeaux-style Red Blend       0.63      0.68      0.65      1189\n",
      "   Bordeaux-style White Blend       0.64      0.47      0.54       154\n",
      "               Cabernet Franc       0.60      0.35      0.44       282\n",
      "           Cabernet Sauvignon       0.57      0.69      0.62      2001\n",
      "    Cabernet Sauvignon-Merlot       0.50      0.04      0.07        25\n",
      "    Cabernet Sauvignon-Shiraz       0.67      0.10      0.17        21\n",
      "                    Carmenère       0.57      0.39      0.46       122\n",
      "              Champagne Blend       0.71      0.57      0.64       279\n",
      "                   Chardonnay       0.67      0.86      0.75      2373\n",
      "                 Chenin Blanc       0.65      0.35      0.45       114\n",
      "Corvina, Rondinella, Molinara       0.65      0.66      0.66        91\n",
      "                     Dolcetto       0.79      0.33      0.47        33\n",
      "                   Falanghina       0.43      0.14      0.21        21\n",
      "                        Fiano       0.60      0.48      0.54        31\n",
      "                     Friulano       0.38      0.22      0.28        23\n",
      "                        G-S-M       0.15      0.05      0.07        42\n",
      "                        Gamay       0.65      0.54      0.59       201\n",
      "                    Garganega       0.68      0.32      0.43        41\n",
      "                     Garnacha       0.52      0.25      0.34       253\n",
      "               Gewürztraminer       0.67      0.61      0.64       207\n",
      "                        Glera       0.72      0.76      0.74       113\n",
      "                        Greco       0.40      0.25      0.31        24\n",
      "                       Grillo       0.65      0.52      0.58        25\n",
      "             Grüner Veltliner       0.75      0.71      0.73       246\n",
      "                       Malbec       0.52      0.49      0.50       561\n",
      "                Malbec-Merlot       0.33      0.05      0.08        21\n",
      "                        Melon       0.68      0.33      0.45        45\n",
      "                       Mencía       0.52      0.34      0.41        38\n",
      "                     Meritage       0.00      0.00      0.00        53\n",
      "                       Merlot       0.52      0.39      0.44       637\n",
      "                   Monastrell       0.77      0.32      0.45        31\n",
      "                Montepulciano       0.44      0.17      0.25        47\n",
      "                      Moscato       0.70      0.44      0.54        64\n",
      "                    Mourvèdre       0.65      0.22      0.32        51\n",
      "                       Muscat       0.36      0.14      0.20        29\n",
      "                     Nebbiolo       0.72      0.77      0.75       557\n",
      "            Nerello Mascalese       0.69      0.29      0.41        31\n",
      "                 Nero d'Avola       0.80      0.60      0.68        67\n",
      "                 Petit Verdot       0.50      0.18      0.27        61\n",
      "                  Pinot Blanc       0.63      0.36      0.46       118\n",
      "                 Pinot Grigio       0.56      0.53      0.54       512\n",
      "                   Pinot Nero       0.62      0.24      0.35        33\n",
      "                   Pinot Noir       0.69      0.83      0.75      2842\n",
      "                     Pinotage       0.65      0.41      0.50        27\n",
      "                         Port       0.81      0.58      0.67       111\n",
      "               Portuguese Red       0.64      0.70      0.67       481\n",
      "             Portuguese White       0.68      0.52      0.59       220\n",
      "                    Primitivo       0.61      0.57      0.59       628\n",
      "                     Prosecco       0.84      0.69      0.76        39\n",
      "                    Red Blend       0.61      0.60      0.60      1823\n",
      "        Rhône-style Red Blend       0.65      0.54      0.59       334\n",
      "      Rhône-style White Blend       0.74      0.69      0.71       103\n",
      "                     Riesling       0.79      0.85      0.82      1075\n",
      "                         Rosé       0.65      0.74      0.69       775\n",
      "                    Roussanne       0.56      0.25      0.35        36\n",
      "                   Sagrantino       0.75      0.29      0.41        21\n",
      "                   Sangiovese       0.59      0.49      0.54       526\n",
      "            Sangiovese Grosso       0.81      0.79      0.80       109\n",
      "                    Sauvignon       0.80      0.73      0.76        62\n",
      "              Sauvignon Blanc       0.65      0.71      0.68      1038\n",
      "                       Sherry       1.00      0.62      0.76        21\n",
      "                       Shiraz       0.59      0.61      0.60      1206\n",
      "              Sparkling Blend       0.68      0.63      0.66       471\n",
      "                     Sémillon       0.67      0.07      0.12        30\n",
      "                       Tannat       0.83      0.29      0.43        34\n",
      "                  Tempranillo       0.43      0.42      0.42       399\n",
      "            Tempranillo Blend       0.16      0.10      0.12       125\n",
      "                Tinta de Toro       0.71      0.42      0.53        36\n",
      "                   Tinto Fino       0.33      0.05      0.08        21\n",
      "                    Torrontés       0.56      0.45      0.50        49\n",
      "             Touriga Nacional       0.75      0.17      0.28        35\n",
      "                     Turbiana       0.34      0.31      0.33        32\n",
      "                      Verdejo       0.60      0.42      0.50        62\n",
      "                   Verdicchio       0.52      0.41      0.46        39\n",
      "                   Vermentino       0.78      0.32      0.45        44\n",
      "                    Vernaccia       0.50      0.35      0.42        31\n",
      "                     Viognier       0.57      0.42      0.48       213\n",
      "                        Viura       0.56      0.39      0.46        23\n",
      "                  White Blend       0.64      0.53      0.58       468\n",
      "                     Zweigelt       0.84      0.43      0.57        37\n",
      "\n",
      "                     accuracy                           0.64     24890\n",
      "                    macro avg       0.62      0.43      0.49     24890\n",
      "                 weighted avg       0.63      0.64      0.63     24890\n",
      "\n"
     ]
    }
   ],
   "source": [
    "print(classification_report(y_testb, predicte))"
   ]
  },
  {
   "cell_type": "code",
   "execution_count": null,
   "metadata": {},
   "outputs": [],
   "source": [
    "print(cross_val_score(pipelines1, X_train1, y_train1, cv=5))"
   ]
  },
  {
   "cell_type": "code",
   "execution_count": null,
   "metadata": {},
   "outputs": [],
   "source": []
  },
  {
   "cell_type": "markdown",
   "metadata": {},
   "source": [
    "## mirar resultados"
   ]
  },
  {
   "cell_type": "code",
   "execution_count": 23,
   "metadata": {},
   "outputs": [
    {
     "name": "stderr",
     "output_type": "stream",
     "text": [
      "[Parallel(n_jobs=2)]: Using backend ThreadingBackend with 2 concurrent workers.\n"
     ]
    },
    {
     "name": "stdout",
     "output_type": "stream",
     "text": [
      "max_iter reached after 41 seconds\n"
     ]
    },
    {
     "name": "stderr",
     "output_type": "stream",
     "text": [
      "/Users/Mariagimenoperez/anaconda3/lib/python3.6/site-packages/sklearn/linear_model/sag.py:337: ConvergenceWarning: The max_iter was reached which means the coef_ did not converge\n",
      "  \"the coef_ did not converge\", ConvergenceWarning)\n"
     ]
    },
    {
     "name": "stdout",
     "output_type": "stream",
     "text": [
      "max_iter reached after 56 seconds\n",
      "max_iter reached after 33 seconds\n",
      "max_iter reached after 48 seconds\n",
      "max_iter reached after 25 seconds\n",
      "max_iter reached after 48 seconds\n",
      "max_iter reached after 128 seconds\n",
      "max_iter reached after 80 seconds\n",
      "max_iter reached after 29 seconds\n",
      "max_iter reached after 28 seconds\n",
      "max_iter reached after 45 seconds\n",
      "max_iter reached after 176 seconds\n",
      "max_iter reached after 65 seconds\n",
      "max_iter reached after 55 seconds\n",
      "max_iter reached after 49 seconds\n",
      "max_iter reached after 33 seconds\n",
      "max_iter reached after 28 seconds\n",
      "max_iter reached after 191 seconds\n",
      "max_iter reached after 30 seconds\n",
      "max_iter reached after 23 seconds\n",
      "max_iter reached after 33 seconds\n",
      "max_iter reached after 47 seconds\n",
      "max_iter reached after 26 seconds\n",
      "max_iter reached after 54 seconds\n",
      "max_iter reached after 83 seconds\n",
      "max_iter reached after 34 seconds\n",
      "max_iter reached after 25 seconds\n",
      "max_iter reached after 25 seconds\n",
      "max_iter reached after 59 seconds\n",
      "max_iter reached after 27 seconds\n",
      "max_iter reached after 32 seconds\n",
      "max_iter reached after 105 seconds\n",
      "max_iter reached after 34 seconds\n",
      "max_iter reached after 42 seconds\n",
      "max_iter reached after 28 seconds\n",
      "max_iter reached after 35 seconds\n",
      "max_iter reached after 36 seconds\n",
      "max_iter reached after 122 seconds\n",
      "max_iter reached after 43 seconds\n",
      "max_iter reached after 30 seconds\n",
      "max_iter reached after 28 seconds\n",
      "max_iter reached after 35 seconds\n",
      "max_iter reached after 65 seconds\n",
      "max_iter reached after 48 seconds\n",
      "max_iter reached after 56 seconds\n",
      "max_iter reached after 26 seconds\n"
     ]
    },
    {
     "name": "stderr",
     "output_type": "stream",
     "text": [
      "[Parallel(n_jobs=2)]: Done  46 tasks      | elapsed: 20.2min\n"
     ]
    },
    {
     "name": "stdout",
     "output_type": "stream",
     "text": [
      "max_iter reached after 98 seconds\n",
      "max_iter reached after 29 seconds\n",
      "max_iter reached after 43 seconds\n",
      "max_iter reached after 205 seconds\n",
      "max_iter reached after 77 seconds\n",
      "max_iter reached after 53 seconds\n",
      "max_iter reached after 26 seconds\n",
      "max_iter reached after 112 seconds\n",
      "max_iter reached after 82 seconds\n",
      "max_iter reached after 43 seconds\n",
      "max_iter reached after 181 seconds\n",
      "max_iter reached after 105 seconds\n",
      "max_iter reached after 112 seconds\n",
      "max_iter reached after 39 seconds\n",
      "max_iter reached after 29 seconds\n",
      "max_iter reached after 35 seconds\n",
      "max_iter reached after 29 seconds\n",
      "max_iter reached after 84 seconds\n",
      "max_iter reached after 22 seconds\n",
      "max_iter reached after 121 seconds\n",
      "max_iter reached after 156 seconds\n",
      "max_iter reached after 94 seconds\n",
      "max_iter reached after 31 seconds\n",
      "max_iter reached after 29 seconds\n",
      "max_iter reached after 56 seconds\n",
      "max_iter reached after 91 seconds\n",
      "max_iter reached after 29 seconds\n",
      "max_iter reached after 27 seconds\n",
      "max_iter reached after 30 seconds\n",
      "max_iter reached after 27 seconds\n",
      "max_iter reached after 25 seconds\n",
      "max_iter reached after 33 seconds\n",
      "max_iter reached after 27 seconds\n",
      "max_iter reached after 30 seconds\n",
      "max_iter reached after 26 seconds\n",
      "max_iter reached after 24 seconds\n",
      "max_iter reached after 67 seconds\n",
      "max_iter reached after 31 seconds\n",
      "max_iter reached after 89 seconds\n"
     ]
    },
    {
     "name": "stderr",
     "output_type": "stream",
     "text": [
      "[Parallel(n_jobs=2)]: Done  85 out of  85 | elapsed: 40.6min finished\n"
     ]
    },
    {
     "data": {
      "text/plain": [
       "0.6448774608276416"
      ]
     },
     "execution_count": 23,
     "metadata": {},
     "output_type": "execute_result"
    }
   ],
   "source": [
    "\n",
    "#CountVectorizer and Logistic Regression and Lasso regularization\n",
    "pipeline = Pipeline([\n",
    "    ('vect', cvec),\n",
    "    ('cls', LogisticRegression(penalty = 'l1', solver='saga', multi_class='ovr', verbose = 1, n_jobs = 2))\n",
    "])\n",
    "pipeline.fit(X_trainb, y_trainb)\n",
    "predicted = pipeline.predict(X_testb)\n",
    "pipeline.score(X_testb, y_testb)"
   ]
  },
  {
   "cell_type": "code",
   "execution_count": 24,
   "metadata": {},
   "outputs": [
    {
     "name": "stderr",
     "output_type": "stream",
     "text": [
      "[Parallel(n_jobs=2)]: Using backend LokyBackend with 2 concurrent workers.\n",
      "[Parallel(n_jobs=2)]: Done  46 tasks      | elapsed: 13.8min\n",
      "[Parallel(n_jobs=2)]: Done  85 out of  85 | elapsed: 27.6min finished\n",
      "[Parallel(n_jobs=2)]: Using backend LokyBackend with 2 concurrent workers.\n",
      "[Parallel(n_jobs=2)]: Done  46 tasks      | elapsed: 15.2min\n",
      "[Parallel(n_jobs=2)]: Done  85 out of  85 | elapsed: 29.7min finished\n",
      "[Parallel(n_jobs=2)]: Using backend LokyBackend with 2 concurrent workers.\n",
      "[Parallel(n_jobs=2)]: Done  46 tasks      | elapsed: 14.2min\n",
      "[Parallel(n_jobs=2)]: Done  85 out of  85 | elapsed: 29.2min finished\n",
      "[Parallel(n_jobs=2)]: Using backend LokyBackend with 2 concurrent workers.\n",
      "[Parallel(n_jobs=2)]: Done  46 tasks      | elapsed: 14.8min\n",
      "[Parallel(n_jobs=2)]: Done  85 out of  85 | elapsed: 29.7min finished\n",
      "[Parallel(n_jobs=2)]: Using backend LokyBackend with 2 concurrent workers.\n",
      "[Parallel(n_jobs=2)]: Done  46 tasks      | elapsed: 13.7min\n",
      "[Parallel(n_jobs=2)]: Done  85 out of  85 | elapsed: 27.5min finished\n"
     ]
    },
    {
     "name": "stdout",
     "output_type": "stream",
     "text": [
      "[0.64490574 0.64416562 0.63433623 0.63470044 0.64270985]\n",
      "0.6401635763847414\n"
     ]
    }
   ],
   "source": [
    "cross = cross_val_score(pipeline, X_trainb, y_trainb, cv=5)\n",
    "print(cross)\n",
    "print(cross.mean())"
   ]
  },
  {
   "cell_type": "code",
   "execution_count": 122,
   "metadata": {
    "scrolled": true
   },
   "outputs": [
    {
     "name": "stderr",
     "output_type": "stream",
     "text": [
      "[Parallel(n_jobs=2)]: Using backend ThreadingBackend with 2 concurrent workers.\n"
     ]
    },
    {
     "name": "stdout",
     "output_type": "stream",
     "text": [
      "max_iter reached after 39 seconds\n"
     ]
    },
    {
     "name": "stderr",
     "output_type": "stream",
     "text": [
      "/Users/Mariagimenoperez/anaconda3/lib/python3.6/site-packages/sklearn/linear_model/sag.py:337: ConvergenceWarning: The max_iter was reached which means the coef_ did not converge\n",
      "  \"the coef_ did not converge\", ConvergenceWarning)\n"
     ]
    },
    {
     "name": "stdout",
     "output_type": "stream",
     "text": [
      "max_iter reached after 59 seconds\n",
      "max_iter reached after 39 seconds\n",
      "max_iter reached after 58 seconds\n",
      "max_iter reached after 28 seconds\n",
      "convergence after 885 epochs took 202 seconds\n",
      "max_iter reached after 52 seconds\n",
      "max_iter reached after 142 seconds\n",
      "max_iter reached after 84 seconds\n",
      "max_iter reached after 32 seconds\n",
      "max_iter reached after 29 seconds\n",
      "max_iter reached after 47 seconds\n",
      "convergence after 1330 epochs took 423 seconds\n",
      "max_iter reached after 183 seconds\n",
      "max_iter reached after 63 seconds\n",
      "max_iter reached after 46 seconds\n",
      "max_iter reached after 37 seconds\n",
      "max_iter reached after 27 seconds\n",
      "max_iter reached after 22 seconds\n",
      "max_iter reached after 153 seconds\n",
      "max_iter reached after 25 seconds\n",
      "max_iter reached after 22 seconds\n",
      "max_iter reached after 33 seconds\n",
      "max_iter reached after 45 seconds\n",
      "max_iter reached after 25 seconds\n",
      "max_iter reached after 53 seconds\n",
      "max_iter reached after 80 seconds\n",
      "max_iter reached after 35 seconds\n",
      "max_iter reached after 25 seconds\n",
      "max_iter reached after 23 seconds\n",
      "max_iter reached after 54 seconds\n",
      "max_iter reached after 25 seconds\n",
      "max_iter reached after 29 seconds\n",
      "max_iter reached after 97 seconds\n",
      "max_iter reached after 34 seconds\n",
      "max_iter reached after 42 seconds\n",
      "max_iter reached after 25 seconds\n",
      "max_iter reached after 32 seconds\n",
      "max_iter reached after 31 seconds\n",
      "max_iter reached after 110 seconds\n",
      "max_iter reached after 29 seconds\n",
      "max_iter reached after 40 seconds\n",
      "max_iter reached after 26 seconds\n",
      "max_iter reached after 61 seconds\n",
      "max_iter reached after 32 seconds\n",
      "max_iter reached after 41 seconds\n",
      "max_iter reached after 48 seconds\n",
      "max_iter reached after 25 seconds\n"
     ]
    },
    {
     "name": "stderr",
     "output_type": "stream",
     "text": [
      "[Parallel(n_jobs=2)]: Done  46 tasks      | elapsed: 19.4min\n"
     ]
    },
    {
     "name": "stdout",
     "output_type": "stream",
     "text": [
      "max_iter reached after 90 seconds\n",
      "max_iter reached after 27 seconds\n",
      "max_iter reached after 37 seconds\n",
      "max_iter reached after 185 seconds\n",
      "max_iter reached after 69 seconds\n",
      "max_iter reached after 49 seconds\n",
      "max_iter reached after 24 seconds\n",
      "max_iter reached after 103 seconds\n",
      "max_iter reached after 75 seconds\n",
      "max_iter reached after 39 seconds\n",
      "max_iter reached after 168 seconds\n",
      "max_iter reached after 98 seconds\n",
      "max_iter reached after 102 seconds\n",
      "max_iter reached after 32 seconds\n",
      "max_iter reached after 24 seconds\n",
      "max_iter reached after 35 seconds\n",
      "max_iter reached after 28 seconds\n",
      "max_iter reached after 81 seconds\n",
      "max_iter reached after 21 seconds\n",
      "max_iter reached after 118 seconds\n",
      "max_iter reached after 145 seconds\n",
      "max_iter reached after 28 seconds\n",
      "max_iter reached after 85 seconds\n",
      "max_iter reached after 27 seconds\n",
      "max_iter reached after 54 seconds\n",
      "max_iter reached after 86 seconds\n",
      "max_iter reached after 30 seconds\n",
      "max_iter reached after 28 seconds\n",
      "max_iter reached after 29 seconds\n",
      "max_iter reached after 24 seconds\n",
      "max_iter reached after 25 seconds\n",
      "max_iter reached after 31 seconds\n",
      "max_iter reached after 26 seconds\n",
      "max_iter reached after 30 seconds\n",
      "max_iter reached after 25 seconds\n",
      "max_iter reached after 23 seconds\n",
      "max_iter reached after 64 seconds\n",
      "max_iter reached after 28 seconds\n",
      "max_iter reached after 86 seconds\n"
     ]
    },
    {
     "name": "stderr",
     "output_type": "stream",
     "text": [
      "[Parallel(n_jobs=2)]: Done  85 out of  85 | elapsed: 38.4min finished\n"
     ]
    }
   ],
   "source": [
    "#CountVectorizer and Logistic Regression and Lasso regularization\n",
    "pipeline = Pipeline([\n",
    "    ('vect', cvec),\n",
    "    ('cls', LogisticRegression(penalty = 'l1', solver='saga', multi_class='ovr', verbose = 1, n_jobs = 2))\n",
    "])\n",
    "pipeline.fit(X_trainb, y_trainb)\n",
    "predicted = pipeline.predict(X_testb)"
   ]
  },
  {
   "cell_type": "code",
   "execution_count": 124,
   "metadata": {},
   "outputs": [
    {
     "data": {
      "text/plain": [
       "0.6449578143832865"
      ]
     },
     "execution_count": 124,
     "metadata": {},
     "output_type": "execute_result"
    }
   ],
   "source": [
    "pipeline.score(X_testb, y_testb)"
   ]
  },
  {
   "cell_type": "code",
   "execution_count": 125,
   "metadata": {},
   "outputs": [
    {
     "name": "stdout",
     "output_type": "stream",
     "text": [
      "                               precision    recall  f1-score   support\n",
      "\n",
      "                    Aglianico       0.77      0.50      0.61        66\n",
      "                     Albariño       0.66      0.47      0.55       130\n",
      "                      Barbera       0.66      0.42      0.51       135\n",
      "                Blaufränkisch       0.59      0.38      0.46        45\n",
      "                      Bonarda       0.86      0.29      0.43        21\n",
      "     Bordeaux-style Red Blend       0.64      0.69      0.66      1189\n",
      "   Bordeaux-style White Blend       0.65      0.45      0.54       154\n",
      "               Cabernet Franc       0.60      0.36      0.45       282\n",
      "           Cabernet Sauvignon       0.57      0.69      0.63      2001\n",
      "    Cabernet Sauvignon-Merlot       0.00      0.00      0.00        25\n",
      "    Cabernet Sauvignon-Shiraz       0.50      0.05      0.09        21\n",
      "                    Carmenère       0.60      0.43      0.50       122\n",
      "              Champagne Blend       0.71      0.56      0.62       279\n",
      "                   Chardonnay       0.68      0.87      0.76      2373\n",
      "                 Chenin Blanc       0.66      0.34      0.45       114\n",
      "Corvina, Rondinella, Molinara       0.66      0.65      0.66        91\n",
      "                     Dolcetto       0.75      0.36      0.49        33\n",
      "                   Falanghina       0.50      0.14      0.22        21\n",
      "                        Fiano       0.62      0.52      0.56        31\n",
      "                     Friulano       0.59      0.43      0.50        23\n",
      "                        G-S-M       0.29      0.10      0.14        42\n",
      "                        Gamay       0.67      0.53      0.59       201\n",
      "                    Garganega       0.67      0.29      0.41        41\n",
      "                     Garnacha       0.57      0.27      0.37       253\n",
      "               Gewürztraminer       0.73      0.64      0.68       207\n",
      "                        Glera       0.73      0.73      0.73       113\n",
      "                        Greco       0.36      0.21      0.26        24\n",
      "                       Grillo       0.57      0.52      0.54        25\n",
      "             Grüner Veltliner       0.74      0.71      0.72       246\n",
      "                       Malbec       0.53      0.50      0.51       561\n",
      "                Malbec-Merlot       0.50      0.05      0.09        21\n",
      "                        Melon       0.67      0.31      0.42        45\n",
      "                       Mencía       0.52      0.37      0.43        38\n",
      "                     Meritage       0.25      0.02      0.04        53\n",
      "                       Merlot       0.58      0.39      0.47       637\n",
      "                   Monastrell       0.59      0.32      0.42        31\n",
      "                Montepulciano       0.53      0.19      0.28        47\n",
      "                      Moscato       0.72      0.41      0.52        64\n",
      "                    Mourvèdre       0.67      0.24      0.35        51\n",
      "                       Muscat       0.15      0.07      0.10        29\n",
      "                     Nebbiolo       0.70      0.78      0.74       557\n",
      "            Nerello Mascalese       0.41      0.23      0.29        31\n",
      "                 Nero d'Avola       0.78      0.57      0.66        67\n",
      "                 Petit Verdot       0.57      0.20      0.29        61\n",
      "                  Pinot Blanc       0.80      0.42      0.55       118\n",
      "                 Pinot Grigio       0.60      0.53      0.56       512\n",
      "                   Pinot Nero       0.69      0.33      0.45        33\n",
      "                   Pinot Noir       0.68      0.84      0.75      2842\n",
      "                     Pinotage       0.63      0.44      0.52        27\n",
      "                         Port       0.74      0.60      0.66       111\n",
      "               Portuguese Red       0.61      0.70      0.65       481\n",
      "             Portuguese White       0.68      0.52      0.59       220\n",
      "                    Primitivo       0.61      0.58      0.60       628\n",
      "                     Prosecco       0.81      0.74      0.77        39\n",
      "                    Red Blend       0.62      0.61      0.62      1823\n",
      "        Rhône-style Red Blend       0.65      0.53      0.58       334\n",
      "      Rhône-style White Blend       0.72      0.69      0.71       103\n",
      "                     Riesling       0.77      0.85      0.81      1075\n",
      "                         Rosé       0.67      0.74      0.70       775\n",
      "                    Roussanne       0.65      0.42      0.51        36\n",
      "                   Sagrantino       0.78      0.33      0.47        21\n",
      "                   Sangiovese       0.61      0.50      0.55       526\n",
      "            Sangiovese Grosso       0.80      0.79      0.80       109\n",
      "                    Sauvignon       0.74      0.74      0.74        62\n",
      "              Sauvignon Blanc       0.65      0.70      0.67      1038\n",
      "                       Sherry       0.80      0.57      0.67        21\n",
      "                       Shiraz       0.60      0.61      0.60      1206\n",
      "              Sparkling Blend       0.70      0.66      0.68       471\n",
      "                     Sémillon       0.17      0.03      0.06        30\n",
      "                       Tannat       0.81      0.50      0.62        34\n",
      "                  Tempranillo       0.45      0.42      0.43       399\n",
      "            Tempranillo Blend       0.23      0.10      0.14       125\n",
      "                Tinta de Toro       0.77      0.47      0.59        36\n",
      "                   Tinto Fino       0.25      0.05      0.08        21\n",
      "                    Torrontés       0.51      0.43      0.47        49\n",
      "             Touriga Nacional       0.56      0.14      0.23        35\n",
      "                     Turbiana       0.29      0.28      0.29        32\n",
      "                      Verdejo       0.64      0.44      0.52        62\n",
      "                   Verdicchio       0.56      0.49      0.52        39\n",
      "                   Vermentino       0.80      0.36      0.50        44\n",
      "                    Vernaccia       0.45      0.29      0.35        31\n",
      "                     Viognier       0.59      0.40      0.48       213\n",
      "                        Viura       0.83      0.43      0.57        23\n",
      "                  White Blend       0.65      0.53      0.59       468\n",
      "                     Zweigelt       0.86      0.49      0.62        37\n",
      "\n",
      "                     accuracy                           0.64     24890\n",
      "                    macro avg       0.61      0.44      0.49     24890\n",
      "                 weighted avg       0.64      0.64      0.63     24890\n",
      "\n"
     ]
    }
   ],
   "source": [
    "print(classification_report(y_testb, predicted))"
   ]
  },
  {
   "cell_type": "markdown",
   "metadata": {},
   "source": [
    "I did not run the CountVectorizer and Logistic Regression with Lasso regularization and multiclass because I did not obtain good results with the other datasets."
   ]
  },
  {
   "cell_type": "markdown",
   "metadata": {},
   "source": [
    "### TFIDFVECTORIZER  AND LOGISTIC REGRESSION "
   ]
  },
  {
   "cell_type": "markdown",
   "metadata": {},
   "source": [
    "I defineded the same model thay worked better in the small dataset. I compared including max_features in the first and including Lasso regularization in the second.\n",
    "The best accuracy is with the Lasso regularization."
   ]
  },
  {
   "cell_type": "code",
   "execution_count": 126,
   "metadata": {},
   "outputs": [],
   "source": [
    "vect = TfidfVectorizer(stop_words='english', sublinear_tf=True, max_features=1000,\n",
    "                             ngram_range = (1,1), strip_accents='unicode')"
   ]
  },
  {
   "cell_type": "code",
   "execution_count": 127,
   "metadata": {},
   "outputs": [
    {
     "name": "stderr",
     "output_type": "stream",
     "text": [
      "[Parallel(n_jobs=2)]: Using backend LokyBackend with 2 concurrent workers.\n",
      "[Parallel(n_jobs=2)]: Done  46 tasks      | elapsed:   13.2s\n",
      "[Parallel(n_jobs=2)]: Done  85 out of  85 | elapsed:   23.8s finished\n"
     ]
    },
    {
     "data": {
      "text/plain": [
       "0.5773804740859783"
      ]
     },
     "execution_count": 127,
     "metadata": {},
     "output_type": "execute_result"
    }
   ],
   "source": [
    "# TfidfVectorizwer and Logistic Regression with Ridge regularization.\n",
    "pipelinev_ridge = Pipeline([\n",
    "    ('vect', vect),\n",
    "    ('cls', LogisticRegression(penalty = 'l2', solver='lbfgs', multi_class='ovr', verbose = 1, n_jobs = 2))\n",
    "])\n",
    "pipelinev_ridge.fit(X_trainb, y_trainb)\n",
    "predictedv_ridge = pipelinev_ridge.predict(X_testb)\n",
    "pipelinev_ridge.score(X_testb, y_testb)"
   ]
  },
  {
   "cell_type": "code",
   "execution_count": 130,
   "metadata": {},
   "outputs": [
    {
     "name": "stdout",
     "output_type": "stream",
     "text": [
      "                               precision    recall  f1-score   support\n",
      "\n",
      "                    Aglianico       0.00      0.00      0.00        66\n",
      "                     Albariño       0.39      0.12      0.18       130\n",
      "                      Barbera       0.50      0.05      0.09       135\n",
      "                Blaufränkisch       0.62      0.11      0.19        45\n",
      "                      Bonarda       0.00      0.00      0.00        21\n",
      "     Bordeaux-style Red Blend       0.58      0.65      0.61      1189\n",
      "   Bordeaux-style White Blend       0.51      0.15      0.23       154\n",
      "               Cabernet Franc       0.75      0.28      0.41       282\n",
      "           Cabernet Sauvignon       0.53      0.70      0.60      2001\n",
      "    Cabernet Sauvignon-Merlot       0.00      0.00      0.00        25\n",
      "    Cabernet Sauvignon-Shiraz       0.00      0.00      0.00        21\n",
      "                    Carmenère       0.40      0.19      0.26       122\n",
      "              Champagne Blend       0.71      0.42      0.53       279\n",
      "                   Chardonnay       0.58      0.88      0.70      2373\n",
      "                 Chenin Blanc       0.65      0.10      0.17       114\n",
      "Corvina, Rondinella, Molinara       0.41      0.20      0.27        91\n",
      "                     Dolcetto       0.00      0.00      0.00        33\n",
      "                   Falanghina       0.00      0.00      0.00        21\n",
      "                        Fiano       0.78      0.23      0.35        31\n",
      "                     Friulano       0.00      0.00      0.00        23\n",
      "                        G-S-M       0.00      0.00      0.00        42\n",
      "                        Gamay       0.63      0.33      0.44       201\n",
      "                    Garganega       0.00      0.00      0.00        41\n",
      "                     Garnacha       0.52      0.09      0.15       253\n",
      "               Gewürztraminer       0.58      0.38      0.46       207\n",
      "                        Glera       0.59      0.58      0.58       113\n",
      "                        Greco       0.00      0.00      0.00        24\n",
      "                       Grillo       0.00      0.00      0.00        25\n",
      "             Grüner Veltliner       0.74      0.57      0.64       246\n",
      "                       Malbec       0.51      0.41      0.46       561\n",
      "                Malbec-Merlot       0.00      0.00      0.00        21\n",
      "                        Melon       1.00      0.04      0.09        45\n",
      "                       Mencía       0.00      0.00      0.00        38\n",
      "                     Meritage       0.00      0.00      0.00        53\n",
      "                       Merlot       0.68      0.35      0.46       637\n",
      "                   Monastrell       0.00      0.00      0.00        31\n",
      "                Montepulciano       0.00      0.00      0.00        47\n",
      "                      Moscato       0.39      0.14      0.21        64\n",
      "                    Mourvèdre       1.00      0.02      0.04        51\n",
      "                       Muscat       0.00      0.00      0.00        29\n",
      "                     Nebbiolo       0.60      0.71      0.65       557\n",
      "            Nerello Mascalese       0.00      0.00      0.00        31\n",
      "                 Nero d'Avola       0.89      0.48      0.62        67\n",
      "                 Petit Verdot       1.00      0.10      0.18        61\n",
      "                  Pinot Blanc       0.67      0.17      0.27       118\n",
      "                 Pinot Grigio       0.56      0.45      0.50       512\n",
      "                   Pinot Nero       1.00      0.09      0.17        33\n",
      "                   Pinot Noir       0.59      0.84      0.69      2842\n",
      "                     Pinotage       0.00      0.00      0.00        27\n",
      "                         Port       0.59      0.22      0.32       111\n",
      "               Portuguese Red       0.55      0.62      0.58       481\n",
      "             Portuguese White       0.45      0.31      0.37       220\n",
      "                    Primitivo       0.62      0.53      0.57       628\n",
      "                     Prosecco       0.71      0.44      0.54        39\n",
      "                    Red Blend       0.56      0.60      0.58      1823\n",
      "        Rhône-style Red Blend       0.65      0.48      0.55       334\n",
      "      Rhône-style White Blend       0.71      0.54      0.62       103\n",
      "                     Riesling       0.69      0.84      0.76      1075\n",
      "                         Rosé       0.62      0.73      0.67       775\n",
      "                    Roussanne       1.00      0.03      0.05        36\n",
      "                   Sagrantino       0.00      0.00      0.00        21\n",
      "                   Sangiovese       0.56      0.36      0.44       526\n",
      "            Sangiovese Grosso       0.37      0.36      0.36       109\n",
      "                    Sauvignon       0.73      0.52      0.60        62\n",
      "              Sauvignon Blanc       0.57      0.67      0.61      1038\n",
      "                       Sherry       1.00      0.05      0.09        21\n",
      "                       Shiraz       0.55      0.59      0.57      1206\n",
      "              Sparkling Blend       0.61      0.54      0.57       471\n",
      "                     Sémillon       0.00      0.00      0.00        30\n",
      "                       Tannat       0.00      0.00      0.00        34\n",
      "                  Tempranillo       0.37      0.36      0.36       399\n",
      "            Tempranillo Blend       0.21      0.03      0.06       125\n",
      "                Tinta de Toro       0.00      0.00      0.00        36\n",
      "                   Tinto Fino       0.00      0.00      0.00        21\n",
      "                    Torrontés       0.53      0.39      0.45        49\n",
      "             Touriga Nacional       0.00      0.00      0.00        35\n",
      "                     Turbiana       0.27      0.09      0.14        32\n",
      "                      Verdejo       0.40      0.06      0.11        62\n",
      "                   Verdicchio       0.44      0.21      0.28        39\n",
      "                   Vermentino       0.00      0.00      0.00        44\n",
      "                    Vernaccia       0.25      0.13      0.17        31\n",
      "                     Viognier       0.74      0.34      0.46       213\n",
      "                        Viura       0.00      0.00      0.00        23\n",
      "                  White Blend       0.54      0.46      0.50       468\n",
      "                     Zweigelt       0.75      0.08      0.15        37\n",
      "\n",
      "                     accuracy                           0.58     24890\n",
      "                    macro avg       0.42      0.24      0.27     24890\n",
      "                 weighted avg       0.56      0.58      0.54     24890\n",
      "\n"
     ]
    }
   ],
   "source": [
    "print(classification_report(y_testb, predictedv_ridge))"
   ]
  },
  {
   "cell_type": "code",
   "execution_count": 128,
   "metadata": {
    "scrolled": true
   },
   "outputs": [
    {
     "name": "stderr",
     "output_type": "stream",
     "text": [
      "[Parallel(n_jobs=2)]: Using backend ThreadingBackend with 2 concurrent workers.\n"
     ]
    },
    {
     "name": "stdout",
     "output_type": "stream",
     "text": [
      "max_iter reached after 10 seconds\n"
     ]
    },
    {
     "name": "stderr",
     "output_type": "stream",
     "text": [
      "/Users/Mariagimenoperez/anaconda3/lib/python3.6/site-packages/sklearn/linear_model/sag.py:337: ConvergenceWarning: The max_iter was reached which means the coef_ did not converge\n",
      "  \"the coef_ did not converge\", ConvergenceWarning)\n"
     ]
    },
    {
     "name": "stdout",
     "output_type": "stream",
     "text": [
      "max_iter reached after 13 seconds\n",
      "max_iter reached after 9 seconds\n",
      "max_iter reached after 13 seconds\n",
      "max_iter reached after 6 seconds\n",
      "max_iter reached after 13 seconds\n",
      "convergence after 89 epochs took 19 seconds\n",
      "convergence after 38 epochs took 10 seconds\n",
      "max_iter reached after 15 seconds\n",
      "max_iter reached after 6 seconds\n",
      "max_iter reached after 6 seconds\n",
      "max_iter reached after 13 seconds\n",
      "max_iter reached after 17 seconds\n",
      "convergence after 35 epochs took 9 seconds\n",
      "max_iter reached after 11 seconds\n",
      "max_iter reached after 13 seconds\n",
      "max_iter reached after 8 seconds\n",
      "max_iter reached after 7 seconds\n",
      "max_iter reached after 7 seconds\n",
      "max_iter reached after 7 seconds\n",
      "max_iter reached after 6 seconds\n",
      "max_iter reached after 13 seconds\n",
      "max_iter reached after 8 seconds\n",
      "convergence after 30 epochs took 4 seconds\n",
      "convergence after 76 epochs took 11 seconds\n",
      "max_iter reached after 11 seconds\n",
      "max_iter reached after 6 seconds\n",
      "max_iter reached after 7 seconds\n",
      "convergence after 78 epochs took 11 seconds\n",
      "max_iter reached after 6 seconds\n",
      "max_iter reached after 20 seconds\n",
      "max_iter reached after 9 seconds\n",
      "max_iter reached after 8 seconds\n",
      "max_iter reached after 7 seconds\n",
      "max_iter reached after 8 seconds\n",
      "convergence after 95 epochs took 17 seconds\n",
      "max_iter reached after 8 seconds\n",
      "max_iter reached after 8 seconds\n",
      "max_iter reached after 8 seconds\n",
      "max_iter reached after 7 seconds\n",
      "convergence after 66 epochs took 11 seconds\n",
      "max_iter reached after 7 seconds\n",
      "max_iter reached after 8 seconds\n",
      "max_iter reached after 8 seconds\n",
      "convergence after 36 epochs took 6 seconds\n",
      "max_iter reached after 10 seconds\n"
     ]
    },
    {
     "name": "stderr",
     "output_type": "stream",
     "text": [
      "[Parallel(n_jobs=2)]: Done  46 tasks      | elapsed:  3.7min\n"
     ]
    },
    {
     "name": "stdout",
     "output_type": "stream",
     "text": [
      "max_iter reached after 8 seconds\n",
      "max_iter reached after 8 seconds\n",
      "max_iter reached after 12 seconds\n",
      "max_iter reached after 29 seconds\n",
      "convergence after 84 epochs took 14 seconds\n",
      "max_iter reached after 13 seconds\n",
      "convergence after 33 epochs took 7 seconds\n",
      "max_iter reached after 7 seconds\n",
      "convergence after 26 epochs took 6 seconds\n",
      "max_iter reached after 9 seconds\n",
      "convergence after 99 epochs took 18 seconds\n",
      "convergence after 44 epochs took 10 seconds\n",
      "max_iter reached after 7 seconds\n",
      "max_iter reached after 7 seconds\n",
      "max_iter reached after 19 seconds\n",
      "convergence after 31 epochs took 5 seconds\n",
      "max_iter reached after 8 seconds\n",
      "max_iter reached after 12 seconds\n",
      "convergence after 34 epochs took 7 seconds\n",
      "max_iter reached after 7 seconds\n",
      "convergence after 34 epochs took 6 seconds\n",
      "convergence after 39 epochs took 9 seconds\n",
      "max_iter reached after 6 seconds\n",
      "max_iter reached after 7 seconds\n",
      "convergence after 49 epochs took 9 seconds\n",
      "max_iter reached after 13 seconds\n",
      "max_iter reached after 8 seconds\n",
      "max_iter reached after 6 seconds\n",
      "max_iter reached after 7 seconds\n",
      "max_iter reached after 7 seconds\n",
      "max_iter reached after 8 seconds\n",
      "max_iter reached after 10 seconds\n",
      "max_iter reached after 7 seconds\n",
      "max_iter reached after 8 seconds\n",
      "max_iter reached after 8 seconds\n",
      "convergence after 54 epochs took 7 seconds\n",
      "max_iter reached after 6 seconds\n",
      "convergence after 40 epochs took 7 seconds\n",
      "max_iter reached after 7 seconds\n"
     ]
    },
    {
     "name": "stderr",
     "output_type": "stream",
     "text": [
      "[Parallel(n_jobs=2)]: Done  85 out of  85 | elapsed:  6.8min finished\n"
     ]
    },
    {
     "data": {
      "text/plain": [
       "0.5838087585375653"
      ]
     },
     "execution_count": 128,
     "metadata": {},
     "output_type": "execute_result"
    }
   ],
   "source": [
    "#TfidVectorizer and Logisitic Regression with max_features = 1000\n",
    "pipelinev = Pipeline([\n",
    "    ('vect', TfidfVectorizer(stop_words='english', sublinear_tf=True, max_features=1000,\n",
    "                             ngram_range = (1,1), strip_accents='unicode')),\n",
    "    ('cls', LogisticRegression(penalty = 'l1', solver='saga', multi_class='ovr', verbose = 1, n_jobs = 2))\n",
    "])\n",
    "pipelinev.fit(X_trainb, y_trainb)\n",
    "predictedv = pipelinev.predict(X_testb)\n",
    "pipelinev.score(X_testb, y_testb)"
   ]
  },
  {
   "cell_type": "code",
   "execution_count": 129,
   "metadata": {},
   "outputs": [
    {
     "name": "stderr",
     "output_type": "stream",
     "text": [
      "/Users/Mariagimenoperez/anaconda3/lib/python3.6/site-packages/sklearn/metrics/classification.py:1437: UndefinedMetricWarning: Precision and F-score are ill-defined and being set to 0.0 in labels with no predicted samples.\n",
      "  'precision', 'predicted', average, warn_for)\n"
     ]
    },
    {
     "name": "stdout",
     "output_type": "stream",
     "text": [
      "                               precision    recall  f1-score   support\n",
      "\n",
      "                    Aglianico       0.40      0.03      0.06        66\n",
      "                     Albariño       0.35      0.13      0.19       130\n",
      "                      Barbera       0.39      0.09      0.14       135\n",
      "                Blaufränkisch       0.64      0.16      0.25        45\n",
      "                      Bonarda       0.00      0.00      0.00        21\n",
      "     Bordeaux-style Red Blend       0.60      0.66      0.63      1189\n",
      "   Bordeaux-style White Blend       0.45      0.21      0.28       154\n",
      "               Cabernet Franc       0.71      0.30      0.42       282\n",
      "           Cabernet Sauvignon       0.54      0.69      0.60      2001\n",
      "    Cabernet Sauvignon-Merlot       0.00      0.00      0.00        25\n",
      "    Cabernet Sauvignon-Shiraz       0.00      0.00      0.00        21\n",
      "                    Carmenère       0.43      0.24      0.31       122\n",
      "              Champagne Blend       0.68      0.45      0.54       279\n",
      "                   Chardonnay       0.60      0.87      0.71      2373\n",
      "                 Chenin Blanc       0.57      0.15      0.24       114\n",
      "Corvina, Rondinella, Molinara       0.39      0.26      0.32        91\n",
      "                     Dolcetto       0.00      0.00      0.00        33\n",
      "                   Falanghina       0.67      0.10      0.17        21\n",
      "                        Fiano       0.58      0.35      0.44        31\n",
      "                     Friulano       0.25      0.09      0.13        23\n",
      "                        G-S-M       0.00      0.00      0.00        42\n",
      "                        Gamay       0.58      0.37      0.45       201\n",
      "                    Garganega       0.29      0.05      0.08        41\n",
      "                     Garnacha       0.46      0.11      0.18       253\n",
      "               Gewürztraminer       0.56      0.41      0.47       207\n",
      "                        Glera       0.60      0.59      0.60       113\n",
      "                        Greco       0.25      0.04      0.07        24\n",
      "                       Grillo       0.00      0.00      0.00        25\n",
      "             Grüner Veltliner       0.68      0.56      0.61       246\n",
      "                       Malbec       0.51      0.43      0.46       561\n",
      "                Malbec-Merlot       0.00      0.00      0.00        21\n",
      "                        Melon       0.75      0.07      0.12        45\n",
      "                       Mencía       0.00      0.00      0.00        38\n",
      "                     Meritage       0.00      0.00      0.00        53\n",
      "                       Merlot       0.66      0.35      0.46       637\n",
      "                   Monastrell       0.00      0.00      0.00        31\n",
      "                Montepulciano       0.33      0.02      0.04        47\n",
      "                      Moscato       0.31      0.16      0.21        64\n",
      "                    Mourvèdre       0.73      0.16      0.26        51\n",
      "                       Muscat       0.00      0.00      0.00        29\n",
      "                     Nebbiolo       0.59      0.72      0.65       557\n",
      "            Nerello Mascalese       0.33      0.03      0.06        31\n",
      "                 Nero d'Avola       0.77      0.54      0.63        67\n",
      "                 Petit Verdot       0.92      0.18      0.30        61\n",
      "                  Pinot Blanc       0.68      0.27      0.39       118\n",
      "                 Pinot Grigio       0.58      0.46      0.51       512\n",
      "                   Pinot Nero       0.71      0.15      0.25        33\n",
      "                   Pinot Noir       0.60      0.83      0.70      2842\n",
      "                     Pinotage       0.20      0.07      0.11        27\n",
      "                         Port       0.53      0.28      0.36       111\n",
      "               Portuguese Red       0.55      0.62      0.59       481\n",
      "             Portuguese White       0.45      0.35      0.39       220\n",
      "                    Primitivo       0.60      0.53      0.56       628\n",
      "                     Prosecco       0.50      0.46      0.48        39\n",
      "                    Red Blend       0.57      0.59      0.58      1823\n",
      "        Rhône-style Red Blend       0.62      0.48      0.54       334\n",
      "      Rhône-style White Blend       0.70      0.59      0.64       103\n",
      "                     Riesling       0.71      0.84      0.77      1075\n",
      "                         Rosé       0.64      0.73      0.68       775\n",
      "                    Roussanne       0.80      0.33      0.47        36\n",
      "                   Sagrantino       0.50      0.05      0.09        21\n",
      "                   Sangiovese       0.55      0.37      0.44       526\n",
      "            Sangiovese Grosso       0.39      0.40      0.39       109\n",
      "                    Sauvignon       0.75      0.58      0.65        62\n",
      "              Sauvignon Blanc       0.57      0.66      0.62      1038\n",
      "                       Sherry       0.71      0.24      0.36        21\n",
      "                       Shiraz       0.56      0.58      0.57      1206\n",
      "              Sparkling Blend       0.61      0.55      0.58       471\n",
      "                     Sémillon       0.00      0.00      0.00        30\n",
      "                       Tannat       0.00      0.00      0.00        34\n",
      "                  Tempranillo       0.36      0.37      0.36       399\n",
      "            Tempranillo Blend       0.23      0.07      0.11       125\n",
      "                Tinta de Toro       0.00      0.00      0.00        36\n",
      "                   Tinto Fino       0.00      0.00      0.00        21\n",
      "                    Torrontés       0.43      0.39      0.41        49\n",
      "             Touriga Nacional       0.67      0.11      0.20        35\n",
      "                     Turbiana       0.29      0.16      0.20        32\n",
      "                      Verdejo       0.29      0.06      0.11        62\n",
      "                   Verdicchio       0.33      0.26      0.29        39\n",
      "                   Vermentino       0.33      0.05      0.08        44\n",
      "                    Vernaccia       0.24      0.13      0.17        31\n",
      "                     Viognier       0.69      0.34      0.46       213\n",
      "                        Viura       0.00      0.00      0.00        23\n",
      "                  White Blend       0.58      0.49      0.53       468\n",
      "                     Zweigelt       0.78      0.19      0.30        37\n",
      "\n",
      "                     accuracy                           0.58     24890\n",
      "                    macro avg       0.43      0.27      0.31     24890\n",
      "                 weighted avg       0.57      0.58      0.56     24890\n",
      "\n"
     ]
    }
   ],
   "source": [
    "print(classification_report(y_testb, predictedv))"
   ]
  },
  {
   "cell_type": "markdown",
   "metadata": {},
   "source": [
    "I am not going to run TfidVectorizer and Logisitic Regression without max_features = 1000 and include Lasso regularization because in the other datasets it was not so good as the others\n"
   ]
  },
  {
   "cell_type": "markdown",
   "metadata": {},
   "source": [
    "### RANDOM FOREST CLASSIFIER WITH COUNTVECTORIZER AND TFIDVECTORIZER \n",
    "\n",
    "\n",
    "\n",
    "Logistic Regression performs better than Random Forest Classifier in this data set, with higher accuracy.\n",
    "\n",
    "The best performed model was Random Forest with TfidVectorizer.\n",
    "\n",
    "All of the models have better scores than the baseline\n"
   ]
  },
  {
   "cell_type": "code",
   "execution_count": 132,
   "metadata": {},
   "outputs": [
    {
     "data": {
      "text/plain": [
       "0.5511852149457613"
      ]
     },
     "execution_count": 132,
     "metadata": {},
     "output_type": "execute_result"
    }
   ],
   "source": [
    "# Random Forest with CountVectorizer and 1000 max_features\n",
    "cvecbr = CountVectorizer(strip_accents='unicode', stop_words=\"english\", ngram_range=(1, 1),  max_features=1000)\n",
    "pipelinebr1 = Pipeline([\n",
    "    ('vect', cvecbr),\n",
    "    ('cls', RandomForestClassifier(n_estimators=200, n_jobs = 2))\n",
    "])\n",
    "pipelinebr1.fit(X_trainb, y_trainb)\n",
    "predictedbr1 = pipelinebr1.predict(X_testb)\n",
    "pipelinebr1.score(X_testb, y_testb)"
   ]
  },
  {
   "cell_type": "code",
   "execution_count": 134,
   "metadata": {},
   "outputs": [
    {
     "data": {
      "text/plain": [
       "0.5655685014061872"
      ]
     },
     "execution_count": 134,
     "metadata": {},
     "output_type": "execute_result"
    }
   ],
   "source": [
    "# Random Forest with CountVectorizer\n",
    "cvecbr = CountVectorizer(strip_accents='unicode', stop_words=\"english\", ngram_range=(1, 1))\n",
    "pipelinebr2 = Pipeline([\n",
    "    ('vect', cvecbr),\n",
    "    ('cls', RandomForestClassifier(n_estimators=200, n_jobs = 2))\n",
    "])\n",
    "pipelinebr2.fit(X_trainb, y_trainb)\n",
    "predictedbr2 = pipelinebr2.predict(X_testb)\n",
    "pipelinebr2.score(X_testb, y_testb)"
   ]
  },
  {
   "cell_type": "code",
   "execution_count": 135,
   "metadata": {},
   "outputs": [
    {
     "name": "stderr",
     "output_type": "stream",
     "text": [
      "/Users/Mariagimenoperez/anaconda3/lib/python3.6/site-packages/sklearn/metrics/classification.py:1437: UndefinedMetricWarning: Precision and F-score are ill-defined and being set to 0.0 in labels with no predicted samples.\n",
      "  'precision', 'predicted', average, warn_for)\n"
     ]
    },
    {
     "name": "stdout",
     "output_type": "stream",
     "text": [
      "                               precision    recall  f1-score   support\n",
      "\n",
      "                    Aglianico       1.00      0.02      0.03        66\n",
      "                     Albariño       0.95      0.16      0.28       130\n",
      "                      Barbera       0.92      0.24      0.39       135\n",
      "                Blaufränkisch       0.00      0.00      0.00        45\n",
      "                      Bonarda       0.00      0.00      0.00        21\n",
      "     Bordeaux-style Red Blend       0.51      0.73      0.60      1189\n",
      "   Bordeaux-style White Blend       0.88      0.14      0.24       154\n",
      "               Cabernet Franc       0.92      0.08      0.15       282\n",
      "           Cabernet Sauvignon       0.44      0.76      0.56      2001\n",
      "    Cabernet Sauvignon-Merlot       0.00      0.00      0.00        25\n",
      "    Cabernet Sauvignon-Shiraz       0.00      0.00      0.00        21\n",
      "                    Carmenère       1.00      0.20      0.33       122\n",
      "              Champagne Blend       0.83      0.30      0.45       279\n",
      "                   Chardonnay       0.47      0.95      0.63      2373\n",
      "                 Chenin Blanc       0.91      0.09      0.16       114\n",
      "Corvina, Rondinella, Molinara       0.93      0.30      0.45        91\n",
      "                     Dolcetto       1.00      0.18      0.31        33\n",
      "                   Falanghina       1.00      0.05      0.09        21\n",
      "                        Fiano       0.00      0.00      0.00        31\n",
      "                     Friulano       1.00      0.13      0.23        23\n",
      "                        G-S-M       0.00      0.00      0.00        42\n",
      "                        Gamay       0.84      0.19      0.31       201\n",
      "                    Garganega       0.88      0.17      0.29        41\n",
      "                     Garnacha       0.94      0.07      0.13       253\n",
      "               Gewürztraminer       0.89      0.36      0.52       207\n",
      "                        Glera       0.64      0.59      0.61       113\n",
      "                        Greco       0.00      0.00      0.00        24\n",
      "                       Grillo       0.00      0.00      0.00        25\n",
      "             Grüner Veltliner       0.84      0.49      0.62       246\n",
      "                       Malbec       0.58      0.35      0.44       561\n",
      "                Malbec-Merlot       0.00      0.00      0.00        21\n",
      "                        Melon       0.00      0.00      0.00        45\n",
      "                       Mencía       1.00      0.05      0.10        38\n",
      "                     Meritage       0.00      0.00      0.00        53\n",
      "                       Merlot       0.83      0.29      0.43       637\n",
      "                   Monastrell       1.00      0.03      0.06        31\n",
      "                Montepulciano       1.00      0.02      0.04        47\n",
      "                      Moscato       0.79      0.17      0.28        64\n",
      "                    Mourvèdre       0.00      0.00      0.00        51\n",
      "                       Muscat       0.00      0.00      0.00        29\n",
      "                     Nebbiolo       0.60      0.78      0.68       557\n",
      "            Nerello Mascalese       0.00      0.00      0.00        31\n",
      "                 Nero d'Avola       0.96      0.36      0.52        67\n",
      "                 Petit Verdot       0.00      0.00      0.00        61\n",
      "                  Pinot Blanc       0.60      0.05      0.09       118\n",
      "                 Pinot Grigio       0.66      0.39      0.49       512\n",
      "                   Pinot Nero       0.00      0.00      0.00        33\n",
      "                   Pinot Noir       0.55      0.86      0.67      2842\n",
      "                     Pinotage       0.00      0.00      0.00        27\n",
      "                         Port       1.00      0.19      0.32       111\n",
      "               Portuguese Red       0.72      0.47      0.57       481\n",
      "             Portuguese White       0.77      0.32      0.46       220\n",
      "                    Primitivo       0.85      0.42      0.56       628\n",
      "                     Prosecco       1.00      0.33      0.50        39\n",
      "                    Red Blend       0.57      0.63      0.60      1823\n",
      "        Rhône-style Red Blend       0.72      0.41      0.52       334\n",
      "      Rhône-style White Blend       0.84      0.55      0.67       103\n",
      "                     Riesling       0.73      0.81      0.77      1075\n",
      "                         Rosé       0.63      0.70      0.66       775\n",
      "                    Roussanne       0.00      0.00      0.00        36\n",
      "                   Sagrantino       0.00      0.00      0.00        21\n",
      "                   Sangiovese       0.66      0.22      0.33       526\n",
      "            Sangiovese Grosso       0.91      0.56      0.69       109\n",
      "                    Sauvignon       0.77      0.44      0.56        62\n",
      "              Sauvignon Blanc       0.62      0.60      0.61      1038\n",
      "                       Sherry       0.00      0.00      0.00        21\n",
      "                       Shiraz       0.70      0.50      0.59      1206\n",
      "              Sparkling Blend       0.74      0.46      0.57       471\n",
      "                     Sémillon       0.00      0.00      0.00        30\n",
      "                       Tannat       0.00      0.00      0.00        34\n",
      "                  Tempranillo       0.48      0.22      0.30       399\n",
      "            Tempranillo Blend       0.00      0.00      0.00       125\n",
      "                Tinta de Toro       1.00      0.03      0.05        36\n",
      "                   Tinto Fino       0.00      0.00      0.00        21\n",
      "                    Torrontés       0.71      0.20      0.32        49\n",
      "             Touriga Nacional       1.00      0.03      0.06        35\n",
      "                     Turbiana       0.25      0.06      0.10        32\n",
      "                      Verdejo       1.00      0.15      0.25        62\n",
      "                   Verdicchio       0.60      0.15      0.24        39\n",
      "                   Vermentino       0.67      0.09      0.16        44\n",
      "                    Vernaccia       0.40      0.06      0.11        31\n",
      "                     Viognier       0.92      0.17      0.29       213\n",
      "                        Viura       0.00      0.00      0.00        23\n",
      "                  White Blend       0.71      0.39      0.50       468\n",
      "                     Zweigelt       1.00      0.03      0.05        37\n",
      "\n",
      "                     accuracy                           0.57     24890\n",
      "                    macro avg       0.56      0.22      0.27     24890\n",
      "                 weighted avg       0.62      0.57      0.53     24890\n",
      "\n"
     ]
    }
   ],
   "source": [
    "print(classification_report(y_testb, predictedbr2))"
   ]
  },
  {
   "cell_type": "code",
   "execution_count": 136,
   "metadata": {},
   "outputs": [
    {
     "data": {
      "text/plain": [
       "0.5640417838489353"
      ]
     },
     "execution_count": 136,
     "metadata": {},
     "output_type": "execute_result"
    }
   ],
   "source": [
    "# Random Forest with TdfidVectorizer\n",
    "pipelinebr3 = Pipeline([\n",
    "    ('vect', TfidfVectorizer(stop_words='english', sublinear_tf=True,\n",
    "                             ngram_range = (1,1), strip_accents='unicode')),\n",
    "    \n",
    "    ('cls', RandomForestClassifier(n_estimators=200, n_jobs = 2))\n",
    "])\n",
    "pipelinebr3.fit(X_trainb, y_trainb)\n",
    "predictedbr3 = pipelinebr3.predict(X_testb)\n",
    "pipelinebr3.score(X_testb, y_testb)"
   ]
  },
  {
   "cell_type": "code",
   "execution_count": 138,
   "metadata": {},
   "outputs": [
    {
     "name": "stderr",
     "output_type": "stream",
     "text": [
      "/Users/Mariagimenoperez/anaconda3/lib/python3.6/site-packages/sklearn/metrics/classification.py:1437: UndefinedMetricWarning: Precision and F-score are ill-defined and being set to 0.0 in labels with no predicted samples.\n",
      "  'precision', 'predicted', average, warn_for)\n"
     ]
    },
    {
     "name": "stdout",
     "output_type": "stream",
     "text": [
      "                               precision    recall  f1-score   support\n",
      "\n",
      "                    Aglianico       1.00      0.02      0.03        66\n",
      "                     Albariño       0.96      0.17      0.29       130\n",
      "                      Barbera       0.94      0.23      0.37       135\n",
      "                Blaufränkisch       0.00      0.00      0.00        45\n",
      "                      Bonarda       0.00      0.00      0.00        21\n",
      "     Bordeaux-style Red Blend       0.53      0.72      0.61      1189\n",
      "   Bordeaux-style White Blend       0.76      0.10      0.18       154\n",
      "               Cabernet Franc       0.95      0.06      0.12       282\n",
      "           Cabernet Sauvignon       0.45      0.75      0.56      2001\n",
      "    Cabernet Sauvignon-Merlot       0.00      0.00      0.00        25\n",
      "    Cabernet Sauvignon-Shiraz       0.00      0.00      0.00        21\n",
      "                    Carmenère       1.00      0.21      0.35       122\n",
      "              Champagne Blend       0.82      0.29      0.43       279\n",
      "                   Chardonnay       0.47      0.95      0.63      2373\n",
      "                 Chenin Blanc       0.86      0.05      0.10       114\n",
      "Corvina, Rondinella, Molinara       0.96      0.29      0.44        91\n",
      "                     Dolcetto       1.00      0.12      0.22        33\n",
      "                   Falanghina       1.00      0.05      0.09        21\n",
      "                        Fiano       0.00      0.00      0.00        31\n",
      "                     Friulano       0.25      0.04      0.07        23\n",
      "                        G-S-M       0.00      0.00      0.00        42\n",
      "                        Gamay       0.82      0.16      0.27       201\n",
      "                    Garganega       0.88      0.17      0.29        41\n",
      "                     Garnacha       1.00      0.08      0.14       253\n",
      "               Gewürztraminer       0.92      0.33      0.48       207\n",
      "                        Glera       0.64      0.59      0.62       113\n",
      "                        Greco       0.00      0.00      0.00        24\n",
      "                       Grillo       0.00      0.00      0.00        25\n",
      "             Grüner Veltliner       0.82      0.49      0.61       246\n",
      "                       Malbec       0.58      0.35      0.43       561\n",
      "                Malbec-Merlot       0.00      0.00      0.00        21\n",
      "                        Melon       1.00      0.02      0.04        45\n",
      "                       Mencía       1.00      0.05      0.10        38\n",
      "                     Meritage       0.00      0.00      0.00        53\n",
      "                       Merlot       0.86      0.29      0.44       637\n",
      "                   Monastrell       1.00      0.03      0.06        31\n",
      "                Montepulciano       1.00      0.02      0.04        47\n",
      "                      Moscato       0.77      0.16      0.26        64\n",
      "                    Mourvèdre       0.00      0.00      0.00        51\n",
      "                       Muscat       0.00      0.00      0.00        29\n",
      "                     Nebbiolo       0.64      0.77      0.70       557\n",
      "            Nerello Mascalese       0.00      0.00      0.00        31\n",
      "                 Nero d'Avola       0.92      0.36      0.52        67\n",
      "                 Petit Verdot       0.00      0.00      0.00        61\n",
      "                  Pinot Blanc       0.75      0.08      0.14       118\n",
      "                 Pinot Grigio       0.69      0.37      0.48       512\n",
      "                   Pinot Nero       1.00      0.03      0.06        33\n",
      "                   Pinot Noir       0.52      0.88      0.65      2842\n",
      "                     Pinotage       0.00      0.00      0.00        27\n",
      "                         Port       1.00      0.21      0.34       111\n",
      "               Portuguese Red       0.66      0.46      0.54       481\n",
      "             Portuguese White       0.81      0.32      0.46       220\n",
      "                    Primitivo       0.81      0.40      0.53       628\n",
      "                     Prosecco       0.86      0.31      0.45        39\n",
      "                    Red Blend       0.56      0.61      0.59      1823\n",
      "        Rhône-style Red Blend       0.72      0.40      0.52       334\n",
      "      Rhône-style White Blend       0.82      0.54      0.65       103\n",
      "                     Riesling       0.71      0.83      0.76      1075\n",
      "                         Rosé       0.64      0.70      0.67       775\n",
      "                    Roussanne       1.00      0.03      0.05        36\n",
      "                   Sagrantino       0.00      0.00      0.00        21\n",
      "                   Sangiovese       0.64      0.25      0.36       526\n",
      "            Sangiovese Grosso       0.95      0.56      0.71       109\n",
      "                    Sauvignon       0.73      0.48      0.58        62\n",
      "              Sauvignon Blanc       0.63      0.59      0.61      1038\n",
      "                       Sherry       0.00      0.00      0.00        21\n",
      "                       Shiraz       0.66      0.51      0.57      1206\n",
      "              Sparkling Blend       0.75      0.47      0.58       471\n",
      "                     Sémillon       0.00      0.00      0.00        30\n",
      "                       Tannat       1.00      0.03      0.06        34\n",
      "                  Tempranillo       0.48      0.25      0.33       399\n",
      "            Tempranillo Blend       0.00      0.00      0.00       125\n",
      "                Tinta de Toro       1.00      0.03      0.05        36\n",
      "                   Tinto Fino       0.00      0.00      0.00        21\n",
      "                    Torrontés       0.82      0.18      0.30        49\n",
      "             Touriga Nacional       0.00      0.00      0.00        35\n",
      "                     Turbiana       0.33      0.06      0.11        32\n",
      "                      Verdejo       1.00      0.10      0.18        62\n",
      "                   Verdicchio       0.55      0.15      0.24        39\n",
      "                   Vermentino       1.00      0.05      0.09        44\n",
      "                    Vernaccia       0.40      0.06      0.11        31\n",
      "                     Viognier       0.84      0.15      0.25       213\n",
      "                        Viura       0.00      0.00      0.00        23\n",
      "                  White Blend       0.72      0.41      0.53       468\n",
      "                     Zweigelt       0.00      0.00      0.00        37\n",
      "\n",
      "                     accuracy                           0.56     24890\n",
      "                    macro avg       0.57      0.22      0.26     24890\n",
      "                 weighted avg       0.62      0.56      0.52     24890\n",
      "\n"
     ]
    }
   ],
   "source": [
    "print(classification_report(y_testb, predictedbr3))"
   ]
  },
  {
   "cell_type": "markdown",
   "metadata": {},
   "source": [
    "### NATIVE BAYES, COUNTVECTORIZER AND TFDFVECTORIZER\n",
    "\n",
    "As it happend in the small set the best acurracy I got in MultinomialNB with CountVectorizer. \n",
    "\n",
    "All of the models have better scores than the baseline."
   ]
  },
  {
   "cell_type": "code",
   "execution_count": 139,
   "metadata": {},
   "outputs": [],
   "source": [
    "vect = CountVectorizer(ngram_range=(1, 1), strip_accents='unicode', stop_words='english')"
   ]
  },
  {
   "cell_type": "code",
   "execution_count": 140,
   "metadata": {},
   "outputs": [
    {
     "data": {
      "text/plain": [
       "0.40020088388911207"
      ]
     },
     "execution_count": 140,
     "metadata": {},
     "output_type": "execute_result"
    }
   ],
   "source": [
    "# MultinomialNB with CountVectorizer\n",
    "pipelinebn = Pipeline([\n",
    "    ('vect', vect),\n",
    "    ('tfidf', TfidfTransformer()),\n",
    "    ('cls', MultinomialNB())\n",
    "])\n",
    "pipelinebn.fit(X_trainb, y_trainb)\n",
    "predictedbn = pipelinebn.predict(X_testb)\n",
    "pipelinebn.score(X_testb, y_testb)"
   ]
  },
  {
   "cell_type": "code",
   "execution_count": null,
   "metadata": {},
   "outputs": [],
   "source": [
    "print(classification_report(y_testb, predictedbn))"
   ]
  },
  {
   "cell_type": "code",
   "execution_count": 141,
   "metadata": {},
   "outputs": [
    {
     "data": {
      "text/plain": [
       "0.5276014463640016"
      ]
     },
     "execution_count": 141,
     "metadata": {},
     "output_type": "execute_result"
    }
   ],
   "source": [
    "# MultinomialNB with CountVectorizer\n",
    "pipelinebn1 = Pipeline([\n",
    "    ('vect', vect),\n",
    "    ('cls', MultinomialNB())\n",
    "])\n",
    "pipelinebn1.fit(X_trainb, y_trainb)\n",
    "predictedbn1 = pipelinebn1.predict(X_testb)\n",
    "pipelinebn1.score(X_testb, y_testb)"
   ]
  },
  {
   "cell_type": "code",
   "execution_count": 142,
   "metadata": {},
   "outputs": [
    {
     "data": {
      "text/plain": [
       "0.5020891924467658"
      ]
     },
     "execution_count": 142,
     "metadata": {},
     "output_type": "execute_result"
    }
   ],
   "source": [
    "# BernoulliNB\n",
    "pipelinebn2 = Pipeline([\n",
    "    ('vect', vect),\n",
    "    ('cls', BernoulliNB())\n",
    "])\n",
    "pipelinebn2.fit(X_trainb, y_trainb)\n",
    "predictedbn2 = pipelinebn2.predict(X_testb)\n",
    "pipelinebn2.score(X_testb, y_testb)"
   ]
  },
  {
   "cell_type": "code",
   "execution_count": 143,
   "metadata": {},
   "outputs": [],
   "source": [
    "vect1 = TfidfVectorizer(stop_words='english', sublinear_tf=True,\n",
    "                             ngram_range = (1,1), strip_accents='unicode')"
   ]
  },
  {
   "cell_type": "code",
   "execution_count": 144,
   "metadata": {},
   "outputs": [
    {
     "data": {
      "text/plain": [
       "0.4001205303334673"
      ]
     },
     "execution_count": 144,
     "metadata": {},
     "output_type": "execute_result"
    }
   ],
   "source": [
    "# MultinomialNB with  TdidfVectorizer\n",
    "pipelinebn3 = Pipeline([\n",
    "    ('vect',vect1) ,\n",
    "    ('cls', MultinomialNB())\n",
    "])\n",
    "pipelinebn3.fit(X_trainb, y_trainb)\n",
    "predictedbn3 = pipelinebn3.predict(X_testb)\n",
    "pipelinebn3.score(X_testb, y_testb)"
   ]
  },
  {
   "cell_type": "code",
   "execution_count": 146,
   "metadata": {},
   "outputs": [
    {
     "data": {
      "text/plain": [
       "0.5020891924467658"
      ]
     },
     "execution_count": 146,
     "metadata": {},
     "output_type": "execute_result"
    }
   ],
   "source": [
    "# BernoulliNB\n",
    "pipelinebn4 = Pipeline([\n",
    "    ('vect', vect1),\n",
    "    ('cls', BernoulliNB())\n",
    "])\n",
    "pipelinebn4.fit(X_trainb, y_trainb)\n",
    "predictedbn4 = pipelinebn4.predict(X_testb)\n",
    "pipelinebn4.score(X_testb, y_testb)"
   ]
  },
  {
   "cell_type": "markdown",
   "metadata": {},
   "source": [
    "## Conclusion:\n",
    "The best acurracy I obtained in this dataset has been in Logistic Regression and CountVectorizer with Lasso Regularization and  multi_class 'ovr'. The dataset with the reduction of the number of varieties performs better in all of the training models."
   ]
  }
 ],
 "metadata": {
  "kernelspec": {
   "display_name": "Python 3",
   "language": "python",
   "name": "python3"
  },
  "language_info": {
   "codemirror_mode": {
    "name": "ipython",
    "version": 3
   },
   "file_extension": ".py",
   "mimetype": "text/x-python",
   "name": "python",
   "nbconvert_exporter": "python",
   "pygments_lexer": "ipython3",
   "version": "3.6.8"
  }
 },
 "nbformat": 4,
 "nbformat_minor": 2
}
