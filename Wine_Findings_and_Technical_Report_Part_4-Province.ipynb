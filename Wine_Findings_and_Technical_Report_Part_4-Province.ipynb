{
 "cells": [
  {
   "cell_type": "markdown",
   "metadata": {},
   "source": [
    "# CAPSTONE - FINDINGS AND TECHNICAL REPORT WINE BLIND TASTING (PROVINCE)"
   ]
  },
  {
   "cell_type": "markdown",
   "metadata": {},
   "source": [
    "I have built classification models that, based on a wine description given by an expert or semi-expert, are able to tell what province was come from that wine.\n",
    "The models I am using are the same that I described in the country jupyter notebook"
   ]
  },
  {
   "cell_type": "code",
   "execution_count": 1,
   "metadata": {},
   "outputs": [],
   "source": [
    "import pandas as pd\n",
    "import numpy as np\n",
    "import matplotlib.pyplot as plt\n",
    "import seaborn as sns\n",
    "from sklearn.model_selection import train_test_split\n",
    "from sklearn.feature_extraction.text import CountVectorizer, TfidfTransformer, TfidfVectorizer\n",
    "from sklearn.model_selection import train_test_split, cross_val_score, GridSearchCV\n",
    "from sklearn.metrics import confusion_matrix, classification_report\n",
    "from sklearn.naive_bayes import MultinomialNB, BernoulliNB, GaussianNB\n",
    "from sklearn.linear_model import LogisticRegression\n",
    "from sklearn.pipeline import Pipeline\n",
    "from sklearn.ensemble import RandomForestClassifier\n",
    "\n",
    "pd.set_option('display.max_columns',500)\n",
    "%config InlineBackend.figure_format = 'retina'\n",
    "%matplotlib inline"
   ]
  },
  {
   "cell_type": "markdown",
   "metadata": {},
   "source": [
    "# SMALL DATASET"
   ]
  },
  {
   "cell_type": "code",
   "execution_count": 2,
   "metadata": {},
   "outputs": [],
   "source": [
    "df = pd.read_csv('small_wineV1.csv', )"
   ]
  },
  {
   "cell_type": "code",
   "execution_count": 3,
   "metadata": {
    "scrolled": true
   },
   "outputs": [
    {
     "data": {
      "text/html": [
       "<div>\n",
       "<style scoped>\n",
       "    .dataframe tbody tr th:only-of-type {\n",
       "        vertical-align: middle;\n",
       "    }\n",
       "\n",
       "    .dataframe tbody tr th {\n",
       "        vertical-align: top;\n",
       "    }\n",
       "\n",
       "    .dataframe thead th {\n",
       "        text-align: right;\n",
       "    }\n",
       "</style>\n",
       "<table border=\"1\" class=\"dataframe\">\n",
       "  <thead>\n",
       "    <tr style=\"text-align: right;\">\n",
       "      <th></th>\n",
       "      <th>country</th>\n",
       "      <th>description</th>\n",
       "      <th>designation</th>\n",
       "      <th>points</th>\n",
       "      <th>price</th>\n",
       "      <th>province</th>\n",
       "      <th>region_1</th>\n",
       "      <th>taster_name</th>\n",
       "      <th>title</th>\n",
       "      <th>variety</th>\n",
       "      <th>winery</th>\n",
       "      <th>vintage</th>\n",
       "    </tr>\n",
       "  </thead>\n",
       "  <tbody>\n",
       "    <tr>\n",
       "      <th>0</th>\n",
       "      <td>France</td>\n",
       "      <td>Buxom and heady, this is a delightfully rich, ...</td>\n",
       "      <td>Vieilles Vignes</td>\n",
       "      <td>99</td>\n",
       "      <td>114.0</td>\n",
       "      <td>Châteauneuf-du-Pape</td>\n",
       "      <td>Rhône Valley</td>\n",
       "      <td>Anna Lee C. Iijima</td>\n",
       "      <td>Domaine de la Janasse 2016 Vieilles Vignes Red...</td>\n",
       "      <td>Rhône-style Red Blend</td>\n",
       "      <td>Domaine de la Janasse</td>\n",
       "      <td>2016.0</td>\n",
       "    </tr>\n",
       "    <tr>\n",
       "      <th>1</th>\n",
       "      <td>France</td>\n",
       "      <td>Sultry and silken on the palate, this wine sta...</td>\n",
       "      <td>La Réserve</td>\n",
       "      <td>98</td>\n",
       "      <td>175.0</td>\n",
       "      <td>Châteauneuf-du-Pape</td>\n",
       "      <td>Rhône Valley</td>\n",
       "      <td>Anna Lee C. Iijima</td>\n",
       "      <td>Domaine le Clos du Caillou 2016 La Réserve Red...</td>\n",
       "      <td>Rhône-style Red Blend</td>\n",
       "      <td>Domaine le Clos du Caillou</td>\n",
       "      <td>2016.0</td>\n",
       "    </tr>\n",
       "    <tr>\n",
       "      <th>2</th>\n",
       "      <td>Portugal</td>\n",
       "      <td>The wine's fine perfumed black plum fruits giv...</td>\n",
       "      <td>NaN</td>\n",
       "      <td>98</td>\n",
       "      <td>120.0</td>\n",
       "      <td>Port</td>\n",
       "      <td>Port Blend</td>\n",
       "      <td>Roger Voss</td>\n",
       "      <td>Fonseca 2017  Port</td>\n",
       "      <td>Port</td>\n",
       "      <td>Fonseca</td>\n",
       "      <td>2017.0</td>\n",
       "    </tr>\n",
       "    <tr>\n",
       "      <th>3</th>\n",
       "      <td>France</td>\n",
       "      <td>Veins of vanilla, smoke and toast amplify blac...</td>\n",
       "      <td>Hommage à Henry Tacussel</td>\n",
       "      <td>98</td>\n",
       "      <td>80.0</td>\n",
       "      <td>Châteauneuf-du-Pape</td>\n",
       "      <td>Rhône Valley</td>\n",
       "      <td>Anna Lee C. Iijima</td>\n",
       "      <td>Domaine Moulin-Tacussel 2016 Hommage à Henry T...</td>\n",
       "      <td>Grenache</td>\n",
       "      <td>Domaine Moulin-Tacussel</td>\n",
       "      <td>2016.0</td>\n",
       "    </tr>\n",
       "    <tr>\n",
       "      <th>4</th>\n",
       "      <td>France</td>\n",
       "      <td>This juicy, fruit-forward wine drenches the pa...</td>\n",
       "      <td>La Muse</td>\n",
       "      <td>97</td>\n",
       "      <td>88.0</td>\n",
       "      <td>Châteauneuf-du-Pape</td>\n",
       "      <td>Rhône Valley</td>\n",
       "      <td>Anna Lee C. Iijima</td>\n",
       "      <td>Guillaume Gonnet 2016 La Muse Red (Châteauneuf...</td>\n",
       "      <td>Rhône-style Red Blend</td>\n",
       "      <td>Guillaume Gonnet</td>\n",
       "      <td>2016.0</td>\n",
       "    </tr>\n",
       "  </tbody>\n",
       "</table>\n",
       "</div>"
      ],
      "text/plain": [
       "    country                                        description  \\\n",
       "0    France  Buxom and heady, this is a delightfully rich, ...   \n",
       "1    France  Sultry and silken on the palate, this wine sta...   \n",
       "2  Portugal  The wine's fine perfumed black plum fruits giv...   \n",
       "3    France  Veins of vanilla, smoke and toast amplify blac...   \n",
       "4    France  This juicy, fruit-forward wine drenches the pa...   \n",
       "\n",
       "                designation  points  price             province      region_1  \\\n",
       "0           Vieilles Vignes      99  114.0  Châteauneuf-du-Pape  Rhône Valley   \n",
       "1                La Réserve      98  175.0  Châteauneuf-du-Pape  Rhône Valley   \n",
       "2                       NaN      98  120.0                 Port    Port Blend   \n",
       "3  Hommage à Henry Tacussel      98   80.0  Châteauneuf-du-Pape  Rhône Valley   \n",
       "4                   La Muse      97   88.0  Châteauneuf-du-Pape  Rhône Valley   \n",
       "\n",
       "          taster_name                                              title  \\\n",
       "0  Anna Lee C. Iijima  Domaine de la Janasse 2016 Vieilles Vignes Red...   \n",
       "1  Anna Lee C. Iijima  Domaine le Clos du Caillou 2016 La Réserve Red...   \n",
       "2          Roger Voss                                 Fonseca 2017  Port   \n",
       "3  Anna Lee C. Iijima  Domaine Moulin-Tacussel 2016 Hommage à Henry T...   \n",
       "4  Anna Lee C. Iijima  Guillaume Gonnet 2016 La Muse Red (Châteauneuf...   \n",
       "\n",
       "                 variety                      winery  vintage  \n",
       "0  Rhône-style Red Blend       Domaine de la Janasse   2016.0  \n",
       "1  Rhône-style Red Blend  Domaine le Clos du Caillou   2016.0  \n",
       "2                   Port                     Fonseca   2017.0  \n",
       "3               Grenache     Domaine Moulin-Tacussel   2016.0  \n",
       "4  Rhône-style Red Blend            Guillaume Gonnet   2016.0  "
      ]
     },
     "execution_count": 3,
     "metadata": {},
     "output_type": "execute_result"
    }
   ],
   "source": [
    "df.head()"
   ]
  },
  {
   "cell_type": "code",
   "execution_count": 4,
   "metadata": {},
   "outputs": [
    {
     "name": "stdout",
     "output_type": "stream",
     "text": [
      "There are 1112 provinces producing wine in this dataset such as Châteauneuf-du-Pape, Port, Champagne, Trento, Santa Maria Valley... \n",
      "\n"
     ]
    }
   ],
   "source": [
    "print(\"There are {} provinces producing wine in this dataset such as {}... \\n\".\n",
    "      format(len(df.province.unique()), \", \".join(df.province.unique()[0:5])))"
   ]
  },
  {
   "cell_type": "code",
   "execution_count": 5,
   "metadata": {
    "scrolled": true
   },
   "outputs": [
    {
     "name": "stdout",
     "output_type": "stream",
     "text": [
      "The province baseline is 0.024616533578445454\n"
     ]
    }
   ],
   "source": [
    "print('The province baseline is', df.province.value_counts(normalize=True).max())"
   ]
  },
  {
   "cell_type": "markdown",
   "metadata": {},
   "source": [
    "By looking at the provinces, we can find out that there are 1111 provinces in the small dataset. each one having different number of inputs, many of them having only one. Certainly, the latter ones will not be of use, because we will not be able to train and test on one sample. I will keep the provinces thay appear more than 100 times. I will also reduce the number by joining some of them. \n"
   ]
  },
  {
   "cell_type": "code",
   "execution_count": 6,
   "metadata": {},
   "outputs": [],
   "source": [
    "df1 = df[df['province'].map(df['province'].value_counts()) > 100]"
   ]
  },
  {
   "cell_type": "code",
   "execution_count": 7,
   "metadata": {},
   "outputs": [
    {
     "name": "stderr",
     "output_type": "stream",
     "text": [
      "/Users/Mariagimenoperez/anaconda3/lib/python3.6/site-packages/pandas/core/generic.py:5096: SettingWithCopyWarning: \n",
      "A value is trying to be set on a copy of a slice from a DataFrame.\n",
      "Try using .loc[row_indexer,col_indexer] = value instead\n",
      "\n",
      "See the caveats in the documentation: http://pandas.pydata.org/pandas-docs/stable/indexing.html#indexing-view-versus-copy\n",
      "  self[name] = value\n"
     ]
    }
   ],
   "source": [
    "df1.province = df1.province.apply(lambda x: str(x).replace('Blaye Côtes de Bordeaux', 'Bordeaux').\n",
    "                                    replace('Bordeaux Rosé', 'Bordeaux').replace('Bordeaux Supérieur', 'Bordeaux').\n",
    "                                   replace('Bordeaux Blanc', 'Bordeaux').replace('Sta. Rita Hills', 'California').\n",
    "                                   replace('Cava', 'Penedes').replace('Mendocino County', 'California').\n",
    "                                   replace('Russian River Valley', 'Sonoma Valley').replace('North Coast', 'Sonoma Valley'))"
   ]
  },
  {
   "cell_type": "code",
   "execution_count": 8,
   "metadata": {
    "scrolled": true
   },
   "outputs": [
    {
     "name": "stdout",
     "output_type": "stream",
     "text": [
      "The new number of the provinces is 77\n"
     ]
    }
   ],
   "source": [
    "print(\"The new number of the provinces is\", len(df1.province.unique()))"
   ]
  },
  {
   "cell_type": "code",
   "execution_count": 9,
   "metadata": {},
   "outputs": [
    {
     "name": "stdout",
     "output_type": "stream",
     "text": [
      "The province baseline is 0.05765158806544755\n"
     ]
    }
   ],
   "source": [
    "print('The province baseline is', df1.province.value_counts(normalize=True).max())"
   ]
  },
  {
   "cell_type": "markdown",
   "metadata": {},
   "source": [
    "### DEFINE THE TARGET AND SPLIT THE DATA"
   ]
  },
  {
   "cell_type": "code",
   "execution_count": 11,
   "metadata": {},
   "outputs": [],
   "source": [
    "X1 = df1.description\n",
    "y1 = df1.province"
   ]
  },
  {
   "cell_type": "code",
   "execution_count": 12,
   "metadata": {},
   "outputs": [],
   "source": [
    "#Split and stratify the predictor and the target\n",
    "X_train1, X_test1, y_train1, y_test1 = train_test_split(X1, y1, test_size=0.2, stratify = y1, random_state = 1)"
   ]
  },
  {
   "cell_type": "markdown",
   "metadata": {},
   "source": [
    "### COUNTVECTORIZER  AND TFIDFVECTORIZER WITH LOGISTIC REGRESSION\n",
    "\n",
    "The scores did not differ so much but the best performed model was with CountVectorizer and Logistic Regression with Lasso Regularization and multiclass ovr. I calculated the cross validation in this model and the score does not differ so much than the accuracy score.\n",
    " \n",
    "All of the models have better scores than the baseline.\n"
   ]
  },
  {
   "cell_type": "code",
   "execution_count": 13,
   "metadata": {},
   "outputs": [],
   "source": [
    "cvec = CountVectorizer(strip_accents='unicode', stop_words=\"english\", ngram_range=(1, 1))"
   ]
  },
  {
   "cell_type": "code",
   "execution_count": 43,
   "metadata": {},
   "outputs": [
    {
     "name": "stderr",
     "output_type": "stream",
     "text": [
      "[Parallel(n_jobs=2)]: Using backend LokyBackend with 2 concurrent workers.\n",
      "[Parallel(n_jobs=2)]: Done  46 tasks      | elapsed:    6.9s\n",
      "[Parallel(n_jobs=2)]: Done  77 out of  77 | elapsed:   10.4s finished\n"
     ]
    },
    {
     "data": {
      "text/plain": [
       "0.5553416746871992"
      ]
     },
     "execution_count": 43,
     "metadata": {},
     "output_type": "execute_result"
    }
   ],
   "source": [
    "# CountVectorizer and Logisitic Regression with Ridge regularization\n",
    "pipeline_ridge1 = Pipeline([\n",
    "    ('vect', cvec),\n",
    "    ('cls', LogisticRegression(penalty = 'l2', solver='lbfgs', multi_class='ovr', verbose = 1, n_jobs = 2))\n",
    "])\n",
    "pipeline_ridge1.fit(X_train1, y_train1)\n",
    "predicted_ridge1 = pipeline_ridge1.predict(X_test1)\n",
    "pipeline_ridge1.score(X_test1, y_test1)"
   ]
  },
  {
   "cell_type": "code",
   "execution_count": 44,
   "metadata": {
    "scrolled": true
   },
   "outputs": [
    {
     "name": "stdout",
     "output_type": "stream",
     "text": [
      "                         precision    recall  f1-score   support\n",
      "\n",
      "      Adelaida District       0.10      0.04      0.06        26\n",
      "             Alentejano       0.50      0.52      0.51        50\n",
      "       Alexander Valley       0.00      0.00      0.00        24\n",
      "                 Alsace       0.85      0.95      0.90       152\n",
      "             Alto Adige       0.87      0.97      0.92        35\n",
      "          Amador County       0.15      0.06      0.09        31\n",
      "        Anderson Valley       0.44      0.26      0.33        31\n",
      "             Barbaresco       0.36      0.24      0.29        38\n",
      "                 Barolo       0.69      0.79      0.74       158\n",
      "               Bordeaux       0.56      0.83      0.67       155\n",
      " Brunello di Montalcino       0.57      0.64      0.60        84\n",
      "             Burgenland       0.65      0.51      0.57        39\n",
      "                 Cahors       0.60      0.47      0.53        38\n",
      "             California       0.40      0.59      0.48       240\n",
      "               Carneros       0.23      0.13      0.17        45\n",
      "          Central Coast       0.26      0.19      0.22        37\n",
      "              Champagne       0.94      0.95      0.95       104\n",
      "     Chehalem Mountains       0.00      0.00      0.00        21\n",
      "       Chianti Classico       0.60      0.52      0.56        56\n",
      "    Châteauneuf-du-Pape       0.73      0.78      0.75        41\n",
      "       Colchagua Valley       0.37      0.29      0.32        35\n",
      "   Columbia Valley (WA)       0.63      0.78      0.70       171\n",
      "       Crémant d'Alsace       1.00      0.79      0.88        24\n",
      "      Côtes de Gascogne       0.64      0.32      0.42        22\n",
      "      Côtes de Provence       0.64      0.77      0.70        62\n",
      "         Côtes du Rhône       0.73      0.69      0.71        32\n",
      "                  Douro       0.58      0.56      0.57        63\n",
      "       Dry Creek Valley       0.21      0.10      0.14        40\n",
      "           Dundee Hills       0.29      0.21      0.24        38\n",
      "              El Dorado       0.07      0.04      0.05        24\n",
      "       Eola-Amity Hills       0.19      0.16      0.17        31\n",
      "                   Etna       0.62      0.59      0.60        27\n",
      "           Finger Lakes       1.00      1.00      1.00        63\n",
      "               Gigondas       0.58      0.67      0.62        21\n",
      "                 Lisboa       0.44      0.30      0.35        37\n",
      "       Livermore Valley       0.08      0.04      0.06        24\n",
      "                   Lodi       0.15      0.12      0.13        50\n",
      "           Maipo Valley       0.40      0.29      0.33        21\n",
      "            Marlborough       0.94      0.95      0.94        62\n",
      "           McLaren Vale       0.92      0.89      0.90        37\n",
      "                Mendoza       0.48      0.46      0.47        67\n",
      "               Monterey       0.00      0.00      0.00        20\n",
      "                  Mosel       0.81      0.90      0.85        48\n",
      "            Napa Valley       0.57      0.66      0.61       158\n",
      "       Niederösterreich       0.71      0.62      0.67        32\n",
      "                 Oregon       0.33      0.05      0.09        20\n",
      "            Paso Robles       0.42      0.64      0.51       121\n",
      "                Penedes       0.92      0.79      0.85        28\n",
      "                   Port       0.84      0.91      0.88        47\n",
      "           Red Mountain       0.30      0.21      0.24        39\n",
      "            Rheinhessen       0.46      0.29      0.35        21\n",
      "       Ribera del Duero       0.49      0.47      0.48        36\n",
      "                  Rioja       0.58      0.73      0.65        98\n",
      "           Rogue Valley       0.43      0.14      0.21        22\n",
      "          Saint-Émilion       0.85      0.55      0.67        31\n",
      "               Sancerre       0.72      0.60      0.65        30\n",
      "   Santa Barbara County       0.23      0.22      0.22        51\n",
      "   Santa Cruz Mountains       0.27      0.11      0.15        28\n",
      "  Santa Lucia Highlands       0.29      0.26      0.27        43\n",
      "     Santa Maria Valley       0.11      0.10      0.10        30\n",
      "      Santa Ynez Valley       0.19      0.17      0.18        42\n",
      "                Sicilia       0.79      0.66      0.72        35\n",
      "       Sierra Foothills       0.12      0.07      0.09        29\n",
      "           Sonoma Coast       0.48      0.42      0.45        95\n",
      "          Sonoma County       0.29      0.14      0.19        42\n",
      "          Sonoma Valley       0.40      0.51      0.45       191\n",
      "                   Tejo       0.38      0.20      0.26        40\n",
      "        Temecula Valley       0.27      0.13      0.18        23\n",
      "                Toscana       0.73      0.52      0.60        31\n",
      "             Uco Valley       0.45      0.37      0.41        27\n",
      "          Vin de France       0.96      0.75      0.84        32\n",
      "            Vinho Verde       0.94      0.47      0.63        34\n",
      "               Virginia       1.00      1.00      1.00        28\n",
      "Walla Walla Valley (WA)       0.56      0.40      0.47        50\n",
      "      Willamette Valley       0.51      0.78      0.61       127\n",
      "          Yakima Valley       0.31      0.22      0.26        46\n",
      "        Yamhill-Carlton       0.12      0.08      0.10        25\n",
      "\n",
      "               accuracy                           0.56      4156\n",
      "              macro avg       0.50      0.45      0.46      4156\n",
      "           weighted avg       0.53      0.56      0.53      4156\n",
      "\n"
     ]
    }
   ],
   "source": [
    "print(classification_report(y_test1, predicted_ridge1))"
   ]
  },
  {
   "cell_type": "code",
   "execution_count": 14,
   "metadata": {},
   "outputs": [
    {
     "name": "stderr",
     "output_type": "stream",
     "text": [
      "[Parallel(n_jobs=2)]: Using backend ThreadingBackend with 2 concurrent workers.\n"
     ]
    },
    {
     "name": "stdout",
     "output_type": "stream",
     "text": [
      "max_iter reached after 3 seconds\n",
      "max_iter reached after 3 seconds\n"
     ]
    },
    {
     "name": "stderr",
     "output_type": "stream",
     "text": [
      "/Users/Mariagimenoperez/anaconda3/lib/python3.6/site-packages/sklearn/linear_model/sag.py:337: ConvergenceWarning: The max_iter was reached which means the coef_ did not converge\n",
      "  \"the coef_ did not converge\", ConvergenceWarning)\n"
     ]
    },
    {
     "name": "stdout",
     "output_type": "stream",
     "text": [
      "max_iter reached after 3 seconds\n",
      "max_iter reached after 3 seconds\n",
      "max_iter reached after 2 seconds\n",
      "max_iter reached after 3 seconds\n",
      "max_iter reached after 3 seconds\n",
      "max_iter reached after 3 seconds\n",
      "max_iter reached after 3 seconds\n",
      "max_iter reached after 4 seconds\n",
      "max_iter reached after 3 seconds\n",
      "max_iter reached after 2 seconds\n",
      "max_iter reached after 2 seconds\n",
      "max_iter reached after 4 seconds\n",
      "max_iter reached after 7 seconds\n",
      "max_iter reached after 3 seconds\n",
      "max_iter reached after 3 seconds\n",
      "max_iter reached after 3 seconds\n",
      "max_iter reached after 3 seconds\n",
      "max_iter reached after 3 seconds\n",
      "max_iter reached after 3 seconds\n",
      "max_iter reached after 2 seconds\n",
      "max_iter reached after 4 seconds\n",
      "max_iter reached after 2 seconds\n",
      "max_iter reached after 3 seconds\n",
      "max_iter reached after 2 seconds\n",
      "max_iter reached after 3 seconds\n",
      "max_iter reached after 4 seconds\n",
      "max_iter reached after 4 seconds\n",
      "max_iter reached after 2 seconds\n",
      "max_iter reached after 3 seconds\n",
      "max_iter reached after 3 seconds\n",
      "max_iter reached after 1 seconds\n",
      "max_iter reached after 2 seconds\n",
      "max_iter reached after 3 seconds\n",
      "max_iter reached after 3 seconds\n",
      "max_iter reached after 2 seconds\n",
      "max_iter reached after 3 seconds\n",
      "max_iter reached after 2 seconds\n",
      "max_iter reached after 2 seconds\n",
      "max_iter reached after 3 seconds\n",
      "max_iter reached after 4 seconds\n",
      "max_iter reached after 2 seconds\n",
      "max_iter reached after 3 seconds\n",
      "max_iter reached after 5 seconds\n",
      "max_iter reached after 3 seconds\n"
     ]
    },
    {
     "name": "stderr",
     "output_type": "stream",
     "text": [
      "[Parallel(n_jobs=2)]: Done  46 tasks      | elapsed:  1.1min\n"
     ]
    },
    {
     "name": "stdout",
     "output_type": "stream",
     "text": [
      "max_iter reached after 2 seconds\n",
      "max_iter reached after 5 seconds\n",
      "max_iter reached after 2 seconds\n",
      "max_iter reached after 3 seconds\n",
      "max_iter reached after 2 seconds\n",
      "max_iter reached after 3 seconds\n",
      "max_iter reached after 4 seconds\n",
      "max_iter reached after 3 seconds\n",
      "max_iter reached after 2 seconds\n",
      "max_iter reached after 2 seconds\n",
      "max_iter reached after 4 seconds\n",
      "max_iter reached after 3 seconds\n",
      "max_iter reached after 3 seconds\n",
      "max_iter reached after 3 seconds\n",
      "max_iter reached after 3 seconds\n",
      "max_iter reached after 4 seconds\n",
      "max_iter reached after 2 seconds\n",
      "max_iter reached after 4 seconds\n",
      "max_iter reached after 4 seconds\n",
      "max_iter reached after 3 seconds\n",
      "max_iter reached after 7 seconds\n",
      "max_iter reached after 2 seconds\n",
      "max_iter reached after 2 seconds\n",
      "max_iter reached after 3 seconds\n",
      "max_iter reached after 2 seconds\n",
      "max_iter reached after 2 seconds\n",
      "max_iter reached after 3 seconds\n",
      "max_iter reached after 3 seconds\n",
      "max_iter reached after 5 seconds\n",
      "max_iter reached after 3 seconds\n",
      "max_iter reached after 3 seconds\n"
     ]
    },
    {
     "name": "stderr",
     "output_type": "stream",
     "text": [
      "[Parallel(n_jobs=2)]: Done  77 out of  77 | elapsed:  1.9min finished\n"
     ]
    },
    {
     "data": {
      "text/plain": [
       "0.563041385948027"
      ]
     },
     "execution_count": 14,
     "metadata": {},
     "output_type": "execute_result"
    }
   ],
   "source": [
    "# CountVectorizer and Logisitic Regression with Lasso regularization\n",
    "pipelines1 = Pipeline([\n",
    "    ('vect', cvec),\n",
    "    ('cls', LogisticRegression(penalty = 'l1', solver='saga', multi_class='ovr', verbose = 1, n_jobs = 2))\n",
    "])\n",
    "pipelines1.fit(X_train1, y_train1)\n",
    "predicteds1 = pipelines1.predict(X_test1)\n",
    "pipelines1.score(X_test1, y_test1)"
   ]
  },
  {
   "cell_type": "code",
   "execution_count": 15,
   "metadata": {},
   "outputs": [
    {
     "name": "stdout",
     "output_type": "stream",
     "text": [
      "                         precision    recall  f1-score   support\n",
      "\n",
      "      Adelaida District       0.12      0.04      0.06        26\n",
      "             Alentejano       0.51      0.52      0.51        50\n",
      "       Alexander Valley       0.00      0.00      0.00        24\n",
      "                 Alsace       0.84      0.95      0.90       152\n",
      "             Alto Adige       0.87      0.94      0.90        35\n",
      "          Amador County       0.25      0.10      0.14        31\n",
      "        Anderson Valley       0.56      0.29      0.38        31\n",
      "             Barbaresco       0.45      0.24      0.31        38\n",
      "                 Barolo       0.69      0.83      0.75       158\n",
      "               Bordeaux       0.56      0.83      0.67       155\n",
      " Brunello di Montalcino       0.60      0.63      0.62        84\n",
      "             Burgenland       0.62      0.46      0.53        39\n",
      "                 Cahors       0.67      0.47      0.55        38\n",
      "             California       0.41      0.63      0.50       240\n",
      "               Carneros       0.17      0.09      0.12        45\n",
      "          Central Coast       0.21      0.19      0.20        37\n",
      "              Champagne       0.93      0.95      0.94       104\n",
      "     Chehalem Mountains       0.00      0.00      0.00        21\n",
      "       Chianti Classico       0.61      0.59      0.60        56\n",
      "    Châteauneuf-du-Pape       0.64      0.78      0.70        41\n",
      "       Colchagua Valley       0.44      0.34      0.39        35\n",
      "   Columbia Valley (WA)       0.62      0.84      0.71       171\n",
      "       Crémant d'Alsace       0.95      0.79      0.86        24\n",
      "      Côtes de Gascogne       0.46      0.27      0.34        22\n",
      "      Côtes de Provence       0.68      0.81      0.74        62\n",
      "         Côtes du Rhône       0.69      0.75      0.72        32\n",
      "                  Douro       0.60      0.51      0.55        63\n",
      "       Dry Creek Valley       0.25      0.12      0.17        40\n",
      "           Dundee Hills       0.22      0.13      0.16        38\n",
      "              El Dorado       0.00      0.00      0.00        24\n",
      "       Eola-Amity Hills       0.23      0.19      0.21        31\n",
      "                   Etna       0.64      0.67      0.65        27\n",
      "           Finger Lakes       1.00      1.00      1.00        63\n",
      "               Gigondas       0.64      0.43      0.51        21\n",
      "                 Lisboa       0.41      0.30      0.34        37\n",
      "       Livermore Valley       0.11      0.04      0.06        24\n",
      "                   Lodi       0.09      0.06      0.07        50\n",
      "           Maipo Valley       0.44      0.33      0.38        21\n",
      "            Marlborough       0.95      0.95      0.95        62\n",
      "           McLaren Vale       0.92      0.92      0.92        37\n",
      "                Mendoza       0.49      0.52      0.50        67\n",
      "               Monterey       0.00      0.00      0.00        20\n",
      "                  Mosel       0.79      0.85      0.82        48\n",
      "            Napa Valley       0.59      0.69      0.64       158\n",
      "       Niederösterreich       0.68      0.53      0.60        32\n",
      "                 Oregon       0.00      0.00      0.00        20\n",
      "            Paso Robles       0.41      0.65      0.51       121\n",
      "                Penedes       0.92      0.82      0.87        28\n",
      "                   Port       0.85      0.96      0.90        47\n",
      "           Red Mountain       0.36      0.23      0.28        39\n",
      "            Rheinhessen       0.42      0.24      0.30        21\n",
      "       Ribera del Duero       0.48      0.44      0.46        36\n",
      "                  Rioja       0.62      0.80      0.70        98\n",
      "           Rogue Valley       0.40      0.18      0.25        22\n",
      "          Saint-Émilion       0.86      0.61      0.72        31\n",
      "               Sancerre       0.81      0.57      0.67        30\n",
      "   Santa Barbara County       0.24      0.16      0.19        51\n",
      "   Santa Cruz Mountains       0.30      0.11      0.16        28\n",
      "  Santa Lucia Highlands       0.31      0.21      0.25        43\n",
      "     Santa Maria Valley       0.21      0.17      0.19        30\n",
      "      Santa Ynez Valley       0.12      0.12      0.12        42\n",
      "                Sicilia       0.80      0.57      0.67        35\n",
      "       Sierra Foothills       0.11      0.03      0.05        29\n",
      "           Sonoma Coast       0.48      0.42      0.45        95\n",
      "          Sonoma County       0.40      0.14      0.21        42\n",
      "          Sonoma Valley       0.40      0.52      0.45       191\n",
      "                   Tejo       0.33      0.23      0.27        40\n",
      "        Temecula Valley       0.33      0.17      0.23        23\n",
      "                Toscana       0.65      0.48      0.56        31\n",
      "             Uco Valley       0.53      0.30      0.38        27\n",
      "          Vin de France       1.00      0.75      0.86        32\n",
      "            Vinho Verde       0.94      0.47      0.63        34\n",
      "               Virginia       1.00      1.00      1.00        28\n",
      "Walla Walla Valley (WA)       0.63      0.38      0.48        50\n",
      "      Willamette Valley       0.51      0.82      0.63       127\n",
      "          Yakima Valley       0.33      0.17      0.23        46\n",
      "        Yamhill-Carlton       0.27      0.12      0.17        25\n",
      "\n",
      "               accuracy                           0.56      4156\n",
      "              macro avg       0.50      0.45      0.46      4156\n",
      "           weighted avg       0.54      0.56      0.54      4156\n",
      "\n"
     ]
    }
   ],
   "source": [
    "print(classification_report(y_test1, predicteds1))"
   ]
  },
  {
   "cell_type": "code",
   "execution_count": 16,
   "metadata": {},
   "outputs": [
    {
     "name": "stderr",
     "output_type": "stream",
     "text": [
      "[Parallel(n_jobs=2)]: Using backend LokyBackend with 2 concurrent workers.\n",
      "[Parallel(n_jobs=2)]: Done  46 tasks      | elapsed:   49.7s\n",
      "[Parallel(n_jobs=2)]: Done  77 out of  77 | elapsed:  1.4min finished\n",
      "[Parallel(n_jobs=2)]: Using backend LokyBackend with 2 concurrent workers.\n",
      "[Parallel(n_jobs=2)]: Done  46 tasks      | elapsed:   49.7s\n",
      "[Parallel(n_jobs=2)]: Done  77 out of  77 | elapsed:  1.4min finished\n",
      "[Parallel(n_jobs=2)]: Using backend LokyBackend with 2 concurrent workers.\n",
      "[Parallel(n_jobs=2)]: Done  46 tasks      | elapsed:   48.4s\n",
      "[Parallel(n_jobs=2)]: Done  77 out of  77 | elapsed:  1.4min finished\n",
      "[Parallel(n_jobs=2)]: Using backend LokyBackend with 2 concurrent workers.\n",
      "[Parallel(n_jobs=2)]: Done  46 tasks      | elapsed:   48.2s\n",
      "[Parallel(n_jobs=2)]: Done  77 out of  77 | elapsed:  1.4min finished\n",
      "[Parallel(n_jobs=2)]: Using backend LokyBackend with 2 concurrent workers.\n",
      "[Parallel(n_jobs=2)]: Done  46 tasks      | elapsed:   48.8s\n"
     ]
    },
    {
     "name": "stdout",
     "output_type": "stream",
     "text": [
      "[0.53513996 0.53590664 0.54766917 0.54232164 0.55211182]\n",
      "0.5426298489078663\n"
     ]
    },
    {
     "name": "stderr",
     "output_type": "stream",
     "text": [
      "[Parallel(n_jobs=2)]: Done  77 out of  77 | elapsed:  1.4min finished\n"
     ]
    }
   ],
   "source": [
    "#Cross validation score\n",
    "cross = cross_val_score(pipelines1, X_train1, y_train1, cv=5)\n",
    "print(cross)\n",
    "print(cross.mean())\n",
    " \n"
   ]
  },
  {
   "cell_type": "code",
   "execution_count": null,
   "metadata": {},
   "outputs": [],
   "source": []
  },
  {
   "cell_type": "code",
   "execution_count": 45,
   "metadata": {},
   "outputs": [
    {
     "name": "stderr",
     "output_type": "stream",
     "text": [
      "[Parallel(n_jobs=2)]: Using backend ThreadingBackend with 2 concurrent workers.\n"
     ]
    },
    {
     "name": "stdout",
     "output_type": "stream",
     "text": [
      "max_iter reached after 3 seconds\n"
     ]
    },
    {
     "name": "stderr",
     "output_type": "stream",
     "text": [
      "/Users/Mariagimenoperez/anaconda3/lib/python3.6/site-packages/sklearn/linear_model/sag.py:337: ConvergenceWarning: The max_iter was reached which means the coef_ did not converge\n",
      "  \"the coef_ did not converge\", ConvergenceWarning)\n"
     ]
    },
    {
     "name": "stdout",
     "output_type": "stream",
     "text": [
      "max_iter reached after 4 seconds\n",
      "max_iter reached after 3 seconds\n",
      "max_iter reached after 3 seconds\n",
      "max_iter reached after 2 seconds\n",
      "max_iter reached after 2 seconds\n",
      "max_iter reached after 3 seconds\n",
      "max_iter reached after 3 seconds\n",
      "max_iter reached after 3 seconds\n",
      "max_iter reached after 5 seconds\n",
      "max_iter reached after 4 seconds\n",
      "max_iter reached after 2 seconds\n",
      "max_iter reached after 3 seconds\n",
      "max_iter reached after 4 seconds\n",
      "max_iter reached after 9 seconds\n",
      "max_iter reached after 4 seconds\n",
      "max_iter reached after 3 seconds\n",
      "max_iter reached after 4 seconds\n",
      "max_iter reached after 3 seconds\n",
      "max_iter reached after 3 seconds\n",
      "max_iter reached after 4 seconds\n",
      "max_iter reached after 2 seconds\n",
      "max_iter reached after 5 seconds\n",
      "max_iter reached after 2 seconds\n",
      "max_iter reached after 3 seconds\n",
      "max_iter reached after 3 seconds\n",
      "max_iter reached after 4 seconds\n",
      "max_iter reached after 4 seconds\n",
      "max_iter reached after 3 seconds\n",
      "max_iter reached after 3 seconds\n",
      "max_iter reached after 3 seconds\n",
      "max_iter reached after 4 seconds\n",
      "max_iter reached after 1 seconds\n",
      "max_iter reached after 2 seconds\n",
      "max_iter reached after 3 seconds\n",
      "max_iter reached after 3 seconds\n",
      "max_iter reached after 4 seconds\n",
      "max_iter reached after 3 seconds\n",
      "max_iter reached after 2 seconds\n",
      "max_iter reached after 2 seconds\n",
      "max_iter reached after 3 seconds\n",
      "max_iter reached after 4 seconds\n",
      "max_iter reached after 3 seconds\n",
      "max_iter reached after 3 seconds\n",
      "max_iter reached after 6 seconds\n",
      "max_iter reached after 3 seconds\n"
     ]
    },
    {
     "name": "stderr",
     "output_type": "stream",
     "text": [
      "[Parallel(n_jobs=2)]: Done  46 tasks      | elapsed:  1.3min\n"
     ]
    },
    {
     "name": "stdout",
     "output_type": "stream",
     "text": [
      "max_iter reached after 2 seconds\n",
      "max_iter reached after 5 seconds\n",
      "max_iter reached after 2 seconds\n",
      "max_iter reached after 3 seconds\n",
      "max_iter reached after 3 seconds\n",
      "max_iter reached after 3 seconds\n",
      "max_iter reached after 4 seconds\n",
      "max_iter reached after 3 seconds\n",
      "max_iter reached after 2 seconds\n",
      "max_iter reached after 3 seconds\n",
      "max_iter reached after 4 seconds\n",
      "max_iter reached after 3 seconds\n",
      "max_iter reached after 4 seconds\n",
      "max_iter reached after 3 seconds\n",
      "max_iter reached after 3 seconds\n",
      "max_iter reached after 3 seconds\n",
      "max_iter reached after 3 seconds\n",
      "max_iter reached after 5 seconds\n",
      "max_iter reached after 3 seconds\n",
      "max_iter reached after 3 seconds\n",
      "max_iter reached after 7 seconds\n",
      "max_iter reached after 3 seconds\n",
      "max_iter reached after 2 seconds\n",
      "max_iter reached after 3 seconds\n",
      "max_iter reached after 2 seconds\n",
      "max_iter reached after 2 seconds\n",
      "max_iter reached after 1 seconds\n",
      "max_iter reached after 3 seconds\n",
      "max_iter reached after 5 seconds\n",
      "max_iter reached after 3 seconds\n",
      "max_iter reached after 3 seconds\n"
     ]
    },
    {
     "name": "stderr",
     "output_type": "stream",
     "text": [
      "[Parallel(n_jobs=2)]: Done  77 out of  77 | elapsed:  2.1min finished\n"
     ]
    },
    {
     "data": {
      "text/plain": [
       "0.5625601539942252"
      ]
     },
     "execution_count": 45,
     "metadata": {},
     "output_type": "execute_result"
    }
   ],
   "source": [
    "# CountVectorizer and Logisitic Regression with Lasso regularization\n",
    "pipelines1 = Pipeline([\n",
    "    ('vect', cvec),\n",
    "    ('cls', LogisticRegression(penalty = 'l1', solver='saga', multi_class='ovr', verbose = 1, n_jobs = 2))\n",
    "])\n",
    "pipelines1.fit(X_train1, y_train1)\n",
    "predicteds1 = pipelines1.predict(X_test1)\n",
    "pipelines1.score(X_test1, y_test1)"
   ]
  },
  {
   "cell_type": "code",
   "execution_count": 50,
   "metadata": {},
   "outputs": [
    {
     "name": "stdout",
     "output_type": "stream",
     "text": [
      "                         precision    recall  f1-score   support\n",
      "\n",
      "      Adelaida District       0.12      0.04      0.06        26\n",
      "             Alentejano       0.50      0.52      0.51        50\n",
      "       Alexander Valley       0.00      0.00      0.00        24\n",
      "                 Alsace       0.84      0.95      0.90       152\n",
      "             Alto Adige       0.87      0.94      0.90        35\n",
      "          Amador County       0.25      0.10      0.14        31\n",
      "        Anderson Valley       0.56      0.29      0.38        31\n",
      "             Barbaresco       0.43      0.24      0.31        38\n",
      "                 Barolo       0.69      0.83      0.75       158\n",
      "               Bordeaux       0.56      0.83      0.67       155\n",
      " Brunello di Montalcino       0.61      0.63      0.62        84\n",
      "             Burgenland       0.62      0.46      0.53        39\n",
      "                 Cahors       0.67      0.47      0.55        38\n",
      "             California       0.41      0.63      0.49       240\n",
      "               Carneros       0.17      0.09      0.12        45\n",
      "          Central Coast       0.21      0.19      0.20        37\n",
      "              Champagne       0.93      0.95      0.94       104\n",
      "     Chehalem Mountains       0.25      0.05      0.08        21\n",
      "       Chianti Classico       0.61      0.59      0.60        56\n",
      "    Châteauneuf-du-Pape       0.64      0.78      0.70        41\n",
      "       Colchagua Valley       0.44      0.34      0.39        35\n",
      "   Columbia Valley (WA)       0.62      0.84      0.71       171\n",
      "       Crémant d'Alsace       0.95      0.79      0.86        24\n",
      "      Côtes de Gascogne       0.46      0.27      0.34        22\n",
      "      Côtes de Provence       0.68      0.81      0.74        62\n",
      "         Côtes du Rhône       0.69      0.75      0.72        32\n",
      "                  Douro       0.62      0.51      0.56        63\n",
      "       Dry Creek Valley       0.24      0.12      0.16        40\n",
      "           Dundee Hills       0.22      0.13      0.16        38\n",
      "              El Dorado       0.00      0.00      0.00        24\n",
      "       Eola-Amity Hills       0.23      0.19      0.21        31\n",
      "                   Etna       0.64      0.67      0.65        27\n",
      "           Finger Lakes       1.00      1.00      1.00        63\n",
      "               Gigondas       0.64      0.43      0.51        21\n",
      "                 Lisboa       0.41      0.30      0.34        37\n",
      "       Livermore Valley       0.10      0.04      0.06        24\n",
      "                   Lodi       0.06      0.04      0.05        50\n",
      "           Maipo Valley       0.44      0.33      0.38        21\n",
      "            Marlborough       0.95      0.95      0.95        62\n",
      "           McLaren Vale       0.92      0.92      0.92        37\n",
      "                Mendoza       0.48      0.52      0.50        67\n",
      "               Monterey       0.00      0.00      0.00        20\n",
      "                  Mosel       0.79      0.85      0.82        48\n",
      "            Napa Valley       0.59      0.68      0.63       158\n",
      "       Niederösterreich       0.68      0.53      0.60        32\n",
      "                 Oregon       0.00      0.00      0.00        20\n",
      "            Paso Robles       0.41      0.65      0.51       121\n",
      "                Penedes       0.92      0.82      0.87        28\n",
      "                   Port       0.85      0.96      0.90        47\n",
      "           Red Mountain       0.36      0.23      0.28        39\n",
      "            Rheinhessen       0.42      0.24      0.30        21\n",
      "       Ribera del Duero       0.48      0.44      0.46        36\n",
      "                  Rioja       0.62      0.80      0.70        98\n",
      "           Rogue Valley       0.40      0.18      0.25        22\n",
      "          Saint-Émilion       0.86      0.61      0.72        31\n",
      "               Sancerre       0.77      0.57      0.65        30\n",
      "   Santa Barbara County       0.24      0.16      0.19        51\n",
      "   Santa Cruz Mountains       0.30      0.11      0.16        28\n",
      "  Santa Lucia Highlands       0.33      0.23      0.27        43\n",
      "     Santa Maria Valley       0.22      0.17      0.19        30\n",
      "      Santa Ynez Valley       0.12      0.12      0.12        42\n",
      "                Sicilia       0.80      0.57      0.67        35\n",
      "       Sierra Foothills       0.11      0.03      0.05        29\n",
      "           Sonoma Coast       0.48      0.42      0.45        95\n",
      "          Sonoma County       0.40      0.14      0.21        42\n",
      "          Sonoma Valley       0.39      0.51      0.45       191\n",
      "                   Tejo       0.33      0.23      0.27        40\n",
      "        Temecula Valley       0.33      0.17      0.23        23\n",
      "                Toscana       0.68      0.48      0.57        31\n",
      "             Uco Valley       0.50      0.26      0.34        27\n",
      "          Vin de France       1.00      0.75      0.86        32\n",
      "            Vinho Verde       0.94      0.47      0.63        34\n",
      "               Virginia       1.00      1.00      1.00        28\n",
      "Walla Walla Valley (WA)       0.63      0.38      0.48        50\n",
      "      Willamette Valley       0.51      0.82      0.63       127\n",
      "          Yakima Valley       0.32      0.17      0.23        46\n",
      "        Yamhill-Carlton       0.27      0.12      0.17        25\n",
      "\n",
      "               accuracy                           0.56      4156\n",
      "              macro avg       0.50      0.45      0.46      4156\n",
      "           weighted avg       0.54      0.56      0.54      4156\n",
      "\n"
     ]
    }
   ],
   "source": [
    "print(classification_report(y_test1, predicteds1))"
   ]
  },
  {
   "cell_type": "code",
   "execution_count": 49,
   "metadata": {
    "scrolled": true
   },
   "outputs": [
    {
     "name": "stderr",
     "output_type": "stream",
     "text": [
      "[Parallel(n_jobs=2)]: Using backend ThreadingBackend with 2 concurrent workers.\n"
     ]
    },
    {
     "name": "stdout",
     "output_type": "stream",
     "text": [
      "max_iter reached after 134 seconds\n"
     ]
    },
    {
     "name": "stderr",
     "output_type": "stream",
     "text": [
      "/Users/Mariagimenoperez/anaconda3/lib/python3.6/site-packages/sklearn/linear_model/sag.py:337: ConvergenceWarning: The max_iter was reached which means the coef_ did not converge\n",
      "  \"the coef_ did not converge\", ConvergenceWarning)\n",
      "[Parallel(n_jobs=2)]: Done   1 out of   1 | elapsed:  2.2min finished\n"
     ]
    },
    {
     "data": {
      "text/plain": [
       "0.5469201154956689"
      ]
     },
     "execution_count": 49,
     "metadata": {},
     "output_type": "execute_result"
    }
   ],
   "source": [
    "# CountVectorizer and Logisitic Regression with Lasso regularization and multinomial mult_class\n",
    "pipelines2 = Pipeline([\n",
    "    ('vect', cvec),\n",
    "    ('cls', LogisticRegression(penalty = 'l1', solver='saga', multi_class='multinomial', verbose = 1, n_jobs = 2))\n",
    "])\n",
    "pipelines2.fit(X_train1, y_train1)\n",
    "predicteds2 = pipelines2.predict(X_test1)\n",
    "pipelines2.score(X_test1, y_test1)"
   ]
  },
  {
   "cell_type": "code",
   "execution_count": 51,
   "metadata": {},
   "outputs": [
    {
     "name": "stdout",
     "output_type": "stream",
     "text": [
      "                         precision    recall  f1-score   support\n",
      "\n",
      "      Adelaida District       0.09      0.04      0.05        26\n",
      "             Alentejano       0.41      0.42      0.42        50\n",
      "       Alexander Valley       0.00      0.00      0.00        24\n",
      "                 Alsace       0.85      0.93      0.89       152\n",
      "             Alto Adige       0.82      0.89      0.85        35\n",
      "          Amador County       0.14      0.06      0.09        31\n",
      "        Anderson Valley       0.50      0.32      0.39        31\n",
      "             Barbaresco       0.31      0.26      0.29        38\n",
      "                 Barolo       0.70      0.77      0.73       158\n",
      "               Bordeaux       0.58      0.78      0.67       155\n",
      " Brunello di Montalcino       0.56      0.60      0.58        84\n",
      "             Burgenland       0.65      0.51      0.57        39\n",
      "                 Cahors       0.59      0.50      0.54        38\n",
      "             California       0.40      0.60      0.48       240\n",
      "               Carneros       0.29      0.22      0.25        45\n",
      "          Central Coast       0.13      0.11      0.12        37\n",
      "              Champagne       0.90      0.93      0.92       104\n",
      "     Chehalem Mountains       0.12      0.05      0.07        21\n",
      "       Chianti Classico       0.55      0.55      0.55        56\n",
      "    Châteauneuf-du-Pape       0.68      0.78      0.73        41\n",
      "       Colchagua Valley       0.46      0.34      0.39        35\n",
      "   Columbia Valley (WA)       0.62      0.78      0.69       171\n",
      "       Crémant d'Alsace       0.95      0.79      0.86        24\n",
      "      Côtes de Gascogne       0.41      0.32      0.36        22\n",
      "      Côtes de Provence       0.63      0.76      0.69        62\n",
      "         Côtes du Rhône       0.65      0.69      0.67        32\n",
      "                  Douro       0.56      0.51      0.53        63\n",
      "       Dry Creek Valley       0.26      0.12      0.17        40\n",
      "           Dundee Hills       0.27      0.18      0.22        38\n",
      "              El Dorado       0.00      0.00      0.00        24\n",
      "       Eola-Amity Hills       0.22      0.16      0.19        31\n",
      "                   Etna       0.68      0.63      0.65        27\n",
      "           Finger Lakes       1.00      1.00      1.00        63\n",
      "               Gigondas       0.65      0.52      0.58        21\n",
      "                 Lisboa       0.33      0.30      0.31        37\n",
      "       Livermore Valley       0.08      0.04      0.05        24\n",
      "                   Lodi       0.06      0.04      0.05        50\n",
      "           Maipo Valley       0.50      0.33      0.40        21\n",
      "            Marlborough       0.95      0.95      0.95        62\n",
      "           McLaren Vale       0.92      0.92      0.92        37\n",
      "                Mendoza       0.51      0.57      0.54        67\n",
      "               Monterey       0.00      0.00      0.00        20\n",
      "                  Mosel       0.82      0.85      0.84        48\n",
      "            Napa Valley       0.60      0.68      0.64       158\n",
      "       Niederösterreich       0.57      0.53      0.55        32\n",
      "                 Oregon       0.00      0.00      0.00        20\n",
      "            Paso Robles       0.41      0.58      0.48       121\n",
      "                Penedes       0.88      0.79      0.83        28\n",
      "                   Port       0.81      0.94      0.87        47\n",
      "           Red Mountain       0.36      0.23      0.28        39\n",
      "            Rheinhessen       0.44      0.33      0.38        21\n",
      "       Ribera del Duero       0.43      0.50      0.46        36\n",
      "                  Rioja       0.62      0.71      0.67        98\n",
      "           Rogue Valley       0.38      0.27      0.32        22\n",
      "          Saint-Émilion       0.76      0.61      0.68        31\n",
      "               Sancerre       0.75      0.50      0.60        30\n",
      "   Santa Barbara County       0.23      0.18      0.20        51\n",
      "   Santa Cruz Mountains       0.20      0.07      0.11        28\n",
      "  Santa Lucia Highlands       0.27      0.23      0.25        43\n",
      "     Santa Maria Valley       0.15      0.10      0.12        30\n",
      "      Santa Ynez Valley       0.12      0.14      0.13        42\n",
      "                Sicilia       0.76      0.54      0.63        35\n",
      "       Sierra Foothills       0.00      0.00      0.00        29\n",
      "           Sonoma Coast       0.48      0.42      0.45        95\n",
      "          Sonoma County       0.32      0.14      0.20        42\n",
      "          Sonoma Valley       0.42      0.52      0.46       191\n",
      "                   Tejo       0.33      0.23      0.27        40\n",
      "        Temecula Valley       0.31      0.22      0.26        23\n",
      "                Toscana       0.62      0.52      0.56        31\n",
      "             Uco Valley       0.47      0.33      0.39        27\n",
      "          Vin de France       1.00      0.75      0.86        32\n",
      "            Vinho Verde       1.00      0.44      0.61        34\n",
      "               Virginia       1.00      1.00      1.00        28\n",
      "Walla Walla Valley (WA)       0.53      0.40      0.45        50\n",
      "      Willamette Valley       0.51      0.75      0.61       127\n",
      "          Yakima Valley       0.38      0.26      0.31        46\n",
      "        Yamhill-Carlton       0.22      0.16      0.19        25\n",
      "\n",
      "               accuracy                           0.55      4156\n",
      "              macro avg       0.48      0.44      0.46      4156\n",
      "           weighted avg       0.53      0.55      0.53      4156\n",
      "\n"
     ]
    }
   ],
   "source": [
    "print(classification_report(y_test1, predicteds2))"
   ]
  },
  {
   "cell_type": "code",
   "execution_count": 52,
   "metadata": {},
   "outputs": [],
   "source": [
    "vect = TfidfVectorizer(stop_words='english', sublinear_tf=True,\n",
    "                             ngram_range = (1,1), strip_accents='unicode')"
   ]
  },
  {
   "cell_type": "code",
   "execution_count": 53,
   "metadata": {},
   "outputs": [
    {
     "name": "stderr",
     "output_type": "stream",
     "text": [
      "[Parallel(n_jobs=2)]: Using backend LokyBackend with 2 concurrent workers.\n",
      "[Parallel(n_jobs=2)]: Done  46 tasks      | elapsed:    4.4s\n",
      "[Parallel(n_jobs=2)]: Done  77 out of  77 | elapsed:    6.2s finished\n"
     ]
    },
    {
     "data": {
      "text/plain": [
       "0.5534167468719923"
      ]
     },
     "execution_count": 53,
     "metadata": {},
     "output_type": "execute_result"
    }
   ],
   "source": [
    "# TfidfVectorizer and Logisitic Regression with Ridge regularization\n",
    "pipelines3 = Pipeline([\n",
    "    ('vect', vect),\n",
    "    ('cls', LogisticRegression(penalty = 'l2', solver='lbfgs', multi_class='ovr', verbose = 1, n_jobs = 2))\n",
    "])\n",
    "pipelines3.fit(X_train1, y_train1)\n",
    "predicteds3 = pipelines3.predict(X_test1)\n",
    "pipelines3.score(X_test1, y_test1)"
   ]
  },
  {
   "cell_type": "code",
   "execution_count": 54,
   "metadata": {},
   "outputs": [
    {
     "name": "stdout",
     "output_type": "stream",
     "text": [
      "                         precision    recall  f1-score   support\n",
      "\n",
      "      Adelaida District       0.00      0.00      0.00        26\n",
      "             Alentejano       0.71      0.34      0.46        50\n",
      "       Alexander Valley       0.00      0.00      0.00        24\n",
      "                 Alsace       0.72      1.00      0.84       152\n",
      "             Alto Adige       0.85      1.00      0.92        35\n",
      "          Amador County       0.00      0.00      0.00        31\n",
      "        Anderson Valley       0.33      0.03      0.06        31\n",
      "             Barbaresco       0.00      0.00      0.00        38\n",
      "                 Barolo       0.60      0.91      0.72       158\n",
      "               Bordeaux       0.44      0.94      0.60       155\n",
      " Brunello di Montalcino       0.59      0.56      0.57        84\n",
      "             Burgenland       0.74      0.36      0.48        39\n",
      "                 Cahors       0.88      0.37      0.52        38\n",
      "             California       0.35      0.82      0.49       240\n",
      "               Carneros       0.00      0.00      0.00        45\n",
      "          Central Coast       0.00      0.00      0.00        37\n",
      "              Champagne       0.84      0.96      0.90       104\n",
      "     Chehalem Mountains       0.00      0.00      0.00        21\n",
      "       Chianti Classico       0.63      0.48      0.55        56\n",
      "    Châteauneuf-du-Pape       0.57      0.95      0.72        41\n",
      "       Colchagua Valley       0.53      0.23      0.32        35\n",
      "   Columbia Valley (WA)       0.58      1.00      0.73       171\n",
      "       Crémant d'Alsace       1.00      0.50      0.67        24\n",
      "      Côtes de Gascogne       0.75      0.14      0.23        22\n",
      "      Côtes de Provence       0.70      0.73      0.71        62\n",
      "         Côtes du Rhône       0.70      0.59      0.64        32\n",
      "                  Douro       0.64      0.57      0.61        63\n",
      "       Dry Creek Valley       0.00      0.00      0.00        40\n",
      "           Dundee Hills       0.00      0.00      0.00        38\n",
      "              El Dorado       0.00      0.00      0.00        24\n",
      "       Eola-Amity Hills       0.00      0.00      0.00        31\n",
      "                   Etna       0.64      0.52      0.57        27\n",
      "           Finger Lakes       1.00      1.00      1.00        63\n",
      "               Gigondas       1.00      0.10      0.17        21\n",
      "                 Lisboa       0.53      0.27      0.36        37\n",
      "       Livermore Valley       0.00      0.00      0.00        24\n",
      "                   Lodi       0.00      0.00      0.00        50\n",
      "           Maipo Valley       0.00      0.00      0.00        21\n",
      "            Marlborough       0.84      0.98      0.90        62\n",
      "           McLaren Vale       0.96      0.68      0.79        37\n",
      "                Mendoza       0.46      0.57      0.51        67\n",
      "               Monterey       0.00      0.00      0.00        20\n",
      "                  Mosel       0.70      0.98      0.82        48\n",
      "            Napa Valley       0.58      0.76      0.66       158\n",
      "       Niederösterreich       1.00      0.12      0.22        32\n",
      "                 Oregon       0.00      0.00      0.00        20\n",
      "            Paso Robles       0.36      0.83      0.50       121\n",
      "                Penedes       0.91      0.71      0.80        28\n",
      "                   Port       0.93      0.91      0.92        47\n",
      "           Red Mountain       0.00      0.00      0.00        39\n",
      "            Rheinhessen       0.00      0.00      0.00        21\n",
      "       Ribera del Duero       0.56      0.14      0.22        36\n",
      "                  Rioja       0.48      0.90      0.63        98\n",
      "           Rogue Valley       1.00      0.05      0.09        22\n",
      "          Saint-Émilion       0.92      0.35      0.51        31\n",
      "               Sancerre       1.00      0.33      0.50        30\n",
      "   Santa Barbara County       0.17      0.02      0.04        51\n",
      "   Santa Cruz Mountains       1.00      0.04      0.07        28\n",
      "  Santa Lucia Highlands       0.71      0.12      0.20        43\n",
      "     Santa Maria Valley       0.00      0.00      0.00        30\n",
      "      Santa Ynez Valley       0.00      0.00      0.00        42\n",
      "                Sicilia       0.85      0.66      0.74        35\n",
      "       Sierra Foothills       0.00      0.00      0.00        29\n",
      "           Sonoma Coast       0.62      0.31      0.41        95\n",
      "          Sonoma County       1.00      0.05      0.09        42\n",
      "          Sonoma Valley       0.42      0.69      0.52       191\n",
      "                   Tejo       0.70      0.17      0.28        40\n",
      "        Temecula Valley       0.00      0.00      0.00        23\n",
      "                Toscana       0.80      0.26      0.39        31\n",
      "             Uco Valley       1.00      0.04      0.07        27\n",
      "          Vin de France       1.00      0.75      0.86        32\n",
      "            Vinho Verde       0.93      0.38      0.54        34\n",
      "               Virginia       1.00      1.00      1.00        28\n",
      "Walla Walla Valley (WA)       1.00      0.14      0.25        50\n",
      "      Willamette Valley       0.45      1.00      0.62       127\n",
      "          Yakima Valley       0.67      0.09      0.15        46\n",
      "        Yamhill-Carlton       0.00      0.00      0.00        25\n",
      "\n",
      "               accuracy                           0.55      4156\n",
      "              macro avg       0.51      0.37      0.37      4156\n",
      "           weighted avg       0.53      0.55      0.48      4156\n",
      "\n"
     ]
    },
    {
     "name": "stderr",
     "output_type": "stream",
     "text": [
      "/Users/Mariagimenoperez/anaconda3/lib/python3.6/site-packages/sklearn/metrics/classification.py:1437: UndefinedMetricWarning: Precision and F-score are ill-defined and being set to 0.0 in labels with no predicted samples.\n",
      "  'precision', 'predicted', average, warn_for)\n"
     ]
    }
   ],
   "source": [
    "print(classification_report(y_test1, predicteds3))"
   ]
  },
  {
   "cell_type": "code",
   "execution_count": 55,
   "metadata": {},
   "outputs": [
    {
     "name": "stderr",
     "output_type": "stream",
     "text": [
      "/Users/Mariagimenoperez/anaconda3/lib/python3.6/site-packages/sklearn/linear_model/sag.py:337: ConvergenceWarning: The max_iter was reached which means the coef_ did not converge\n",
      "  \"the coef_ did not converge\", ConvergenceWarning)\n"
     ]
    },
    {
     "data": {
      "text/plain": [
       "0.5601539942252165"
      ]
     },
     "execution_count": 55,
     "metadata": {},
     "output_type": "execute_result"
    }
   ],
   "source": [
    "# TfidfVectorizer and Logisitic Regression with Lasso regularization\n",
    "pipelines4 = Pipeline([\n",
    "    ('vect', vect),\n",
    "    ('cls', LogisticRegression(penalty = 'l1', solver='saga', multi_class='ovr', ))\n",
    "])\n",
    "pipelines4.fit(X_train1, y_train1)\n",
    "predicteds4 = pipelines4.predict(X_test1)\n",
    "pipelines4.score(X_test1, y_test1)"
   ]
  },
  {
   "cell_type": "code",
   "execution_count": 57,
   "metadata": {},
   "outputs": [
    {
     "name": "stdout",
     "output_type": "stream",
     "text": [
      "                         precision    recall  f1-score   support\n",
      "\n",
      "      Adelaida District       0.00      0.00      0.00        26\n",
      "             Alentejano       0.67      0.44      0.53        50\n",
      "       Alexander Valley       0.00      0.00      0.00        24\n",
      "                 Alsace       0.76      0.96      0.85       152\n",
      "             Alto Adige       0.84      0.91      0.88        35\n",
      "          Amador County       0.00      0.00      0.00        31\n",
      "        Anderson Valley       0.62      0.16      0.26        31\n",
      "             Barbaresco       0.38      0.08      0.13        38\n",
      "                 Barolo       0.60      0.87      0.71       158\n",
      "               Bordeaux       0.48      0.88      0.62       155\n",
      " Brunello di Montalcino       0.52      0.51      0.51        84\n",
      "             Burgenland       0.59      0.44      0.50        39\n",
      "                 Cahors       0.69      0.53      0.60        38\n",
      "             California       0.36      0.80      0.50       240\n",
      "               Carneros       0.50      0.02      0.04        45\n",
      "          Central Coast       0.43      0.08      0.14        37\n",
      "              Champagne       0.87      0.93      0.90       104\n",
      "     Chehalem Mountains       0.00      0.00      0.00        21\n",
      "       Chianti Classico       0.61      0.48      0.54        56\n",
      "    Châteauneuf-du-Pape       0.62      0.73      0.67        41\n",
      "       Colchagua Valley       0.62      0.29      0.39        35\n",
      "   Columbia Valley (WA)       0.57      0.95      0.71       171\n",
      "       Crémant d'Alsace       1.00      0.75      0.86        24\n",
      "      Côtes de Gascogne       0.62      0.23      0.33        22\n",
      "      Côtes de Provence       0.68      0.76      0.72        62\n",
      "         Côtes du Rhône       0.56      0.75      0.64        32\n",
      "                  Douro       0.65      0.51      0.57        63\n",
      "       Dry Creek Valley       0.33      0.07      0.12        40\n",
      "           Dundee Hills       0.00      0.00      0.00        38\n",
      "              El Dorado       0.00      0.00      0.00        24\n",
      "       Eola-Amity Hills       0.00      0.00      0.00        31\n",
      "                   Etna       0.64      0.59      0.62        27\n",
      "           Finger Lakes       1.00      1.00      1.00        63\n",
      "               Gigondas       0.86      0.29      0.43        21\n",
      "                 Lisboa       0.56      0.24      0.34        37\n",
      "       Livermore Valley       0.00      0.00      0.00        24\n",
      "                   Lodi       1.00      0.02      0.04        50\n",
      "           Maipo Valley       0.62      0.38      0.47        21\n",
      "            Marlborough       0.91      0.94      0.92        62\n",
      "           McLaren Vale       0.89      0.84      0.86        37\n",
      "                Mendoza       0.60      0.61      0.61        67\n",
      "               Monterey       0.00      0.00      0.00        20\n",
      "                  Mosel       0.71      0.96      0.81        48\n",
      "            Napa Valley       0.59      0.75      0.66       158\n",
      "       Niederösterreich       0.50      0.12      0.20        32\n",
      "                 Oregon       0.00      0.00      0.00        20\n",
      "            Paso Robles       0.36      0.84      0.50       121\n",
      "                Penedes       0.83      0.71      0.77        28\n",
      "                   Port       0.84      0.91      0.88        47\n",
      "           Red Mountain       0.67      0.05      0.10        39\n",
      "            Rheinhessen       0.00      0.00      0.00        21\n",
      "       Ribera del Duero       0.67      0.28      0.39        36\n",
      "                  Rioja       0.51      0.91      0.66        98\n",
      "           Rogue Valley       1.00      0.14      0.24        22\n",
      "          Saint-Émilion       0.71      0.48      0.58        31\n",
      "               Sancerre       0.76      0.43      0.55        30\n",
      "   Santa Barbara County       0.40      0.08      0.13        51\n",
      "   Santa Cruz Mountains       0.67      0.07      0.13        28\n",
      "  Santa Lucia Highlands       0.24      0.12      0.16        43\n",
      "     Santa Maria Valley       0.40      0.07      0.11        30\n",
      "      Santa Ynez Valley       0.12      0.02      0.04        42\n",
      "                Sicilia       0.74      0.57      0.65        35\n",
      "       Sierra Foothills       0.00      0.00      0.00        29\n",
      "           Sonoma Coast       0.58      0.34      0.43        95\n",
      "          Sonoma County       1.00      0.07      0.13        42\n",
      "          Sonoma Valley       0.42      0.65      0.51       191\n",
      "                   Tejo       0.53      0.23      0.32        40\n",
      "        Temecula Valley       0.00      0.00      0.00        23\n",
      "                Toscana       0.83      0.32      0.47        31\n",
      "             Uco Valley       1.00      0.11      0.20        27\n",
      "          Vin de France       1.00      0.75      0.86        32\n",
      "            Vinho Verde       0.93      0.38      0.54        34\n",
      "               Virginia       1.00      1.00      1.00        28\n",
      "Walla Walla Valley (WA)       0.56      0.18      0.27        50\n",
      "      Willamette Valley       0.46      0.99      0.63       127\n",
      "          Yakima Valley       0.17      0.02      0.04        46\n",
      "        Yamhill-Carlton       0.00      0.00      0.00        25\n",
      "\n",
      "               accuracy                           0.56      4156\n",
      "              macro avg       0.53      0.40      0.40      4156\n",
      "           weighted avg       0.55      0.56      0.50      4156\n",
      "\n"
     ]
    },
    {
     "name": "stderr",
     "output_type": "stream",
     "text": [
      "/Users/Mariagimenoperez/anaconda3/lib/python3.6/site-packages/sklearn/metrics/classification.py:1437: UndefinedMetricWarning: Precision and F-score are ill-defined and being set to 0.0 in labels with no predicted samples.\n",
      "  'precision', 'predicted', average, warn_for)\n"
     ]
    }
   ],
   "source": [
    "print(classification_report(y_test1, predicteds4))"
   ]
  },
  {
   "cell_type": "code",
   "execution_count": 58,
   "metadata": {},
   "outputs": [
    {
     "name": "stderr",
     "output_type": "stream",
     "text": [
      "/Users/Mariagimenoperez/anaconda3/lib/python3.6/site-packages/sklearn/linear_model/sag.py:337: ConvergenceWarning: The max_iter was reached which means the coef_ did not converge\n",
      "  \"the coef_ did not converge\", ConvergenceWarning)\n"
     ]
    },
    {
     "data": {
      "text/plain": [
       "0.5551010587102984"
      ]
     },
     "execution_count": 58,
     "metadata": {},
     "output_type": "execute_result"
    }
   ],
   "source": [
    "# TfidfVectorizer and Logisitic Regression with Ridge regularization and multinomial class\n",
    "pipelines5 = Pipeline([\n",
    "    ('vect', vect),\n",
    "    ('cls', LogisticRegression(solver='saga', multi_class='multinomial', penalty = 'l1'))\n",
    "])\n",
    "pipelines5.fit(X_train1, y_train1)\n",
    "predicteds5 = pipelines5.predict(X_test1)\n",
    "pipelines5.score(X_test1, y_test1)"
   ]
  },
  {
   "cell_type": "code",
   "execution_count": 59,
   "metadata": {},
   "outputs": [
    {
     "name": "stdout",
     "output_type": "stream",
     "text": [
      "                         precision    recall  f1-score   support\n",
      "\n",
      "      Adelaida District       0.00      0.00      0.00        26\n",
      "             Alentejano       0.66      0.42      0.51        50\n",
      "       Alexander Valley       0.00      0.00      0.00        24\n",
      "                 Alsace       0.78      0.97      0.86       152\n",
      "             Alto Adige       0.81      0.86      0.83        35\n",
      "          Amador County       0.00      0.00      0.00        31\n",
      "        Anderson Valley       0.67      0.19      0.30        31\n",
      "             Barbaresco       0.31      0.11      0.16        38\n",
      "                 Barolo       0.59      0.82      0.69       158\n",
      "               Bordeaux       0.49      0.88      0.63       155\n",
      " Brunello di Montalcino       0.49      0.48      0.48        84\n",
      "             Burgenland       0.61      0.49      0.54        39\n",
      "                 Cahors       0.67      0.47      0.55        38\n",
      "             California       0.36      0.79      0.50       240\n",
      "               Carneros       0.12      0.02      0.04        45\n",
      "          Central Coast       0.33      0.05      0.09        37\n",
      "              Champagne       0.91      0.93      0.92       104\n",
      "     Chehalem Mountains       0.00      0.00      0.00        21\n",
      "       Chianti Classico       0.51      0.43      0.47        56\n",
      "    Châteauneuf-du-Pape       0.60      0.73      0.66        41\n",
      "       Colchagua Valley       0.64      0.40      0.49        35\n",
      "   Columbia Valley (WA)       0.58      0.95      0.72       171\n",
      "       Crémant d'Alsace       1.00      0.71      0.83        24\n",
      "      Côtes de Gascogne       0.62      0.23      0.33        22\n",
      "      Côtes de Provence       0.60      0.76      0.67        62\n",
      "         Côtes du Rhône       0.53      0.62      0.57        32\n",
      "                  Douro       0.69      0.49      0.57        63\n",
      "       Dry Creek Valley       0.30      0.07      0.12        40\n",
      "           Dundee Hills       0.00      0.00      0.00        38\n",
      "              El Dorado       0.00      0.00      0.00        24\n",
      "       Eola-Amity Hills       0.00      0.00      0.00        31\n",
      "                   Etna       0.65      0.63      0.64        27\n",
      "           Finger Lakes       1.00      1.00      1.00        63\n",
      "               Gigondas       0.75      0.29      0.41        21\n",
      "                 Lisboa       0.52      0.30      0.38        37\n",
      "       Livermore Valley       0.00      0.00      0.00        24\n",
      "                   Lodi       0.67      0.04      0.08        50\n",
      "           Maipo Valley       0.50      0.33      0.40        21\n",
      "            Marlborough       0.94      0.94      0.94        62\n",
      "           McLaren Vale       0.89      0.89      0.89        37\n",
      "                Mendoza       0.49      0.54      0.51        67\n",
      "               Monterey       0.00      0.00      0.00        20\n",
      "                  Mosel       0.71      0.94      0.81        48\n",
      "            Napa Valley       0.61      0.75      0.67       158\n",
      "       Niederösterreich       0.60      0.19      0.29        32\n",
      "                 Oregon       0.00      0.00      0.00        20\n",
      "            Paso Robles       0.36      0.81      0.49       121\n",
      "                Penedes       0.83      0.71      0.77        28\n",
      "                   Port       0.86      0.91      0.89        47\n",
      "           Red Mountain       0.50      0.08      0.13        39\n",
      "            Rheinhessen       0.20      0.05      0.08        21\n",
      "       Ribera del Duero       0.47      0.25      0.33        36\n",
      "                  Rioja       0.52      0.83      0.64        98\n",
      "           Rogue Valley       1.00      0.14      0.24        22\n",
      "          Saint-Émilion       0.72      0.58      0.64        31\n",
      "               Sancerre       0.68      0.43      0.53        30\n",
      "   Santa Barbara County       0.44      0.08      0.13        51\n",
      "   Santa Cruz Mountains       0.67      0.07      0.13        28\n",
      "  Santa Lucia Highlands       0.27      0.16      0.20        43\n",
      "     Santa Maria Valley       0.50      0.13      0.21        30\n",
      "      Santa Ynez Valley       0.21      0.07      0.11        42\n",
      "                Sicilia       0.71      0.57      0.63        35\n",
      "       Sierra Foothills       0.00      0.00      0.00        29\n",
      "           Sonoma Coast       0.56      0.31      0.39        95\n",
      "          Sonoma County       0.80      0.10      0.17        42\n",
      "          Sonoma Valley       0.41      0.64      0.50       191\n",
      "                   Tejo       0.56      0.23      0.32        40\n",
      "        Temecula Valley       0.00      0.00      0.00        23\n",
      "                Toscana       0.75      0.29      0.42        31\n",
      "             Uco Valley       1.00      0.11      0.20        27\n",
      "          Vin de France       1.00      0.75      0.86        32\n",
      "            Vinho Verde       0.93      0.41      0.57        34\n",
      "               Virginia       1.00      1.00      1.00        28\n",
      "Walla Walla Valley (WA)       0.56      0.20      0.29        50\n",
      "      Willamette Valley       0.46      0.99      0.63       127\n",
      "          Yakima Valley       0.50      0.04      0.08        46\n",
      "        Yamhill-Carlton       0.00      0.00      0.00        25\n",
      "\n",
      "               accuracy                           0.56      4156\n",
      "              macro avg       0.52      0.40      0.40      4156\n",
      "           weighted avg       0.54      0.56      0.50      4156\n",
      "\n"
     ]
    },
    {
     "name": "stderr",
     "output_type": "stream",
     "text": [
      "/Users/Mariagimenoperez/anaconda3/lib/python3.6/site-packages/sklearn/metrics/classification.py:1437: UndefinedMetricWarning: Precision and F-score are ill-defined and being set to 0.0 in labels with no predicted samples.\n",
      "  'precision', 'predicted', average, warn_for)\n"
     ]
    }
   ],
   "source": [
    "print(classification_report(y_test1, predicteds5))"
   ]
  },
  {
   "cell_type": "markdown",
   "metadata": {},
   "source": [
    "### RANDOM FOREST CLASSIFIER, COUNTVECTORIZER AND TFIDFVECTORIZER\n",
    "\n",
    "Logistic Regression performs better than Random Forest Classifier in this data set, with higher accuracy.\n",
    "\n",
    "The best performed model was Random Forest with CountVectorizer.\n",
    "\n",
    "All of the models have better scores than the baseline\n"
   ]
  },
  {
   "cell_type": "code",
   "execution_count": 60,
   "metadata": {},
   "outputs": [],
   "source": [
    "cvecsr = CountVectorizer(strip_accents='unicode', stop_words=\"english\", ngram_range=(1, 1))"
   ]
  },
  {
   "cell_type": "code",
   "execution_count": 61,
   "metadata": {},
   "outputs": [
    {
     "data": {
      "text/plain": [
       "0.5238209817131858"
      ]
     },
     "execution_count": 61,
     "metadata": {},
     "output_type": "execute_result"
    }
   ],
   "source": [
    "# Random Forest with CountVectorizer\n",
    "pipelines6  = Pipeline([\n",
    "    ('vect', cvecsr),\n",
    "    #('tfidf', TfidfTransformer()),\n",
    "    ('cls', RandomForestClassifier(n_estimators=200, n_jobs = 2))\n",
    "])\n",
    "pipelines6.fit(X_train1, y_train1)\n",
    "predicteds6 = pipelines6.predict(X_test1)\n",
    "pipelines6.score(X_test1, y_test1)"
   ]
  },
  {
   "cell_type": "code",
   "execution_count": 62,
   "metadata": {},
   "outputs": [
    {
     "name": "stdout",
     "output_type": "stream",
     "text": [
      "                         precision    recall  f1-score   support\n",
      "\n",
      "      Adelaida District       0.00      0.00      0.00        26\n",
      "             Alentejano       0.82      0.18      0.30        50\n",
      "       Alexander Valley       0.00      0.00      0.00        24\n",
      "                 Alsace       0.69      0.99      0.81       152\n",
      "             Alto Adige       0.74      0.97      0.84        35\n",
      "          Amador County       0.00      0.00      0.00        31\n",
      "        Anderson Valley       0.00      0.00      0.00        31\n",
      "             Barbaresco       1.00      0.05      0.10        38\n",
      "                 Barolo       0.49      0.97      0.65       158\n",
      "               Bordeaux       0.35      0.96      0.51       155\n",
      " Brunello di Montalcino       0.73      0.19      0.30        84\n",
      "             Burgenland       0.70      0.36      0.47        39\n",
      "                 Cahors       0.80      0.11      0.19        38\n",
      "             California       0.37      0.79      0.50       240\n",
      "               Carneros       0.00      0.00      0.00        45\n",
      "          Central Coast       0.40      0.05      0.10        37\n",
      "              Champagne       0.83      0.92      0.88       104\n",
      "     Chehalem Mountains       0.00      0.00      0.00        21\n",
      "       Chianti Classico       0.63      0.39      0.48        56\n",
      "    Châteauneuf-du-Pape       0.55      0.83      0.66        41\n",
      "       Colchagua Valley       0.33      0.06      0.10        35\n",
      "   Columbia Valley (WA)       0.56      1.00      0.71       171\n",
      "       Crémant d'Alsace       1.00      0.17      0.29        24\n",
      "      Côtes de Gascogne       1.00      0.05      0.09        22\n",
      "      Côtes de Provence       0.75      0.58      0.65        62\n",
      "         Côtes du Rhône       0.57      0.50      0.53        32\n",
      "                  Douro       0.69      0.32      0.43        63\n",
      "       Dry Creek Valley       0.00      0.00      0.00        40\n",
      "           Dundee Hills       0.00      0.00      0.00        38\n",
      "              El Dorado       0.00      0.00      0.00        24\n",
      "       Eola-Amity Hills       0.00      0.00      0.00        31\n",
      "                   Etna       0.64      0.26      0.37        27\n",
      "           Finger Lakes       1.00      1.00      1.00        63\n",
      "               Gigondas       1.00      0.10      0.17        21\n",
      "                 Lisboa       0.57      0.11      0.18        37\n",
      "       Livermore Valley       0.00      0.00      0.00        24\n",
      "                   Lodi       1.00      0.02      0.04        50\n",
      "           Maipo Valley       1.00      0.10      0.17        21\n",
      "            Marlborough       0.88      0.97      0.92        62\n",
      "           McLaren Vale       0.94      0.78      0.85        37\n",
      "                Mendoza       0.51      0.61      0.56        67\n",
      "               Monterey       0.00      0.00      0.00        20\n",
      "                  Mosel       0.67      1.00      0.80        48\n",
      "            Napa Valley       0.60      0.72      0.66       158\n",
      "       Niederösterreich       1.00      0.12      0.22        32\n",
      "                 Oregon       0.00      0.00      0.00        20\n",
      "            Paso Robles       0.32      0.90      0.47       121\n",
      "                Penedes       0.82      0.82      0.82        28\n",
      "                   Port       0.95      0.81      0.87        47\n",
      "           Red Mountain       0.00      0.00      0.00        39\n",
      "            Rheinhessen       0.00      0.00      0.00        21\n",
      "       Ribera del Duero       0.62      0.14      0.23        36\n",
      "                  Rioja       0.47      0.91      0.62        98\n",
      "           Rogue Valley       0.00      0.00      0.00        22\n",
      "          Saint-Émilion       0.89      0.26      0.40        31\n",
      "               Sancerre       1.00      0.23      0.38        30\n",
      "   Santa Barbara County       0.33      0.04      0.07        51\n",
      "   Santa Cruz Mountains       0.00      0.00      0.00        28\n",
      "  Santa Lucia Highlands       0.60      0.07      0.12        43\n",
      "     Santa Maria Valley       0.00      0.00      0.00        30\n",
      "      Santa Ynez Valley       0.22      0.05      0.08        42\n",
      "                Sicilia       0.86      0.54      0.67        35\n",
      "       Sierra Foothills       0.00      0.00      0.00        29\n",
      "           Sonoma Coast       0.84      0.17      0.28        95\n",
      "          Sonoma County       0.00      0.00      0.00        42\n",
      "          Sonoma Valley       0.42      0.79      0.54       191\n",
      "                   Tejo       0.62      0.12      0.21        40\n",
      "        Temecula Valley       0.00      0.00      0.00        23\n",
      "                Toscana       0.69      0.29      0.41        31\n",
      "             Uco Valley       0.00      0.00      0.00        27\n",
      "          Vin de France       1.00      0.75      0.86        32\n",
      "            Vinho Verde       0.92      0.35      0.51        34\n",
      "               Virginia       1.00      1.00      1.00        28\n",
      "Walla Walla Valley (WA)       1.00      0.02      0.04        50\n",
      "      Willamette Valley       0.45      1.00      0.62       127\n",
      "          Yakima Valley       0.00      0.00      0.00        46\n",
      "        Yamhill-Carlton       0.00      0.00      0.00        25\n",
      "\n",
      "               accuracy                           0.52      4156\n",
      "              macro avg       0.49      0.33      0.32      4156\n",
      "           weighted avg       0.52      0.52      0.44      4156\n",
      "\n"
     ]
    },
    {
     "name": "stderr",
     "output_type": "stream",
     "text": [
      "/Users/Mariagimenoperez/anaconda3/lib/python3.6/site-packages/sklearn/metrics/classification.py:1437: UndefinedMetricWarning: Precision and F-score are ill-defined and being set to 0.0 in labels with no predicted samples.\n",
      "  'precision', 'predicted', average, warn_for)\n"
     ]
    }
   ],
   "source": [
    "print(classification_report(y_test1, predicteds6))"
   ]
  },
  {
   "cell_type": "code",
   "execution_count": 63,
   "metadata": {},
   "outputs": [
    {
     "data": {
      "text/plain": [
       "0.43695861405197306"
      ]
     },
     "execution_count": 63,
     "metadata": {},
     "output_type": "execute_result"
    }
   ],
   "source": [
    "# Random Forest with TfidfVectorizer and max_depth = 10\n",
    "pipelines7 = Pipeline([\n",
    "    ('vect', vect),\n",
    "    \n",
    "    ('cls', RandomForestClassifier(n_estimators=200, n_jobs = 2, max_depth = 10 ))\n",
    "])\n",
    "pipelines7.fit(X_train1, y_train1)\n",
    "predicteds7 = pipelines7.predict(X_test1)\n",
    "pipelines7.score(X_test1, y_test1)"
   ]
  },
  {
   "cell_type": "code",
   "execution_count": 64,
   "metadata": {},
   "outputs": [
    {
     "name": "stdout",
     "output_type": "stream",
     "text": [
      "                         precision    recall  f1-score   support\n",
      "\n",
      "      Adelaida District       0.00      0.00      0.00        26\n",
      "             Alentejano       0.00      0.00      0.00        50\n",
      "       Alexander Valley       0.00      0.00      0.00        24\n",
      "                 Alsace       0.61      1.00      0.76       152\n",
      "             Alto Adige       0.59      0.54      0.57        35\n",
      "          Amador County       0.00      0.00      0.00        31\n",
      "        Anderson Valley       0.00      0.00      0.00        31\n",
      "             Barbaresco       0.00      0.00      0.00        38\n",
      "                 Barolo       0.37      1.00      0.54       158\n",
      "               Bordeaux       0.25      0.99      0.40       155\n",
      " Brunello di Montalcino       0.00      0.00      0.00        84\n",
      "             Burgenland       0.00      0.00      0.00        39\n",
      "                 Cahors       0.00      0.00      0.00        38\n",
      "             California       0.31      0.88      0.46       240\n",
      "               Carneros       0.00      0.00      0.00        45\n",
      "          Central Coast       0.00      0.00      0.00        37\n",
      "              Champagne       0.94      0.77      0.85       104\n",
      "     Chehalem Mountains       0.00      0.00      0.00        21\n",
      "       Chianti Classico       1.00      0.07      0.13        56\n",
      "    Châteauneuf-du-Pape       0.47      0.76      0.58        41\n",
      "       Colchagua Valley       0.00      0.00      0.00        35\n",
      "   Columbia Valley (WA)       0.55      1.00      0.71       171\n",
      "       Crémant d'Alsace       0.00      0.00      0.00        24\n",
      "      Côtes de Gascogne       0.00      0.00      0.00        22\n",
      "      Côtes de Provence       0.00      0.00      0.00        62\n",
      "         Côtes du Rhône       0.46      0.19      0.27        32\n",
      "                  Douro       1.00      0.24      0.38        63\n",
      "       Dry Creek Valley       0.00      0.00      0.00        40\n",
      "           Dundee Hills       0.00      0.00      0.00        38\n",
      "              El Dorado       0.00      0.00      0.00        24\n",
      "       Eola-Amity Hills       0.00      0.00      0.00        31\n",
      "                   Etna       0.67      0.07      0.13        27\n",
      "           Finger Lakes       1.00      1.00      1.00        63\n",
      "               Gigondas       0.00      0.00      0.00        21\n",
      "                 Lisboa       0.00      0.00      0.00        37\n",
      "       Livermore Valley       0.00      0.00      0.00        24\n",
      "                   Lodi       0.00      0.00      0.00        50\n",
      "           Maipo Valley       0.00      0.00      0.00        21\n",
      "            Marlborough       0.74      1.00      0.85        62\n",
      "           McLaren Vale       1.00      0.43      0.60        37\n",
      "                Mendoza       0.73      0.33      0.45        67\n",
      "               Monterey       0.00      0.00      0.00        20\n",
      "                  Mosel       0.56      1.00      0.72        48\n",
      "            Napa Valley       0.67      0.53      0.59       158\n",
      "       Niederösterreich       0.00      0.00      0.00        32\n",
      "                 Oregon       0.00      0.00      0.00        20\n",
      "            Paso Robles       0.39      0.64      0.48       121\n",
      "                Penedes       1.00      0.25      0.40        28\n",
      "                   Port       1.00      0.02      0.04        47\n",
      "           Red Mountain       0.00      0.00      0.00        39\n",
      "            Rheinhessen       0.00      0.00      0.00        21\n",
      "       Ribera del Duero       0.00      0.00      0.00        36\n",
      "                  Rioja       0.36      1.00      0.53        98\n",
      "           Rogue Valley       0.00      0.00      0.00        22\n",
      "          Saint-Émilion       1.00      0.03      0.06        31\n",
      "               Sancerre       0.00      0.00      0.00        30\n",
      "   Santa Barbara County       0.00      0.00      0.00        51\n",
      "   Santa Cruz Mountains       0.00      0.00      0.00        28\n",
      "  Santa Lucia Highlands       0.00      0.00      0.00        43\n",
      "     Santa Maria Valley       0.00      0.00      0.00        30\n",
      "      Santa Ynez Valley       0.00      0.00      0.00        42\n",
      "                Sicilia       1.00      0.06      0.11        35\n",
      "       Sierra Foothills       0.00      0.00      0.00        29\n",
      "           Sonoma Coast       0.00      0.00      0.00        95\n",
      "          Sonoma County       0.00      0.00      0.00        42\n",
      "          Sonoma Valley       0.35      0.82      0.49       191\n",
      "                   Tejo       0.00      0.00      0.00        40\n",
      "        Temecula Valley       0.00      0.00      0.00        23\n",
      "                Toscana       0.00      0.00      0.00        31\n",
      "             Uco Valley       0.00      0.00      0.00        27\n",
      "          Vin de France       1.00      0.75      0.86        32\n",
      "            Vinho Verde       0.75      0.09      0.16        34\n",
      "               Virginia       1.00      0.82      0.90        28\n",
      "Walla Walla Valley (WA)       0.00      0.00      0.00        50\n",
      "      Willamette Valley       0.45      1.00      0.62       127\n",
      "          Yakima Valley       0.00      0.00      0.00        46\n",
      "        Yamhill-Carlton       0.00      0.00      0.00        25\n",
      "\n",
      "               accuracy                           0.44      4156\n",
      "              macro avg       0.26      0.22      0.19      4156\n",
      "           weighted avg       0.34      0.44      0.32      4156\n",
      "\n"
     ]
    },
    {
     "name": "stderr",
     "output_type": "stream",
     "text": [
      "/Users/Mariagimenoperez/anaconda3/lib/python3.6/site-packages/sklearn/metrics/classification.py:1437: UndefinedMetricWarning: Precision and F-score are ill-defined and being set to 0.0 in labels with no predicted samples.\n",
      "  'precision', 'predicted', average, warn_for)\n"
     ]
    }
   ],
   "source": [
    "print(classification_report(y_test1, predicteds7))"
   ]
  },
  {
   "cell_type": "markdown",
   "metadata": {},
   "source": [
    "### NATIVE BAYES, COUNTVECTORIZER AND TFDFVECTORIZER\n",
    "\n",
    "The best accuracy I got in MultinomialNB with CountVectorizer. MultinomialNB is one of the two classic Naive Bayes variants used in text classification.\n",
    "\n",
    "Logistic Regression and some of the Random Forest Classifier models perform better than Native Bayes in this data set, with higher accuracy.\n",
    "\n",
    "All of the models have better scores than the baseline\n"
   ]
  },
  {
   "cell_type": "code",
   "execution_count": 65,
   "metadata": {},
   "outputs": [
    {
     "data": {
      "text/plain": [
       "0.4793070259865255"
      ]
     },
     "execution_count": 65,
     "metadata": {},
     "output_type": "execute_result"
    }
   ],
   "source": [
    "# MultinomialNB with CountVectorizer\n",
    "pipelines8 = Pipeline([\n",
    "    ('vect', cvec),\n",
    "    ('cls', MultinomialNB())\n",
    "])\n",
    "pipelines8.fit(X_train1, y_train1)\n",
    "predicteds8 = pipelines8.predict(X_test1)\n",
    "pipelines8.score(X_test1, y_test1)"
   ]
  },
  {
   "cell_type": "code",
   "execution_count": 66,
   "metadata": {},
   "outputs": [
    {
     "name": "stdout",
     "output_type": "stream",
     "text": [
      "                         precision    recall  f1-score   support\n",
      "\n",
      "      Adelaida District       0.00      0.00      0.00        26\n",
      "             Alentejano       0.60      0.12      0.20        50\n",
      "       Alexander Valley       0.00      0.00      0.00        24\n",
      "                 Alsace       0.64      1.00      0.78       152\n",
      "             Alto Adige       0.70      0.94      0.80        35\n",
      "          Amador County       0.00      0.00      0.00        31\n",
      "        Anderson Valley       0.00      0.00      0.00        31\n",
      "             Barbaresco       0.00      0.00      0.00        38\n",
      "                 Barolo       0.45      1.00      0.62       158\n",
      "               Bordeaux       0.31      1.00      0.48       155\n",
      " Brunello di Montalcino       0.56      0.06      0.11        84\n",
      "             Burgenland       0.67      0.15      0.25        39\n",
      "                 Cahors       1.00      0.08      0.15        38\n",
      "             California       0.33      0.80      0.47       240\n",
      "               Carneros       0.00      0.00      0.00        45\n",
      "          Central Coast       0.00      0.00      0.00        37\n",
      "              Champagne       0.76      0.94      0.84       104\n",
      "     Chehalem Mountains       0.00      0.00      0.00        21\n",
      "       Chianti Classico       0.48      0.27      0.34        56\n",
      "    Châteauneuf-du-Pape       0.51      1.00      0.68        41\n",
      "       Colchagua Valley       0.50      0.03      0.05        35\n",
      "   Columbia Valley (WA)       0.55      1.00      0.71       171\n",
      "       Crémant d'Alsace       0.00      0.00      0.00        24\n",
      "      Côtes de Gascogne       1.00      0.05      0.09        22\n",
      "      Côtes de Provence       0.88      0.34      0.49        62\n",
      "         Côtes du Rhône       0.60      0.19      0.29        32\n",
      "                  Douro       0.64      0.37      0.46        63\n",
      "       Dry Creek Valley       0.00      0.00      0.00        40\n",
      "           Dundee Hills       0.00      0.00      0.00        38\n",
      "              El Dorado       0.00      0.00      0.00        24\n",
      "       Eola-Amity Hills       0.00      0.00      0.00        31\n",
      "                   Etna       0.57      0.15      0.24        27\n",
      "           Finger Lakes       0.95      0.98      0.97        63\n",
      "               Gigondas       0.00      0.00      0.00        21\n",
      "                 Lisboa       0.00      0.00      0.00        37\n",
      "       Livermore Valley       0.00      0.00      0.00        24\n",
      "                   Lodi       0.00      0.00      0.00        50\n",
      "           Maipo Valley       0.00      0.00      0.00        21\n",
      "            Marlborough       0.91      0.97      0.94        62\n",
      "           McLaren Vale       0.94      0.78      0.85        37\n",
      "                Mendoza       0.45      0.37      0.41        67\n",
      "               Monterey       0.00      0.00      0.00        20\n",
      "                  Mosel       0.65      1.00      0.79        48\n",
      "            Napa Valley       0.56      0.72      0.63       158\n",
      "       Niederösterreich       0.00      0.00      0.00        32\n",
      "                 Oregon       0.00      0.00      0.00        20\n",
      "            Paso Robles       0.31      0.82      0.45       121\n",
      "                Penedes       1.00      0.43      0.60        28\n",
      "                   Port       1.00      0.26      0.41        47\n",
      "           Red Mountain       0.00      0.00      0.00        39\n",
      "            Rheinhessen       0.00      0.00      0.00        21\n",
      "       Ribera del Duero       0.00      0.00      0.00        36\n",
      "                  Rioja       0.40      0.99      0.57        98\n",
      "           Rogue Valley       0.00      0.00      0.00        22\n",
      "          Saint-Émilion       1.00      0.03      0.06        31\n",
      "               Sancerre       1.00      0.03      0.06        30\n",
      "   Santa Barbara County       0.33      0.02      0.04        51\n",
      "   Santa Cruz Mountains       0.00      0.00      0.00        28\n",
      "  Santa Lucia Highlands       0.00      0.00      0.00        43\n",
      "     Santa Maria Valley       0.00      0.00      0.00        30\n",
      "      Santa Ynez Valley       0.00      0.00      0.00        42\n",
      "                Sicilia       0.80      0.34      0.48        35\n",
      "       Sierra Foothills       0.00      0.00      0.00        29\n",
      "           Sonoma Coast       0.92      0.13      0.22        95\n",
      "          Sonoma County       0.00      0.00      0.00        42\n",
      "          Sonoma Valley       0.42      0.77      0.54       191\n",
      "                   Tejo       0.00      0.00      0.00        40\n",
      "        Temecula Valley       0.00      0.00      0.00        23\n",
      "                Toscana       0.67      0.06      0.12        31\n",
      "             Uco Valley       1.00      0.04      0.07        27\n",
      "          Vin de France       1.00      0.62      0.77        32\n",
      "            Vinho Verde       1.00      0.18      0.30        34\n",
      "               Virginia       1.00      0.43      0.60        28\n",
      "Walla Walla Valley (WA)       1.00      0.02      0.04        50\n",
      "      Willamette Valley       0.45      1.00      0.62       127\n",
      "          Yakima Valley       0.00      0.00      0.00        46\n",
      "        Yamhill-Carlton       0.00      0.00      0.00        25\n",
      "\n",
      "               accuracy                           0.48      4156\n",
      "              macro avg       0.38      0.27      0.24      4156\n",
      "           weighted avg       0.44      0.48      0.37      4156\n",
      "\n"
     ]
    },
    {
     "name": "stderr",
     "output_type": "stream",
     "text": [
      "/Users/Mariagimenoperez/anaconda3/lib/python3.6/site-packages/sklearn/metrics/classification.py:1437: UndefinedMetricWarning: Precision and F-score are ill-defined and being set to 0.0 in labels with no predicted samples.\n",
      "  'precision', 'predicted', average, warn_for)\n"
     ]
    }
   ],
   "source": [
    "print(classification_report(y_test1, predicteds8))"
   ]
  },
  {
   "cell_type": "code",
   "execution_count": 67,
   "metadata": {},
   "outputs": [
    {
     "data": {
      "text/plain": [
       "0.40495668912415783"
      ]
     },
     "execution_count": 67,
     "metadata": {},
     "output_type": "execute_result"
    }
   ],
   "source": [
    "# BernoulliNB with CountVectorizer\n",
    "pipelines9 = Pipeline([\n",
    "    ('vect', cvec),\n",
    "    ('cls', BernoulliNB())\n",
    "])\n",
    "pipelines9.fit(X_train1, y_train1)\n",
    "predicteds9 = pipelines9.predict(X_test1)\n",
    "pipelines9.score(X_test1, y_test1)"
   ]
  },
  {
   "cell_type": "code",
   "execution_count": 69,
   "metadata": {},
   "outputs": [
    {
     "name": "stdout",
     "output_type": "stream",
     "text": [
      "                         precision    recall  f1-score   support\n",
      "\n",
      "      Adelaida District       0.00      0.00      0.00        26\n",
      "             Alentejano       0.00      0.00      0.00        50\n",
      "       Alexander Valley       0.00      0.00      0.00        24\n",
      "                 Alsace       0.62      1.00      0.76       152\n",
      "             Alto Adige       0.83      0.29      0.43        35\n",
      "          Amador County       0.00      0.00      0.00        31\n",
      "        Anderson Valley       0.00      0.00      0.00        31\n",
      "             Barbaresco       0.00      0.00      0.00        38\n",
      "                 Barolo       0.39      1.00      0.56       158\n",
      "               Bordeaux       0.25      1.00      0.39       155\n",
      " Brunello di Montalcino       0.00      0.00      0.00        84\n",
      "             Burgenland       0.00      0.00      0.00        39\n",
      "                 Cahors       0.00      0.00      0.00        38\n",
      "             California       0.25      0.86      0.39       240\n",
      "               Carneros       0.00      0.00      0.00        45\n",
      "          Central Coast       0.00      0.00      0.00        37\n",
      "              Champagne       0.95      0.76      0.84       104\n",
      "     Chehalem Mountains       0.00      0.00      0.00        21\n",
      "       Chianti Classico       0.33      0.02      0.03        56\n",
      "    Châteauneuf-du-Pape       0.60      0.59      0.59        41\n",
      "       Colchagua Valley       0.00      0.00      0.00        35\n",
      "   Columbia Valley (WA)       0.55      1.00      0.71       171\n",
      "       Crémant d'Alsace       0.00      0.00      0.00        24\n",
      "      Côtes de Gascogne       0.00      0.00      0.00        22\n",
      "      Côtes de Provence       1.00      0.03      0.06        62\n",
      "         Côtes du Rhône       0.00      0.00      0.00        32\n",
      "                  Douro       1.00      0.05      0.09        63\n",
      "       Dry Creek Valley       0.00      0.00      0.00        40\n",
      "           Dundee Hills       0.00      0.00      0.00        38\n",
      "              El Dorado       0.00      0.00      0.00        24\n",
      "       Eola-Amity Hills       0.00      0.00      0.00        31\n",
      "                   Etna       0.00      0.00      0.00        27\n",
      "           Finger Lakes       1.00      0.68      0.81        63\n",
      "               Gigondas       0.00      0.00      0.00        21\n",
      "                 Lisboa       0.00      0.00      0.00        37\n",
      "       Livermore Valley       0.00      0.00      0.00        24\n",
      "                   Lodi       0.00      0.00      0.00        50\n",
      "           Maipo Valley       0.00      0.00      0.00        21\n",
      "            Marlborough       0.83      0.87      0.85        62\n",
      "           McLaren Vale       1.00      0.14      0.24        37\n",
      "                Mendoza       0.62      0.07      0.13        67\n",
      "               Monterey       0.00      0.00      0.00        20\n",
      "                  Mosel       0.72      0.92      0.81        48\n",
      "            Napa Valley       0.64      0.66      0.65       158\n",
      "       Niederösterreich       0.00      0.00      0.00        32\n",
      "                 Oregon       0.00      0.00      0.00        20\n",
      "            Paso Robles       0.35      0.67      0.46       121\n",
      "                Penedes       0.00      0.00      0.00        28\n",
      "                   Port       0.00      0.00      0.00        47\n",
      "           Red Mountain       0.00      0.00      0.00        39\n",
      "            Rheinhessen       0.00      0.00      0.00        21\n",
      "       Ribera del Duero       0.00      0.00      0.00        36\n",
      "                  Rioja       0.32      1.00      0.49        98\n",
      "           Rogue Valley       0.00      0.00      0.00        22\n",
      "          Saint-Émilion       0.00      0.00      0.00        31\n",
      "               Sancerre       0.00      0.00      0.00        30\n",
      "   Santa Barbara County       0.00      0.00      0.00        51\n",
      "   Santa Cruz Mountains       0.00      0.00      0.00        28\n",
      "  Santa Lucia Highlands       0.00      0.00      0.00        43\n",
      "     Santa Maria Valley       0.00      0.00      0.00        30\n",
      "      Santa Ynez Valley       0.00      0.00      0.00        42\n",
      "                Sicilia       0.17      0.03      0.05        35\n",
      "       Sierra Foothills       0.00      0.00      0.00        29\n",
      "           Sonoma Coast       1.00      0.01      0.02        95\n",
      "          Sonoma County       0.00      0.00      0.00        42\n",
      "          Sonoma Valley       0.37      0.83      0.51       191\n",
      "                   Tejo       0.00      0.00      0.00        40\n",
      "        Temecula Valley       0.00      0.00      0.00        23\n",
      "                Toscana       0.00      0.00      0.00        31\n",
      "             Uco Valley       0.00      0.00      0.00        27\n",
      "          Vin de France       0.00      0.00      0.00        32\n",
      "            Vinho Verde       0.00      0.00      0.00        34\n",
      "               Virginia       0.00      0.00      0.00        28\n",
      "Walla Walla Valley (WA)       0.00      0.00      0.00        50\n",
      "      Willamette Valley       0.46      1.00      0.63       127\n",
      "          Yakima Valley       0.00      0.00      0.00        46\n",
      "        Yamhill-Carlton       0.00      0.00      0.00        25\n",
      "\n",
      "               accuracy                           0.40      4156\n",
      "              macro avg       0.19      0.17      0.14      4156\n",
      "           weighted avg       0.31      0.40      0.28      4156\n",
      "\n"
     ]
    }
   ],
   "source": [
    "print(classification_report(y_test1, predicteds9))"
   ]
  },
  {
   "cell_type": "code",
   "execution_count": 70,
   "metadata": {},
   "outputs": [
    {
     "data": {
      "text/plain": [
       "0.4025505293551492"
      ]
     },
     "execution_count": 70,
     "metadata": {},
     "output_type": "execute_result"
    }
   ],
   "source": [
    "# MultinomialNB with TdidfVectorizer\n",
    "pipelines10 = Pipeline([\n",
    "    ('vect',vect) ,\n",
    "    ('cls', MultinomialNB())\n",
    "])\n",
    "pipelines10.fit(X_train1, y_train1)\n",
    "predicteds10 = pipelines10.predict(X_test1)\n",
    "pipelines10.score(X_test1, y_test1)"
   ]
  },
  {
   "cell_type": "code",
   "execution_count": 71,
   "metadata": {},
   "outputs": [
    {
     "name": "stdout",
     "output_type": "stream",
     "text": [
      "                         precision    recall  f1-score   support\n",
      "\n",
      "      Adelaida District       0.00      0.00      0.00        26\n",
      "             Alentejano       0.00      0.00      0.00        50\n",
      "       Alexander Valley       0.00      0.00      0.00        24\n",
      "                 Alsace       0.61      1.00      0.75       152\n",
      "             Alto Adige       0.79      0.54      0.64        35\n",
      "          Amador County       0.00      0.00      0.00        31\n",
      "        Anderson Valley       0.00      0.00      0.00        31\n",
      "             Barbaresco       0.00      0.00      0.00        38\n",
      "                 Barolo       0.37      1.00      0.54       158\n",
      "               Bordeaux       0.25      1.00      0.40       155\n",
      " Brunello di Montalcino       0.00      0.00      0.00        84\n",
      "             Burgenland       0.00      0.00      0.00        39\n",
      "                 Cahors       0.00      0.00      0.00        38\n",
      "             California       0.23      0.94      0.37       240\n",
      "               Carneros       0.00      0.00      0.00        45\n",
      "          Central Coast       0.00      0.00      0.00        37\n",
      "              Champagne       0.94      0.80      0.86       104\n",
      "     Chehalem Mountains       0.00      0.00      0.00        21\n",
      "       Chianti Classico       0.00      0.00      0.00        56\n",
      "    Châteauneuf-du-Pape       0.54      0.61      0.57        41\n",
      "       Colchagua Valley       0.00      0.00      0.00        35\n",
      "   Columbia Valley (WA)       0.54      1.00      0.70       171\n",
      "       Crémant d'Alsace       0.00      0.00      0.00        24\n",
      "      Côtes de Gascogne       0.00      0.00      0.00        22\n",
      "      Côtes de Provence       1.00      0.06      0.12        62\n",
      "         Côtes du Rhône       0.00      0.00      0.00        32\n",
      "                  Douro       1.00      0.08      0.15        63\n",
      "       Dry Creek Valley       0.00      0.00      0.00        40\n",
      "           Dundee Hills       0.00      0.00      0.00        38\n",
      "              El Dorado       0.00      0.00      0.00        24\n",
      "       Eola-Amity Hills       0.00      0.00      0.00        31\n",
      "                   Etna       1.00      0.07      0.14        27\n",
      "           Finger Lakes       1.00      0.62      0.76        63\n",
      "               Gigondas       0.00      0.00      0.00        21\n",
      "                 Lisboa       0.00      0.00      0.00        37\n",
      "       Livermore Valley       0.00      0.00      0.00        24\n",
      "                   Lodi       0.00      0.00      0.00        50\n",
      "           Maipo Valley       0.00      0.00      0.00        21\n",
      "            Marlborough       1.00      0.74      0.85        62\n",
      "           McLaren Vale       1.00      0.03      0.05        37\n",
      "                Mendoza       0.75      0.09      0.16        67\n",
      "               Monterey       0.00      0.00      0.00        20\n",
      "                  Mosel       0.69      0.96      0.80        48\n",
      "            Napa Valley       0.63      0.66      0.65       158\n",
      "       Niederösterreich       0.00      0.00      0.00        32\n",
      "                 Oregon       0.00      0.00      0.00        20\n",
      "            Paso Robles       0.46      0.41      0.44       121\n",
      "                Penedes       0.00      0.00      0.00        28\n",
      "                   Port       0.00      0.00      0.00        47\n",
      "           Red Mountain       0.00      0.00      0.00        39\n",
      "            Rheinhessen       0.00      0.00      0.00        21\n",
      "       Ribera del Duero       0.00      0.00      0.00        36\n",
      "                  Rioja       0.35      0.95      0.51        98\n",
      "           Rogue Valley       0.00      0.00      0.00        22\n",
      "          Saint-Émilion       0.00      0.00      0.00        31\n",
      "               Sancerre       0.00      0.00      0.00        30\n",
      "   Santa Barbara County       0.00      0.00      0.00        51\n",
      "   Santa Cruz Mountains       0.00      0.00      0.00        28\n",
      "  Santa Lucia Highlands       0.00      0.00      0.00        43\n",
      "     Santa Maria Valley       0.00      0.00      0.00        30\n",
      "      Santa Ynez Valley       0.00      0.00      0.00        42\n",
      "                Sicilia       0.60      0.09      0.15        35\n",
      "       Sierra Foothills       0.00      0.00      0.00        29\n",
      "           Sonoma Coast       0.00      0.00      0.00        95\n",
      "          Sonoma County       0.00      0.00      0.00        42\n",
      "          Sonoma Valley       0.38      0.83      0.52       191\n",
      "                   Tejo       0.00      0.00      0.00        40\n",
      "        Temecula Valley       0.00      0.00      0.00        23\n",
      "                Toscana       0.00      0.00      0.00        31\n",
      "             Uco Valley       0.00      0.00      0.00        27\n",
      "          Vin de France       1.00      0.06      0.12        32\n",
      "            Vinho Verde       0.00      0.00      0.00        34\n",
      "               Virginia       0.00      0.00      0.00        28\n",
      "Walla Walla Valley (WA)       0.00      0.00      0.00        50\n",
      "      Willamette Valley       0.47      0.98      0.63       127\n",
      "          Yakima Valley       0.00      0.00      0.00        46\n",
      "        Yamhill-Carlton       0.00      0.00      0.00        25\n",
      "\n",
      "               accuracy                           0.40      4156\n",
      "              macro avg       0.20      0.18      0.14      4156\n",
      "           weighted avg       0.30      0.40      0.28      4156\n",
      "\n"
     ]
    },
    {
     "name": "stderr",
     "output_type": "stream",
     "text": [
      "/Users/Mariagimenoperez/anaconda3/lib/python3.6/site-packages/sklearn/metrics/classification.py:1437: UndefinedMetricWarning: Precision and F-score are ill-defined and being set to 0.0 in labels with no predicted samples.\n",
      "  'precision', 'predicted', average, warn_for)\n"
     ]
    }
   ],
   "source": [
    "print(classification_report(y_test1, predicteds10))"
   ]
  },
  {
   "cell_type": "code",
   "execution_count": 72,
   "metadata": {},
   "outputs": [
    {
     "data": {
      "text/plain": [
       "0.40495668912415783"
      ]
     },
     "execution_count": 72,
     "metadata": {},
     "output_type": "execute_result"
    }
   ],
   "source": [
    "# BernoulliNB with  TdidfVectorizer\n",
    "pipelines11 = Pipeline([\n",
    "    ('vect', vect),\n",
    "    ('cls', BernoulliNB())\n",
    "])\n",
    "pipelines11.fit(X_train1, y_train1)\n",
    "predicteds11 = pipelines11.predict(X_test1)\n",
    "pipelines11.score(X_test1, y_test1)"
   ]
  },
  {
   "cell_type": "markdown",
   "metadata": {},
   "source": [
    "The best score I got it was in CountVectorizer and Logistic Regression with Lasso Regularizations. The rest of the models performed good better than the baseline.\n"
   ]
  },
  {
   "cell_type": "markdown",
   "metadata": {},
   "source": [
    "# BIG DATASET"
   ]
  },
  {
   "cell_type": "markdown",
   "metadata": {},
   "source": [
    "By looking at the provinces, we can find out that there are 450 provinces in this dataset. Each one having different number of inputs, many of them having only one. Certainly, the latter ones will not be of use, because we will not be able to train and test on one sample. I will keep the provinces thay appear more than 100 times. I will also reduce the number by joining some of them.\n",
    "\n",
    "I am going to train the models that perform better in the small dataset."
   ]
  },
  {
   "cell_type": "code",
   "execution_count": 18,
   "metadata": {},
   "outputs": [],
   "source": [
    "vino = pd.read_csv('big_wineV1.csv')"
   ]
  },
  {
   "cell_type": "code",
   "execution_count": 45,
   "metadata": {
    "scrolled": true
   },
   "outputs": [
    {
     "data": {
      "text/html": [
       "<div>\n",
       "<style scoped>\n",
       "    .dataframe tbody tr th:only-of-type {\n",
       "        vertical-align: middle;\n",
       "    }\n",
       "\n",
       "    .dataframe tbody tr th {\n",
       "        vertical-align: top;\n",
       "    }\n",
       "\n",
       "    .dataframe thead th {\n",
       "        text-align: right;\n",
       "    }\n",
       "</style>\n",
       "<table border=\"1\" class=\"dataframe\">\n",
       "  <thead>\n",
       "    <tr style=\"text-align: right;\">\n",
       "      <th></th>\n",
       "      <th>Unnamed: 0</th>\n",
       "      <th>country</th>\n",
       "      <th>description</th>\n",
       "      <th>designation</th>\n",
       "      <th>points</th>\n",
       "      <th>price</th>\n",
       "      <th>province</th>\n",
       "      <th>region_1</th>\n",
       "      <th>taster_name</th>\n",
       "      <th>title</th>\n",
       "      <th>variety</th>\n",
       "      <th>winery</th>\n",
       "      <th>vintage</th>\n",
       "    </tr>\n",
       "  </thead>\n",
       "  <tbody>\n",
       "    <tr>\n",
       "      <th>0</th>\n",
       "      <td>1</td>\n",
       "      <td>Portugal</td>\n",
       "      <td>This is ripe and fruity, a wine that is smooth...</td>\n",
       "      <td>Avidagos</td>\n",
       "      <td>87</td>\n",
       "      <td>15.0</td>\n",
       "      <td>Douro</td>\n",
       "      <td>NaN</td>\n",
       "      <td>Roger Voss</td>\n",
       "      <td>Quinta dos Avidagos 2011 Avidagos Red (Douro)</td>\n",
       "      <td>Portuguese Red</td>\n",
       "      <td>Quinta dos Avidagos</td>\n",
       "      <td>2011.0</td>\n",
       "    </tr>\n",
       "    <tr>\n",
       "      <th>1</th>\n",
       "      <td>2</td>\n",
       "      <td>US</td>\n",
       "      <td>Tart and snappy, the flavors of lime flesh and...</td>\n",
       "      <td>NaN</td>\n",
       "      <td>87</td>\n",
       "      <td>14.0</td>\n",
       "      <td>Oregon</td>\n",
       "      <td>Willamette Valley</td>\n",
       "      <td>Paul Gregutt</td>\n",
       "      <td>Rainstorm 2013 Pinot Gris (Willamette Valley)</td>\n",
       "      <td>Pinot Gris</td>\n",
       "      <td>Rainstorm</td>\n",
       "      <td>2013.0</td>\n",
       "    </tr>\n",
       "    <tr>\n",
       "      <th>2</th>\n",
       "      <td>3</td>\n",
       "      <td>US</td>\n",
       "      <td>Pineapple rind, lemon pith and orange blossom ...</td>\n",
       "      <td>Reserve Late Harvest</td>\n",
       "      <td>87</td>\n",
       "      <td>13.0</td>\n",
       "      <td>Michigan</td>\n",
       "      <td>Lake Michigan Shore</td>\n",
       "      <td>Alexander Peartree</td>\n",
       "      <td>St. Julian 2013 Reserve Late Harvest Riesling ...</td>\n",
       "      <td>Riesling</td>\n",
       "      <td>St. Julian</td>\n",
       "      <td>2013.0</td>\n",
       "    </tr>\n",
       "    <tr>\n",
       "      <th>3</th>\n",
       "      <td>4</td>\n",
       "      <td>US</td>\n",
       "      <td>Much like the regular bottling from 2012, this...</td>\n",
       "      <td>Vintner's Reserve Wild Child Block</td>\n",
       "      <td>87</td>\n",
       "      <td>65.0</td>\n",
       "      <td>Oregon</td>\n",
       "      <td>Willamette Valley</td>\n",
       "      <td>Paul Gregutt</td>\n",
       "      <td>Sweet Cheeks 2012 Vintner's Reserve Wild Child...</td>\n",
       "      <td>Pinot Noir</td>\n",
       "      <td>Sweet Cheeks</td>\n",
       "      <td>2012.0</td>\n",
       "    </tr>\n",
       "    <tr>\n",
       "      <th>4</th>\n",
       "      <td>5</td>\n",
       "      <td>Spain</td>\n",
       "      <td>Blackberry and raspberry aromas show a typical...</td>\n",
       "      <td>Ars In Vitro</td>\n",
       "      <td>87</td>\n",
       "      <td>15.0</td>\n",
       "      <td>Northern Spain</td>\n",
       "      <td>Navarra</td>\n",
       "      <td>Michael Schachner</td>\n",
       "      <td>Tandem 2011 Ars In Vitro Tempranillo-Merlot (N...</td>\n",
       "      <td>Tempranillo-Merlot</td>\n",
       "      <td>Tandem</td>\n",
       "      <td>2011.0</td>\n",
       "    </tr>\n",
       "  </tbody>\n",
       "</table>\n",
       "</div>"
      ],
      "text/plain": [
       "   Unnamed: 0   country                                        description  \\\n",
       "0           1  Portugal  This is ripe and fruity, a wine that is smooth...   \n",
       "1           2        US  Tart and snappy, the flavors of lime flesh and...   \n",
       "2           3        US  Pineapple rind, lemon pith and orange blossom ...   \n",
       "3           4        US  Much like the regular bottling from 2012, this...   \n",
       "4           5     Spain  Blackberry and raspberry aromas show a typical...   \n",
       "\n",
       "                          designation  points  price        province  \\\n",
       "0                            Avidagos      87   15.0           Douro   \n",
       "1                                 NaN      87   14.0          Oregon   \n",
       "2                Reserve Late Harvest      87   13.0        Michigan   \n",
       "3  Vintner's Reserve Wild Child Block      87   65.0          Oregon   \n",
       "4                        Ars In Vitro      87   15.0  Northern Spain   \n",
       "\n",
       "              region_1         taster_name  \\\n",
       "0                  NaN          Roger Voss   \n",
       "1    Willamette Valley        Paul Gregutt   \n",
       "2  Lake Michigan Shore  Alexander Peartree   \n",
       "3    Willamette Valley        Paul Gregutt   \n",
       "4              Navarra   Michael Schachner   \n",
       "\n",
       "                                               title             variety  \\\n",
       "0      Quinta dos Avidagos 2011 Avidagos Red (Douro)      Portuguese Red   \n",
       "1      Rainstorm 2013 Pinot Gris (Willamette Valley)          Pinot Gris   \n",
       "2  St. Julian 2013 Reserve Late Harvest Riesling ...            Riesling   \n",
       "3  Sweet Cheeks 2012 Vintner's Reserve Wild Child...          Pinot Noir   \n",
       "4  Tandem 2011 Ars In Vitro Tempranillo-Merlot (N...  Tempranillo-Merlot   \n",
       "\n",
       "                winery  vintage  \n",
       "0  Quinta dos Avidagos   2011.0  \n",
       "1            Rainstorm   2013.0  \n",
       "2           St. Julian   2013.0  \n",
       "3         Sweet Cheeks   2012.0  \n",
       "4               Tandem   2011.0  "
      ]
     },
     "execution_count": 45,
     "metadata": {},
     "output_type": "execute_result"
    }
   ],
   "source": [
    "vino.head()"
   ]
  },
  {
   "cell_type": "markdown",
   "metadata": {},
   "source": []
  },
  {
   "cell_type": "code",
   "execution_count": 19,
   "metadata": {},
   "outputs": [],
   "source": [
    "vino1 = vino[vino['province'].map(vino['province'].value_counts()) > 100]"
   ]
  },
  {
   "cell_type": "code",
   "execution_count": 22,
   "metadata": {},
   "outputs": [],
   "source": [
    "vino1.province = vino1.province.apply(lambda x: str(x).replace('Blaye Côtes de Bordeaux', 'Bordeaux').\n",
    "                                    replace('Bordeaux Rosé', 'Bordeaux').replace('Bordeaux Supérieur', 'Bordeaux').\n",
    "                                   replace('Bordeaux Blanc', 'Bordeaux').replace('Sta. Rita Hills', 'California').\n",
    "                                   replace('Cava', 'Penedes').replace('Mendocino County', 'California').\n",
    "                                   replace('Russian River Valley', 'Sonoma Valley').replace('North Coast', 'Sonoma Valley')\n",
    "                                  )"
   ]
  },
  {
   "cell_type": "code",
   "execution_count": 21,
   "metadata": {},
   "outputs": [
    {
     "data": {
      "text/plain": [
       "84"
      ]
     },
     "execution_count": 21,
     "metadata": {},
     "output_type": "execute_result"
    }
   ],
   "source": [
    "len(vino1.province.unique())"
   ]
  },
  {
   "cell_type": "code",
   "execution_count": 49,
   "metadata": {},
   "outputs": [
    {
     "name": "stdout",
     "output_type": "stream",
     "text": [
      "There are 84 types of province in this dataset such as Douro, Oregon, Michigan, Northern Spain, Sicily & Sardinia... \n",
      "\n"
     ]
    }
   ],
   "source": [
    "print(\"There are {} types of province in this dataset such as {}... \\n\".\n",
    "      format(len(vino1.province.unique()), \", \".join(vino.province.unique()[0:5])))"
   ]
  },
  {
   "cell_type": "code",
   "execution_count": 51,
   "metadata": {},
   "outputs": [
    {
     "name": "stdout",
     "output_type": "stream",
     "text": [
      "The province baseline is 0.30702786353264433\n"
     ]
    }
   ],
   "source": [
    "print('The province baseline is', vino1.province.value_counts(normalize=True).max())"
   ]
  },
  {
   "cell_type": "markdown",
   "metadata": {},
   "source": [
    "### DEFINE THE VARIABLE PROVINCE AS A TARGET"
   ]
  },
  {
   "cell_type": "code",
   "execution_count": 23,
   "metadata": {},
   "outputs": [],
   "source": [
    "yb = vino1.province\n",
    "Xb =  vino1.description"
   ]
  },
  {
   "cell_type": "code",
   "execution_count": 24,
   "metadata": {},
   "outputs": [
    {
     "data": {
      "text/plain": [
       "((126653,), (126653,))"
      ]
     },
     "execution_count": 24,
     "metadata": {},
     "output_type": "execute_result"
    }
   ],
   "source": [
    "yb.shape, Xb.shape"
   ]
  },
  {
   "cell_type": "code",
   "execution_count": 25,
   "metadata": {},
   "outputs": [],
   "source": [
    "#Split and stratify the data\n",
    "X_trainb, X_testb, y_trainb, y_testb = train_test_split(Xb, yb, test_size=0.2, stratify = yb, random_state = 1)"
   ]
  },
  {
   "cell_type": "markdown",
   "metadata": {},
   "source": [
    "###  LOGISTIC REGRESSION,  COUNTVECTORIZER AND  TFIDFVECTORIZER  "
   ]
  },
  {
   "cell_type": "markdown",
   "metadata": {},
   "source": [
    "The best acurracy I obtained in this dataset with Logistic Regression was in CountVectorizer with multi_class 'ovr'. The same whats happend in the small dataset. The cross validation score is very similar to the accuracy for this model.\n",
    "\n",
    "All of the models have better scores than the baseline."
   ]
  },
  {
   "cell_type": "code",
   "execution_count": 26,
   "metadata": {},
   "outputs": [],
   "source": [
    "cvec = CountVectorizer(strip_accents='unicode', stop_words=\"english\", ngram_range=(1, 1))"
   ]
  },
  {
   "cell_type": "code",
   "execution_count": 95,
   "metadata": {},
   "outputs": [
    {
     "data": {
      "text/plain": [
       "<126653x30257 sparse matrix of type '<class 'numpy.int64'>'\n",
       "\twith 3008837 stored elements in Compressed Sparse Row format>"
      ]
     },
     "execution_count": 95,
     "metadata": {},
     "output_type": "execute_result"
    }
   ],
   "source": [
    "cvec.fit_transform(Xb)"
   ]
  },
  {
   "cell_type": "code",
   "execution_count": 96,
   "metadata": {
    "scrolled": true
   },
   "outputs": [
    {
     "name": "stderr",
     "output_type": "stream",
     "text": [
      "[Parallel(n_jobs=2)]: Using backend LokyBackend with 2 concurrent workers.\n",
      "[Parallel(n_jobs=2)]: Done  46 tasks      | elapsed:   29.1s\n",
      "[Parallel(n_jobs=2)]: Done  84 out of  84 | elapsed:   52.8s finished\n"
     ]
    },
    {
     "data": {
      "text/plain": [
       "0.7073546247680708"
      ]
     },
     "execution_count": 96,
     "metadata": {},
     "output_type": "execute_result"
    }
   ],
   "source": [
    "# CountVectorizer and Logisitic Regression with Ridge regularization\n",
    "pipeline = Pipeline([\n",
    "    ('vect', cvec),\n",
    "    ('cls', LogisticRegression(penalty = 'l2', solver='lbfgs', multi_class='ovr', verbose = 1, n_jobs = 2))\n",
    "])\n",
    "pipeline.fit(X_trainb, y_trainb)\n",
    "predicte = pipeline.predict(X_testb)\n",
    "pipeline.score(X_testb, y_testb)"
   ]
  },
  {
   "cell_type": "code",
   "execution_count": 97,
   "metadata": {
    "scrolled": true
   },
   "outputs": [
    {
     "name": "stderr",
     "output_type": "stream",
     "text": [
      "/Users/Mariagimenoperez/anaconda3/lib/python3.6/site-packages/sklearn/metrics/classification.py:1437: UndefinedMetricWarning: Precision and F-score are ill-defined and being set to 0.0 in labels with no predicted samples.\n",
      "  'precision', 'predicted', average, warn_for)\n"
     ]
    },
    {
     "name": "stdout",
     "output_type": "stream",
     "text": [
      "                      precision    recall  f1-score   support\n",
      "\n",
      "    Aconcagua Valley       0.00      0.00      0.00        22\n",
      "          Alentejano       0.45      0.26      0.33       171\n",
      "            Alentejo       0.36      0.11      0.17        35\n",
      "              Alsace       0.68      0.77      0.72       502\n",
      "             America       0.00      0.00      0.00        20\n",
      "           Andalucia       0.90      0.47      0.62        38\n",
      "     Australia Other       0.29      0.12      0.17        49\n",
      "            Bairrada       0.94      0.48      0.64        33\n",
      "          Beaujolais       0.62      0.55      0.58       206\n",
      "            Bordeaux       0.60      0.76      0.67       917\n",
      "    British Columbia       0.50      0.03      0.06        30\n",
      "          Burgenland       0.50      0.31      0.39       118\n",
      "            Burgundy       0.54      0.68      0.60       700\n",
      "    Cachapoal Valley       0.14      0.02      0.04        42\n",
      "          California       0.86      0.98      0.91      7777\n",
      "           Carnuntum       0.14      0.05      0.07        21\n",
      "   Casablanca Valley       0.32      0.25      0.28       120\n",
      "           Catalonia       0.64      0.51      0.56       247\n",
      "       Central Italy       0.66      0.44      0.53       241\n",
      "       Central Otago       0.73      0.23      0.35        35\n",
      "       Central Spain       0.28      0.11      0.16       100\n",
      "      Central Valley       0.08      0.03      0.04        73\n",
      "           Champagne       0.78      0.79      0.78       316\n",
      "      Coastal Region       0.14      0.04      0.06        25\n",
      "    Colchagua Valley       0.33      0.19      0.24       175\n",
      "       Curicó Valley       0.11      0.02      0.04        48\n",
      "               Douro       0.60      0.46      0.52       251\n",
      "                 Dão       0.69      0.40      0.51        67\n",
      "        France Other       0.33      0.15      0.20       131\n",
      "             Galicia       0.59      0.45      0.51        89\n",
      "             Galilee       0.55      0.30      0.38        61\n",
      "         Hawke's Bay       0.25      0.03      0.06        29\n",
      "               Idaho       0.00      0.00      0.00        43\n",
      "         Italy Other       0.33      0.13      0.19        30\n",
      "        Judean Hills       0.30      0.12      0.17        25\n",
      "             Kamptal       0.35      0.16      0.22        73\n",
      "            Kremstal       0.26      0.17      0.21        64\n",
      "Languedoc-Roussillon       0.53      0.57      0.55       119\n",
      "             Levante       0.76      0.44      0.56        95\n",
      "        Leyda Valley       0.41      0.22      0.29        49\n",
      "       Limarí Valley       0.50      0.05      0.09        21\n",
      "              Lisboa       0.52      0.21      0.30       104\n",
      "        Loire Valley       0.52      0.50      0.51       360\n",
      "            Lombardy       0.50      0.37      0.42       117\n",
      "        Maipo Valley       0.23      0.12      0.16       134\n",
      "         Marlborough       0.62      0.58      0.60       173\n",
      "        Maule Valley       0.23      0.10      0.14        96\n",
      "    Mendoza Province       0.45      0.59      0.51       681\n",
      "            Michigan       0.88      0.32      0.47        22\n",
      "               Mosel       0.63      0.57      0.60       227\n",
      "            New York       0.63      0.68      0.66       536\n",
      "    Niederösterreich       0.30      0.19      0.23       101\n",
      "  Northeastern Italy       0.62      0.68      0.65       412\n",
      "      Northern Spain       0.55      0.70      0.62       830\n",
      "             Ontario       1.00      0.14      0.24        22\n",
      "              Oregon       0.73      0.76      0.74      1242\n",
      "               Other       0.37      0.18      0.24       108\n",
      "Península de Setúbal       0.50      0.12      0.19        26\n",
      "               Pfalz       0.33      0.09      0.14        44\n",
      "            Piedmont       0.68      0.70      0.69       705\n",
      "                Port       0.77      0.58      0.66        96\n",
      "            Provence       0.61      0.57      0.59       247\n",
      "        Rapel Valley       0.00      0.00      0.00        34\n",
      "            Rheingau       0.23      0.11      0.14        66\n",
      "         Rheinhessen       0.45      0.28      0.35        67\n",
      "        Rhône Valley       0.71      0.68      0.70       296\n",
      "   Sicily & Sardinia       0.71      0.63      0.67       346\n",
      "     South Australia       0.60      0.54      0.57       298\n",
      "      Southern Italy       0.69      0.49      0.57       270\n",
      "    Southwest France       0.65      0.48      0.55       299\n",
      "        Stellenbosch       0.49      0.41      0.44        83\n",
      "                Tejo       0.48      0.30      0.37       132\n",
      "               Texas       0.70      0.25      0.37        28\n",
      "       Thermenregion       0.25      0.05      0.08        21\n",
      "     Thracian Valley       1.00      0.26      0.41        23\n",
      "             Tuscany       0.70      0.76      0.73      1110\n",
      "              Veneto       0.72      0.63      0.67       454\n",
      "            Victoria       0.38      0.12      0.18        69\n",
      "         Vinho Verde       0.83      0.70      0.76        79\n",
      "            Virginia       0.65      0.52      0.58       171\n",
      "              Wachau       0.31      0.21      0.25        72\n",
      "          Washington       0.79      0.82      0.80      1796\n",
      "   Western Australia       0.64      0.24      0.34        68\n",
      "        Western Cape       0.36      0.22      0.28        58\n",
      "\n",
      "            accuracy                           0.71     25331\n",
      "           macro avg       0.50      0.35      0.39     25331\n",
      "        weighted avg       0.68      0.71      0.69     25331\n",
      "\n"
     ]
    }
   ],
   "source": [
    "print(classification_report(y_testb, predicte))"
   ]
  },
  {
   "cell_type": "code",
   "execution_count": 27,
   "metadata": {},
   "outputs": [
    {
     "name": "stderr",
     "output_type": "stream",
     "text": [
      "[Parallel(n_jobs=2)]: Using backend ThreadingBackend with 2 concurrent workers.\n"
     ]
    },
    {
     "name": "stdout",
     "output_type": "stream",
     "text": [
      "max_iter reached after 31 seconds\n"
     ]
    },
    {
     "name": "stderr",
     "output_type": "stream",
     "text": [
      "/Users/Mariagimenoperez/anaconda3/lib/python3.6/site-packages/sklearn/linear_model/sag.py:337: ConvergenceWarning: The max_iter was reached which means the coef_ did not converge\n",
      "  \"the coef_ did not converge\", ConvergenceWarning)\n"
     ]
    },
    {
     "name": "stdout",
     "output_type": "stream",
     "text": [
      "max_iter reached after 48 seconds\n",
      "max_iter reached after 27 seconds\n",
      "max_iter reached after 28 seconds\n",
      "max_iter reached after 28 seconds\n",
      "max_iter reached after 81 seconds\n",
      "max_iter reached after 38 seconds\n",
      "max_iter reached after 24 seconds\n",
      "max_iter reached after 48 seconds\n",
      "max_iter reached after 32 seconds\n",
      "max_iter reached after 91 seconds\n",
      "max_iter reached after 52 seconds\n",
      "max_iter reached after 35 seconds\n",
      "max_iter reached after 82 seconds\n",
      "max_iter reached after 28 seconds\n",
      "max_iter reached after 54 seconds\n",
      "max_iter reached after 65 seconds\n",
      "max_iter reached after 64 seconds\n",
      "max_iter reached after 31 seconds\n",
      "max_iter reached after 254 seconds\n",
      "max_iter reached after 44 seconds\n",
      "max_iter reached after 52 seconds\n",
      "max_iter reached after 31 seconds\n",
      "max_iter reached after 51 seconds\n",
      "max_iter reached after 40 seconds\n",
      "max_iter reached after 66 seconds\n",
      "max_iter reached after 31 seconds\n",
      "max_iter reached after 55 seconds\n",
      "max_iter reached after 41 seconds\n",
      "max_iter reached after 54 seconds\n",
      "max_iter reached after 30 seconds\n",
      "max_iter reached after 40 seconds\n",
      "max_iter reached after 34 seconds\n",
      "max_iter reached after 28 seconds\n",
      "max_iter reached after 31 seconds\n",
      "max_iter reached after 44 seconds\n",
      "max_iter reached after 46 seconds\n",
      "max_iter reached after 65 seconds\n",
      "max_iter reached after 54 seconds\n",
      "max_iter reached after 49 seconds\n",
      "max_iter reached after 40 seconds\n",
      "max_iter reached after 53 seconds\n",
      "max_iter reached after 85 seconds\n",
      "max_iter reached after 54 seconds\n",
      "max_iter reached after 75 seconds\n",
      "max_iter reached after 79 seconds\n"
     ]
    },
    {
     "name": "stderr",
     "output_type": "stream",
     "text": [
      "[Parallel(n_jobs=2)]: Done  46 tasks      | elapsed: 20.3min\n"
     ]
    },
    {
     "name": "stdout",
     "output_type": "stream",
     "text": [
      "max_iter reached after 66 seconds\n",
      "max_iter reached after 37 seconds\n",
      "max_iter reached after 135 seconds\n",
      "max_iter reached after 72 seconds\n",
      "max_iter reached after 64 seconds\n",
      "max_iter reached after 125 seconds\n",
      "max_iter reached after 96 seconds\n",
      "max_iter reached after 37 seconds\n",
      "max_iter reached after 142 seconds\n",
      "max_iter reached after 67 seconds\n",
      "max_iter reached after 32 seconds\n",
      "max_iter reached after 50 seconds\n",
      "max_iter reached after 195 seconds\n",
      "max_iter reached after 41 seconds\n",
      "max_iter reached after 84 seconds\n",
      "max_iter reached after 57 seconds\n",
      "max_iter reached after 33 seconds\n",
      "max_iter reached after 42 seconds\n",
      "max_iter reached after 42 seconds\n",
      "max_iter reached after 70 seconds\n",
      "max_iter reached after 63 seconds\n",
      "max_iter reached after 66 seconds\n",
      "max_iter reached after 89 seconds\n",
      "max_iter reached after 46 seconds\n",
      "max_iter reached after 60 seconds\n",
      "max_iter reached after 31 seconds\n",
      "max_iter reached after 43 seconds\n",
      "max_iter reached after 27 seconds\n",
      "max_iter reached after 23 seconds\n",
      "max_iter reached after 72 seconds\n",
      "max_iter reached after 93 seconds\n",
      "max_iter reached after 29 seconds\n",
      "max_iter reached after 48 seconds\n",
      "max_iter reached after 46 seconds\n",
      "max_iter reached after 65 seconds\n",
      "max_iter reached after 47 seconds\n",
      "max_iter reached after 55 seconds\n",
      "max_iter reached after 173 seconds\n"
     ]
    },
    {
     "name": "stderr",
     "output_type": "stream",
     "text": [
      "[Parallel(n_jobs=2)]: Done  84 out of  84 | elapsed: 42.0min finished\n"
     ]
    },
    {
     "data": {
      "text/plain": [
       "0.7100390825470767"
      ]
     },
     "execution_count": 27,
     "metadata": {},
     "output_type": "execute_result"
    }
   ],
   "source": [
    "# CountVectorizer and Logisitic Regression with Lasso regularization\n",
    "pipelineb1 = Pipeline([\n",
    "    ('vect', cvec),\n",
    "    ('cls', LogisticRegression(penalty = 'l1', solver='saga', multi_class='ovr', verbose = 1, n_jobs = 2))\n",
    "])\n",
    "pipelineb1.fit(X_trainb, y_trainb)\n",
    "predictedb1 = pipelineb1.predict(X_testb)\n",
    "pipelineb1.score(X_testb, y_testb)"
   ]
  },
  {
   "cell_type": "code",
   "execution_count": 28,
   "metadata": {},
   "outputs": [
    {
     "name": "stderr",
     "output_type": "stream",
     "text": [
      "[Parallel(n_jobs=2)]: Using backend LokyBackend with 2 concurrent workers.\n",
      "[Parallel(n_jobs=2)]: Done  46 tasks      | elapsed: 15.0min\n",
      "[Parallel(n_jobs=2)]: Done  84 out of  84 | elapsed: 30.1min finished\n",
      "[Parallel(n_jobs=2)]: Using backend LokyBackend with 2 concurrent workers.\n",
      "[Parallel(n_jobs=2)]: Done  46 tasks      | elapsed: 14.7min\n",
      "[Parallel(n_jobs=2)]: Done  84 out of  84 | elapsed: 30.6min finished\n",
      "[Parallel(n_jobs=2)]: Using backend LokyBackend with 2 concurrent workers.\n",
      "[Parallel(n_jobs=2)]: Done  46 tasks      | elapsed: 15.8min\n",
      "[Parallel(n_jobs=2)]: Done  84 out of  84 | elapsed: 30.6min finished\n",
      "[Parallel(n_jobs=2)]: Using backend LokyBackend with 2 concurrent workers.\n",
      "[Parallel(n_jobs=2)]: Done  46 tasks      | elapsed: 14.4min\n",
      "[Parallel(n_jobs=2)]: Done  84 out of  84 | elapsed: 28.9min finished\n",
      "[Parallel(n_jobs=2)]: Using backend LokyBackend with 2 concurrent workers.\n",
      "[Parallel(n_jobs=2)]: Done  46 tasks      | elapsed: 15.3min\n",
      "[Parallel(n_jobs=2)]: Done  84 out of  84 | elapsed: 30.3min finished\n"
     ]
    },
    {
     "name": "stdout",
     "output_type": "stream",
     "text": [
      "[0.70323661 0.70395386 0.70620465 0.70485974 0.70477461]\n",
      "0.7046058942774598\n"
     ]
    }
   ],
   "source": [
    "#Cross Validation\n",
    "cross = cross_val_score(pipelineb1, X_trainb, y_trainb, cv=5)\n",
    "print(cross)\n",
    "print(cross.mean())"
   ]
  },
  {
   "cell_type": "code",
   "execution_count": 29,
   "metadata": {},
   "outputs": [
    {
     "name": "stderr",
     "output_type": "stream",
     "text": [
      "/Users/Mariagimenoperez/anaconda3/lib/python3.6/site-packages/sklearn/metrics/classification.py:1437: UndefinedMetricWarning: Precision and F-score are ill-defined and being set to 0.0 in labels with no predicted samples.\n",
      "  'precision', 'predicted', average, warn_for)\n"
     ]
    },
    {
     "name": "stdout",
     "output_type": "stream",
     "text": [
      "                      precision    recall  f1-score   support\n",
      "\n",
      "    Aconcagua Valley       0.00      0.00      0.00        22\n",
      "          Alentejano       0.45      0.27      0.34       171\n",
      "            Alentejo       0.67      0.11      0.20        35\n",
      "              Alsace       0.68      0.79      0.73       502\n",
      "             America       0.00      0.00      0.00        20\n",
      "           Andalucia       0.85      0.61      0.71        38\n",
      "     Australia Other       0.29      0.10      0.15        49\n",
      "            Bairrada       1.00      0.55      0.71        33\n",
      "          Beaujolais       0.64      0.53      0.58       206\n",
      "            Bordeaux       0.59      0.75      0.66       917\n",
      "    British Columbia       0.00      0.00      0.00        30\n",
      "          Burgenland       0.54      0.38      0.45       118\n",
      "            Burgundy       0.55      0.71      0.62       700\n",
      "    Cachapoal Valley       0.00      0.00      0.00        42\n",
      "          California       0.86      0.97      0.91      7777\n",
      "           Carnuntum       0.22      0.10      0.13        21\n",
      "   Casablanca Valley       0.33      0.24      0.28       120\n",
      "           Catalonia       0.67      0.52      0.59       247\n",
      "       Central Italy       0.69      0.42      0.52       241\n",
      "       Central Otago       0.50      0.20      0.29        35\n",
      "       Central Spain       0.44      0.12      0.19       100\n",
      "      Central Valley       0.17      0.04      0.07        73\n",
      "           Champagne       0.76      0.78      0.77       316\n",
      "      Coastal Region       0.00      0.00      0.00        25\n",
      "    Colchagua Valley       0.32      0.18      0.23       175\n",
      "       Curicó Valley       0.20      0.02      0.04        48\n",
      "               Douro       0.63      0.46      0.53       251\n",
      "                 Dão       0.76      0.39      0.51        67\n",
      "        France Other       0.35      0.13      0.19       131\n",
      "             Galicia       0.59      0.51      0.55        89\n",
      "             Galilee       0.51      0.33      0.40        61\n",
      "         Hawke's Bay       0.25      0.03      0.06        29\n",
      "               Idaho       0.00      0.00      0.00        43\n",
      "         Italy Other       0.50      0.20      0.29        30\n",
      "        Judean Hills       0.43      0.12      0.19        25\n",
      "             Kamptal       0.33      0.21      0.25        73\n",
      "            Kremstal       0.23      0.17      0.20        64\n",
      "Languedoc-Roussillon       0.53      0.57      0.55       119\n",
      "             Levante       0.83      0.45      0.59        95\n",
      "        Leyda Valley       0.52      0.31      0.38        49\n",
      "       Limarí Valley       0.50      0.05      0.09        21\n",
      "              Lisboa       0.49      0.17      0.26       104\n",
      "        Loire Valley       0.52      0.52      0.52       360\n",
      "            Lombardy       0.46      0.32      0.38       117\n",
      "        Maipo Valley       0.27      0.13      0.18       134\n",
      "         Marlborough       0.63      0.60      0.61       173\n",
      "        Maule Valley       0.33      0.10      0.16        96\n",
      "    Mendoza Province       0.47      0.63      0.54       681\n",
      "            Michigan       0.64      0.32      0.42        22\n",
      "               Mosel       0.59      0.55      0.57       227\n",
      "            New York       0.62      0.68      0.65       536\n",
      "    Niederösterreich       0.32      0.21      0.25       101\n",
      "  Northeastern Italy       0.60      0.69      0.64       412\n",
      "      Northern Spain       0.54      0.72      0.62       830\n",
      "             Ontario       0.75      0.14      0.23        22\n",
      "              Oregon       0.73      0.76      0.75      1242\n",
      "               Other       0.56      0.22      0.32       108\n",
      "Península de Setúbal       0.60      0.12      0.19        26\n",
      "               Pfalz       0.42      0.11      0.18        44\n",
      "            Piedmont       0.69      0.71      0.70       705\n",
      "                Port       0.74      0.57      0.65        96\n",
      "            Provence       0.62      0.60      0.60       247\n",
      "        Rapel Valley       0.00      0.00      0.00        34\n",
      "            Rheingau       0.29      0.15      0.20        66\n",
      "         Rheinhessen       0.39      0.19      0.26        67\n",
      "        Rhône Valley       0.72      0.69      0.71       296\n",
      "   Sicily & Sardinia       0.75      0.61      0.67       346\n",
      "     South Australia       0.59      0.52      0.55       298\n",
      "      Southern Italy       0.70      0.50      0.58       270\n",
      "    Southwest France       0.68      0.47      0.56       299\n",
      "        Stellenbosch       0.48      0.40      0.43        83\n",
      "                Tejo       0.49      0.30      0.37       132\n",
      "               Texas       0.38      0.11      0.17        28\n",
      "       Thermenregion       0.29      0.10      0.14        21\n",
      "     Thracian Valley       0.75      0.26      0.39        23\n",
      "             Tuscany       0.69      0.77      0.73      1110\n",
      "              Veneto       0.71      0.63      0.67       454\n",
      "            Victoria       0.41      0.13      0.20        69\n",
      "         Vinho Verde       0.91      0.63      0.75        79\n",
      "            Virginia       0.65      0.49      0.56       171\n",
      "              Wachau       0.33      0.19      0.24        72\n",
      "          Washington       0.79      0.81      0.80      1796\n",
      "   Western Australia       0.71      0.22      0.34        68\n",
      "        Western Cape       0.29      0.21      0.24        58\n",
      "\n",
      "            accuracy                           0.71     25331\n",
      "           macro avg       0.50      0.35      0.39     25331\n",
      "        weighted avg       0.69      0.71      0.69     25331\n",
      "\n"
     ]
    }
   ],
   "source": [
    "print(classification_report(y_testb, predictedb1))"
   ]
  },
  {
   "cell_type": "code",
   "execution_count": 98,
   "metadata": {
    "scrolled": true
   },
   "outputs": [
    {
     "name": "stderr",
     "output_type": "stream",
     "text": [
      "[Parallel(n_jobs=2)]: Using backend ThreadingBackend with 2 concurrent workers.\n"
     ]
    },
    {
     "name": "stdout",
     "output_type": "stream",
     "text": [
      "max_iter reached after 31 seconds\n"
     ]
    },
    {
     "name": "stderr",
     "output_type": "stream",
     "text": [
      "/Users/Mariagimenoperez/anaconda3/lib/python3.6/site-packages/sklearn/linear_model/sag.py:337: ConvergenceWarning: The max_iter was reached which means the coef_ did not converge\n",
      "  \"the coef_ did not converge\", ConvergenceWarning)\n"
     ]
    },
    {
     "name": "stdout",
     "output_type": "stream",
     "text": [
      "max_iter reached after 48 seconds\n",
      "max_iter reached after 28 seconds\n",
      "max_iter reached after 27 seconds\n",
      "max_iter reached after 28 seconds\n",
      "max_iter reached after 80 seconds\n",
      "max_iter reached after 40 seconds\n",
      "max_iter reached after 26 seconds\n",
      "max_iter reached after 50 seconds\n",
      "max_iter reached after 34 seconds\n",
      "max_iter reached after 96 seconds\n",
      "max_iter reached after 57 seconds\n",
      "max_iter reached after 36 seconds\n",
      "max_iter reached after 84 seconds\n",
      "max_iter reached after 29 seconds\n",
      "max_iter reached after 54 seconds\n",
      "max_iter reached after 70 seconds\n",
      "max_iter reached after 66 seconds\n",
      "max_iter reached after 32 seconds\n",
      "max_iter reached after 266 seconds\n",
      "max_iter reached after 52 seconds\n",
      "max_iter reached after 44 seconds\n",
      "max_iter reached after 34 seconds\n",
      "max_iter reached after 54 seconds\n",
      "max_iter reached after 38 seconds\n",
      "max_iter reached after 66 seconds\n",
      "max_iter reached after 30 seconds\n",
      "max_iter reached after 54 seconds\n",
      "max_iter reached after 41 seconds\n",
      "max_iter reached after 55 seconds\n",
      "max_iter reached after 32 seconds\n",
      "max_iter reached after 41 seconds\n",
      "max_iter reached after 35 seconds\n",
      "max_iter reached after 29 seconds\n",
      "max_iter reached after 31 seconds\n",
      "max_iter reached after 44 seconds\n",
      "max_iter reached after 41 seconds\n",
      "max_iter reached after 52 seconds\n",
      "max_iter reached after 43 seconds\n",
      "max_iter reached after 35 seconds\n",
      "max_iter reached after 28 seconds\n",
      "max_iter reached after 41 seconds\n",
      "max_iter reached after 68 seconds\n",
      "max_iter reached after 43 seconds\n",
      "max_iter reached after 59 seconds\n",
      "max_iter reached after 62 seconds\n"
     ]
    },
    {
     "name": "stderr",
     "output_type": "stream",
     "text": [
      "[Parallel(n_jobs=2)]: Done  46 tasks      | elapsed: 19.5min\n"
     ]
    },
    {
     "name": "stdout",
     "output_type": "stream",
     "text": [
      "max_iter reached after 53 seconds\n",
      "max_iter reached after 28 seconds\n",
      "max_iter reached after 105 seconds\n",
      "max_iter reached after 58 seconds\n",
      "max_iter reached after 50 seconds\n",
      "max_iter reached after 98 seconds\n",
      "max_iter reached after 75 seconds\n",
      "max_iter reached after 30 seconds\n",
      "max_iter reached after 109 seconds\n",
      "max_iter reached after 52 seconds\n",
      "max_iter reached after 25 seconds\n",
      "max_iter reached after 39 seconds\n",
      "max_iter reached after 153 seconds\n",
      "max_iter reached after 36 seconds\n",
      "max_iter reached after 78 seconds\n",
      "max_iter reached after 59 seconds\n",
      "max_iter reached after 34 seconds\n",
      "max_iter reached after 43 seconds\n",
      "max_iter reached after 43 seconds\n",
      "max_iter reached after 63 seconds\n",
      "max_iter reached after 73 seconds\n",
      "max_iter reached after 65 seconds\n",
      "max_iter reached after 87 seconds\n",
      "max_iter reached after 66 seconds\n",
      "max_iter reached after 50 seconds\n",
      "max_iter reached after 33 seconds\n",
      "max_iter reached after 46 seconds\n",
      "max_iter reached after 28 seconds\n",
      "max_iter reached after 24 seconds\n",
      "max_iter reached after 77 seconds\n",
      "max_iter reached after 97 seconds\n",
      "max_iter reached after 29 seconds\n",
      "max_iter reached after 49 seconds\n",
      "max_iter reached after 47 seconds\n",
      "max_iter reached after 66 seconds\n",
      "max_iter reached after 43 seconds\n",
      "max_iter reached after 45 seconds\n",
      "max_iter reached after 166 seconds\n"
     ]
    },
    {
     "name": "stderr",
     "output_type": "stream",
     "text": [
      "[Parallel(n_jobs=2)]: Done  84 out of  84 | elapsed: 39.4min finished\n"
     ]
    },
    {
     "data": {
      "text/plain": [
       "0.7100390825470767"
      ]
     },
     "execution_count": 98,
     "metadata": {},
     "output_type": "execute_result"
    }
   ],
   "source": [
    "# CountVectorizer and Logisitic Regression with Lasso regularization\n",
    "pipelineb1 = Pipeline([\n",
    "    ('vect', cvec),\n",
    "    ('cls', LogisticRegression(penalty = 'l1', solver='saga', multi_class='ovr', verbose = 1, n_jobs = 2))\n",
    "])\n",
    "pipelineb1.fit(X_trainb, y_trainb)\n",
    "predictedb1 = pipelineb1.predict(X_testb)\n",
    "pipelineb1.score(X_testb, y_testb)"
   ]
  },
  {
   "cell_type": "code",
   "execution_count": 100,
   "metadata": {},
   "outputs": [
    {
     "name": "stderr",
     "output_type": "stream",
     "text": [
      "/Users/Mariagimenoperez/anaconda3/lib/python3.6/site-packages/sklearn/metrics/classification.py:1437: UndefinedMetricWarning: Precision and F-score are ill-defined and being set to 0.0 in labels with no predicted samples.\n",
      "  'precision', 'predicted', average, warn_for)\n"
     ]
    },
    {
     "name": "stdout",
     "output_type": "stream",
     "text": [
      "                      precision    recall  f1-score   support\n",
      "\n",
      "    Aconcagua Valley       0.00      0.00      0.00        22\n",
      "          Alentejano       0.45      0.27      0.34       171\n",
      "            Alentejo       0.67      0.11      0.20        35\n",
      "              Alsace       0.68      0.79      0.73       502\n",
      "             America       0.00      0.00      0.00        20\n",
      "           Andalucia       0.85      0.61      0.71        38\n",
      "     Australia Other       0.31      0.10      0.15        49\n",
      "            Bairrada       1.00      0.55      0.71        33\n",
      "          Beaujolais       0.64      0.53      0.58       206\n",
      "            Bordeaux       0.59      0.75      0.66       917\n",
      "    British Columbia       0.00      0.00      0.00        30\n",
      "          Burgenland       0.54      0.38      0.45       118\n",
      "            Burgundy       0.54      0.71      0.61       700\n",
      "    Cachapoal Valley       0.00      0.00      0.00        42\n",
      "          California       0.86      0.97      0.91      7777\n",
      "           Carnuntum       0.22      0.10      0.13        21\n",
      "   Casablanca Valley       0.33      0.24      0.28       120\n",
      "           Catalonia       0.67      0.52      0.59       247\n",
      "       Central Italy       0.69      0.42      0.52       241\n",
      "       Central Otago       0.50      0.20      0.29        35\n",
      "       Central Spain       0.44      0.12      0.19       100\n",
      "      Central Valley       0.17      0.04      0.07        73\n",
      "           Champagne       0.77      0.78      0.77       316\n",
      "      Coastal Region       0.00      0.00      0.00        25\n",
      "    Colchagua Valley       0.32      0.18      0.23       175\n",
      "       Curicó Valley       0.20      0.02      0.04        48\n",
      "               Douro       0.63      0.46      0.53       251\n",
      "                 Dão       0.74      0.39      0.51        67\n",
      "        France Other       0.36      0.14      0.20       131\n",
      "             Galicia       0.58      0.51      0.54        89\n",
      "             Galilee       0.51      0.33      0.40        61\n",
      "         Hawke's Bay       0.25      0.03      0.06        29\n",
      "               Idaho       0.00      0.00      0.00        43\n",
      "         Italy Other       0.46      0.20      0.28        30\n",
      "        Judean Hills       0.43      0.12      0.19        25\n",
      "             Kamptal       0.34      0.21      0.26        73\n",
      "            Kremstal       0.23      0.17      0.20        64\n",
      "Languedoc-Roussillon       0.53      0.57      0.55       119\n",
      "             Levante       0.83      0.45      0.59        95\n",
      "        Leyda Valley       0.52      0.31      0.38        49\n",
      "       Limarí Valley       0.50      0.05      0.09        21\n",
      "              Lisboa       0.49      0.17      0.26       104\n",
      "        Loire Valley       0.52      0.51      0.51       360\n",
      "            Lombardy       0.46      0.32      0.38       117\n",
      "        Maipo Valley       0.27      0.13      0.18       134\n",
      "         Marlborough       0.63      0.60      0.61       173\n",
      "        Maule Valley       0.33      0.10      0.16        96\n",
      "    Mendoza Province       0.47      0.63      0.54       681\n",
      "            Michigan       0.70      0.32      0.44        22\n",
      "               Mosel       0.60      0.56      0.58       227\n",
      "            New York       0.62      0.68      0.65       536\n",
      "    Niederösterreich       0.32      0.21      0.25       101\n",
      "  Northeastern Italy       0.60      0.68      0.64       412\n",
      "      Northern Spain       0.54      0.72      0.62       830\n",
      "             Ontario       0.75      0.14      0.23        22\n",
      "              Oregon       0.73      0.76      0.75      1242\n",
      "               Other       0.55      0.22      0.32       108\n",
      "Península de Setúbal       0.60      0.12      0.19        26\n",
      "               Pfalz       0.42      0.11      0.18        44\n",
      "            Piedmont       0.69      0.71      0.70       705\n",
      "                Port       0.74      0.57      0.65        96\n",
      "            Provence       0.62      0.60      0.60       247\n",
      "        Rapel Valley       0.00      0.00      0.00        34\n",
      "            Rheingau       0.28      0.15      0.20        66\n",
      "         Rheinhessen       0.41      0.19      0.26        67\n",
      "        Rhône Valley       0.72      0.69      0.71       296\n",
      "   Sicily & Sardinia       0.75      0.61      0.67       346\n",
      "     South Australia       0.59      0.52      0.55       298\n",
      "      Southern Italy       0.70      0.50      0.58       270\n",
      "    Southwest France       0.68      0.47      0.56       299\n",
      "        Stellenbosch       0.48      0.40      0.43        83\n",
      "                Tejo       0.49      0.30      0.37       132\n",
      "               Texas       0.33      0.11      0.16        28\n",
      "       Thermenregion       0.29      0.10      0.14        21\n",
      "     Thracian Valley       0.75      0.26      0.39        23\n",
      "             Tuscany       0.69      0.77      0.73      1110\n",
      "              Veneto       0.71      0.63      0.67       454\n",
      "            Victoria       0.41      0.13      0.20        69\n",
      "         Vinho Verde       0.93      0.63      0.75        79\n",
      "            Virginia       0.66      0.49      0.56       171\n",
      "              Wachau       0.36      0.22      0.27        72\n",
      "          Washington       0.80      0.81      0.80      1796\n",
      "   Western Australia       0.71      0.22      0.34        68\n",
      "        Western Cape       0.31      0.22      0.26        58\n",
      "\n",
      "            accuracy                           0.71     25331\n",
      "           macro avg       0.50      0.35      0.39     25331\n",
      "        weighted avg       0.69      0.71      0.69     25331\n",
      "\n"
     ]
    }
   ],
   "source": [
    "print(classification_report(y_testb, predictedb1))"
   ]
  },
  {
   "cell_type": "code",
   "execution_count": 126,
   "metadata": {},
   "outputs": [],
   "source": [
    "vect = TfidfVectorizer(stop_words='english', sublinear_tf=True, max_features=1000,\n",
    "                             ngram_range = (1,1), strip_accents='unicode')"
   ]
  },
  {
   "cell_type": "code",
   "execution_count": 127,
   "metadata": {},
   "outputs": [
    {
     "name": "stderr",
     "output_type": "stream",
     "text": [
      "[Parallel(n_jobs=2)]: Using backend LokyBackend with 2 concurrent workers.\n",
      "[Parallel(n_jobs=2)]: Done  46 tasks      | elapsed:   13.2s\n",
      "[Parallel(n_jobs=2)]: Done  85 out of  85 | elapsed:   23.8s finished\n"
     ]
    },
    {
     "data": {
      "text/plain": [
       "0.5773804740859783"
      ]
     },
     "execution_count": 127,
     "metadata": {},
     "output_type": "execute_result"
    }
   ],
   "source": [
    "# TfidfVectorizer and Logisitic Regression with Ridge regularization\n",
    "pipelinev_ridge = Pipeline([\n",
    "    ('vect', vect),\n",
    "    ('cls', LogisticRegression(penalty = 'l2', solver='lbfgs', multi_class='ovr', verbose = 1, n_jobs = 2))\n",
    "])\n",
    "pipelinev_ridge.fit(X_trainb, y_trainb)\n",
    "predictedv_ridge = pipelinev_ridge.predict(X_testb)\n",
    "pipelinev_ridge.score(X_testb, y_testb)"
   ]
  },
  {
   "cell_type": "code",
   "execution_count": 130,
   "metadata": {},
   "outputs": [
    {
     "name": "stdout",
     "output_type": "stream",
     "text": [
      "                               precision    recall  f1-score   support\n",
      "\n",
      "                    Aglianico       0.00      0.00      0.00        66\n",
      "                     Albariño       0.39      0.12      0.18       130\n",
      "                      Barbera       0.50      0.05      0.09       135\n",
      "                Blaufränkisch       0.62      0.11      0.19        45\n",
      "                      Bonarda       0.00      0.00      0.00        21\n",
      "     Bordeaux-style Red Blend       0.58      0.65      0.61      1189\n",
      "   Bordeaux-style White Blend       0.51      0.15      0.23       154\n",
      "               Cabernet Franc       0.75      0.28      0.41       282\n",
      "           Cabernet Sauvignon       0.53      0.70      0.60      2001\n",
      "    Cabernet Sauvignon-Merlot       0.00      0.00      0.00        25\n",
      "    Cabernet Sauvignon-Shiraz       0.00      0.00      0.00        21\n",
      "                    Carmenère       0.40      0.19      0.26       122\n",
      "              Champagne Blend       0.71      0.42      0.53       279\n",
      "                   Chardonnay       0.58      0.88      0.70      2373\n",
      "                 Chenin Blanc       0.65      0.10      0.17       114\n",
      "Corvina, Rondinella, Molinara       0.41      0.20      0.27        91\n",
      "                     Dolcetto       0.00      0.00      0.00        33\n",
      "                   Falanghina       0.00      0.00      0.00        21\n",
      "                        Fiano       0.78      0.23      0.35        31\n",
      "                     Friulano       0.00      0.00      0.00        23\n",
      "                        G-S-M       0.00      0.00      0.00        42\n",
      "                        Gamay       0.63      0.33      0.44       201\n",
      "                    Garganega       0.00      0.00      0.00        41\n",
      "                     Garnacha       0.52      0.09      0.15       253\n",
      "               Gewürztraminer       0.58      0.38      0.46       207\n",
      "                        Glera       0.59      0.58      0.58       113\n",
      "                        Greco       0.00      0.00      0.00        24\n",
      "                       Grillo       0.00      0.00      0.00        25\n",
      "             Grüner Veltliner       0.74      0.57      0.64       246\n",
      "                       Malbec       0.51      0.41      0.46       561\n",
      "                Malbec-Merlot       0.00      0.00      0.00        21\n",
      "                        Melon       1.00      0.04      0.09        45\n",
      "                       Mencía       0.00      0.00      0.00        38\n",
      "                     Meritage       0.00      0.00      0.00        53\n",
      "                       Merlot       0.68      0.35      0.46       637\n",
      "                   Monastrell       0.00      0.00      0.00        31\n",
      "                Montepulciano       0.00      0.00      0.00        47\n",
      "                      Moscato       0.39      0.14      0.21        64\n",
      "                    Mourvèdre       1.00      0.02      0.04        51\n",
      "                       Muscat       0.00      0.00      0.00        29\n",
      "                     Nebbiolo       0.60      0.71      0.65       557\n",
      "            Nerello Mascalese       0.00      0.00      0.00        31\n",
      "                 Nero d'Avola       0.89      0.48      0.62        67\n",
      "                 Petit Verdot       1.00      0.10      0.18        61\n",
      "                  Pinot Blanc       0.67      0.17      0.27       118\n",
      "                 Pinot Grigio       0.56      0.45      0.50       512\n",
      "                   Pinot Nero       1.00      0.09      0.17        33\n",
      "                   Pinot Noir       0.59      0.84      0.69      2842\n",
      "                     Pinotage       0.00      0.00      0.00        27\n",
      "                         Port       0.59      0.22      0.32       111\n",
      "               Portuguese Red       0.55      0.62      0.58       481\n",
      "             Portuguese White       0.45      0.31      0.37       220\n",
      "                    Primitivo       0.62      0.53      0.57       628\n",
      "                     Prosecco       0.71      0.44      0.54        39\n",
      "                    Red Blend       0.56      0.60      0.58      1823\n",
      "        Rhône-style Red Blend       0.65      0.48      0.55       334\n",
      "      Rhône-style White Blend       0.71      0.54      0.62       103\n",
      "                     Riesling       0.69      0.84      0.76      1075\n",
      "                         Rosé       0.62      0.73      0.67       775\n",
      "                    Roussanne       1.00      0.03      0.05        36\n",
      "                   Sagrantino       0.00      0.00      0.00        21\n",
      "                   Sangiovese       0.56      0.36      0.44       526\n",
      "            Sangiovese Grosso       0.37      0.36      0.36       109\n",
      "                    Sauvignon       0.73      0.52      0.60        62\n",
      "              Sauvignon Blanc       0.57      0.67      0.61      1038\n",
      "                       Sherry       1.00      0.05      0.09        21\n",
      "                       Shiraz       0.55      0.59      0.57      1206\n",
      "              Sparkling Blend       0.61      0.54      0.57       471\n",
      "                     Sémillon       0.00      0.00      0.00        30\n",
      "                       Tannat       0.00      0.00      0.00        34\n",
      "                  Tempranillo       0.37      0.36      0.36       399\n",
      "            Tempranillo Blend       0.21      0.03      0.06       125\n",
      "                Tinta de Toro       0.00      0.00      0.00        36\n",
      "                   Tinto Fino       0.00      0.00      0.00        21\n",
      "                    Torrontés       0.53      0.39      0.45        49\n",
      "             Touriga Nacional       0.00      0.00      0.00        35\n",
      "                     Turbiana       0.27      0.09      0.14        32\n",
      "                      Verdejo       0.40      0.06      0.11        62\n",
      "                   Verdicchio       0.44      0.21      0.28        39\n",
      "                   Vermentino       0.00      0.00      0.00        44\n",
      "                    Vernaccia       0.25      0.13      0.17        31\n",
      "                     Viognier       0.74      0.34      0.46       213\n",
      "                        Viura       0.00      0.00      0.00        23\n",
      "                  White Blend       0.54      0.46      0.50       468\n",
      "                     Zweigelt       0.75      0.08      0.15        37\n",
      "\n",
      "                     accuracy                           0.58     24890\n",
      "                    macro avg       0.42      0.24      0.27     24890\n",
      "                 weighted avg       0.56      0.58      0.54     24890\n",
      "\n"
     ]
    }
   ],
   "source": [
    "print(classification_report(y_testb, predictedv_ridge))"
   ]
  },
  {
   "cell_type": "code",
   "execution_count": 128,
   "metadata": {
    "scrolled": true
   },
   "outputs": [
    {
     "name": "stderr",
     "output_type": "stream",
     "text": [
      "[Parallel(n_jobs=2)]: Using backend ThreadingBackend with 2 concurrent workers.\n"
     ]
    },
    {
     "name": "stdout",
     "output_type": "stream",
     "text": [
      "max_iter reached after 10 seconds\n"
     ]
    },
    {
     "name": "stderr",
     "output_type": "stream",
     "text": [
      "/Users/Mariagimenoperez/anaconda3/lib/python3.6/site-packages/sklearn/linear_model/sag.py:337: ConvergenceWarning: The max_iter was reached which means the coef_ did not converge\n",
      "  \"the coef_ did not converge\", ConvergenceWarning)\n"
     ]
    },
    {
     "name": "stdout",
     "output_type": "stream",
     "text": [
      "max_iter reached after 13 seconds\n",
      "max_iter reached after 9 seconds\n",
      "max_iter reached after 13 seconds\n",
      "max_iter reached after 6 seconds\n",
      "max_iter reached after 13 seconds\n",
      "convergence after 89 epochs took 19 seconds\n",
      "convergence after 38 epochs took 10 seconds\n",
      "max_iter reached after 15 seconds\n",
      "max_iter reached after 6 seconds\n",
      "max_iter reached after 6 seconds\n",
      "max_iter reached after 13 seconds\n",
      "max_iter reached after 17 seconds\n",
      "convergence after 35 epochs took 9 seconds\n",
      "max_iter reached after 11 seconds\n",
      "max_iter reached after 13 seconds\n",
      "max_iter reached after 8 seconds\n",
      "max_iter reached after 7 seconds\n",
      "max_iter reached after 7 seconds\n",
      "max_iter reached after 7 seconds\n",
      "max_iter reached after 6 seconds\n",
      "max_iter reached after 13 seconds\n",
      "max_iter reached after 8 seconds\n",
      "convergence after 30 epochs took 4 seconds\n",
      "convergence after 76 epochs took 11 seconds\n",
      "max_iter reached after 11 seconds\n",
      "max_iter reached after 6 seconds\n",
      "max_iter reached after 7 seconds\n",
      "convergence after 78 epochs took 11 seconds\n",
      "max_iter reached after 6 seconds\n",
      "max_iter reached after 20 seconds\n",
      "max_iter reached after 9 seconds\n",
      "max_iter reached after 8 seconds\n",
      "max_iter reached after 7 seconds\n",
      "max_iter reached after 8 seconds\n",
      "convergence after 95 epochs took 17 seconds\n",
      "max_iter reached after 8 seconds\n",
      "max_iter reached after 8 seconds\n",
      "max_iter reached after 8 seconds\n",
      "max_iter reached after 7 seconds\n",
      "convergence after 66 epochs took 11 seconds\n",
      "max_iter reached after 7 seconds\n",
      "max_iter reached after 8 seconds\n",
      "max_iter reached after 8 seconds\n",
      "convergence after 36 epochs took 6 seconds\n",
      "max_iter reached after 10 seconds\n"
     ]
    },
    {
     "name": "stderr",
     "output_type": "stream",
     "text": [
      "[Parallel(n_jobs=2)]: Done  46 tasks      | elapsed:  3.7min\n"
     ]
    },
    {
     "name": "stdout",
     "output_type": "stream",
     "text": [
      "max_iter reached after 8 seconds\n",
      "max_iter reached after 8 seconds\n",
      "max_iter reached after 12 seconds\n",
      "max_iter reached after 29 seconds\n",
      "convergence after 84 epochs took 14 seconds\n",
      "max_iter reached after 13 seconds\n",
      "convergence after 33 epochs took 7 seconds\n",
      "max_iter reached after 7 seconds\n",
      "convergence after 26 epochs took 6 seconds\n",
      "max_iter reached after 9 seconds\n",
      "convergence after 99 epochs took 18 seconds\n",
      "convergence after 44 epochs took 10 seconds\n",
      "max_iter reached after 7 seconds\n",
      "max_iter reached after 7 seconds\n",
      "max_iter reached after 19 seconds\n",
      "convergence after 31 epochs took 5 seconds\n",
      "max_iter reached after 8 seconds\n",
      "max_iter reached after 12 seconds\n",
      "convergence after 34 epochs took 7 seconds\n",
      "max_iter reached after 7 seconds\n",
      "convergence after 34 epochs took 6 seconds\n",
      "convergence after 39 epochs took 9 seconds\n",
      "max_iter reached after 6 seconds\n",
      "max_iter reached after 7 seconds\n",
      "convergence after 49 epochs took 9 seconds\n",
      "max_iter reached after 13 seconds\n",
      "max_iter reached after 8 seconds\n",
      "max_iter reached after 6 seconds\n",
      "max_iter reached after 7 seconds\n",
      "max_iter reached after 7 seconds\n",
      "max_iter reached after 8 seconds\n",
      "max_iter reached after 10 seconds\n",
      "max_iter reached after 7 seconds\n",
      "max_iter reached after 8 seconds\n",
      "max_iter reached after 8 seconds\n",
      "convergence after 54 epochs took 7 seconds\n",
      "max_iter reached after 6 seconds\n",
      "convergence after 40 epochs took 7 seconds\n",
      "max_iter reached after 7 seconds\n"
     ]
    },
    {
     "name": "stderr",
     "output_type": "stream",
     "text": [
      "[Parallel(n_jobs=2)]: Done  85 out of  85 | elapsed:  6.8min finished\n"
     ]
    },
    {
     "data": {
      "text/plain": [
       "0.5838087585375653"
      ]
     },
     "execution_count": 128,
     "metadata": {},
     "output_type": "execute_result"
    }
   ],
   "source": [
    "#TfidVectorizer and Logisitic Regression with Lasso regularization with max_features = 1000\n",
    "pipelinev = Pipeline([\n",
    "    ('vect', TfidfVectorizer(stop_words='english', sublinear_tf=True, max_features=1000,\n",
    "                             ngram_range = (1,1), strip_accents='unicode')),\n",
    "    ('cls', LogisticRegression(penalty = 'l1', solver='saga', multi_class='ovr', verbose = 1, n_jobs = 2))\n",
    "])\n",
    "pipelinev.fit(X_trainb, y_trainb)\n",
    "predictedv = pipelinev.predict(X_testb)\n",
    "pipelinev.score(X_testb, y_testb)"
   ]
  },
  {
   "cell_type": "code",
   "execution_count": 129,
   "metadata": {},
   "outputs": [
    {
     "name": "stderr",
     "output_type": "stream",
     "text": [
      "/Users/Mariagimenoperez/anaconda3/lib/python3.6/site-packages/sklearn/metrics/classification.py:1437: UndefinedMetricWarning: Precision and F-score are ill-defined and being set to 0.0 in labels with no predicted samples.\n",
      "  'precision', 'predicted', average, warn_for)\n"
     ]
    },
    {
     "name": "stdout",
     "output_type": "stream",
     "text": [
      "                               precision    recall  f1-score   support\n",
      "\n",
      "                    Aglianico       0.40      0.03      0.06        66\n",
      "                     Albariño       0.35      0.13      0.19       130\n",
      "                      Barbera       0.39      0.09      0.14       135\n",
      "                Blaufränkisch       0.64      0.16      0.25        45\n",
      "                      Bonarda       0.00      0.00      0.00        21\n",
      "     Bordeaux-style Red Blend       0.60      0.66      0.63      1189\n",
      "   Bordeaux-style White Blend       0.45      0.21      0.28       154\n",
      "               Cabernet Franc       0.71      0.30      0.42       282\n",
      "           Cabernet Sauvignon       0.54      0.69      0.60      2001\n",
      "    Cabernet Sauvignon-Merlot       0.00      0.00      0.00        25\n",
      "    Cabernet Sauvignon-Shiraz       0.00      0.00      0.00        21\n",
      "                    Carmenère       0.43      0.24      0.31       122\n",
      "              Champagne Blend       0.68      0.45      0.54       279\n",
      "                   Chardonnay       0.60      0.87      0.71      2373\n",
      "                 Chenin Blanc       0.57      0.15      0.24       114\n",
      "Corvina, Rondinella, Molinara       0.39      0.26      0.32        91\n",
      "                     Dolcetto       0.00      0.00      0.00        33\n",
      "                   Falanghina       0.67      0.10      0.17        21\n",
      "                        Fiano       0.58      0.35      0.44        31\n",
      "                     Friulano       0.25      0.09      0.13        23\n",
      "                        G-S-M       0.00      0.00      0.00        42\n",
      "                        Gamay       0.58      0.37      0.45       201\n",
      "                    Garganega       0.29      0.05      0.08        41\n",
      "                     Garnacha       0.46      0.11      0.18       253\n",
      "               Gewürztraminer       0.56      0.41      0.47       207\n",
      "                        Glera       0.60      0.59      0.60       113\n",
      "                        Greco       0.25      0.04      0.07        24\n",
      "                       Grillo       0.00      0.00      0.00        25\n",
      "             Grüner Veltliner       0.68      0.56      0.61       246\n",
      "                       Malbec       0.51      0.43      0.46       561\n",
      "                Malbec-Merlot       0.00      0.00      0.00        21\n",
      "                        Melon       0.75      0.07      0.12        45\n",
      "                       Mencía       0.00      0.00      0.00        38\n",
      "                     Meritage       0.00      0.00      0.00        53\n",
      "                       Merlot       0.66      0.35      0.46       637\n",
      "                   Monastrell       0.00      0.00      0.00        31\n",
      "                Montepulciano       0.33      0.02      0.04        47\n",
      "                      Moscato       0.31      0.16      0.21        64\n",
      "                    Mourvèdre       0.73      0.16      0.26        51\n",
      "                       Muscat       0.00      0.00      0.00        29\n",
      "                     Nebbiolo       0.59      0.72      0.65       557\n",
      "            Nerello Mascalese       0.33      0.03      0.06        31\n",
      "                 Nero d'Avola       0.77      0.54      0.63        67\n",
      "                 Petit Verdot       0.92      0.18      0.30        61\n",
      "                  Pinot Blanc       0.68      0.27      0.39       118\n",
      "                 Pinot Grigio       0.58      0.46      0.51       512\n",
      "                   Pinot Nero       0.71      0.15      0.25        33\n",
      "                   Pinot Noir       0.60      0.83      0.70      2842\n",
      "                     Pinotage       0.20      0.07      0.11        27\n",
      "                         Port       0.53      0.28      0.36       111\n",
      "               Portuguese Red       0.55      0.62      0.59       481\n",
      "             Portuguese White       0.45      0.35      0.39       220\n",
      "                    Primitivo       0.60      0.53      0.56       628\n",
      "                     Prosecco       0.50      0.46      0.48        39\n",
      "                    Red Blend       0.57      0.59      0.58      1823\n",
      "        Rhône-style Red Blend       0.62      0.48      0.54       334\n",
      "      Rhône-style White Blend       0.70      0.59      0.64       103\n",
      "                     Riesling       0.71      0.84      0.77      1075\n",
      "                         Rosé       0.64      0.73      0.68       775\n",
      "                    Roussanne       0.80      0.33      0.47        36\n",
      "                   Sagrantino       0.50      0.05      0.09        21\n",
      "                   Sangiovese       0.55      0.37      0.44       526\n",
      "            Sangiovese Grosso       0.39      0.40      0.39       109\n",
      "                    Sauvignon       0.75      0.58      0.65        62\n",
      "              Sauvignon Blanc       0.57      0.66      0.62      1038\n",
      "                       Sherry       0.71      0.24      0.36        21\n",
      "                       Shiraz       0.56      0.58      0.57      1206\n",
      "              Sparkling Blend       0.61      0.55      0.58       471\n",
      "                     Sémillon       0.00      0.00      0.00        30\n",
      "                       Tannat       0.00      0.00      0.00        34\n",
      "                  Tempranillo       0.36      0.37      0.36       399\n",
      "            Tempranillo Blend       0.23      0.07      0.11       125\n",
      "                Tinta de Toro       0.00      0.00      0.00        36\n",
      "                   Tinto Fino       0.00      0.00      0.00        21\n",
      "                    Torrontés       0.43      0.39      0.41        49\n",
      "             Touriga Nacional       0.67      0.11      0.20        35\n",
      "                     Turbiana       0.29      0.16      0.20        32\n",
      "                      Verdejo       0.29      0.06      0.11        62\n",
      "                   Verdicchio       0.33      0.26      0.29        39\n",
      "                   Vermentino       0.33      0.05      0.08        44\n",
      "                    Vernaccia       0.24      0.13      0.17        31\n",
      "                     Viognier       0.69      0.34      0.46       213\n",
      "                        Viura       0.00      0.00      0.00        23\n",
      "                  White Blend       0.58      0.49      0.53       468\n",
      "                     Zweigelt       0.78      0.19      0.30        37\n",
      "\n",
      "                     accuracy                           0.58     24890\n",
      "                    macro avg       0.43      0.27      0.31     24890\n",
      "                 weighted avg       0.57      0.58      0.56     24890\n",
      "\n"
     ]
    }
   ],
   "source": [
    "print(classification_report(y_testb, predictedv))"
   ]
  },
  {
   "cell_type": "code",
   "execution_count": 31,
   "metadata": {},
   "outputs": [
    {
     "name": "stderr",
     "output_type": "stream",
     "text": [
      "[Parallel(n_jobs=2)]: Using backend ThreadingBackend with 2 concurrent workers.\n"
     ]
    },
    {
     "name": "stdout",
     "output_type": "stream",
     "text": [
      "max_iter reached after 593 seconds\n"
     ]
    },
    {
     "name": "stderr",
     "output_type": "stream",
     "text": [
      "/Users/Mariagimenoperez/anaconda3/lib/python3.6/site-packages/sklearn/linear_model/sag.py:337: ConvergenceWarning: The max_iter was reached which means the coef_ did not converge\n",
      "  \"the coef_ did not converge\", ConvergenceWarning)\n",
      "[Parallel(n_jobs=2)]: Done   1 out of   1 | elapsed:  9.9min finished\n"
     ]
    },
    {
     "data": {
      "text/plain": [
       "0.7027357782953693"
      ]
     },
     "execution_count": 31,
     "metadata": {},
     "output_type": "execute_result"
    }
   ],
   "source": [
    "# TfidVectorizer and Logisitic Regression without max_features = 1000 and include Lasso regularization\n",
    "pipelinev_mul = Pipeline([\n",
    "    ('vect', vect),\n",
    "    ('cls', LogisticRegression(solver='saga', multi_class='multinomial', penalty = 'l1',verbose = 1, n_jobs = 2 ))\n",
    "])\n",
    "pipelinev_mul.fit(X_trainb, y_trainb)\n",
    "predictedv_mul = pipelinev_mul.predict(X_testb)\n",
    "pipelinev_mul.score(X_testb, y_testb)"
   ]
  },
  {
   "cell_type": "markdown",
   "metadata": {},
   "source": [
    "### RANDOM FOREST CLASSIFIER WITH COUNTVECTORIZER AND TFIDVECTORIZER \n",
    "\n",
    "In this case Random Forest performs better with TfidVectorizer than with CountVectorizer. \n",
    "\n",
    "Logistic Regression performs better than Random Forest Classifier in this data set, with higher accuracy.\n",
    "\n",
    "All of the models have better scores than the baseline\n"
   ]
  },
  {
   "cell_type": "code",
   "execution_count": 102,
   "metadata": {},
   "outputs": [],
   "source": [
    "cvecbr = CountVectorizer(strip_accents='unicode', stop_words=\"english\", ngram_range=(1, 1),  max_features=1000)"
   ]
  },
  {
   "cell_type": "code",
   "execution_count": 103,
   "metadata": {},
   "outputs": [
    {
     "data": {
      "text/plain": [
       "0.5367731238403537"
      ]
     },
     "execution_count": 103,
     "metadata": {},
     "output_type": "execute_result"
    }
   ],
   "source": [
    "# Random Forest with CountVectorizer\n",
    "pipelinebr1 = Pipeline([\n",
    "    ('vect', cvecbr),\n",
    "    ('cls', RandomForestClassifier(n_estimators=200, n_jobs = 2))\n",
    "])\n",
    "pipelinebr1.fit(X_trainb, y_trainb)\n",
    "predictedbr1 = pipelinebr1.predict(X_testb)\n",
    "pipelinebr1.score(X_testb, y_testb)"
   ]
  },
  {
   "cell_type": "code",
   "execution_count": 104,
   "metadata": {},
   "outputs": [
    {
     "name": "stderr",
     "output_type": "stream",
     "text": [
      "/Users/Mariagimenoperez/anaconda3/lib/python3.6/site-packages/sklearn/metrics/classification.py:1437: UndefinedMetricWarning: Precision and F-score are ill-defined and being set to 0.0 in labels with no predicted samples.\n",
      "  'precision', 'predicted', average, warn_for)\n"
     ]
    },
    {
     "name": "stdout",
     "output_type": "stream",
     "text": [
      "                      precision    recall  f1-score   support\n",
      "\n",
      "    Aconcagua Valley       0.00      0.00      0.00        22\n",
      "          Alentejano       0.29      0.01      0.02       171\n",
      "            Alentejo       0.00      0.00      0.00        35\n",
      "              Alsace       0.58      0.61      0.60       502\n",
      "             America       0.00      0.00      0.00        20\n",
      "           Andalucia       1.00      0.03      0.05        38\n",
      "     Australia Other       0.00      0.00      0.00        49\n",
      "            Bairrada       0.00      0.00      0.00        33\n",
      "          Beaujolais       0.57      0.20      0.29       206\n",
      "            Bordeaux       0.38      0.72      0.50       917\n",
      "    British Columbia       0.00      0.00      0.00        30\n",
      "          Burgenland       0.50      0.02      0.03       118\n",
      "            Burgundy       0.36      0.52      0.42       700\n",
      "    Cachapoal Valley       0.00      0.00      0.00        42\n",
      "          California       0.56      0.99      0.72      7777\n",
      "           Carnuntum       0.00      0.00      0.00        21\n",
      "   Casablanca Valley       0.00      0.00      0.00       120\n",
      "           Catalonia       0.50      0.12      0.20       247\n",
      "       Central Italy       0.82      0.04      0.07       241\n",
      "       Central Otago       0.00      0.00      0.00        35\n",
      "       Central Spain       0.00      0.00      0.00       100\n",
      "      Central Valley       0.00      0.00      0.00        73\n",
      "           Champagne       0.74      0.43      0.55       316\n",
      "      Coastal Region       1.00      0.04      0.08        25\n",
      "    Colchagua Valley       0.00      0.00      0.00       175\n",
      "       Curicó Valley       0.00      0.00      0.00        48\n",
      "               Douro       0.64      0.06      0.10       251\n",
      "                 Dão       0.00      0.00      0.00        67\n",
      "        France Other       0.75      0.02      0.04       131\n",
      "             Galicia       0.60      0.07      0.12        89\n",
      "             Galilee       1.00      0.08      0.15        61\n",
      "         Hawke's Bay       0.00      0.00      0.00        29\n",
      "               Idaho       0.00      0.00      0.00        43\n",
      "         Italy Other       0.00      0.00      0.00        30\n",
      "        Judean Hills       0.00      0.00      0.00        25\n",
      "             Kamptal       0.00      0.00      0.00        73\n",
      "            Kremstal       1.00      0.02      0.03        64\n",
      "Languedoc-Roussillon       0.29      0.02      0.03       119\n",
      "             Levante       0.00      0.00      0.00        95\n",
      "        Leyda Valley       0.00      0.00      0.00        49\n",
      "       Limarí Valley       0.00      0.00      0.00        21\n",
      "              Lisboa       0.00      0.00      0.00       104\n",
      "        Loire Valley       0.34      0.19      0.25       360\n",
      "            Lombardy       0.50      0.07      0.12       117\n",
      "        Maipo Valley       0.50      0.01      0.01       134\n",
      "         Marlborough       0.75      0.05      0.10       173\n",
      "        Maule Valley       0.00      0.00      0.00        96\n",
      "    Mendoza Province       0.44      0.39      0.42       681\n",
      "            Michigan       0.00      0.00      0.00        22\n",
      "               Mosel       0.50      0.33      0.39       227\n",
      "            New York       0.48      0.23      0.31       536\n",
      "    Niederösterreich       0.00      0.00      0.00       101\n",
      "  Northeastern Italy       0.38      0.50      0.43       412\n",
      "      Northern Spain       0.36      0.60      0.45       830\n",
      "             Ontario       0.00      0.00      0.00        22\n",
      "              Oregon       0.69      0.41      0.52      1242\n",
      "               Other       0.67      0.02      0.04       108\n",
      "Península de Setúbal       0.00      0.00      0.00        26\n",
      "               Pfalz       0.00      0.00      0.00        44\n",
      "            Piedmont       0.63      0.51      0.57       705\n",
      "                Port       0.82      0.09      0.17        96\n",
      "            Provence       0.50      0.28      0.36       247\n",
      "        Rapel Valley       0.00      0.00      0.00        34\n",
      "            Rheingau       0.00      0.00      0.00        66\n",
      "         Rheinhessen       0.00      0.00      0.00        67\n",
      "        Rhône Valley       0.53      0.16      0.25       296\n",
      "   Sicily & Sardinia       0.61      0.12      0.21       346\n",
      "     South Australia       0.71      0.20      0.31       298\n",
      "      Southern Italy       0.70      0.03      0.05       270\n",
      "    Southwest France       0.62      0.06      0.11       299\n",
      "        Stellenbosch       1.00      0.01      0.02        83\n",
      "                Tejo       0.40      0.03      0.06       132\n",
      "               Texas       0.00      0.00      0.00        28\n",
      "       Thermenregion       0.00      0.00      0.00        21\n",
      "     Thracian Valley       0.00      0.00      0.00        23\n",
      "             Tuscany       0.57      0.64      0.60      1110\n",
      "              Veneto       0.45      0.21      0.28       454\n",
      "            Victoria       0.00      0.00      0.00        69\n",
      "         Vinho Verde       0.57      0.15      0.24        79\n",
      "            Virginia       0.60      0.04      0.07       171\n",
      "              Wachau       1.00      0.01      0.03        72\n",
      "          Washington       0.71      0.61      0.66      1796\n",
      "   Western Australia       0.00      0.00      0.00        68\n",
      "        Western Cape       0.67      0.07      0.12        58\n",
      "\n",
      "            accuracy                           0.54     25331\n",
      "           macro avg       0.34      0.12      0.13     25331\n",
      "        weighted avg       0.52      0.54      0.46     25331\n",
      "\n"
     ]
    }
   ],
   "source": [
    "print(classification_report(y_testb, predictedbr1))"
   ]
  },
  {
   "cell_type": "code",
   "execution_count": 14,
   "metadata": {},
   "outputs": [
    {
     "data": {
      "text/plain": [
       "0.5429710631242352"
      ]
     },
     "execution_count": 14,
     "metadata": {},
     "output_type": "execute_result"
    }
   ],
   "source": [
    "# Random Forest with TdfidVectorizer\n",
    "pipelinebr3 = Pipeline([\n",
    "    ('vect', vect),\n",
    "    \n",
    "    ('cls', RandomForestClassifier(n_estimators=200, n_jobs = 2))\n",
    "])\n",
    "pipelinebr3.fit(X_trainb, y_trainb)\n",
    "predictedbr3 = pipelinebr3.predict(X_testb)\n",
    "pipelinebr3.score(X_testb, y_testb)"
   ]
  },
  {
   "cell_type": "code",
   "execution_count": 15,
   "metadata": {},
   "outputs": [
    {
     "name": "stderr",
     "output_type": "stream",
     "text": [
      "/Users/Mariagimenoperez/anaconda3/lib/python3.6/site-packages/sklearn/metrics/classification.py:1437: UndefinedMetricWarning: Precision and F-score are ill-defined and being set to 0.0 in labels with no predicted samples.\n",
      "  'precision', 'predicted', average, warn_for)\n"
     ]
    },
    {
     "name": "stdout",
     "output_type": "stream",
     "text": [
      "                      precision    recall  f1-score   support\n",
      "\n",
      "    Aconcagua Valley       0.00      0.00      0.00        22\n",
      "          Alentejano       0.69      0.06      0.12       171\n",
      "            Alentejo       0.00      0.00      0.00        35\n",
      "              Alsace       0.64      0.57      0.60       502\n",
      "             America       0.00      0.00      0.00        20\n",
      "           Andalucia       1.00      0.05      0.10        38\n",
      "     Australia Other       0.00      0.00      0.00        49\n",
      "            Bairrada       0.00      0.00      0.00        33\n",
      "          Beaujolais       0.78      0.17      0.28       206\n",
      "            Bordeaux       0.40      0.73      0.52       917\n",
      "    British Columbia       0.00      0.00      0.00        30\n",
      "          Burgenland       0.00      0.00      0.00       118\n",
      "            Burgundy       0.40      0.55      0.46       700\n",
      "    Cachapoal Valley       0.00      0.00      0.00        42\n",
      "          California       0.52      1.00      0.68      7777\n",
      "           Carnuntum       0.00      0.00      0.00        21\n",
      "   Casablanca Valley       0.00      0.00      0.00       120\n",
      "           Catalonia       0.88      0.18      0.30       247\n",
      "       Central Italy       0.85      0.05      0.09       241\n",
      "       Central Otago       0.00      0.00      0.00        35\n",
      "       Central Spain       0.00      0.00      0.00       100\n",
      "      Central Valley       0.00      0.00      0.00        73\n",
      "           Champagne       0.88      0.48      0.62       316\n",
      "      Coastal Region       1.00      0.04      0.08        25\n",
      "    Colchagua Valley       1.00      0.02      0.03       175\n",
      "       Curicó Valley       0.00      0.00      0.00        48\n",
      "               Douro       0.86      0.27      0.41       251\n",
      "                 Dão       1.00      0.13      0.24        67\n",
      "        France Other       0.00      0.00      0.00       131\n",
      "             Galicia       0.90      0.20      0.33        89\n",
      "             Galilee       0.00      0.00      0.00        61\n",
      "         Hawke's Bay       0.00      0.00      0.00        29\n",
      "               Idaho       0.00      0.00      0.00        43\n",
      "         Italy Other       0.00      0.00      0.00        30\n",
      "        Judean Hills       0.00      0.00      0.00        25\n",
      "             Kamptal       0.00      0.00      0.00        73\n",
      "            Kremstal       1.00      0.02      0.03        64\n",
      "Languedoc-Roussillon       0.50      0.01      0.02       119\n",
      "             Levante       1.00      0.07      0.14        95\n",
      "        Leyda Valley       0.00      0.00      0.00        49\n",
      "       Limarí Valley       0.00      0.00      0.00        21\n",
      "              Lisboa       1.00      0.01      0.02       104\n",
      "        Loire Valley       0.49      0.20      0.28       360\n",
      "            Lombardy       0.57      0.10      0.17       117\n",
      "        Maipo Valley       1.00      0.01      0.03       134\n",
      "         Marlborough       1.00      0.07      0.13       173\n",
      "        Maule Valley       0.00      0.00      0.00        96\n",
      "    Mendoza Province       0.47      0.36      0.41       681\n",
      "            Michigan       0.00      0.00      0.00        22\n",
      "               Mosel       0.61      0.38      0.47       227\n",
      "            New York       0.53      0.19      0.28       536\n",
      "    Niederösterreich       0.00      0.00      0.00       101\n",
      "  Northeastern Italy       0.43      0.55      0.48       412\n",
      "      Northern Spain       0.42      0.57      0.49       830\n",
      "             Ontario       0.00      0.00      0.00        22\n",
      "              Oregon       0.84      0.33      0.48      1242\n",
      "               Other       0.50      0.01      0.02       108\n",
      "Península de Setúbal       0.00      0.00      0.00        26\n",
      "               Pfalz       0.00      0.00      0.00        44\n",
      "            Piedmont       0.71      0.54      0.61       705\n",
      "                Port       1.00      0.09      0.17        96\n",
      "            Provence       0.65      0.22      0.33       247\n",
      "        Rapel Valley       0.00      0.00      0.00        34\n",
      "            Rheingau       0.00      0.00      0.00        66\n",
      "         Rheinhessen       0.00      0.00      0.00        67\n",
      "        Rhône Valley       0.81      0.08      0.15       296\n",
      "   Sicily & Sardinia       0.86      0.26      0.40       346\n",
      "     South Australia       0.79      0.09      0.16       298\n",
      "      Southern Italy       0.71      0.04      0.07       270\n",
      "    Southwest France       0.74      0.09      0.16       299\n",
      "        Stellenbosch       1.00      0.01      0.02        83\n",
      "                Tejo       0.47      0.06      0.11       132\n",
      "               Texas       0.00      0.00      0.00        28\n",
      "       Thermenregion       0.00      0.00      0.00        21\n",
      "     Thracian Valley       0.00      0.00      0.00        23\n",
      "             Tuscany       0.60      0.68      0.64      1110\n",
      "              Veneto       0.73      0.32      0.45       454\n",
      "            Victoria       0.00      0.00      0.00        69\n",
      "         Vinho Verde       0.91      0.49      0.64        79\n",
      "            Virginia       0.00      0.00      0.00       171\n",
      "              Wachau       1.00      0.03      0.05        72\n",
      "          Washington       0.80      0.59      0.68      1796\n",
      "   Western Australia       0.00      0.00      0.00        68\n",
      "        Western Cape       1.00      0.02      0.03        58\n",
      "\n",
      "            accuracy                           0.54     25331\n",
      "           macro avg       0.42      0.13      0.15     25331\n",
      "        weighted avg       0.57      0.54      0.47     25331\n",
      "\n"
     ]
    }
   ],
   "source": [
    "print(classification_report(y_testb, predictedbr3))"
   ]
  },
  {
   "cell_type": "markdown",
   "metadata": {},
   "source": [
    "### NATIVE BAYES, COUNTVECTORIZER AND TFDFVECTORIZER\n",
    "\n",
    "As it happend in the small set the best acurracy I got in MultinomialNB with CountVectorizer. \n",
    "\n",
    "Logistic Regression performs better in this data set, with higher accuracy. \n",
    "\n",
    "\n",
    "All of the models have better scores than the baseline\n"
   ]
  },
  {
   "cell_type": "code",
   "execution_count": 16,
   "metadata": {},
   "outputs": [],
   "source": [
    "vect = CountVectorizer(ngram_range=(1, 1), strip_accents='unicode', stop_words='english')"
   ]
  },
  {
   "cell_type": "code",
   "execution_count": 17,
   "metadata": {},
   "outputs": [
    {
     "data": {
      "text/plain": [
       "0.42951324464095375"
      ]
     },
     "execution_count": 17,
     "metadata": {},
     "output_type": "execute_result"
    }
   ],
   "source": [
    "# MultinomialNB with CountVectorizer and TfidTransformer\n",
    "pipelinebn = Pipeline([\n",
    "    ('vect', vect),\n",
    "    ('tfidf', TfidfTransformer()),\n",
    "    ('cls', MultinomialNB())\n",
    "])\n",
    "pipelinebn.fit(X_trainb, y_trainb)\n",
    "predictedbn = pipelinebn.predict(X_testb)\n",
    "pipelinebn.score(X_testb, y_testb)"
   ]
  },
  {
   "cell_type": "code",
   "execution_count": 18,
   "metadata": {},
   "outputs": [
    {
     "name": "stderr",
     "output_type": "stream",
     "text": [
      "/Users/Mariagimenoperez/anaconda3/lib/python3.6/site-packages/sklearn/metrics/classification.py:1437: UndefinedMetricWarning: Precision and F-score are ill-defined and being set to 0.0 in labels with no predicted samples.\n",
      "  'precision', 'predicted', average, warn_for)\n"
     ]
    },
    {
     "name": "stdout",
     "output_type": "stream",
     "text": [
      "                      precision    recall  f1-score   support\n",
      "\n",
      "    Aconcagua Valley       0.00      0.00      0.00        22\n",
      "          Alentejano       0.00      0.00      0.00       171\n",
      "            Alentejo       0.00      0.00      0.00        35\n",
      "              Alsace       0.58      0.16      0.25       502\n",
      "             America       0.00      0.00      0.00        20\n",
      "           Andalucia       0.00      0.00      0.00        38\n",
      "     Australia Other       0.00      0.00      0.00        49\n",
      "            Bairrada       0.00      0.00      0.00        33\n",
      "          Beaujolais       0.00      0.00      0.00       206\n",
      "            Bordeaux       0.47      0.46      0.47       917\n",
      "    British Columbia       0.00      0.00      0.00        30\n",
      "          Burgenland       0.00      0.00      0.00       118\n",
      "            Burgundy       0.62      0.22      0.33       700\n",
      "    Cachapoal Valley       0.00      0.00      0.00        42\n",
      "          California       0.39      1.00      0.56      7777\n",
      "           Carnuntum       0.00      0.00      0.00        21\n",
      "   Casablanca Valley       0.00      0.00      0.00       120\n",
      "           Catalonia       1.00      0.01      0.02       247\n",
      "       Central Italy       0.00      0.00      0.00       241\n",
      "       Central Otago       0.00      0.00      0.00        35\n",
      "       Central Spain       0.00      0.00      0.00       100\n",
      "      Central Valley       0.00      0.00      0.00        73\n",
      "           Champagne       1.00      0.08      0.15       316\n",
      "      Coastal Region       0.00      0.00      0.00        25\n",
      "    Colchagua Valley       0.00      0.00      0.00       175\n",
      "       Curicó Valley       0.00      0.00      0.00        48\n",
      "               Douro       0.71      0.05      0.09       251\n",
      "                 Dão       0.00      0.00      0.00        67\n",
      "        France Other       0.00      0.00      0.00       131\n",
      "             Galicia       0.00      0.00      0.00        89\n",
      "             Galilee       0.00      0.00      0.00        61\n",
      "         Hawke's Bay       0.00      0.00      0.00        29\n",
      "               Idaho       0.00      0.00      0.00        43\n",
      "         Italy Other       0.00      0.00      0.00        30\n",
      "        Judean Hills       0.00      0.00      0.00        25\n",
      "             Kamptal       0.00      0.00      0.00        73\n",
      "            Kremstal       0.00      0.00      0.00        64\n",
      "Languedoc-Roussillon       0.00      0.00      0.00       119\n",
      "             Levante       0.00      0.00      0.00        95\n",
      "        Leyda Valley       0.00      0.00      0.00        49\n",
      "       Limarí Valley       0.00      0.00      0.00        21\n",
      "              Lisboa       0.00      0.00      0.00       104\n",
      "        Loire Valley       1.00      0.01      0.03       360\n",
      "            Lombardy       0.00      0.00      0.00       117\n",
      "        Maipo Valley       0.00      0.00      0.00       134\n",
      "         Marlborough       0.00      0.00      0.00       173\n",
      "        Maule Valley       0.00      0.00      0.00        96\n",
      "    Mendoza Province       0.70      0.11      0.19       681\n",
      "            Michigan       0.00      0.00      0.00        22\n",
      "               Mosel       1.00      0.02      0.03       227\n",
      "            New York       0.44      0.08      0.14       536\n",
      "    Niederösterreich       0.00      0.00      0.00       101\n",
      "  Northeastern Italy       0.37      0.13      0.19       412\n",
      "      Northern Spain       0.40      0.32      0.36       830\n",
      "             Ontario       0.00      0.00      0.00        22\n",
      "              Oregon       0.93      0.19      0.31      1242\n",
      "               Other       0.00      0.00      0.00       108\n",
      "Península de Setúbal       0.00      0.00      0.00        26\n",
      "               Pfalz       0.00      0.00      0.00        44\n",
      "            Piedmont       0.86      0.19      0.31       705\n",
      "                Port       0.00      0.00      0.00        96\n",
      "            Provence       0.00      0.00      0.00       247\n",
      "        Rapel Valley       0.00      0.00      0.00        34\n",
      "            Rheingau       0.00      0.00      0.00        66\n",
      "         Rheinhessen       0.00      0.00      0.00        67\n",
      "        Rhône Valley       0.00      0.00      0.00       296\n",
      "   Sicily & Sardinia       0.95      0.05      0.10       346\n",
      "     South Australia       0.00      0.00      0.00       298\n",
      "      Southern Italy       1.00      0.01      0.01       270\n",
      "    Southwest France       1.00      0.01      0.02       299\n",
      "        Stellenbosch       0.00      0.00      0.00        83\n",
      "                Tejo       0.00      0.00      0.00       132\n",
      "               Texas       0.00      0.00      0.00        28\n",
      "       Thermenregion       0.00      0.00      0.00        21\n",
      "     Thracian Valley       0.00      0.00      0.00        23\n",
      "             Tuscany       0.49      0.66      0.56      1110\n",
      "              Veneto       0.85      0.10      0.18       454\n",
      "            Victoria       0.00      0.00      0.00        69\n",
      "         Vinho Verde       0.00      0.00      0.00        79\n",
      "            Virginia       0.00      0.00      0.00       171\n",
      "              Wachau       0.00      0.00      0.00        72\n",
      "          Washington       0.90      0.44      0.59      1796\n",
      "   Western Australia       0.00      0.00      0.00        68\n",
      "        Western Cape       0.00      0.00      0.00        58\n",
      "\n",
      "            accuracy                           0.43     25331\n",
      "           macro avg       0.19      0.05      0.06     25331\n",
      "        weighted avg       0.47      0.43      0.32     25331\n",
      "\n"
     ]
    }
   ],
   "source": [
    "print(classification_report(y_testb, predictedbn))"
   ]
  },
  {
   "cell_type": "code",
   "execution_count": 19,
   "metadata": {},
   "outputs": [
    {
     "data": {
      "text/plain": [
       "0.6347953100943508"
      ]
     },
     "execution_count": 19,
     "metadata": {},
     "output_type": "execute_result"
    }
   ],
   "source": [
    "# MultinomialNB with CountVectorizer\n",
    "pipelinebn1 = Pipeline([\n",
    "    ('vect', vect),\n",
    "    ('cls', MultinomialNB())\n",
    "])\n",
    "pipelinebn1.fit(X_trainb, y_trainb)\n",
    "predictedbn1 = pipelinebn1.predict(X_testb)\n",
    "pipelinebn1.score(X_testb, y_testb)"
   ]
  },
  {
   "cell_type": "code",
   "execution_count": 23,
   "metadata": {},
   "outputs": [
    {
     "name": "stderr",
     "output_type": "stream",
     "text": [
      "/Users/Mariagimenoperez/anaconda3/lib/python3.6/site-packages/sklearn/metrics/classification.py:1437: UndefinedMetricWarning: Precision and F-score are ill-defined and being set to 0.0 in labels with no predicted samples.\n",
      "  'precision', 'predicted', average, warn_for)\n"
     ]
    },
    {
     "name": "stdout",
     "output_type": "stream",
     "text": [
      "                      precision    recall  f1-score   support\n",
      "\n",
      "    Aconcagua Valley       0.00      0.00      0.00        22\n",
      "          Alentejano       0.68      0.10      0.17       171\n",
      "            Alentejo       0.00      0.00      0.00        35\n",
      "              Alsace       0.51      0.74      0.60       502\n",
      "             America       0.00      0.00      0.00        20\n",
      "           Andalucia       0.00      0.00      0.00        38\n",
      "     Australia Other       0.00      0.00      0.00        49\n",
      "            Bairrada       0.00      0.00      0.00        33\n",
      "          Beaujolais       1.00      0.04      0.07       206\n",
      "            Bordeaux       0.41      0.84      0.55       917\n",
      "    British Columbia       0.00      0.00      0.00        30\n",
      "          Burgenland       0.67      0.03      0.06       118\n",
      "            Burgundy       0.37      0.72      0.49       700\n",
      "    Cachapoal Valley       0.00      0.00      0.00        42\n",
      "          California       0.78      0.98      0.87      7777\n",
      "           Carnuntum       0.00      0.00      0.00        21\n",
      "   Casablanca Valley       0.11      0.01      0.02       120\n",
      "           Catalonia       0.74      0.28      0.41       247\n",
      "       Central Italy       0.92      0.09      0.17       241\n",
      "       Central Otago       0.00      0.00      0.00        35\n",
      "       Central Spain       0.00      0.00      0.00       100\n",
      "      Central Valley       0.00      0.00      0.00        73\n",
      "           Champagne       0.83      0.63      0.71       316\n",
      "      Coastal Region       0.00      0.00      0.00        25\n",
      "    Colchagua Valley       0.00      0.00      0.00       175\n",
      "       Curicó Valley       0.00      0.00      0.00        48\n",
      "               Douro       0.54      0.21      0.30       251\n",
      "                 Dão       0.00      0.00      0.00        67\n",
      "        France Other       0.00      0.00      0.00       131\n",
      "             Galicia       1.00      0.02      0.04        89\n",
      "             Galilee       0.00      0.00      0.00        61\n",
      "         Hawke's Bay       0.00      0.00      0.00        29\n",
      "               Idaho       0.00      0.00      0.00        43\n",
      "         Italy Other       0.00      0.00      0.00        30\n",
      "        Judean Hills       0.00      0.00      0.00        25\n",
      "             Kamptal       0.00      0.00      0.00        73\n",
      "            Kremstal       0.00      0.00      0.00        64\n",
      "Languedoc-Roussillon       0.77      0.08      0.15       119\n",
      "             Levante       0.00      0.00      0.00        95\n",
      "        Leyda Valley       0.00      0.00      0.00        49\n",
      "       Limarí Valley       0.00      0.00      0.00        21\n",
      "              Lisboa       0.00      0.00      0.00       104\n",
      "        Loire Valley       0.51      0.32      0.39       360\n",
      "            Lombardy       0.00      0.00      0.00       117\n",
      "        Maipo Valley       0.00      0.00      0.00       134\n",
      "         Marlborough       0.82      0.26      0.39       173\n",
      "        Maule Valley       0.00      0.00      0.00        96\n",
      "    Mendoza Province       0.43      0.58      0.49       681\n",
      "            Michigan       0.00      0.00      0.00        22\n",
      "               Mosel       0.70      0.50      0.58       227\n",
      "            New York       0.50      0.74      0.60       536\n",
      "    Niederösterreich       0.50      0.01      0.02       101\n",
      "  Northeastern Italy       0.38      0.76      0.51       412\n",
      "      Northern Spain       0.39      0.86      0.54       830\n",
      "             Ontario       0.00      0.00      0.00        22\n",
      "              Oregon       0.69      0.80      0.74      1242\n",
      "               Other       0.00      0.00      0.00       108\n",
      "Península de Setúbal       0.00      0.00      0.00        26\n",
      "               Pfalz       0.00      0.00      0.00        44\n",
      "            Piedmont       0.65      0.60      0.62       705\n",
      "                Port       1.00      0.06      0.12        96\n",
      "            Provence       0.77      0.29      0.42       247\n",
      "        Rapel Valley       0.00      0.00      0.00        34\n",
      "            Rheingau       0.00      0.00      0.00        66\n",
      "         Rheinhessen       0.00      0.00      0.00        67\n",
      "        Rhône Valley       0.84      0.40      0.54       296\n",
      "   Sicily & Sardinia       0.88      0.32      0.47       346\n",
      "     South Australia       0.60      0.31      0.41       298\n",
      "      Southern Italy       0.93      0.14      0.25       270\n",
      "    Southwest France       0.73      0.20      0.32       299\n",
      "        Stellenbosch       0.00      0.00      0.00        83\n",
      "                Tejo       0.60      0.05      0.08       132\n",
      "               Texas       0.00      0.00      0.00        28\n",
      "       Thermenregion       0.00      0.00      0.00        21\n",
      "     Thracian Valley       0.00      0.00      0.00        23\n",
      "             Tuscany       0.54      0.76      0.63      1110\n",
      "              Veneto       0.63      0.41      0.50       454\n",
      "            Victoria       0.00      0.00      0.00        69\n",
      "         Vinho Verde       0.91      0.13      0.22        79\n",
      "            Virginia       0.92      0.07      0.13       171\n",
      "              Wachau       0.00      0.00      0.00        72\n",
      "          Washington       0.80      0.78      0.79      1796\n",
      "   Western Australia       0.00      0.00      0.00        68\n",
      "        Western Cape       0.00      0.00      0.00        58\n",
      "\n",
      "            accuracy                           0.63     25331\n",
      "           macro avg       0.30      0.17      0.17     25331\n",
      "        weighted avg       0.61      0.63      0.57     25331\n",
      "\n"
     ]
    }
   ],
   "source": [
    "print(classification_report(y_testb, predictedbn1))"
   ]
  },
  {
   "cell_type": "code",
   "execution_count": 24,
   "metadata": {},
   "outputs": [
    {
     "data": {
      "text/plain": [
       "0.5981998341952548"
      ]
     },
     "execution_count": 24,
     "metadata": {},
     "output_type": "execute_result"
    }
   ],
   "source": [
    "# BernoulliNB\n",
    "pipelinebn2 = Pipeline([\n",
    "    ('vect', vect),\n",
    "    ('cls', BernoulliNB())\n",
    "])\n",
    "pipelinebn2.fit(X_trainb, y_trainb)\n",
    "predictedbn2 = pipelinebn2.predict(X_testb)\n",
    "pipelinebn2.score(X_testb, y_testb)"
   ]
  },
  {
   "cell_type": "code",
   "execution_count": 25,
   "metadata": {},
   "outputs": [
    {
     "name": "stderr",
     "output_type": "stream",
     "text": [
      "/Users/Mariagimenoperez/anaconda3/lib/python3.6/site-packages/sklearn/metrics/classification.py:1437: UndefinedMetricWarning: Precision and F-score are ill-defined and being set to 0.0 in labels with no predicted samples.\n",
      "  'precision', 'predicted', average, warn_for)\n"
     ]
    },
    {
     "name": "stdout",
     "output_type": "stream",
     "text": [
      "                      precision    recall  f1-score   support\n",
      "\n",
      "    Aconcagua Valley       0.00      0.00      0.00        22\n",
      "          Alentejano       0.00      0.00      0.00       171\n",
      "            Alentejo       0.00      0.00      0.00        35\n",
      "              Alsace       0.52      0.68      0.59       502\n",
      "             America       0.00      0.00      0.00        20\n",
      "           Andalucia       0.00      0.00      0.00        38\n",
      "     Australia Other       0.00      0.00      0.00        49\n",
      "            Bairrada       0.00      0.00      0.00        33\n",
      "          Beaujolais       0.00      0.00      0.00       206\n",
      "            Bordeaux       0.36      0.85      0.51       917\n",
      "    British Columbia       0.00      0.00      0.00        30\n",
      "          Burgenland       0.00      0.00      0.00       118\n",
      "            Burgundy       0.33      0.66      0.44       700\n",
      "    Cachapoal Valley       0.00      0.00      0.00        42\n",
      "          California       0.71      0.99      0.83      7777\n",
      "           Carnuntum       0.00      0.00      0.00        21\n",
      "   Casablanca Valley       0.00      0.00      0.00       120\n",
      "           Catalonia       0.92      0.04      0.08       247\n",
      "       Central Italy       1.00      0.00      0.01       241\n",
      "       Central Otago       0.00      0.00      0.00        35\n",
      "       Central Spain       0.00      0.00      0.00       100\n",
      "      Central Valley       0.00      0.00      0.00        73\n",
      "           Champagne       0.99      0.36      0.53       316\n",
      "      Coastal Region       0.00      0.00      0.00        25\n",
      "    Colchagua Valley       0.00      0.00      0.00       175\n",
      "       Curicó Valley       0.00      0.00      0.00        48\n",
      "               Douro       0.60      0.10      0.17       251\n",
      "                 Dão       0.00      0.00      0.00        67\n",
      "        France Other       0.00      0.00      0.00       131\n",
      "             Galicia       0.00      0.00      0.00        89\n",
      "             Galilee       0.00      0.00      0.00        61\n",
      "         Hawke's Bay       0.00      0.00      0.00        29\n",
      "               Idaho       0.00      0.00      0.00        43\n",
      "         Italy Other       0.00      0.00      0.00        30\n",
      "        Judean Hills       0.00      0.00      0.00        25\n",
      "             Kamptal       0.00      0.00      0.00        73\n",
      "            Kremstal       0.00      0.00      0.00        64\n",
      "Languedoc-Roussillon       1.00      0.01      0.02       119\n",
      "             Levante       0.00      0.00      0.00        95\n",
      "        Leyda Valley       0.00      0.00      0.00        49\n",
      "       Limarí Valley       0.00      0.00      0.00        21\n",
      "              Lisboa       0.00      0.00      0.00       104\n",
      "        Loire Valley       0.68      0.15      0.25       360\n",
      "            Lombardy       0.00      0.00      0.00       117\n",
      "        Maipo Valley       0.00      0.00      0.00       134\n",
      "         Marlborough       1.00      0.02      0.03       173\n",
      "        Maule Valley       0.00      0.00      0.00        96\n",
      "    Mendoza Province       0.45      0.51      0.48       681\n",
      "            Michigan       0.00      0.00      0.00        22\n",
      "               Mosel       0.84      0.12      0.21       227\n",
      "            New York       0.46      0.68      0.55       536\n",
      "    Niederösterreich       0.00      0.00      0.00       101\n",
      "  Northeastern Italy       0.38      0.68      0.49       412\n",
      "      Northern Spain       0.38      0.88      0.53       830\n",
      "             Ontario       0.00      0.00      0.00        22\n",
      "              Oregon       0.68      0.76      0.72      1242\n",
      "               Other       0.00      0.00      0.00       108\n",
      "Península de Setúbal       0.00      0.00      0.00        26\n",
      "               Pfalz       0.00      0.00      0.00        44\n",
      "            Piedmont       0.65      0.53      0.59       705\n",
      "                Port       0.00      0.00      0.00        96\n",
      "            Provence       0.96      0.10      0.18       247\n",
      "        Rapel Valley       0.00      0.00      0.00        34\n",
      "            Rheingau       0.00      0.00      0.00        66\n",
      "         Rheinhessen       0.00      0.00      0.00        67\n",
      "        Rhône Valley       0.94      0.21      0.35       296\n",
      "   Sicily & Sardinia       0.91      0.17      0.29       346\n",
      "     South Australia       0.72      0.21      0.33       298\n",
      "      Southern Italy       1.00      0.06      0.11       270\n",
      "    Southwest France       0.79      0.05      0.09       299\n",
      "        Stellenbosch       0.00      0.00      0.00        83\n",
      "                Tejo       0.00      0.00      0.00       132\n",
      "               Texas       0.00      0.00      0.00        28\n",
      "       Thermenregion       0.00      0.00      0.00        21\n",
      "     Thracian Valley       0.00      0.00      0.00        23\n",
      "             Tuscany       0.52      0.73      0.61      1110\n",
      "              Veneto       0.60      0.37      0.46       454\n",
      "            Victoria       0.00      0.00      0.00        69\n",
      "         Vinho Verde       0.00      0.00      0.00        79\n",
      "            Virginia       1.00      0.01      0.01       171\n",
      "              Wachau       0.00      0.00      0.00        72\n",
      "          Washington       0.77      0.78      0.78      1796\n",
      "   Western Australia       0.00      0.00      0.00        68\n",
      "        Western Cape       0.00      0.00      0.00        58\n",
      "\n",
      "            accuracy                           0.60     25331\n",
      "           macro avg       0.24      0.13      0.12     25331\n",
      "        weighted avg       0.57      0.60      0.52     25331\n",
      "\n"
     ]
    }
   ],
   "source": [
    "print(classification_report(y_testb, predictedbn2))"
   ]
  },
  {
   "cell_type": "code",
   "execution_count": 26,
   "metadata": {},
   "outputs": [],
   "source": [
    "vect1 = TfidfVectorizer(stop_words='english', sublinear_tf=True,\n",
    "                             ngram_range = (1,1), strip_accents='unicode')"
   ]
  },
  {
   "cell_type": "code",
   "execution_count": 27,
   "metadata": {},
   "outputs": [
    {
     "data": {
      "text/plain": [
       "0.4303027910465438"
      ]
     },
     "execution_count": 27,
     "metadata": {},
     "output_type": "execute_result"
    }
   ],
   "source": [
    "# MultinomialNB with  TdidfVectorizer\n",
    "pipelinebn3 = Pipeline([\n",
    "    ('vect',vect1) ,\n",
    "    ('cls', MultinomialNB())\n",
    "])\n",
    "pipelinebn3.fit(X_trainb, y_trainb)\n",
    "predictedbn3 = pipelinebn3.predict(X_testb)\n",
    "pipelinebn3.score(X_testb, y_testb)"
   ]
  },
  {
   "cell_type": "code",
   "execution_count": 28,
   "metadata": {},
   "outputs": [],
   "source": [
    "#print(classification_report(y_testb, predictedbn3))"
   ]
  },
  {
   "cell_type": "code",
   "execution_count": 29,
   "metadata": {},
   "outputs": [
    {
     "data": {
      "text/plain": [
       "0.5981998341952548"
      ]
     },
     "execution_count": 29,
     "metadata": {},
     "output_type": "execute_result"
    }
   ],
   "source": [
    "# BernoulliNB\n",
    "pipelinebn4 = Pipeline([\n",
    "    ('vect', vect1),\n",
    "    ('cls', BernoulliNB())\n",
    "])\n",
    "pipelinebn4.fit(X_trainb, y_trainb)\n",
    "predictedbn4 = pipelinebn4.predict(X_testb)\n",
    "pipelinebn4.score(X_testb, y_testb)"
   ]
  },
  {
   "cell_type": "code",
   "execution_count": 30,
   "metadata": {},
   "outputs": [
    {
     "name": "stderr",
     "output_type": "stream",
     "text": [
      "/Users/Mariagimenoperez/anaconda3/lib/python3.6/site-packages/sklearn/metrics/classification.py:1437: UndefinedMetricWarning: Precision and F-score are ill-defined and being set to 0.0 in labels with no predicted samples.\n",
      "  'precision', 'predicted', average, warn_for)\n"
     ]
    },
    {
     "name": "stdout",
     "output_type": "stream",
     "text": [
      "                      precision    recall  f1-score   support\n",
      "\n",
      "    Aconcagua Valley       0.00      0.00      0.00        22\n",
      "          Alentejano       0.00      0.00      0.00       171\n",
      "            Alentejo       0.00      0.00      0.00        35\n",
      "              Alsace       0.52      0.68      0.59       502\n",
      "             America       0.00      0.00      0.00        20\n",
      "           Andalucia       0.00      0.00      0.00        38\n",
      "     Australia Other       0.00      0.00      0.00        49\n",
      "            Bairrada       0.00      0.00      0.00        33\n",
      "          Beaujolais       0.00      0.00      0.00       206\n",
      "            Bordeaux       0.36      0.85      0.51       917\n",
      "    British Columbia       0.00      0.00      0.00        30\n",
      "          Burgenland       0.00      0.00      0.00       118\n",
      "            Burgundy       0.33      0.66      0.44       700\n",
      "    Cachapoal Valley       0.00      0.00      0.00        42\n",
      "          California       0.71      0.99      0.83      7777\n",
      "           Carnuntum       0.00      0.00      0.00        21\n",
      "   Casablanca Valley       0.00      0.00      0.00       120\n",
      "           Catalonia       0.92      0.04      0.08       247\n",
      "       Central Italy       1.00      0.00      0.01       241\n",
      "       Central Otago       0.00      0.00      0.00        35\n",
      "       Central Spain       0.00      0.00      0.00       100\n",
      "      Central Valley       0.00      0.00      0.00        73\n",
      "           Champagne       0.99      0.36      0.53       316\n",
      "      Coastal Region       0.00      0.00      0.00        25\n",
      "    Colchagua Valley       0.00      0.00      0.00       175\n",
      "       Curicó Valley       0.00      0.00      0.00        48\n",
      "               Douro       0.60      0.10      0.17       251\n",
      "                 Dão       0.00      0.00      0.00        67\n",
      "        France Other       0.00      0.00      0.00       131\n",
      "             Galicia       0.00      0.00      0.00        89\n",
      "             Galilee       0.00      0.00      0.00        61\n",
      "         Hawke's Bay       0.00      0.00      0.00        29\n",
      "               Idaho       0.00      0.00      0.00        43\n",
      "         Italy Other       0.00      0.00      0.00        30\n",
      "        Judean Hills       0.00      0.00      0.00        25\n",
      "             Kamptal       0.00      0.00      0.00        73\n",
      "            Kremstal       0.00      0.00      0.00        64\n",
      "Languedoc-Roussillon       1.00      0.01      0.02       119\n",
      "             Levante       0.00      0.00      0.00        95\n",
      "        Leyda Valley       0.00      0.00      0.00        49\n",
      "       Limarí Valley       0.00      0.00      0.00        21\n",
      "              Lisboa       0.00      0.00      0.00       104\n",
      "        Loire Valley       0.68      0.15      0.25       360\n",
      "            Lombardy       0.00      0.00      0.00       117\n",
      "        Maipo Valley       0.00      0.00      0.00       134\n",
      "         Marlborough       1.00      0.02      0.03       173\n",
      "        Maule Valley       0.00      0.00      0.00        96\n",
      "    Mendoza Province       0.45      0.51      0.48       681\n",
      "            Michigan       0.00      0.00      0.00        22\n",
      "               Mosel       0.84      0.12      0.21       227\n",
      "            New York       0.46      0.68      0.55       536\n",
      "    Niederösterreich       0.00      0.00      0.00       101\n",
      "  Northeastern Italy       0.38      0.68      0.49       412\n",
      "      Northern Spain       0.38      0.88      0.53       830\n",
      "             Ontario       0.00      0.00      0.00        22\n",
      "              Oregon       0.68      0.76      0.72      1242\n",
      "               Other       0.00      0.00      0.00       108\n",
      "Península de Setúbal       0.00      0.00      0.00        26\n",
      "               Pfalz       0.00      0.00      0.00        44\n",
      "            Piedmont       0.65      0.53      0.59       705\n",
      "                Port       0.00      0.00      0.00        96\n",
      "            Provence       0.96      0.10      0.18       247\n",
      "        Rapel Valley       0.00      0.00      0.00        34\n",
      "            Rheingau       0.00      0.00      0.00        66\n",
      "         Rheinhessen       0.00      0.00      0.00        67\n",
      "        Rhône Valley       0.94      0.21      0.35       296\n",
      "   Sicily & Sardinia       0.91      0.17      0.29       346\n",
      "     South Australia       0.72      0.21      0.33       298\n",
      "      Southern Italy       1.00      0.06      0.11       270\n",
      "    Southwest France       0.79      0.05      0.09       299\n",
      "        Stellenbosch       0.00      0.00      0.00        83\n",
      "                Tejo       0.00      0.00      0.00       132\n",
      "               Texas       0.00      0.00      0.00        28\n",
      "       Thermenregion       0.00      0.00      0.00        21\n",
      "     Thracian Valley       0.00      0.00      0.00        23\n",
      "             Tuscany       0.52      0.73      0.61      1110\n",
      "              Veneto       0.60      0.37      0.46       454\n",
      "            Victoria       0.00      0.00      0.00        69\n",
      "         Vinho Verde       0.00      0.00      0.00        79\n",
      "            Virginia       1.00      0.01      0.01       171\n",
      "              Wachau       0.00      0.00      0.00        72\n",
      "          Washington       0.77      0.78      0.78      1796\n",
      "   Western Australia       0.00      0.00      0.00        68\n",
      "        Western Cape       0.00      0.00      0.00        58\n",
      "\n",
      "            accuracy                           0.60     25331\n",
      "           macro avg       0.24      0.13      0.12     25331\n",
      "        weighted avg       0.57      0.60      0.52     25331\n",
      "\n"
     ]
    }
   ],
   "source": [
    "print(classification_report(y_testb, predictedbn4))"
   ]
  },
  {
   "cell_type": "markdown",
   "metadata": {},
   "source": [
    "### CONCLUSION:\n",
    "\n",
    "The logisitic regresion models performed better than all the models. The best accuracy was with CountVectoricer and Lasso Regularization. The big data set has better results in all the models than the small data set."
   ]
  }
 ],
 "metadata": {
  "kernelspec": {
   "display_name": "Python 3",
   "language": "python",
   "name": "python3"
  },
  "language_info": {
   "codemirror_mode": {
    "name": "ipython",
    "version": 3
   },
   "file_extension": ".py",
   "mimetype": "text/x-python",
   "name": "python",
   "nbconvert_exporter": "python",
   "pygments_lexer": "ipython3",
   "version": "3.6.8"
  }
 },
 "nbformat": 4,
 "nbformat_minor": 2
}
