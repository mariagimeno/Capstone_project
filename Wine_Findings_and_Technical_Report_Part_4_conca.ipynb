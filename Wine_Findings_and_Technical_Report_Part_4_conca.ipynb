{
 "cells": [
  {
   "cell_type": "markdown",
   "metadata": {},
   "source": [
    "# CAPSTONE - FINDINGS AND TECHNICAL REPORT WINE BLIND TASTING"
   ]
  },
  {
   "cell_type": "markdown",
   "metadata": {},
   "source": [
    "I have buil a classification model that, based on a wine description given by an expert or semi-expert, is able to tell what country, variety and province was used to make that wine.\n",
    "\n",
    "This dataset is the results of merging two datasets (big and small).\n"
   ]
  },
  {
   "cell_type": "code",
   "execution_count": 1,
   "metadata": {},
   "outputs": [],
   "source": [
    "import pandas as pd\n",
    "import numpy as np\n",
    "import matplotlib.pyplot as plt\n",
    "import seaborn as sns\n",
    "from sklearn.model_selection import train_test_split\n",
    "from sklearn.feature_extraction.text import CountVectorizer, TfidfTransformer, TfidfVectorizer\n",
    "from sklearn.model_selection import train_test_split, cross_val_score, GridSearchCV\n",
    "from sklearn.metrics import confusion_matrix, classification_report\n",
    "from sklearn.naive_bayes import MultinomialNB, BernoulliNB, GaussianNB\n",
    "from sklearn.linear_model import LogisticRegression\n",
    "from sklearn.pipeline import Pipeline\n",
    "from sklearn.ensemble import RandomForestClassifier\n",
    "pd.set_option('display.max_columns',500)\n",
    "%config InlineBackend.figure_format = 'retina'\n",
    "%matplotlib inline"
   ]
  },
  {
   "cell_type": "code",
   "execution_count": 2,
   "metadata": {},
   "outputs": [],
   "source": [
    "df = pd.read_csv('wine_conca.csv')"
   ]
  },
  {
   "cell_type": "code",
   "execution_count": 3,
   "metadata": {},
   "outputs": [],
   "source": [
    "df = df.dropna(axis=0, subset=['country'])"
   ]
  },
  {
   "cell_type": "code",
   "execution_count": 4,
   "metadata": {
    "scrolled": false
   },
   "outputs": [
    {
     "data": {
      "text/html": [
       "<div>\n",
       "<style scoped>\n",
       "    .dataframe tbody tr th:only-of-type {\n",
       "        vertical-align: middle;\n",
       "    }\n",
       "\n",
       "    .dataframe tbody tr th {\n",
       "        vertical-align: top;\n",
       "    }\n",
       "\n",
       "    .dataframe thead th {\n",
       "        text-align: right;\n",
       "    }\n",
       "</style>\n",
       "<table border=\"1\" class=\"dataframe\">\n",
       "  <thead>\n",
       "    <tr style=\"text-align: right;\">\n",
       "      <th></th>\n",
       "      <th>country</th>\n",
       "      <th>description</th>\n",
       "      <th>designation</th>\n",
       "      <th>points</th>\n",
       "      <th>price</th>\n",
       "      <th>province</th>\n",
       "      <th>region_1</th>\n",
       "      <th>taster_name</th>\n",
       "      <th>title</th>\n",
       "      <th>variety</th>\n",
       "      <th>winery</th>\n",
       "      <th>vintage</th>\n",
       "    </tr>\n",
       "  </thead>\n",
       "  <tbody>\n",
       "    <tr>\n",
       "      <th>0</th>\n",
       "      <td>France</td>\n",
       "      <td>Buxom and heady, this is a delightfully rich, ...</td>\n",
       "      <td>Vieilles Vignes</td>\n",
       "      <td>99</td>\n",
       "      <td>114.0</td>\n",
       "      <td>Châteauneuf-du-Pape</td>\n",
       "      <td>Rhône Valley</td>\n",
       "      <td>Anna Lee C. Iijima</td>\n",
       "      <td>Domaine de la Janasse 2016 Vieilles Vignes Red...</td>\n",
       "      <td>Rhône-style Red Blend</td>\n",
       "      <td>Domaine de la Janasse</td>\n",
       "      <td>2016.0</td>\n",
       "    </tr>\n",
       "    <tr>\n",
       "      <th>1</th>\n",
       "      <td>France</td>\n",
       "      <td>Sultry and silken on the palate, this wine sta...</td>\n",
       "      <td>La Réserve</td>\n",
       "      <td>98</td>\n",
       "      <td>175.0</td>\n",
       "      <td>Châteauneuf-du-Pape</td>\n",
       "      <td>Rhône Valley</td>\n",
       "      <td>Anna Lee C. Iijima</td>\n",
       "      <td>Domaine le Clos du Caillou 2016 La Réserve Red...</td>\n",
       "      <td>Rhône-style Red Blend</td>\n",
       "      <td>Domaine le Clos du Caillou</td>\n",
       "      <td>2016.0</td>\n",
       "    </tr>\n",
       "    <tr>\n",
       "      <th>2</th>\n",
       "      <td>Portugal</td>\n",
       "      <td>The wine's fine perfumed black plum fruits giv...</td>\n",
       "      <td>NaN</td>\n",
       "      <td>98</td>\n",
       "      <td>120.0</td>\n",
       "      <td>Port</td>\n",
       "      <td>Port Blend</td>\n",
       "      <td>Roger Voss</td>\n",
       "      <td>Fonseca 2017  Port</td>\n",
       "      <td>Port</td>\n",
       "      <td>Fonseca</td>\n",
       "      <td>2017.0</td>\n",
       "    </tr>\n",
       "    <tr>\n",
       "      <th>3</th>\n",
       "      <td>France</td>\n",
       "      <td>Veins of vanilla, smoke and toast amplify blac...</td>\n",
       "      <td>Hommage à Henry Tacussel</td>\n",
       "      <td>98</td>\n",
       "      <td>80.0</td>\n",
       "      <td>Châteauneuf-du-Pape</td>\n",
       "      <td>Rhône Valley</td>\n",
       "      <td>Anna Lee C. Iijima</td>\n",
       "      <td>Domaine Moulin-Tacussel 2016 Hommage à Henry T...</td>\n",
       "      <td>Grenache</td>\n",
       "      <td>Domaine Moulin-Tacussel</td>\n",
       "      <td>2016.0</td>\n",
       "    </tr>\n",
       "    <tr>\n",
       "      <th>4</th>\n",
       "      <td>France</td>\n",
       "      <td>This juicy, fruit-forward wine drenches the pa...</td>\n",
       "      <td>La Muse</td>\n",
       "      <td>97</td>\n",
       "      <td>88.0</td>\n",
       "      <td>Châteauneuf-du-Pape</td>\n",
       "      <td>Rhône Valley</td>\n",
       "      <td>Anna Lee C. Iijima</td>\n",
       "      <td>Guillaume Gonnet 2016 La Muse Red (Châteauneuf...</td>\n",
       "      <td>Rhône-style Red Blend</td>\n",
       "      <td>Guillaume Gonnet</td>\n",
       "      <td>2016.0</td>\n",
       "    </tr>\n",
       "  </tbody>\n",
       "</table>\n",
       "</div>"
      ],
      "text/plain": [
       "    country                                        description  \\\n",
       "0    France  Buxom and heady, this is a delightfully rich, ...   \n",
       "1    France  Sultry and silken on the palate, this wine sta...   \n",
       "2  Portugal  The wine's fine perfumed black plum fruits giv...   \n",
       "3    France  Veins of vanilla, smoke and toast amplify blac...   \n",
       "4    France  This juicy, fruit-forward wine drenches the pa...   \n",
       "\n",
       "                designation  points  price             province      region_1  \\\n",
       "0           Vieilles Vignes      99  114.0  Châteauneuf-du-Pape  Rhône Valley   \n",
       "1                La Réserve      98  175.0  Châteauneuf-du-Pape  Rhône Valley   \n",
       "2                       NaN      98  120.0                 Port    Port Blend   \n",
       "3  Hommage à Henry Tacussel      98   80.0  Châteauneuf-du-Pape  Rhône Valley   \n",
       "4                   La Muse      97   88.0  Châteauneuf-du-Pape  Rhône Valley   \n",
       "\n",
       "          taster_name                                              title  \\\n",
       "0  Anna Lee C. Iijima  Domaine de la Janasse 2016 Vieilles Vignes Red...   \n",
       "1  Anna Lee C. Iijima  Domaine le Clos du Caillou 2016 La Réserve Red...   \n",
       "2          Roger Voss                                 Fonseca 2017  Port   \n",
       "3  Anna Lee C. Iijima  Domaine Moulin-Tacussel 2016 Hommage à Henry T...   \n",
       "4  Anna Lee C. Iijima  Guillaume Gonnet 2016 La Muse Red (Châteauneuf...   \n",
       "\n",
       "                 variety                      winery  vintage  \n",
       "0  Rhône-style Red Blend       Domaine de la Janasse   2016.0  \n",
       "1  Rhône-style Red Blend  Domaine le Clos du Caillou   2016.0  \n",
       "2                   Port                     Fonseca   2017.0  \n",
       "3               Grenache     Domaine Moulin-Tacussel   2016.0  \n",
       "4  Rhône-style Red Blend            Guillaume Gonnet   2016.0  "
      ]
     },
     "execution_count": 4,
     "metadata": {},
     "output_type": "execute_result"
    }
   ],
   "source": [
    "df.head()"
   ]
  },
  {
   "cell_type": "code",
   "execution_count": 5,
   "metadata": {},
   "outputs": [
    {
     "name": "stdout",
     "output_type": "stream",
     "text": [
      "There are 804 types of grapes(varieties) in this dataset such as Rhône-style Red Blend, Port, Grenache, Grenache-Mourvèdre, Champagne Blend... \n",
      "\n",
      "There are 1303 provinces producing wine in this dataset such as Châteauneuf-du-Pape, Port, Champagne, Trento, Santa Maria Valley... \n",
      "\n",
      "There are 44 countries producing wine in this dataset such as France, Portugal, Italy, US, Chile... \n",
      "\n",
      "There are 18582 winery producing wine in this dataset such as Domaine de la Janasse, Domaine le Clos du Caillou, Fonseca, Domaine Moulin-Tacussel, Guillaume Gonnet... \n",
      "\n"
     ]
    }
   ],
   "source": [
    "print(\"There are {} types of grapes(varieties) in this dataset such as {}... \\n\".\n",
    "      format(len(df.variety.unique()), \", \".join(df.variety.unique()[0:5])))\n",
    "print(\"There are {} provinces producing wine in this dataset such as {}... \\n\".\n",
    "      format(len(df.province.unique()), \", \".join(df.province.unique()[0:5])))\n",
    "print(\"There are {} countries producing wine in this dataset such as {}... \\n\".\n",
    "      format(len(df.country.unique()), \", \".join(df.country.unique()[0:5])))  \n",
    "print(\"There are {} winery producing wine in this dataset such as {}... \\n\".\n",
    "      format(len(df.winery.unique()), \", \".join(df.winery.unique()[0:5]))) "
   ]
  },
  {
   "cell_type": "code",
   "execution_count": 6,
   "metadata": {
    "scrolled": true
   },
   "outputs": [
    {
     "name": "stdout",
     "output_type": "stream",
     "text": [
      "The baselines of  my features are:\n",
      "The country baseline is 0.4260024592868068\n",
      "The variety baseline is 0.1080593111556318\n",
      "The province baseline is 0.23741115076627778\n"
     ]
    }
   ],
   "source": [
    "print('The baselines of  my features are:')\n",
    "print('The country baseline is', df.country.value_counts(normalize=True).max())\n",
    "print('The variety baseline is', df.variety.value_counts(normalize=True).max())\n",
    "print('The province baseline is', df.province.value_counts(normalize=True).max())"
   ]
  },
  {
   "cell_type": "code",
   "execution_count": 7,
   "metadata": {},
   "outputs": [
    {
     "data": {
      "text/plain": [
       "<166715x32129 sparse matrix of type '<class 'numpy.int64'>'\n",
       "\twith 4047438 stored elements in Compressed Sparse Row format>"
      ]
     },
     "execution_count": 7,
     "metadata": {},
     "output_type": "execute_result"
    }
   ],
   "source": [
    "cvec = CountVectorizer(strip_accents='unicode',\n",
    "                       stop_words=\"english\", \n",
    "                       ngram_range=(1, 1))\n",
    "\n",
    "X_all = cvec.fit_transform(df['description'])\n",
    "columns = cvec.get_feature_names()\n",
    "X_all"
   ]
  },
  {
   "cell_type": "markdown",
   "metadata": {},
   "source": [
    "###  THE VARIABLE COUNTRY AS A TARGET\n"
   ]
  },
  {
   "cell_type": "code",
   "execution_count": 8,
   "metadata": {},
   "outputs": [],
   "source": [
    "# The target is the variable 'country'. This datset has 46 differentes countries.\n",
    "y = df.country\n",
    "X =  df.description"
   ]
  },
  {
   "cell_type": "code",
   "execution_count": 9,
   "metadata": {},
   "outputs": [],
   "source": [
    "X_train, X_test, y_train, y_test = train_test_split(X, y, test_size=0.2)"
   ]
  },
  {
   "cell_type": "markdown",
   "metadata": {},
   "source": [
    "### COUNT VECTORIZER  AND LOGISTIC REGRESSION "
   ]
  },
  {
   "cell_type": "markdown",
   "metadata": {},
   "source": [
    "In Countvectorizer:\n",
    "- I am using stip_accents to Remove accents and perform other character normalization.\n",
    "- I used 'stop_words' inside the CountVectorizer because I am going to eliminate most of the common words like 'and', 'the', 'of',..... that they are not relevant for determining wine language.\n",
    "- the ngram_range is (1,1) because I am only want to extract 1 word.\n",
    "\n",
    "In Logistic Regression:\n",
    "- 'l1' I am using Lasso regularization where all the less important features will come 0.\n",
    "- 'saga' this parameter handle with Lasso regulation and it's faster than 'liblinear'.\n",
    "- 'ovr' in multiclass in the first performance. I change it to 'Multinomial' in the second performance because in the target there is more than two classes. And It does not improve the score.\n",
    "- 'random_state' I am going to use the default because I am using 'saga' as a solver.\n",
    "\n",
    "The best performer model was CountVectoricer and Logistic Regression with Ridge regularization.\n",
    "\n",
    "I only calculated de Cross Validation score in the model that was the best performer. The score does not differ so much that the accurracy score.\n",
    "\n",
    "All of the models have better scores than the baseline."
   ]
  },
  {
   "cell_type": "code",
   "execution_count": 10,
   "metadata": {},
   "outputs": [],
   "source": [
    "cvec = CountVectorizer(strip_accents='unicode', stop_words=\"english\", ngram_range=(1, 1))"
   ]
  },
  {
   "cell_type": "code",
   "execution_count": 11,
   "metadata": {
    "scrolled": true
   },
   "outputs": [
    {
     "name": "stderr",
     "output_type": "stream",
     "text": [
      "/Users/Mariagimenoperez/anaconda3/lib/python3.6/site-packages/sklearn/linear_model/logistic.py:469: FutureWarning: Default multi_class will be changed to 'auto' in 0.22. Specify the multi_class option to silence this warning.\n",
      "  \"this warning.\", FutureWarning)\n",
      "[Parallel(n_jobs=2)]: Using backend LokyBackend with 2 concurrent workers.\n",
      "[Parallel(n_jobs=2)]: Done  44 out of  44 | elapsed:   28.6s finished\n"
     ]
    },
    {
     "data": {
      "text/plain": [
       "0.8731067990282818"
      ]
     },
     "execution_count": 11,
     "metadata": {},
     "output_type": "execute_result"
    }
   ],
   "source": [
    "#CountVectorizer and Logistic Regresion with Ridge regularization\n",
    "pipelines = Pipeline([\n",
    "    ('vect', cvec),\n",
    "    ('cls', LogisticRegression(penalty = 'l2', solver='lbfgs', verbose = 1, n_jobs = 2))\n",
    "])\n",
    "pipelines.fit(X_train, y_train)\n",
    "predicted = pipelines.predict(X_test)\n",
    "pipelines.score(X_test, y_test)"
   ]
  },
  {
   "cell_type": "code",
   "execution_count": 12,
   "metadata": {},
   "outputs": [
    {
     "name": "stderr",
     "output_type": "stream",
     "text": [
      "/Users/Mariagimenoperez/anaconda3/lib/python3.6/site-packages/sklearn/metrics/classification.py:1437: UndefinedMetricWarning: Precision and F-score are ill-defined and being set to 0.0 in labels with no predicted samples.\n",
      "  'precision', 'predicted', average, warn_for)\n"
     ]
    },
    {
     "name": "stdout",
     "output_type": "stream",
     "text": [
      "                        precision    recall  f1-score   support\n",
      "\n",
      "             Argentina       0.61      0.49      0.55       897\n",
      "               Armenia       0.00      0.00      0.00         2\n",
      "             Australia       0.77      0.65      0.70       641\n",
      "               Austria       0.84      0.76      0.80       798\n",
      "Bosnia and Herzegovina       0.00      0.00      0.00         2\n",
      "                Brazil       1.00      0.08      0.14        13\n",
      "              Bulgaria       0.80      0.43      0.56        46\n",
      "                Canada       0.75      0.09      0.16        69\n",
      "                 Chile       0.68      0.58      0.62      1144\n",
      "                 China       0.00      0.00      0.00         1\n",
      "               Croatia       0.71      0.24      0.36        21\n",
      "        Czech Republic       1.00      0.29      0.44         7\n",
      "               England       1.00      0.52      0.68        31\n",
      "                France       0.84      0.90      0.87      5685\n",
      "               Georgia       0.75      0.17      0.28        35\n",
      "               Germany       0.82      0.72      0.77       611\n",
      "                Greece       0.82      0.67      0.74       101\n",
      "               Hungary       0.71      0.52      0.60        33\n",
      "                 India       0.00      0.00      0.00         4\n",
      "                Israel       0.60      0.50      0.55       144\n",
      "                 Italy       0.96      0.97      0.97      4612\n",
      "                Kosovo       1.00      0.60      0.75         5\n",
      "               Lebanon       0.00      0.00      0.00         6\n",
      "            Luxembourg       0.67      0.33      0.44         6\n",
      "                Mexico       1.00      0.11      0.20         9\n",
      "               Moldova       0.71      0.25      0.37        20\n",
      "               Morocco       0.00      0.00      0.00         6\n",
      "           New Zealand       0.77      0.63      0.70       429\n",
      "                Oregon       0.95      0.95      0.95       358\n",
      "                  Peru       0.00      0.00      0.00         4\n",
      "              Portugal       0.89      0.58      0.71      1396\n",
      "               Romania       0.76      0.55      0.64        29\n",
      "                Serbia       0.00      0.00      0.00         2\n",
      "              Slovenia       0.50      0.13      0.21        15\n",
      "          South Africa       0.68      0.61      0.64       299\n",
      "                 Spain       0.72      0.80      0.76      1712\n",
      "           Switzerland       0.75      0.43      0.55         7\n",
      "                Turkey       0.50      0.05      0.08        22\n",
      "                    US       0.92      0.97      0.95     14077\n",
      "               Ukraine       0.00      0.00      0.00         3\n",
      "               Uruguay       0.94      0.39      0.55        41\n",
      "\n",
      "              accuracy                           0.87     33343\n",
      "             macro avg       0.62      0.39      0.45     33343\n",
      "          weighted avg       0.87      0.87      0.87     33343\n",
      "\n"
     ]
    }
   ],
   "source": [
    "print(classification_report(y_test, predicted))"
   ]
  },
  {
   "cell_type": "code",
   "execution_count": 13,
   "metadata": {},
   "outputs": [
    {
     "name": "stderr",
     "output_type": "stream",
     "text": [
      "/Users/Mariagimenoperez/anaconda3/lib/python3.6/site-packages/sklearn/model_selection/_split.py:657: Warning: The least populated class in y has only 1 members, which is too few. The minimum number of members in any class cannot be less than n_splits=5.\n",
      "  % (min_groups, self.n_splits)), Warning)\n",
      "/Users/Mariagimenoperez/anaconda3/lib/python3.6/site-packages/sklearn/linear_model/logistic.py:469: FutureWarning: Default multi_class will be changed to 'auto' in 0.22. Specify the multi_class option to silence this warning.\n",
      "  \"this warning.\", FutureWarning)\n",
      "[Parallel(n_jobs=2)]: Using backend LokyBackend with 2 concurrent workers.\n",
      "[Parallel(n_jobs=2)]: Done  43 out of  43 | elapsed:   23.0s finished\n",
      "/Users/Mariagimenoperez/anaconda3/lib/python3.6/site-packages/sklearn/linear_model/logistic.py:469: FutureWarning: Default multi_class will be changed to 'auto' in 0.22. Specify the multi_class option to silence this warning.\n",
      "  \"this warning.\", FutureWarning)\n",
      "[Parallel(n_jobs=2)]: Using backend LokyBackend with 2 concurrent workers.\n",
      "[Parallel(n_jobs=2)]: Done  44 out of  44 | elapsed:   22.9s finished\n",
      "/Users/Mariagimenoperez/anaconda3/lib/python3.6/site-packages/sklearn/linear_model/logistic.py:469: FutureWarning: Default multi_class will be changed to 'auto' in 0.22. Specify the multi_class option to silence this warning.\n",
      "  \"this warning.\", FutureWarning)\n",
      "[Parallel(n_jobs=2)]: Using backend LokyBackend with 2 concurrent workers.\n",
      "[Parallel(n_jobs=2)]: Done  44 out of  44 | elapsed:   22.6s finished\n",
      "/Users/Mariagimenoperez/anaconda3/lib/python3.6/site-packages/sklearn/linear_model/logistic.py:469: FutureWarning: Default multi_class will be changed to 'auto' in 0.22. Specify the multi_class option to silence this warning.\n",
      "  \"this warning.\", FutureWarning)\n",
      "[Parallel(n_jobs=2)]: Using backend LokyBackend with 2 concurrent workers.\n",
      "[Parallel(n_jobs=2)]: Done  44 out of  44 | elapsed:   22.4s finished\n",
      "/Users/Mariagimenoperez/anaconda3/lib/python3.6/site-packages/sklearn/linear_model/logistic.py:469: FutureWarning: Default multi_class will be changed to 'auto' in 0.22. Specify the multi_class option to silence this warning.\n",
      "  \"this warning.\", FutureWarning)\n",
      "[Parallel(n_jobs=2)]: Using backend LokyBackend with 2 concurrent workers.\n",
      "[Parallel(n_jobs=2)]: Done  44 out of  44 | elapsed:   22.0s finished\n"
     ]
    },
    {
     "name": "stdout",
     "output_type": "stream",
     "text": [
      "[0.86905208 0.86908777 0.87026277 0.87100161 0.86884754]\n",
      "0.8696503557261976\n"
     ]
    }
   ],
   "source": [
    "# Cross Validation\n",
    "cross = cross_val_score(pipelines, X_train, y_train, cv=5)\n",
    "print(cross)\n",
    "print(cross.mean())"
   ]
  },
  {
   "cell_type": "code",
   "execution_count": 19,
   "metadata": {
    "scrolled": true
   },
   "outputs": [
    {
     "name": "stderr",
     "output_type": "stream",
     "text": [
      "/Users/Mariagimenoperez/anaconda3/lib/python3.6/site-packages/sklearn/linear_model/logistic.py:469: FutureWarning: Default multi_class will be changed to 'auto' in 0.22. Specify the multi_class option to silence this warning.\n",
      "  \"this warning.\", FutureWarning)\n",
      "[Parallel(n_jobs=2)]: Using backend LokyBackend with 2 concurrent workers.\n",
      "[Parallel(n_jobs=2)]: Done  46 out of  46 | elapsed:   29.0s finished\n"
     ]
    },
    {
     "data": {
      "text/plain": [
       "0.8715472512971238"
      ]
     },
     "execution_count": 19,
     "metadata": {},
     "output_type": "execute_result"
    }
   ],
   "source": [
    "#CountVectorizer and Logistic Regresion with Ridge regularization\n",
    "pipelines = Pipeline([\n",
    "    ('vect', cvec),\n",
    "    ('cls', LogisticRegression(penalty = 'l2', solver='lbfgs', verbose = 1, n_jobs = 2))\n",
    "])\n",
    "pipelines.fit(X_train, y_train)\n",
    "predicted = pipelines.predict(X_test)\n",
    "pipelines.score(X_test, y_test)"
   ]
  },
  {
   "cell_type": "code",
   "execution_count": 21,
   "metadata": {},
   "outputs": [
    {
     "name": "stderr",
     "output_type": "stream",
     "text": [
      "[Parallel(n_jobs=2)]: Using backend ThreadingBackend with 2 concurrent workers.\n"
     ]
    },
    {
     "name": "stdout",
     "output_type": "stream",
     "text": [
      "max_iter reached after 18 seconds\n"
     ]
    },
    {
     "name": "stderr",
     "output_type": "stream",
     "text": [
      "/Users/Mariagimenoperez/anaconda3/lib/python3.6/site-packages/sklearn/linear_model/sag.py:337: ConvergenceWarning: The max_iter was reached which means the coef_ did not converge\n",
      "  \"the coef_ did not converge\", ConvergenceWarning)\n"
     ]
    },
    {
     "name": "stdout",
     "output_type": "stream",
     "text": [
      "max_iter reached after 149 seconds\n",
      "max_iter reached after 141 seconds\n",
      "max_iter reached after 18 seconds\n",
      "max_iter reached after 25 seconds\n",
      "max_iter reached after 32 seconds\n",
      "max_iter reached after 129 seconds\n",
      "max_iter reached after 56 seconds\n",
      "max_iter reached after 19 seconds\n",
      "max_iter reached after 30 seconds\n",
      "max_iter reached after 18 seconds\n",
      "max_iter reached after 21 seconds\n",
      "max_iter reached after 7736 seconds\n",
      "max_iter reached after 7865 seconds\n",
      "max_iter reached after 35 seconds\n",
      "max_iter reached after 103 seconds\n",
      "max_iter reached after 41 seconds\n",
      "max_iter reached after 32 seconds\n",
      "max_iter reached after 20 seconds\n",
      "max_iter reached after 291 seconds\n",
      "max_iter reached after 59 seconds\n",
      "max_iter reached after 19 seconds\n",
      "max_iter reached after 24 seconds\n",
      "max_iter reached after 19 seconds\n",
      "max_iter reached after 18 seconds\n",
      "max_iter reached after 28 seconds\n",
      "max_iter reached after 155 seconds\n",
      "max_iter reached after 28 seconds\n",
      "max_iter reached after 22 seconds\n",
      "max_iter reached after 32 seconds\n",
      "max_iter reached after 34 seconds\n",
      "max_iter reached after 18 seconds\n",
      "max_iter reached after 106 seconds\n",
      "max_iter reached after 30 seconds\n",
      "max_iter reached after 18 seconds\n",
      "max_iter reached after 15 seconds\n",
      "max_iter reached after 127 seconds\n",
      "max_iter reached after 28 seconds\n",
      "max_iter reached after 83 seconds\n",
      "max_iter reached after 22 seconds\n",
      "max_iter reached after 30 seconds\n",
      "max_iter reached after 169 seconds\n",
      "max_iter reached after 19 seconds\n",
      "max_iter reached after 35 seconds\n",
      "max_iter reached after 31 seconds\n",
      "max_iter reached after 357 seconds\n"
     ]
    },
    {
     "name": "stderr",
     "output_type": "stream",
     "text": [
      "[Parallel(n_jobs=2)]: Done  46 out of  46 | elapsed: 154.5min finished\n"
     ]
    },
    {
     "data": {
      "text/plain": [
       "0.8703775904987554"
      ]
     },
     "execution_count": 21,
     "metadata": {},
     "output_type": "execute_result"
    }
   ],
   "source": [
    "#CountVectorizer and Logistic Regresion with Lasso regularization\n",
    "pipeline1 = Pipeline([\n",
    "    ('vect', cvec),\n",
    "    ('cls', LogisticRegression(penalty = 'l1', solver='saga', multi_class='ovr', verbose = 1, n_jobs = 2))\n",
    "])\n",
    "pipeline1.fit(X_train, y_train)\n",
    "predicted1 = pipeline1.predict(X_test)\n",
    "pipeline1.score(X_test, y_test)"
   ]
  },
  {
   "cell_type": "markdown",
   "metadata": {},
   "source": [
    "### TFIDFVECTORIZER  AND LOGISTIC REGRESSION "
   ]
  },
  {
   "cell_type": "markdown",
   "metadata": {},
   "source": [
    "The best model performer was when I included the Lasso regularization with all the features. \n",
    "\n",
    "All of the models have better scores than the baseline."
   ]
  },
  {
   "cell_type": "code",
   "execution_count": 23,
   "metadata": {},
   "outputs": [],
   "source": [
    "vect = TfidfVectorizer(stop_words='english', sublinear_tf=True, ngram_range = (1,1), strip_accents='unicode')"
   ]
  },
  {
   "cell_type": "code",
   "execution_count": 24,
   "metadata": {},
   "outputs": [
    {
     "name": "stderr",
     "output_type": "stream",
     "text": [
      "[Parallel(n_jobs=2)]: Using backend ThreadingBackend with 2 concurrent workers.\n"
     ]
    },
    {
     "name": "stdout",
     "output_type": "stream",
     "text": [
      "convergence after 13 epochs took 1 seconds\n",
      "max_iter reached after 42 seconds\n"
     ]
    },
    {
     "name": "stderr",
     "output_type": "stream",
     "text": [
      "/Users/Mariagimenoperez/anaconda3/lib/python3.6/site-packages/sklearn/linear_model/sag.py:337: ConvergenceWarning: The max_iter was reached which means the coef_ did not converge\n",
      "  \"the coef_ did not converge\", ConvergenceWarning)\n"
     ]
    },
    {
     "name": "stdout",
     "output_type": "stream",
     "text": [
      "max_iter reached after 48 seconds\n",
      "max_iter reached after 8 seconds\n",
      "max_iter reached after 10 seconds\n",
      "max_iter reached after 12 seconds\n",
      "max_iter reached after 42 seconds\n",
      "max_iter reached after 13 seconds\n",
      "max_iter reached after 9 seconds\n",
      "max_iter reached after 9 seconds\n",
      "max_iter reached after 8 seconds\n",
      "max_iter reached after 8 seconds\n",
      "max_iter reached after 50 seconds\n",
      "max_iter reached after 12 seconds\n",
      "max_iter reached after 11 seconds\n",
      "max_iter reached after 32 seconds\n",
      "max_iter reached after 17 seconds\n",
      "max_iter reached after 11 seconds\n",
      "max_iter reached after 9 seconds\n",
      "max_iter reached after 87 seconds\n",
      "max_iter reached after 19 seconds\n",
      "max_iter reached after 8 seconds\n",
      "max_iter reached after 9 seconds\n",
      "max_iter reached after 9 seconds\n",
      "max_iter reached after 8 seconds\n",
      "max_iter reached after 52 seconds\n",
      "max_iter reached after 9 seconds\n",
      "max_iter reached after 12 seconds\n",
      "max_iter reached after 9 seconds\n",
      "max_iter reached after 10 seconds\n",
      "max_iter reached after 10 seconds\n",
      "convergence after 16 epochs took 2 seconds\n",
      "max_iter reached after 31 seconds\n",
      "max_iter reached after 10 seconds\n",
      "max_iter reached after 8 seconds\n",
      "convergence after 8 epochs took 0 seconds\n",
      "max_iter reached after 9 seconds\n",
      "max_iter reached after 41 seconds\n",
      "max_iter reached after 31 seconds\n",
      "max_iter reached after 9 seconds\n",
      "max_iter reached after 11 seconds\n",
      "max_iter reached after 60 seconds\n",
      "max_iter reached after 8 seconds\n",
      "max_iter reached after 11 seconds\n",
      "max_iter reached after 12 seconds\n",
      "max_iter reached after 122 seconds\n"
     ]
    },
    {
     "name": "stderr",
     "output_type": "stream",
     "text": [
      "[Parallel(n_jobs=2)]: Done  46 out of  46 | elapsed:  8.7min finished\n"
     ]
    },
    {
     "data": {
      "text/plain": [
       "0.8612302432294635"
      ]
     },
     "execution_count": 24,
     "metadata": {},
     "output_type": "execute_result"
    }
   ],
   "source": [
    "#TfidfVectorizer and Logistic Regression with Lasso regularization \n",
    "pipeline3 = Pipeline([\n",
    "    ('vect', vect),\n",
    "    ('cls', LogisticRegression(penalty = 'l1', solver='saga', multi_class='ovr',verbose = 1, n_jobs = 2))\n",
    "])\n",
    "pipeline3.fit(X_train, y_train)\n",
    "predicted3 = pipeline3.predict(X_test)\n",
    "pipeline3.score(X_test, y_test)"
   ]
  },
  {
   "cell_type": "code",
   "execution_count": 26,
   "metadata": {},
   "outputs": [
    {
     "name": "stderr",
     "output_type": "stream",
     "text": [
      "[Parallel(n_jobs=2)]: Using backend LokyBackend with 2 concurrent workers.\n",
      "[Parallel(n_jobs=2)]: Done  46 out of  46 | elapsed:   20.2s finished\n"
     ]
    },
    {
     "data": {
      "text/plain": [
       "0.856491617430945"
      ]
     },
     "execution_count": 26,
     "metadata": {},
     "output_type": "execute_result"
    }
   ],
   "source": [
    "# TFIDFVECTORIZER AND LOGISTIC REGRESSION inluding Ridge regularization solver lbfgs.\n",
    "pipeline4 = Pipeline([\n",
    "    ('vect', vect),\n",
    "    ('cls', LogisticRegression(solver='lbfgs', multi_class='ovr', penalty = 'l2',verbose = 1, n_jobs = 2))\n",
    "])\n",
    "pipeline4.fit(X_train, y_train)\n",
    "predicted4 = pipeline4.predict(X_test)\n",
    "pipeline4.score(X_test, y_test)"
   ]
  },
  {
   "cell_type": "markdown",
   "metadata": {},
   "source": [
    "### RANDOM FOREST CLASSIFIER, COUNTVECTORIZER AND TFDFVECTORIZER\n",
    "\n",
    "TfidVectorizer performs a littel bit better than CountVectoriazer.\n",
    "\n",
    "Logistic Regression and Naive Bayes performs better than Random Forest Classifier in this data set, with higher accuracy. Both of them have better scores than the baseline."
   ]
  },
  {
   "cell_type": "code",
   "execution_count": 27,
   "metadata": {},
   "outputs": [
    {
     "data": {
      "text/plain": [
       "0.7826530306211199"
      ]
     },
     "execution_count": 27,
     "metadata": {},
     "output_type": "execute_result"
    }
   ],
   "source": [
    "# Random Forest with CountVectorizer\n",
    "cvecsr = CountVectorizer(strip_accents='unicode', stop_words=\"english\", ngram_range=(1, 1),  max_features=1000)\n",
    "pipelinesr = Pipeline([\n",
    "    ('vect', cvecsr),\n",
    "    #('tfidf', TfidfTransformer()),\n",
    "    ('cls', RandomForestClassifier(n_estimators=200, n_jobs = 2))\n",
    "])\n",
    "pipelinesr.fit(X_train, y_train)\n",
    "predictedsr = pipelinesr.predict(X_test)\n",
    "pipelinesr.score(X_test, y_test)"
   ]
  },
  {
   "cell_type": "code",
   "execution_count": 28,
   "metadata": {},
   "outputs": [
    {
     "data": {
      "text/plain": [
       "0.7924601865459017"
      ]
     },
     "execution_count": 28,
     "metadata": {},
     "output_type": "execute_result"
    }
   ],
   "source": [
    "# Random Forest with TfidfVectorizer\n",
    "pipelinesr = Pipeline([\n",
    "    ('vect', vect),\n",
    "    \n",
    "    ('cls', RandomForestClassifier(n_estimators=200, n_jobs = 2))\n",
    "])\n",
    "pipelinesr.fit(X_train, y_train)\n",
    "predictedsr = pipelinesr.predict(X_test)\n",
    "pipelinesr.score(X_test, y_test)"
   ]
  },
  {
   "cell_type": "markdown",
   "metadata": {},
   "source": [
    "### NAIVE BAYES, COUNTVECTORIZER AND TFDFVECTORIZER\n",
    "\n",
    "The best acurracy I got in MultinomialNB with CountVectorizer. MultinomialNB is one of the two classic Naive Bayes variants used in text classification. \n",
    "\n",
    "All of the models have better scores than the baseline."
   ]
  },
  {
   "cell_type": "code",
   "execution_count": 29,
   "metadata": {},
   "outputs": [],
   "source": [
    "cvect = CountVectorizer(lowercase=True, strip_accents='unicode', stop_words='english')"
   ]
  },
  {
   "cell_type": "code",
   "execution_count": 30,
   "metadata": {},
   "outputs": [
    {
     "data": {
      "text/plain": [
       "0.7351168161233242"
      ]
     },
     "execution_count": 30,
     "metadata": {},
     "output_type": "execute_result"
    }
   ],
   "source": [
    "# MultinomialNB with TfidTransformer\n",
    "pipelinesn = Pipeline([\n",
    "    ('vect', cvect),\n",
    "    ('tfidf', TfidfTransformer()),\n",
    "    ('cls', MultinomialNB())\n",
    "])\n",
    "pipelinesn.fit(X_train, y_train)\n",
    "predictedsn = pipelinesn.predict(X_test)\n",
    "pipelinesn.score(X_test, y_test)"
   ]
  },
  {
   "cell_type": "code",
   "execution_count": 31,
   "metadata": {},
   "outputs": [
    {
     "data": {
      "text/plain": [
       "0.8235911585640164"
      ]
     },
     "execution_count": 31,
     "metadata": {},
     "output_type": "execute_result"
    }
   ],
   "source": [
    "# MultinomialNB with CountVectorizer\n",
    "pipelinesn1 = Pipeline([\n",
    "    ('vect', cvect),\n",
    "    ('cls', MultinomialNB())\n",
    "])\n",
    "pipelinesn1.fit(X_train, y_train)\n",
    "predictedsn1 = pipelinesn1.predict(X_test)\n",
    "pipelinesn1.score(X_test, y_test)"
   ]
  },
  {
   "cell_type": "code",
   "execution_count": 32,
   "metadata": {},
   "outputs": [
    {
     "data": {
      "text/plain": [
       "0.8220616021353807"
      ]
     },
     "execution_count": 32,
     "metadata": {},
     "output_type": "execute_result"
    }
   ],
   "source": [
    "# BernoulliNB with BernoulliNb\n",
    "pipelinesn2 = Pipeline([\n",
    "    ('vect', cvect),\n",
    "    ('cls', BernoulliNB())\n",
    "])\n",
    "pipelinesn2.fit(X_train, y_train)\n",
    "predictedsn2 = pipelinesn2.predict(X_test)\n",
    "pipelinesn2.score(X_test, y_test)"
   ]
  },
  {
   "cell_type": "code",
   "execution_count": 33,
   "metadata": {},
   "outputs": [],
   "source": [
    "vect1 = TfidfVectorizer(stop_words='english', sublinear_tf=True,\n",
    "                             ngram_range = (1,1), strip_accents='unicode')"
   ]
  },
  {
   "cell_type": "code",
   "execution_count": 34,
   "metadata": {},
   "outputs": [
    {
     "data": {
      "text/plain": [
       "0.7356566595687251"
      ]
     },
     "execution_count": 34,
     "metadata": {},
     "output_type": "execute_result"
    }
   ],
   "source": [
    "# MultinomialNB with  TdidfVectorizer\n",
    "pipelinesn3 = Pipeline([\n",
    "    ('vect',vect1) ,\n",
    "    ('cls', MultinomialNB())\n",
    "])\n",
    "pipelinesn3.fit(X_train, y_train)\n",
    "predictedsn3 = pipelinesn3.predict(X_test)\n",
    "pipelinesn3.score(X_test, y_test)"
   ]
  },
  {
   "cell_type": "code",
   "execution_count": 35,
   "metadata": {},
   "outputs": [
    {
     "data": {
      "text/plain": [
       "0.8220616021353807"
      ]
     },
     "execution_count": 35,
     "metadata": {},
     "output_type": "execute_result"
    }
   ],
   "source": [
    "# BernoulliNB with  TdidfVectorizer\n",
    "pipelinesn4 = Pipeline([\n",
    "    ('vect', vect1),\n",
    "    ('cls', BernoulliNB())\n",
    "])\n",
    "pipelinesn4.fit(X_train, y_train)\n",
    "predictedsn4 = pipelinesn4.predict(X_test)\n",
    "pipelinesn4.score(X_test, y_test)"
   ]
  },
  {
   "cell_type": "markdown",
   "metadata": {},
   "source": [
    "## REDUCTION COUNTRY AS A TARGET"
   ]
  },
  {
   "cell_type": "markdown",
   "metadata": {},
   "source": [
    "I am going to train and test the models that got best accurancy in the models above.\n",
    "I am reduccing the number of countries, removing the countries that appear less than 7 times. \n",
    "\n",
    "I am going to run the models that perform better above."
   ]
  },
  {
   "cell_type": "code",
   "execution_count": 14,
   "metadata": {},
   "outputs": [],
   "source": [
    "df1 = df[df['country'].map(df['country'].value_counts()) > 9]"
   ]
  },
  {
   "cell_type": "code",
   "execution_count": 15,
   "metadata": {
    "scrolled": true
   },
   "outputs": [
    {
     "data": {
      "text/plain": [
       "US                71021\n",
       "France            27928\n",
       "Italy             23002\n",
       "Spain              8746\n",
       "Portugal           7037\n",
       "Chile              5408\n",
       "Argentina          4595\n",
       "Austria            3953\n",
       "Australia          3355\n",
       "Germany            3031\n",
       "New Zealand        2044\n",
       "Oregon             1757\n",
       "South Africa       1514\n",
       "Israel              720\n",
       "Greece              555\n",
       "Canada              311\n",
       "Bulgaria            194\n",
       "Uruguay             185\n",
       "Hungary             171\n",
       "Romania             158\n",
       "England             133\n",
       "Georgia             128\n",
       "Moldova             116\n",
       "Turkey               97\n",
       "Croatia              94\n",
       "Slovenia             81\n",
       "Mexico               72\n",
       "Brazil               56\n",
       "Switzerland          38\n",
       "Lebanon              36\n",
       "Morocco              28\n",
       "Luxembourg           20\n",
       "India                17\n",
       "Czech Republic       17\n",
       "Peru                 17\n",
       "Ukraine              14\n",
       "Kosovo               12\n",
       "Serbia               11\n",
       "Macedonia            11\n",
       "Cyprus               10\n",
       "Name: country, dtype: int64"
      ]
     },
     "execution_count": 15,
     "metadata": {},
     "output_type": "execute_result"
    }
   ],
   "source": [
    "df1.country.value_counts()"
   ]
  },
  {
   "cell_type": "markdown",
   "metadata": {},
   "source": [
    "### VARIABLE COUNTRY AS A TARGET"
   ]
  },
  {
   "cell_type": "code",
   "execution_count": 16,
   "metadata": {},
   "outputs": [],
   "source": [
    "y1 = df1.country\n",
    "X1 =  df1.description\n",
    "#Split the data and stratify it.\n",
    "X_train1, X_test1, y_train1, y_test1 = train_test_split(X1, y1, test_size=0.2, stratify = y1, random_state= 1)"
   ]
  },
  {
   "cell_type": "code",
   "execution_count": 17,
   "metadata": {},
   "outputs": [
    {
     "data": {
      "text/plain": [
       "40"
      ]
     },
     "execution_count": 17,
     "metadata": {},
     "output_type": "execute_result"
    }
   ],
   "source": [
    "len(df1.country.unique())"
   ]
  },
  {
   "cell_type": "code",
   "execution_count": 18,
   "metadata": {
    "scrolled": true
   },
   "outputs": [
    {
     "name": "stdout",
     "output_type": "stream",
     "text": [
      "The variety baseline is 0.10807357281693182\n"
     ]
    }
   ],
   "source": [
    "print('The variety baseline is', df1.variety.value_counts(normalize=True).max())"
   ]
  },
  {
   "cell_type": "markdown",
   "metadata": {},
   "source": [
    "### LOGISTIC REGRESSION WITH COUNTVECTORIZER AND TFIDFVECTORIZER \n"
   ]
  },
  {
   "cell_type": "markdown",
   "metadata": {},
   "source": [
    "The scores did not differ so much but the best performed model was with CountVectorizer and Logistic Regression with Ridge Regularization and multiclass ovr. I calculated the cross validation in this model and the score does not differ so much than the accuracy score.\n",
    "\n",
    "All the models have better scores than the baseline.\n"
   ]
  },
  {
   "cell_type": "code",
   "execution_count": 19,
   "metadata": {},
   "outputs": [],
   "source": [
    "cvec = CountVectorizer(strip_accents='unicode', stop_words=\"english\", ngram_range=(1, 1))"
   ]
  },
  {
   "cell_type": "code",
   "execution_count": 20,
   "metadata": {},
   "outputs": [
    {
     "name": "stderr",
     "output_type": "stream",
     "text": [
      "/Users/Mariagimenoperez/anaconda3/lib/python3.6/site-packages/sklearn/linear_model/logistic.py:469: FutureWarning: Default multi_class will be changed to 'auto' in 0.22. Specify the multi_class option to silence this warning.\n",
      "  \"this warning.\", FutureWarning)\n",
      "[Parallel(n_jobs=2)]: Using backend LokyBackend with 2 concurrent workers.\n",
      "[Parallel(n_jobs=2)]: Done  40 out of  40 | elapsed:   29.3s finished\n"
     ]
    },
    {
     "data": {
      "text/plain": [
       "0.8734815081436156"
      ]
     },
     "execution_count": 20,
     "metadata": {},
     "output_type": "execute_result"
    }
   ],
   "source": [
    "# CountVetrorizer and LogisticRegression with Ridge regularization\n",
    "pipelinesb2 = Pipeline([\n",
    "    ('vect', cvec),\n",
    "    ('cls', LogisticRegression(penalty = 'l2', solver='lbfgs', verbose = 1, n_jobs = 2))\n",
    "])\n",
    "pipelinesb2.fit(X_train1, y_train1)\n",
    "predictedsb2 = pipelinesb2.predict(X_test1)\n",
    "pipelinesb2.score(X_test1, y_test1)"
   ]
  },
  {
   "cell_type": "code",
   "execution_count": 21,
   "metadata": {},
   "outputs": [
    {
     "name": "stderr",
     "output_type": "stream",
     "text": [
      "/Users/Mariagimenoperez/anaconda3/lib/python3.6/site-packages/sklearn/metrics/classification.py:1437: UndefinedMetricWarning: Precision and F-score are ill-defined and being set to 0.0 in labels with no predicted samples.\n",
      "  'precision', 'predicted', average, warn_for)\n"
     ]
    },
    {
     "name": "stdout",
     "output_type": "stream",
     "text": [
      "                precision    recall  f1-score   support\n",
      "\n",
      "     Argentina       0.62      0.50      0.56       919\n",
      "     Australia       0.77      0.64      0.70       671\n",
      "       Austria       0.83      0.70      0.76       791\n",
      "        Brazil       0.00      0.00      0.00        11\n",
      "      Bulgaria       0.72      0.54      0.62        39\n",
      "        Canada       1.00      0.08      0.15        62\n",
      "         Chile       0.63      0.57      0.60      1082\n",
      "       Croatia       0.60      0.16      0.25        19\n",
      "        Cyprus       0.00      0.00      0.00         2\n",
      "Czech Republic       1.00      0.33      0.50         3\n",
      "       England       1.00      0.41      0.58        27\n",
      "        France       0.84      0.90      0.87      5586\n",
      "       Georgia       0.75      0.23      0.35        26\n",
      "       Germany       0.79      0.75      0.77       606\n",
      "        Greece       0.82      0.82      0.82       111\n",
      "       Hungary       0.84      0.47      0.60        34\n",
      "         India       0.00      0.00      0.00         3\n",
      "        Israel       0.71      0.70      0.71       144\n",
      "         Italy       0.96      0.96      0.96      4601\n",
      "        Kosovo       0.00      0.00      0.00         2\n",
      "       Lebanon       0.00      0.00      0.00         7\n",
      "    Luxembourg       1.00      0.50      0.67         4\n",
      "     Macedonia       0.00      0.00      0.00         2\n",
      "        Mexico       0.00      0.00      0.00        14\n",
      "       Moldova       0.67      0.35      0.46        23\n",
      "       Morocco       0.00      0.00      0.00         6\n",
      "   New Zealand       0.78      0.60      0.67       409\n",
      "        Oregon       0.96      0.96      0.96       351\n",
      "          Peru       0.00      0.00      0.00         3\n",
      "      Portugal       0.89      0.62      0.73      1408\n",
      "       Romania       0.82      0.44      0.57        32\n",
      "        Serbia       0.00      0.00      0.00         2\n",
      "      Slovenia       0.67      0.25      0.36        16\n",
      "  South Africa       0.72      0.59      0.65       303\n",
      "         Spain       0.73      0.80      0.76      1749\n",
      "   Switzerland       0.50      0.12      0.20         8\n",
      "        Turkey       0.57      0.21      0.31        19\n",
      "            US       0.92      0.97      0.95     14204\n",
      "       Ukraine       0.00      0.00      0.00         3\n",
      "       Uruguay       0.89      0.43      0.58        37\n",
      "\n",
      "      accuracy                           0.87     33339\n",
      "     macro avg       0.58      0.39      0.44     33339\n",
      "  weighted avg       0.87      0.87      0.87     33339\n",
      "\n"
     ]
    }
   ],
   "source": [
    "print(classification_report(y_test1, predictedsb2))"
   ]
  },
  {
   "cell_type": "code",
   "execution_count": 22,
   "metadata": {},
   "outputs": [
    {
     "name": "stderr",
     "output_type": "stream",
     "text": [
      "/Users/Mariagimenoperez/anaconda3/lib/python3.6/site-packages/sklearn/linear_model/logistic.py:469: FutureWarning: Default multi_class will be changed to 'auto' in 0.22. Specify the multi_class option to silence this warning.\n",
      "  \"this warning.\", FutureWarning)\n",
      "[Parallel(n_jobs=2)]: Using backend LokyBackend with 2 concurrent workers.\n",
      "[Parallel(n_jobs=2)]: Done  40 out of  40 | elapsed:   23.6s finished\n",
      "/Users/Mariagimenoperez/anaconda3/lib/python3.6/site-packages/sklearn/linear_model/logistic.py:469: FutureWarning: Default multi_class will be changed to 'auto' in 0.22. Specify the multi_class option to silence this warning.\n",
      "  \"this warning.\", FutureWarning)\n",
      "[Parallel(n_jobs=2)]: Using backend LokyBackend with 2 concurrent workers.\n",
      "[Parallel(n_jobs=2)]: Done  40 out of  40 | elapsed:   24.1s finished\n",
      "/Users/Mariagimenoperez/anaconda3/lib/python3.6/site-packages/sklearn/linear_model/logistic.py:469: FutureWarning: Default multi_class will be changed to 'auto' in 0.22. Specify the multi_class option to silence this warning.\n",
      "  \"this warning.\", FutureWarning)\n",
      "[Parallel(n_jobs=2)]: Using backend LokyBackend with 2 concurrent workers.\n",
      "[Parallel(n_jobs=2)]: Done  40 out of  40 | elapsed:   23.3s finished\n",
      "/Users/Mariagimenoperez/anaconda3/lib/python3.6/site-packages/sklearn/linear_model/logistic.py:469: FutureWarning: Default multi_class will be changed to 'auto' in 0.22. Specify the multi_class option to silence this warning.\n",
      "  \"this warning.\", FutureWarning)\n",
      "[Parallel(n_jobs=2)]: Using backend LokyBackend with 2 concurrent workers.\n",
      "[Parallel(n_jobs=2)]: Done  40 out of  40 | elapsed:   21.6s finished\n",
      "/Users/Mariagimenoperez/anaconda3/lib/python3.6/site-packages/sklearn/linear_model/logistic.py:469: FutureWarning: Default multi_class will be changed to 'auto' in 0.22. Specify the multi_class option to silence this warning.\n",
      "  \"this warning.\", FutureWarning)\n",
      "[Parallel(n_jobs=2)]: Using backend LokyBackend with 2 concurrent workers.\n",
      "[Parallel(n_jobs=2)]: Done  40 out of  40 | elapsed:   21.5s finished\n"
     ]
    },
    {
     "name": "stdout",
     "output_type": "stream",
     "text": [
      "[0.86926219 0.87048769 0.87105362 0.86937934 0.86895517]\n",
      "0.8698275991991622\n"
     ]
    }
   ],
   "source": [
    "#Cross Validation\n",
    "cross = cross_val_score(pipelinesb2, X_train1, y_train1, cv=5)\n",
    "print(cross)\n",
    "print(cross.mean())"
   ]
  },
  {
   "cell_type": "code",
   "execution_count": 24,
   "metadata": {},
   "outputs": [
    {
     "name": "stderr",
     "output_type": "stream",
     "text": [
      "[Parallel(n_jobs=2)]: Using backend ThreadingBackend with 2 concurrent workers.\n"
     ]
    },
    {
     "name": "stdout",
     "output_type": "stream",
     "text": [
      "convergence after 1299 epochs took 1314 seconds\n",
      "convergence after 1375 epochs took 1332 seconds\n",
      "convergence after 982 epochs took 1153 seconds\n",
      "convergence after 1270 epochs took 1318 seconds\n",
      "convergence after 1473 epochs took 212 seconds\n",
      "convergence after 588 epochs took 125 seconds\n",
      "convergence after 1227 epochs took 455 seconds\n",
      "convergence after 1410 epochs took 1313 seconds\n",
      "convergence after 1061 epochs took 172 seconds\n",
      "convergence after 1232 epochs took 121 seconds\n",
      "convergence after 1615 epochs took 174 seconds\n",
      "convergence after 946 epochs took 1132 seconds\n",
      "convergence after 3389 epochs took 517 seconds\n",
      "convergence after 1173 epochs took 204 seconds\n",
      "convergence after 1146 epochs took 772 seconds\n",
      "convergence after 2382 epochs took 590 seconds\n",
      "convergence after 1306 epochs took 251 seconds\n",
      "convergence after 2118 epochs took 234 seconds\n",
      "convergence after 1236 epochs took 2642 seconds\n",
      "convergence after 1515 epochs took 576 seconds\n",
      "convergence after 4556 epochs took 445 seconds\n",
      "convergence after 1684 epochs took 243 seconds\n",
      "convergence after 1846 epochs took 199 seconds\n",
      "convergence after 1165 epochs took 121 seconds\n",
      "convergence after 1192 epochs took 201 seconds\n",
      "convergence after 1318 epochs took 1511 seconds\n",
      "convergence after 943 epochs took 156 seconds\n",
      "convergence after 1940 epochs took 236 seconds\n",
      "convergence after 1941 epochs took 334 seconds\n",
      "convergence after 778 epochs took 153 seconds\n",
      "convergence after 2976 epochs took 324 seconds\n",
      "convergence after 1285 epochs took 996 seconds\n",
      "convergence after 893 epochs took 163 seconds\n",
      "convergence after 776 epochs took 84 seconds\n",
      "convergence after 1356 epochs took 227 seconds\n",
      "convergence after 1228 epochs took 1086 seconds\n",
      "convergence after 1096 epochs took 646 seconds\n",
      "convergence after 2081 epochs took 257 seconds\n",
      "convergence after 2064 epochs took 368 seconds\n",
      "convergence after 1248 epochs took 1715 seconds\n",
      "convergence after 4048 epochs took 437 seconds\n",
      "convergence after 1943 epochs took 368 seconds\n",
      "convergence after 1847 epochs took 325 seconds\n",
      "convergence after 1534 epochs took 4137 seconds\n"
     ]
    },
    {
     "name": "stderr",
     "output_type": "stream",
     "text": [
      "[Parallel(n_jobs=2)]: Done  42 out of  42 | elapsed: 241.8min finished\n"
     ]
    },
    {
     "data": {
      "text/plain": [
       "0.8725516662167432"
      ]
     },
     "execution_count": 24,
     "metadata": {},
     "output_type": "execute_result"
    }
   ],
   "source": [
    "# CountVetrorizer and LogisticRegression with Lasso regularization\n",
    "pipelinesb1 = Pipeline([\n",
    "    ('vect', cvec),\n",
    "    ('cls', LogisticRegression(penalty = 'l1', solver='saga', multi_class='ovr', max_iter=100000, verbose = 1, n_jobs = 2))\n",
    "])\n",
    "pipelinesb1.fit(X_train1, y_train1)\n",
    "predictedsb1 = pipelinesb1.predict(X_test1)\n",
    "pipelinesb1.score(X_test1, y_test1)"
   ]
  },
  {
   "cell_type": "code",
   "execution_count": 34,
   "metadata": {},
   "outputs": [],
   "source": [
    "vect = TfidfVectorizer(stop_words='english', sublinear_tf=True,\n",
    "                             ngram_range = (1,1), strip_accents='unicode')"
   ]
  },
  {
   "cell_type": "code",
   "execution_count": 38,
   "metadata": {},
   "outputs": [
    {
     "name": "stderr",
     "output_type": "stream",
     "text": [
      "/Users/Mariagimenoperez/anaconda3/lib/python3.6/site-packages/sklearn/linear_model/logistic.py:947: ConvergenceWarning: lbfgs failed to converge. Increase the number of iterations.\n",
      "  \"of iterations.\", ConvergenceWarning)\n"
     ]
    },
    {
     "data": {
      "text/plain": [
       "0.8614535528960077"
      ]
     },
     "execution_count": 38,
     "metadata": {},
     "output_type": "execute_result"
    }
   ],
   "source": [
    "# TfidfVectorizer and LogisticRegression with ridge regularization\n",
    "pipelinesb3 = Pipeline([\n",
    "    ('vect', vect),\n",
    "    ('cls', LogisticRegression(solver='lbfgs', multi_class='multinomial', penalty = 'l2' ))\n",
    "])\n",
    "pipelinesb3.fit(X_train1, y_train1)\n",
    "predictedsb3 = pipelinesb3.predict(X_test1)\n",
    "pipelinesb3.score(X_test1, y_test1)"
   ]
  },
  {
   "cell_type": "code",
   "execution_count": 39,
   "metadata": {},
   "outputs": [
    {
     "data": {
      "text/plain": [
       "0.8639731245688232"
      ]
     },
     "execution_count": 39,
     "metadata": {},
     "output_type": "execute_result"
    }
   ],
   "source": [
    "# TfidfVectorizer and LogisticRegression with Lasso regularization\n",
    "pipelinesb3 = Pipeline([\n",
    "    ('vect', vect),\n",
    "    ('cls', LogisticRegression(solver='saga', multi_class='ovr', penalty = 'l1' ))\n",
    "])\n",
    "pipelinesb3.fit(X_train1, y_train1)\n",
    "predictedsb3 = pipelinesb3.predict(X_test1)\n",
    "pipelinesb3.score(X_test1, y_test1)"
   ]
  },
  {
   "cell_type": "markdown",
   "metadata": {},
   "source": [
    "### RANDOM FOREST CLASSIFIER, COUNTVECTORIZER AND TFIDFVECTORIZER\n",
    "\n",
    "Logistic Regression and Naive Bayes perform better than Random Forest Classifier in this data set, with higher accuracy.\n",
    "\n",
    "The best performed model was Random Forest with Tfidfvectorizer.\n",
    "\n"
   ]
  },
  {
   "cell_type": "code",
   "execution_count": 40,
   "metadata": {},
   "outputs": [
    {
     "data": {
      "text/plain": [
       "0.7911455052641051"
      ]
     },
     "execution_count": 40,
     "metadata": {},
     "output_type": "execute_result"
    }
   ],
   "source": [
    "# TfidfVectorizer and RandomForest\n",
    "pipelinesb4 = Pipeline([\n",
    "    ('vect', vect),\n",
    "    ('cls', RandomForestClassifier(n_estimators=200, n_jobs = 2))\n",
    "])\n",
    "pipelinesb4.fit(X_train1, y_train1)\n",
    "predictedsb4 = pipelinesb4.predict(X_test1)\n",
    "pipelinesb4.score(X_test1, y_test1)"
   ]
  },
  {
   "cell_type": "markdown",
   "metadata": {},
   "source": [
    "### NAIVE BAYES, COUNTVECTORIZER AND TFIDFVECTORIZER\n",
    "\n",
    "The best accuracy I got in MultinomialNB with CountVectorizer. MultinomialNB is one of the two classic Naive Bayes variants used in text classification.\n",
    "\n",
    "All of the models have better scores than the baseline\n",
    "\n",
    "\n"
   ]
  },
  {
   "cell_type": "code",
   "execution_count": 45,
   "metadata": {},
   "outputs": [
    {
     "data": {
      "text/plain": [
       "0.8179909415399382"
      ]
     },
     "execution_count": 45,
     "metadata": {},
     "output_type": "execute_result"
    }
   ],
   "source": [
    "# CountVectorizer with MultinomialNB\n",
    "pipelinebn5 = Pipeline([\n",
    "    ('cvect', cvec),\n",
    "    ('cls', MultinomialNB())\n",
    "])\n",
    "pipelinebn5.fit(X_train1, y_train1)\n",
    "predictedbn5 = pipelinebn5.predict(X_test1)\n",
    "pipelinebn5.score(X_test1, y_test1)"
   ]
  },
  {
   "cell_type": "markdown",
   "metadata": {},
   "source": [
    "We can observe tat all the models show that the scores do not differ of the other models with all the countries as a traget."
   ]
  },
  {
   "cell_type": "markdown",
   "metadata": {},
   "source": [
    "##  VARIABLE VARIETY AS A TARGET\n",
    "\n",
    "By looking at the varieties, we can find out that there are 805 varieties in this dataset. I am going to limit the number of varieties. I am going to define the varieties that appear more than 100 times. I am also going to replace some of the varieties that they are similar.\n",
    "\n",
    "I am going to train some of the models I define above with this dataset.\n"
   ]
  },
  {
   "cell_type": "code",
   "execution_count": 5,
   "metadata": {},
   "outputs": [],
   "source": [
    "df2 = df[df['variety'].map(df['variety'].value_counts()) > 100]"
   ]
  },
  {
   "cell_type": "code",
   "execution_count": 9,
   "metadata": {},
   "outputs": [],
   "source": [
    "df2.variety = df2.variety.apply(lambda x: str(x).replace('Syrah', 'Shiraz').\n",
    "                                    replace('Pinot Gris', 'Pinot Grigio').replace('Petite Sirah', 'Shiraz').\n",
    "                                   replace('Grenache', 'Garnacha').replace('Garnacha Blanc', 'Garnacha').\n",
    "                                   replace('Rosato', 'Rosé').replace('Pinot Bianco', 'Pinot Blanc').\n",
    "                                   replace('Zinfandel', 'Primitivo').replace('Alvarinho', 'Alvariño').\n",
    "                                   replace('Alvariño', 'Albariño').replace('Portuguese Sparkling', 'Sparkling').\n",
    "                               replace('Garnachaa', 'Garnacha').replace('Pinot Nero', 'Pinot Noir').\n",
    "                                replace('Red Blends', 'Red Blend'). replace('Muscat', 'Muscato').\n",
    "                               replace('Red Blends', 'Red Blend'))"
   ]
  },
  {
   "cell_type": "code",
   "execution_count": 7,
   "metadata": {},
   "outputs": [
    {
     "data": {
      "text/plain": [
       "89"
      ]
     },
     "execution_count": 7,
     "metadata": {},
     "output_type": "execute_result"
    }
   ],
   "source": [
    "len(df2.variety.unique())"
   ]
  },
  {
   "cell_type": "code",
   "execution_count": 8,
   "metadata": {
    "scrolled": true
   },
   "outputs": [
    {
     "name": "stdout",
     "output_type": "stream",
     "text": [
      "The variety baseline is 0.11543264263483834\n"
     ]
    }
   ],
   "source": [
    "print('The variety baseline is', df2.variety.value_counts(normalize=True).max())"
   ]
  },
  {
   "cell_type": "markdown",
   "metadata": {},
   "source": [
    "### DEFINE TARGET AND SPLIT THE DATA"
   ]
  },
  {
   "cell_type": "code",
   "execution_count": 10,
   "metadata": {},
   "outputs": [],
   "source": [
    "X2 = df2.description\n",
    "y2 = df2.variety"
   ]
  },
  {
   "cell_type": "code",
   "execution_count": 11,
   "metadata": {},
   "outputs": [],
   "source": [
    "#Split and stratify the data\n",
    "X_train2, X_test2, y_train2, y_test2 = train_test_split(X2, y2, test_size=0.2, stratify = y2, random_state = 1)"
   ]
  },
  {
   "cell_type": "markdown",
   "metadata": {},
   "source": [
    "### LOGISTIC REGRESSION WITH COUNTVECTORIZER AND TFIDFVECTORIZER  \n",
    "The scores did not differ so much but the best performed model was CountVectorizer and Logistic Regression with Ridge Regularization. I calculated the cross validation in this model and the score does not differ so much than the accuracy score.\n",
    " \n",
    "All of the models have better scores than the baseline.\n",
    " \n"
   ]
  },
  {
   "cell_type": "code",
   "execution_count": 13,
   "metadata": {},
   "outputs": [],
   "source": [
    "cvec = CountVectorizer(strip_accents='unicode', stop_words=\"english\", ngram_range=(1, 1))"
   ]
  },
  {
   "cell_type": "code",
   "execution_count": 14,
   "metadata": {},
   "outputs": [
    {
     "name": "stderr",
     "output_type": "stream",
     "text": [
      "/Users/Mariagimenoperez/anaconda3/lib/python3.6/site-packages/sklearn/linear_model/logistic.py:469: FutureWarning: Default multi_class will be changed to 'auto' in 0.22. Specify the multi_class option to silence this warning.\n",
      "  \"this warning.\", FutureWarning)\n",
      "[Parallel(n_jobs=2)]: Using backend LokyBackend with 2 concurrent workers.\n",
      "[Parallel(n_jobs=2)]: Done  46 tasks      | elapsed:   34.0s\n",
      "[Parallel(n_jobs=2)]: Done  89 out of  89 | elapsed:  1.1min finished\n"
     ]
    },
    {
     "data": {
      "text/plain": [
       "0.6645643837353025"
      ]
     },
     "execution_count": 14,
     "metadata": {},
     "output_type": "execute_result"
    }
   ],
   "source": [
    "# CountVectorizer and Logistic Regression wiht Ridge regularization\n",
    "pipelinesb6 = Pipeline([\n",
    "    ('vect', cvec),\n",
    "    ('cls', LogisticRegression(penalty = 'l2', solver='lbfgs', verbose = 1, n_jobs = 2))\n",
    "])\n",
    "pipelinesb6.fit(X_train2, y_train2)\n",
    "predictedsb6 = pipelinesb6.predict(X_test2)\n",
    "pipelinesb6.score(X_test2, y_test2)"
   ]
  },
  {
   "cell_type": "code",
   "execution_count": 15,
   "metadata": {},
   "outputs": [
    {
     "name": "stdout",
     "output_type": "stream",
     "text": [
      "                               precision    recall  f1-score   support\n",
      "\n",
      "                    Aglianico       0.70      0.38      0.50        86\n",
      "                     Albariño       0.70      0.47      0.56       172\n",
      "                      Barbera       0.64      0.47      0.54       174\n",
      "                Blaufränkisch       0.77      0.55      0.64        60\n",
      "                      Bonarda       0.67      0.25      0.36        24\n",
      "     Bordeaux-style Red Blend       0.68      0.77      0.72      1556\n",
      "   Bordeaux-style White Blend       0.72      0.44      0.55       223\n",
      "               Cabernet Franc       0.55      0.32      0.40       375\n",
      "           Cabernet Sauvignon       0.58      0.70      0.64      2445\n",
      "    Cabernet Sauvignon-Merlot       1.00      0.04      0.07        27\n",
      "    Cabernet Sauvignon-Shiraz       0.50      0.04      0.08        23\n",
      "                    Carmenère       0.51      0.37      0.43       149\n",
      "              Champagne Blend       0.76      0.66      0.70       374\n",
      "                   Chardonnay       0.69      0.86      0.76      2941\n",
      "                 Chenin Blanc       0.68      0.36      0.47       139\n",
      "Corvina, Rondinella, Molinara       0.71      0.64      0.67        91\n",
      "                     Dolcetto       0.94      0.43      0.59        35\n",
      "                   Falanghina       0.50      0.21      0.29        29\n",
      "                        Fiano       0.67      0.42      0.51        43\n",
      "                     Friulano       0.71      0.58      0.64        26\n",
      "                        G-S-M       0.52      0.19      0.28        57\n",
      "                        Gamay       0.79      0.71      0.74       256\n",
      "                    Garganega       0.79      0.34      0.48        44\n",
      "                     Garnacha       0.53      0.33      0.41       344\n",
      "              Garnacha-Shiraz       0.77      0.31      0.44        32\n",
      "               Gewürztraminer       0.73      0.66      0.69       258\n",
      "                        Glera       0.76      0.73      0.75       119\n",
      "                      Godello       0.85      0.44      0.58        25\n",
      "                        Greco       0.59      0.32      0.42        31\n",
      "                       Grillo       0.55      0.34      0.42        32\n",
      "             Grüner Veltliner       0.80      0.79      0.80       321\n",
      "                       Malbec       0.56      0.55      0.56       693\n",
      "                Malbec-Merlot       0.75      0.11      0.19        28\n",
      "                        Melon       0.62      0.16      0.26        49\n",
      "                       Mencía       0.64      0.35      0.45        46\n",
      "                     Meritage       0.33      0.08      0.12        65\n",
      "                       Merlot       0.51      0.35      0.42       745\n",
      "                   Monastrell       0.90      0.51      0.66        37\n",
      "                Montepulciano       0.68      0.49      0.57        65\n",
      "                      Moscato       0.63      0.52      0.57        69\n",
      "                    Mourvèdre       0.79      0.35      0.48        66\n",
      "                     Muscatoo       0.38      0.09      0.15        33\n",
      "                     Nebbiolo       0.74      0.83      0.78       763\n",
      "                   Negroamaro       0.33      0.05      0.08        21\n",
      "            Nerello Mascalese       0.73      0.46      0.57        41\n",
      "                 Nero d'Avola       0.79      0.53      0.64        77\n",
      "                 Petit Verdot       0.64      0.27      0.38        78\n",
      "                  Pinot Blanc       0.69      0.38      0.49       146\n",
      "                 Pinot Grigio       0.58      0.54      0.56       642\n",
      "                   Pinot Noir       0.71      0.83      0.76      3642\n",
      "                     Pinotage       0.65      0.42      0.51        31\n",
      "                         Port       0.87      0.77      0.81       160\n",
      "               Portuguese Red       0.68      0.75      0.71       612\n",
      "             Portuguese White       0.71      0.58      0.64       288\n",
      "                    Primitivo       0.61      0.58      0.60       778\n",
      "                     Prosecco       0.84      0.67      0.74        39\n",
      "           Provence red blend       1.00      0.43      0.60        21\n",
      "                    Red Blend       0.64      0.62      0.63      2219\n",
      "        Rhône-style Red Blend       0.68      0.65      0.67       472\n",
      "      Rhône-style White Blend       0.82      0.74      0.78       149\n",
      "                     Riesling       0.78      0.87      0.82      1346\n",
      "                         Rosé       0.69      0.78      0.74      1123\n",
      "                    Roussanne       0.58      0.16      0.25        44\n",
      "                   Sagrantino       0.63      0.41      0.50        29\n",
      "                   Sangiovese       0.58      0.48      0.52       683\n",
      "            Sangiovese Grosso       0.86      0.80      0.83       109\n",
      "                    Sauvignon       0.75      0.83      0.79        76\n",
      "              Sauvignon Blanc       0.67      0.74      0.70      1292\n",
      "                       Sherry       0.95      0.79      0.86        24\n",
      "                       Shiraz       0.59      0.58      0.59      1477\n",
      "              Sparkling Blend       0.71      0.71      0.71       634\n",
      "                Spätburgunder       0.83      0.48      0.61        21\n",
      "                     Sémillon       0.70      0.17      0.27        42\n",
      "                       Tannat       0.83      0.40      0.54        47\n",
      "                  Tempranillo       0.45      0.43      0.44       505\n",
      "            Tempranillo Blend       0.29      0.20      0.24       158\n",
      "                Tinta de Toro       0.83      0.45      0.58        42\n",
      "                   Tinto Fino       0.67      0.16      0.26        25\n",
      "                    Torrontés       0.60      0.52      0.56        56\n",
      "             Touriga Nacional       0.82      0.42      0.55        43\n",
      "                     Turbiana       0.38      0.37      0.37        49\n",
      "                      Verdejo       0.71      0.52      0.60        77\n",
      "                   Verdicchio       0.82      0.60      0.70        53\n",
      "                   Vermentino       0.64      0.31      0.41        59\n",
      "                    Vernaccia       0.68      0.50      0.58        42\n",
      "                     Viognier       0.62      0.48      0.55       260\n",
      "                        Viura       0.67      0.37      0.48        27\n",
      "                  White Blend       0.64      0.53      0.58       573\n",
      "                     Zweigelt       0.92      0.47      0.62        51\n",
      "\n",
      "                     accuracy                           0.66     31553\n",
      "                    macro avg       0.68      0.48      0.54     31553\n",
      "                 weighted avg       0.66      0.66      0.65     31553\n",
      "\n"
     ]
    }
   ],
   "source": [
    "print(classification_report(y_test2, predictedsb6))"
   ]
  },
  {
   "cell_type": "code",
   "execution_count": 16,
   "metadata": {},
   "outputs": [
    {
     "name": "stderr",
     "output_type": "stream",
     "text": [
      "/Users/Mariagimenoperez/anaconda3/lib/python3.6/site-packages/sklearn/linear_model/logistic.py:469: FutureWarning: Default multi_class will be changed to 'auto' in 0.22. Specify the multi_class option to silence this warning.\n",
      "  \"this warning.\", FutureWarning)\n",
      "[Parallel(n_jobs=2)]: Using backend LokyBackend with 2 concurrent workers.\n",
      "[Parallel(n_jobs=2)]: Done  46 tasks      | elapsed:   28.7s\n",
      "[Parallel(n_jobs=2)]: Done  89 out of  89 | elapsed:   53.9s finished\n",
      "/Users/Mariagimenoperez/anaconda3/lib/python3.6/site-packages/sklearn/linear_model/logistic.py:469: FutureWarning: Default multi_class will be changed to 'auto' in 0.22. Specify the multi_class option to silence this warning.\n",
      "  \"this warning.\", FutureWarning)\n",
      "[Parallel(n_jobs=2)]: Using backend LokyBackend with 2 concurrent workers.\n",
      "[Parallel(n_jobs=2)]: Done  46 tasks      | elapsed:   26.6s\n",
      "[Parallel(n_jobs=2)]: Done  89 out of  89 | elapsed:   51.9s finished\n",
      "/Users/Mariagimenoperez/anaconda3/lib/python3.6/site-packages/sklearn/linear_model/logistic.py:469: FutureWarning: Default multi_class will be changed to 'auto' in 0.22. Specify the multi_class option to silence this warning.\n",
      "  \"this warning.\", FutureWarning)\n",
      "[Parallel(n_jobs=2)]: Using backend LokyBackend with 2 concurrent workers.\n",
      "[Parallel(n_jobs=2)]: Done  46 tasks      | elapsed:   26.3s\n",
      "[Parallel(n_jobs=2)]: Done  89 out of  89 | elapsed:   51.4s finished\n",
      "/Users/Mariagimenoperez/anaconda3/lib/python3.6/site-packages/sklearn/linear_model/logistic.py:469: FutureWarning: Default multi_class will be changed to 'auto' in 0.22. Specify the multi_class option to silence this warning.\n",
      "  \"this warning.\", FutureWarning)\n",
      "[Parallel(n_jobs=2)]: Using backend LokyBackend with 2 concurrent workers.\n",
      "[Parallel(n_jobs=2)]: Done  46 tasks      | elapsed:   26.8s\n",
      "[Parallel(n_jobs=2)]: Done  89 out of  89 | elapsed:   51.7s finished\n",
      "/Users/Mariagimenoperez/anaconda3/lib/python3.6/site-packages/sklearn/linear_model/logistic.py:469: FutureWarning: Default multi_class will be changed to 'auto' in 0.22. Specify the multi_class option to silence this warning.\n",
      "  \"this warning.\", FutureWarning)\n",
      "[Parallel(n_jobs=2)]: Using backend LokyBackend with 2 concurrent workers.\n",
      "[Parallel(n_jobs=2)]: Done  46 tasks      | elapsed:   28.3s\n",
      "[Parallel(n_jobs=2)]: Done  89 out of  89 | elapsed:   55.3s finished\n"
     ]
    },
    {
     "name": "stdout",
     "output_type": "stream",
     "text": [
      "[0.65147559 0.65903872 0.65911342 0.65678268 0.65288633]\n",
      "0.6558593492037401\n"
     ]
    }
   ],
   "source": [
    "cross = cross_val_score(pipelinesb6, X_train2, y_train2, cv=5)\n",
    "print(cross)\n",
    "print(cross.mean())"
   ]
  },
  {
   "cell_type": "code",
   "execution_count": 11,
   "metadata": {},
   "outputs": [
    {
     "name": "stderr",
     "output_type": "stream",
     "text": [
      "[Parallel(n_jobs=2)]: Using backend ThreadingBackend with 2 concurrent workers.\n"
     ]
    },
    {
     "name": "stdout",
     "output_type": "stream",
     "text": [
      "max_iter reached after 54 seconds\n"
     ]
    },
    {
     "name": "stderr",
     "output_type": "stream",
     "text": [
      "/Users/Mariagimenoperez/anaconda3/lib/python3.6/site-packages/sklearn/linear_model/sag.py:337: ConvergenceWarning: The max_iter was reached which means the coef_ did not converge\n",
      "  \"the coef_ did not converge\", ConvergenceWarning)\n"
     ]
    },
    {
     "name": "stdout",
     "output_type": "stream",
     "text": [
      "max_iter reached after 80 seconds\n",
      "max_iter reached after 51 seconds\n",
      "max_iter reached after 77 seconds\n",
      "max_iter reached after 33 seconds\n",
      "max_iter reached after 70 seconds\n",
      "max_iter reached after 195 seconds\n",
      "max_iter reached after 124 seconds\n",
      "max_iter reached after 41 seconds\n",
      "max_iter reached after 39 seconds\n",
      "max_iter reached after 64 seconds\n",
      "max_iter reached after 255 seconds\n",
      "max_iter reached after 93 seconds\n",
      "max_iter reached after 68 seconds\n",
      "max_iter reached after 49 seconds\n",
      "max_iter reached after 37 seconds\n",
      "max_iter reached after 33 seconds\n",
      "max_iter reached after 225 seconds\n",
      "max_iter reached after 40 seconds\n",
      "max_iter reached after 29 seconds\n",
      "max_iter reached after 51 seconds\n",
      "max_iter reached after 65 seconds\n",
      "max_iter reached after 34 seconds\n",
      "max_iter reached after 38 seconds\n",
      "max_iter reached after 75 seconds\n",
      "max_iter reached after 124 seconds\n",
      "max_iter reached after 30 seconds\n",
      "max_iter reached after 42 seconds\n",
      "max_iter reached after 32 seconds\n",
      "max_iter reached after 31 seconds\n",
      "max_iter reached after 76 seconds\n",
      "max_iter reached after 35 seconds\n",
      "max_iter reached after 35 seconds\n",
      "max_iter reached after 140 seconds\n",
      "max_iter reached after 42 seconds\n",
      "max_iter reached after 54 seconds\n",
      "max_iter reached after 38 seconds\n",
      "max_iter reached after 48 seconds\n",
      "max_iter reached after 44 seconds\n",
      "max_iter reached after 155 seconds\n",
      "max_iter reached after 39 seconds\n",
      "max_iter reached after 58 seconds\n",
      "max_iter reached after 33 seconds\n",
      "max_iter reached after 39 seconds\n",
      "max_iter reached after 83 seconds\n",
      "max_iter reached after 39 seconds\n"
     ]
    },
    {
     "name": "stderr",
     "output_type": "stream",
     "text": [
      "[Parallel(n_jobs=2)]: Done  46 tasks      | elapsed: 26.5min\n"
     ]
    },
    {
     "name": "stdout",
     "output_type": "stream",
     "text": [
      "max_iter reached after 58 seconds\n",
      "max_iter reached after 69 seconds\n",
      "max_iter reached after 34 seconds\n",
      "max_iter reached after 130 seconds\n",
      "max_iter reached after 36 seconds\n",
      "max_iter reached after 55 seconds\n",
      "max_iter reached after 95 seconds\n",
      "max_iter reached after 273 seconds\n",
      "max_iter reached after 67 seconds\n",
      "max_iter reached after 32 seconds\n",
      "max_iter reached after 32 seconds\n",
      "max_iter reached after 152 seconds\n",
      "max_iter reached after 92 seconds\n",
      "max_iter reached after 218 seconds\n",
      "max_iter reached after 116 seconds\n",
      "max_iter reached after 59 seconds\n",
      "max_iter reached after 141 seconds\n",
      "max_iter reached after 158 seconds\n",
      "max_iter reached after 47 seconds\n",
      "max_iter reached after 33 seconds\n",
      "max_iter reached after 42 seconds\n",
      "max_iter reached after 36 seconds\n",
      "max_iter reached after 114 seconds\n",
      "max_iter reached after 28 seconds\n",
      "max_iter reached after 170 seconds\n",
      "max_iter reached after 210 seconds\n",
      "max_iter reached after 33 seconds\n",
      "max_iter reached after 122 seconds\n",
      "max_iter reached after 41 seconds\n",
      "max_iter reached after 45 seconds\n",
      "max_iter reached after 77 seconds\n",
      "max_iter reached after 42 seconds\n",
      "max_iter reached after 131 seconds\n",
      "max_iter reached after 39 seconds\n",
      "max_iter reached after 39 seconds\n",
      "max_iter reached after 38 seconds\n",
      "max_iter reached after 36 seconds\n",
      "max_iter reached after 44 seconds\n",
      "max_iter reached after 38 seconds\n",
      "max_iter reached after 35 seconds\n",
      "max_iter reached after 46 seconds\n",
      "max_iter reached after 32 seconds\n",
      "max_iter reached after 98 seconds\n",
      "max_iter reached after 40 seconds\n",
      "max_iter reached after 128 seconds\n"
     ]
    },
    {
     "name": "stderr",
     "output_type": "stream",
     "text": [
      "[Parallel(n_jobs=2)]: Done  91 out of  91 | elapsed: 56.5min finished\n"
     ]
    },
    {
     "data": {
      "text/plain": [
       "0.6561658162456818"
      ]
     },
     "execution_count": 11,
     "metadata": {},
     "output_type": "execute_result"
    }
   ],
   "source": [
    "# CountVectorizer and Logistic Regression wiht Lasso regularization\n",
    "pipelinesb5 = Pipeline([\n",
    "    ('vect', cvec),\n",
    "    ('cls', LogisticRegression(penalty = 'l1', solver='saga', multi_class='ovr', verbose = 1, n_jobs = 2))\n",
    "])\n",
    "pipelinesb5.fit(X_train2, y_train2)\n",
    "predictedsb5 = pipelinesb5.predict(X_test2)\n",
    "pipelinesb5.score(X_test2, y_test2)"
   ]
  },
  {
   "cell_type": "code",
   "execution_count": 17,
   "metadata": {},
   "outputs": [
    {
     "name": "stdout",
     "output_type": "stream",
     "text": [
      "                               precision    recall  f1-score   support\n",
      "\n",
      "                    Aglianico       0.70      0.38      0.50        86\n",
      "                     Albariño       0.70      0.47      0.56       172\n",
      "                      Barbera       0.64      0.47      0.54       174\n",
      "                Blaufränkisch       0.77      0.55      0.64        60\n",
      "                      Bonarda       0.67      0.25      0.36        24\n",
      "     Bordeaux-style Red Blend       0.68      0.77      0.72      1556\n",
      "   Bordeaux-style White Blend       0.72      0.44      0.55       223\n",
      "               Cabernet Franc       0.55      0.32      0.40       375\n",
      "           Cabernet Sauvignon       0.58      0.70      0.64      2445\n",
      "    Cabernet Sauvignon-Merlot       1.00      0.04      0.07        27\n",
      "    Cabernet Sauvignon-Shiraz       0.50      0.04      0.08        23\n",
      "                    Carmenère       0.51      0.37      0.43       149\n",
      "              Champagne Blend       0.76      0.66      0.70       374\n",
      "                   Chardonnay       0.69      0.86      0.76      2941\n",
      "                 Chenin Blanc       0.68      0.36      0.47       139\n",
      "Corvina, Rondinella, Molinara       0.71      0.64      0.67        91\n",
      "                     Dolcetto       0.94      0.43      0.59        35\n",
      "                   Falanghina       0.50      0.21      0.29        29\n",
      "                        Fiano       0.67      0.42      0.51        43\n",
      "                     Friulano       0.71      0.58      0.64        26\n",
      "                        G-S-M       0.52      0.19      0.28        57\n",
      "                        Gamay       0.79      0.71      0.74       256\n",
      "                    Garganega       0.79      0.34      0.48        44\n",
      "                     Garnacha       0.53      0.33      0.41       344\n",
      "              Garnacha-Shiraz       0.77      0.31      0.44        32\n",
      "               Gewürztraminer       0.73      0.66      0.69       258\n",
      "                        Glera       0.76      0.73      0.75       119\n",
      "                      Godello       0.85      0.44      0.58        25\n",
      "                        Greco       0.59      0.32      0.42        31\n",
      "                       Grillo       0.55      0.34      0.42        32\n",
      "             Grüner Veltliner       0.80      0.79      0.80       321\n",
      "                       Malbec       0.56      0.55      0.56       693\n",
      "                Malbec-Merlot       0.75      0.11      0.19        28\n",
      "                        Melon       0.62      0.16      0.26        49\n",
      "                       Mencía       0.64      0.35      0.45        46\n",
      "                     Meritage       0.33      0.08      0.12        65\n",
      "                       Merlot       0.51      0.35      0.42       745\n",
      "                   Monastrell       0.90      0.51      0.66        37\n",
      "                Montepulciano       0.68      0.49      0.57        65\n",
      "                      Moscato       0.63      0.52      0.57        69\n",
      "                    Mourvèdre       0.79      0.35      0.48        66\n",
      "                     Muscatoo       0.38      0.09      0.15        33\n",
      "                     Nebbiolo       0.74      0.83      0.78       763\n",
      "                   Negroamaro       0.33      0.05      0.08        21\n",
      "            Nerello Mascalese       0.73      0.46      0.57        41\n",
      "                 Nero d'Avola       0.79      0.53      0.64        77\n",
      "                 Petit Verdot       0.64      0.27      0.38        78\n",
      "                  Pinot Blanc       0.69      0.38      0.49       146\n",
      "                 Pinot Grigio       0.58      0.54      0.56       642\n",
      "                   Pinot Noir       0.71      0.83      0.76      3642\n",
      "                     Pinotage       0.65      0.42      0.51        31\n",
      "                         Port       0.87      0.77      0.81       160\n",
      "               Portuguese Red       0.68      0.75      0.71       612\n",
      "             Portuguese White       0.71      0.58      0.64       288\n",
      "                    Primitivo       0.61      0.58      0.60       778\n",
      "                     Prosecco       0.84      0.67      0.74        39\n",
      "           Provence red blend       1.00      0.43      0.60        21\n",
      "                    Red Blend       0.64      0.62      0.63      2219\n",
      "        Rhône-style Red Blend       0.68      0.65      0.67       472\n",
      "      Rhône-style White Blend       0.82      0.74      0.78       149\n",
      "                     Riesling       0.78      0.87      0.82      1346\n",
      "                         Rosé       0.69      0.78      0.74      1123\n",
      "                    Roussanne       0.58      0.16      0.25        44\n",
      "                   Sagrantino       0.63      0.41      0.50        29\n",
      "                   Sangiovese       0.58      0.48      0.52       683\n",
      "            Sangiovese Grosso       0.86      0.80      0.83       109\n",
      "                    Sauvignon       0.75      0.83      0.79        76\n",
      "              Sauvignon Blanc       0.67      0.74      0.70      1292\n",
      "                       Sherry       0.95      0.79      0.86        24\n",
      "                       Shiraz       0.59      0.58      0.59      1477\n",
      "              Sparkling Blend       0.71      0.71      0.71       634\n",
      "                Spätburgunder       0.83      0.48      0.61        21\n",
      "                     Sémillon       0.70      0.17      0.27        42\n",
      "                       Tannat       0.83      0.40      0.54        47\n",
      "                  Tempranillo       0.45      0.43      0.44       505\n",
      "            Tempranillo Blend       0.29      0.20      0.24       158\n",
      "                Tinta de Toro       0.83      0.45      0.58        42\n",
      "                   Tinto Fino       0.67      0.16      0.26        25\n",
      "                    Torrontés       0.60      0.52      0.56        56\n",
      "             Touriga Nacional       0.82      0.42      0.55        43\n",
      "                     Turbiana       0.38      0.37      0.37        49\n",
      "                      Verdejo       0.71      0.52      0.60        77\n",
      "                   Verdicchio       0.82      0.60      0.70        53\n",
      "                   Vermentino       0.64      0.31      0.41        59\n",
      "                    Vernaccia       0.68      0.50      0.58        42\n",
      "                     Viognier       0.62      0.48      0.55       260\n",
      "                        Viura       0.67      0.37      0.48        27\n",
      "                  White Blend       0.64      0.53      0.58       573\n",
      "                     Zweigelt       0.92      0.47      0.62        51\n",
      "\n",
      "                     accuracy                           0.66     31553\n",
      "                    macro avg       0.68      0.48      0.54     31553\n",
      "                 weighted avg       0.66      0.66      0.65     31553\n",
      "\n"
     ]
    }
   ],
   "source": [
    "print(classification_report(y_test2, predictedsb5))"
   ]
  },
  {
   "cell_type": "code",
   "execution_count": 14,
   "metadata": {},
   "outputs": [],
   "source": [
    "import joblib"
   ]
  },
  {
   "cell_type": "code",
   "execution_count": 16,
   "metadata": {},
   "outputs": [
    {
     "data": {
      "text/plain": [
       "['pipelinesb1_conca_scountrysb5']"
      ]
     },
     "execution_count": 16,
     "metadata": {},
     "output_type": "execute_result"
    }
   ],
   "source": [
    "joblib.dump(pipelinesb5, 'pipelinesb1_conca_scountrysb5')"
   ]
  },
  {
   "cell_type": "code",
   "execution_count": 17,
   "metadata": {},
   "outputs": [],
   "source": [
    "pipe_reloaded = joblib.load('pipelinesb1_conca_scountrysb5')"
   ]
  },
  {
   "cell_type": "code",
   "execution_count": 19,
   "metadata": {},
   "outputs": [],
   "source": [
    "vect = TfidfVectorizer(stop_words='english', sublinear_tf=True,\n",
    "                             ngram_range = (1,1), strip_accents='unicode')"
   ]
  },
  {
   "cell_type": "code",
   "execution_count": 39,
   "metadata": {},
   "outputs": [
    {
     "name": "stderr",
     "output_type": "stream",
     "text": [
      "/Users/Mariagimenoperez/anaconda3/lib/python3.6/site-packages/sklearn/linear_model/sag.py:337: ConvergenceWarning: The max_iter was reached which means the coef_ did not converge\n",
      "  \"the coef_ did not converge\", ConvergenceWarning)\n"
     ]
    },
    {
     "data": {
      "text/plain": [
       "0.6474503216809812"
      ]
     },
     "execution_count": 39,
     "metadata": {},
     "output_type": "execute_result"
    }
   ],
   "source": [
    "# TfidfVectorizer and Logistic Regression with Lasso regularization\n",
    "cvec = CountVectorizer(strip_accents='unicode', stop_words=\"english\", ngram_range=(1, 1))\n",
    "pipeline11 = Pipeline([\n",
    "    ('vect', vect),\n",
    "    ('cls', LogisticRegression(penalty = 'l1', solver='saga', multi_class='ovr'))\n",
    "])\n",
    "pipeline11.fit(X_train2, y_train2)\n",
    "predicted11 = pipeline11.predict(X_test2)\n",
    "pipeline11.score(X_test2, y_test2)"
   ]
  },
  {
   "cell_type": "code",
   "execution_count": 40,
   "metadata": {},
   "outputs": [
    {
     "name": "stderr",
     "output_type": "stream",
     "text": [
      "/Users/Mariagimenoperez/anaconda3/lib/python3.6/site-packages/sklearn/metrics/classification.py:1437: UndefinedMetricWarning: Precision and F-score are ill-defined and being set to 0.0 in labels with no predicted samples.\n",
      "  'precision', 'predicted', average, warn_for)\n"
     ]
    },
    {
     "name": "stdout",
     "output_type": "stream",
     "text": [
      "                               precision    recall  f1-score   support\n",
      "\n",
      "                    Aglianico       0.89      0.29      0.44        86\n",
      "                     Albariño       0.70      0.39      0.50       172\n",
      "                      Barbera       0.80      0.44      0.57       174\n",
      "                Blaufränkisch       0.67      0.33      0.44        60\n",
      "                      Bonarda       0.80      0.33      0.47        24\n",
      "     Bordeaux-style Red Blend       0.68      0.77      0.72      1556\n",
      "   Bordeaux-style White Blend       0.67      0.38      0.48       223\n",
      "               Cabernet Franc       0.64      0.29      0.40       375\n",
      "           Cabernet Sauvignon       0.56      0.72      0.63      2445\n",
      "    Cabernet Sauvignon-Merlot       0.00      0.00      0.00        27\n",
      "    Cabernet Sauvignon-Shiraz       0.00      0.00      0.00        23\n",
      "                    Carmenère       0.73      0.34      0.47       149\n",
      "              Champagne Blend       0.77      0.61      0.68       374\n",
      "                   Chardonnay       0.63      0.87      0.73      2941\n",
      "                 Chenin Blanc       0.77      0.29      0.43       139\n",
      "Corvina, Rondinella, Molinara       0.77      0.62      0.68        91\n",
      "                     Dolcetto       0.92      0.31      0.47        35\n",
      "                   Falanghina       0.30      0.10      0.15        29\n",
      "                        Fiano       0.70      0.44      0.54        43\n",
      "                     Friulano       0.64      0.27      0.38        26\n",
      "                        G-S-M       0.40      0.04      0.06        57\n",
      "                        Gamay       0.80      0.65      0.72       256\n",
      "                    Garganega       0.80      0.36      0.50        44\n",
      "                     Garnacha       0.66      0.28      0.39       344\n",
      "              Garnacha-Shiraz       0.00      0.00      0.00        32\n",
      "               Gewürztraminer       0.73      0.62      0.67       258\n",
      "                        Glera       0.78      0.62      0.69       119\n",
      "                      Godello       1.00      0.40      0.57        25\n",
      "                        Greco       0.62      0.32      0.43        31\n",
      "                       Grillo       0.54      0.44      0.48        32\n",
      "             Grüner Veltliner       0.79      0.74      0.76       321\n",
      "                       Malbec       0.57      0.51      0.54       693\n",
      "                Malbec-Merlot       0.00      0.00      0.00        28\n",
      "                        Melon       0.75      0.18      0.30        49\n",
      "                       Mencía       0.87      0.28      0.43        46\n",
      "                     Meritage       0.50      0.05      0.08        65\n",
      "                       Merlot       0.65      0.32      0.43       745\n",
      "                   Monastrell       0.91      0.54      0.68        37\n",
      "                Montepulciano       0.62      0.38      0.48        65\n",
      "                      Moscato       0.57      0.43      0.49        69\n",
      "                    Mourvèdre       0.50      0.14      0.21        66\n",
      "                     Muscatoo       0.30      0.09      0.14        33\n",
      "                     Nebbiolo       0.71      0.83      0.77       763\n",
      "                   Negroamaro       0.00      0.00      0.00        21\n",
      "            Nerello Mascalese       0.67      0.29      0.41        41\n",
      "                 Nero d'Avola       0.82      0.40      0.54        77\n",
      "                 Petit Verdot       0.83      0.19      0.31        78\n",
      "                  Pinot Blanc       0.71      0.29      0.41       146\n",
      "                 Pinot Grigio       0.57      0.46      0.51       642\n",
      "                   Pinot Noir       0.65      0.85      0.74      3642\n",
      "                     Pinotage       0.81      0.42      0.55        31\n",
      "                         Port       0.84      0.68      0.75       160\n",
      "               Portuguese Red       0.65      0.69      0.67       612\n",
      "             Portuguese White       0.70      0.48      0.57       288\n",
      "                    Primitivo       0.64      0.53      0.58       778\n",
      "                     Prosecco       0.76      0.67      0.71        39\n",
      "           Provence red blend       0.75      0.14      0.24        21\n",
      "                    Red Blend       0.64      0.61      0.62      2219\n",
      "        Rhône-style Red Blend       0.66      0.65      0.65       472\n",
      "      Rhône-style White Blend       0.82      0.70      0.76       149\n",
      "                     Riesling       0.74      0.87      0.80      1346\n",
      "                         Rosé       0.68      0.75      0.71      1123\n",
      "                    Roussanne       0.43      0.14      0.21        44\n",
      "                   Sagrantino       0.71      0.17      0.28        29\n",
      "                   Sangiovese       0.60      0.45      0.52       683\n",
      "            Sangiovese Grosso       0.83      0.79      0.81       109\n",
      "                    Sauvignon       0.73      0.80      0.76        76\n",
      "              Sauvignon Blanc       0.65      0.72      0.68      1292\n",
      "                       Sherry       0.77      0.42      0.54        24\n",
      "                       Shiraz       0.57      0.60      0.58      1477\n",
      "              Sparkling Blend       0.69      0.66      0.67       634\n",
      "                Spätburgunder       0.58      0.33      0.42        21\n",
      "                     Sémillon       0.86      0.14      0.24        42\n",
      "                       Tannat       0.82      0.38      0.52        47\n",
      "                  Tempranillo       0.46      0.46      0.46       505\n",
      "            Tempranillo Blend       0.33      0.12      0.18       158\n",
      "                Tinta de Toro       0.94      0.40      0.57        42\n",
      "                   Tinto Fino       0.00      0.00      0.00        25\n",
      "                    Torrontés       0.57      0.43      0.49        56\n",
      "             Touriga Nacional       0.64      0.21      0.32        43\n",
      "                     Turbiana       0.48      0.33      0.39        49\n",
      "                      Verdejo       0.72      0.40      0.52        77\n",
      "                   Verdicchio       0.53      0.38      0.44        53\n",
      "                   Vermentino       0.90      0.31      0.46        59\n",
      "                    Vernaccia       0.59      0.38      0.46        42\n",
      "                     Viognier       0.74      0.40      0.52       260\n",
      "                        Viura       0.79      0.41      0.54        27\n",
      "                  White Blend       0.68      0.49      0.57       573\n",
      "                     Zweigelt       0.81      0.43      0.56        51\n",
      "\n",
      "                     accuracy                           0.65     31553\n",
      "                    macro avg       0.64      0.41      0.47     31553\n",
      "                 weighted avg       0.65      0.65      0.63     31553\n",
      "\n"
     ]
    }
   ],
   "source": [
    "print(classification_report(y_test2, predicted11))"
   ]
  },
  {
   "cell_type": "code",
   "execution_count": 20,
   "metadata": {},
   "outputs": [
    {
     "name": "stderr",
     "output_type": "stream",
     "text": [
      "/Users/Mariagimenoperez/anaconda3/lib/python3.6/site-packages/sklearn/linear_model/logistic.py:469: FutureWarning: Default multi_class will be changed to 'auto' in 0.22. Specify the multi_class option to silence this warning.\n",
      "  \"this warning.\", FutureWarning)\n",
      "[Parallel(n_jobs=2)]: Using backend LokyBackend with 2 concurrent workers.\n",
      "[Parallel(n_jobs=2)]: Done  46 tasks      | elapsed:   21.0s\n",
      "[Parallel(n_jobs=2)]: Done  89 out of  89 | elapsed:   42.8s finished\n"
     ]
    },
    {
     "data": {
      "text/plain": [
       "0.6360092542705923"
      ]
     },
     "execution_count": 20,
     "metadata": {},
     "output_type": "execute_result"
    }
   ],
   "source": [
    "# TfidfVectorizer and Logistic Regression with Ridge regularization\n",
    "pipelinesb6 = Pipeline([\n",
    "    ('vect', vect),\n",
    "    ('cls', LogisticRegression(penalty = 'l2', solver='lbfgs', verbose = 1, n_jobs = 2))\n",
    "])\n",
    "pipelinesb6.fit(X_train2, y_train2)\n",
    "predictedsb6 = pipelinesb6.predict(X_test2)\n",
    "pipelinesb6.score(X_test2, y_test2)"
   ]
  },
  {
   "cell_type": "code",
   "execution_count": 21,
   "metadata": {},
   "outputs": [
    {
     "name": "stderr",
     "output_type": "stream",
     "text": [
      "/Users/Mariagimenoperez/anaconda3/lib/python3.6/site-packages/sklearn/metrics/classification.py:1437: UndefinedMetricWarning: Precision and F-score are ill-defined and being set to 0.0 in labels with no predicted samples.\n",
      "  'precision', 'predicted', average, warn_for)\n"
     ]
    },
    {
     "name": "stdout",
     "output_type": "stream",
     "text": [
      "                               precision    recall  f1-score   support\n",
      "\n",
      "                    Aglianico       1.00      0.20      0.33        86\n",
      "                     Albariño       0.75      0.35      0.48       172\n",
      "                      Barbera       0.90      0.38      0.53       174\n",
      "                Blaufränkisch       0.75      0.25      0.38        60\n",
      "                      Bonarda       0.00      0.00      0.00        24\n",
      "     Bordeaux-style Red Blend       0.67      0.77      0.72      1556\n",
      "   Bordeaux-style White Blend       0.65      0.28      0.39       223\n",
      "               Cabernet Franc       0.70      0.23      0.34       375\n",
      "           Cabernet Sauvignon       0.55      0.74      0.63      2445\n",
      "    Cabernet Sauvignon-Merlot       0.00      0.00      0.00        27\n",
      "    Cabernet Sauvignon-Shiraz       0.00      0.00      0.00        23\n",
      "                    Carmenère       0.67      0.24      0.35       149\n",
      "              Champagne Blend       0.79      0.59      0.67       374\n",
      "                   Chardonnay       0.61      0.88      0.72      2941\n",
      "                 Chenin Blanc       0.91      0.22      0.35       139\n",
      "Corvina, Rondinella, Molinara       0.86      0.53      0.65        91\n",
      "                     Dolcetto       1.00      0.20      0.33        35\n",
      "                   Falanghina       0.33      0.03      0.06        29\n",
      "                        Fiano       0.85      0.26      0.39        43\n",
      "                     Friulano       1.00      0.04      0.07        26\n",
      "                        G-S-M       1.00      0.02      0.03        57\n",
      "                        Gamay       0.85      0.57      0.68       256\n",
      "                    Garganega       0.92      0.27      0.42        44\n",
      "                     Garnacha       0.79      0.23      0.36       344\n",
      "              Garnacha-Shiraz       0.00      0.00      0.00        32\n",
      "               Gewürztraminer       0.78      0.54      0.64       258\n",
      "                        Glera       0.71      0.61      0.65       119\n",
      "                      Godello       1.00      0.12      0.21        25\n",
      "                        Greco       0.75      0.10      0.17        31\n",
      "                       Grillo       0.55      0.19      0.28        32\n",
      "             Grüner Veltliner       0.81      0.74      0.77       321\n",
      "                       Malbec       0.56      0.50      0.53       693\n",
      "                Malbec-Merlot       0.00      0.00      0.00        28\n",
      "                        Melon       0.80      0.16      0.27        49\n",
      "                       Mencía       1.00      0.22      0.36        46\n",
      "                     Meritage       0.00      0.00      0.00        65\n",
      "                       Merlot       0.68      0.30      0.42       745\n",
      "                   Monastrell       1.00      0.27      0.43        37\n",
      "                Montepulciano       0.75      0.14      0.23        65\n",
      "                      Moscato       0.68      0.39      0.50        69\n",
      "                    Mourvèdre       0.00      0.00      0.00        66\n",
      "                     Muscatoo       1.00      0.03      0.06        33\n",
      "                     Nebbiolo       0.69      0.83      0.75       763\n",
      "                   Negroamaro       0.00      0.00      0.00        21\n",
      "            Nerello Mascalese       0.67      0.15      0.24        41\n",
      "                 Nero d'Avola       0.93      0.36      0.52        77\n",
      "                 Petit Verdot       0.67      0.03      0.05        78\n",
      "                  Pinot Blanc       0.70      0.16      0.26       146\n",
      "                 Pinot Grigio       0.57      0.46      0.51       642\n",
      "                   Pinot Noir       0.63      0.87      0.73      3642\n",
      "                     Pinotage       1.00      0.13      0.23        31\n",
      "                         Port       0.88      0.59      0.71       160\n",
      "               Portuguese Red       0.64      0.70      0.67       612\n",
      "             Portuguese White       0.73      0.46      0.56       288\n",
      "                    Primitivo       0.65      0.52      0.58       778\n",
      "                     Prosecco       0.83      0.49      0.61        39\n",
      "           Provence red blend       0.00      0.00      0.00        21\n",
      "                    Red Blend       0.60      0.63      0.62      2219\n",
      "        Rhône-style Red Blend       0.66      0.64      0.65       472\n",
      "      Rhône-style White Blend       0.84      0.66      0.74       149\n",
      "                     Riesling       0.74      0.88      0.80      1346\n",
      "                         Rosé       0.68      0.76      0.72      1123\n",
      "                    Roussanne       0.00      0.00      0.00        44\n",
      "                   Sagrantino       1.00      0.03      0.07        29\n",
      "                   Sangiovese       0.58      0.40      0.47       683\n",
      "            Sangiovese Grosso       0.92      0.75      0.83       109\n",
      "                    Sauvignon       0.71      0.71      0.71        76\n",
      "              Sauvignon Blanc       0.63      0.72      0.67      1292\n",
      "                       Sherry       1.00      0.21      0.34        24\n",
      "                       Shiraz       0.58      0.61      0.59      1477\n",
      "              Sparkling Blend       0.67      0.65      0.66       634\n",
      "                Spätburgunder       0.00      0.00      0.00        21\n",
      "                     Sémillon       1.00      0.02      0.05        42\n",
      "                       Tannat       0.88      0.15      0.25        47\n",
      "                  Tempranillo       0.45      0.43      0.44       505\n",
      "            Tempranillo Blend       0.34      0.09      0.14       158\n",
      "                Tinta de Toro       1.00      0.29      0.44        42\n",
      "                   Tinto Fino       0.00      0.00      0.00        25\n",
      "                    Torrontés       0.72      0.32      0.44        56\n",
      "             Touriga Nacional       1.00      0.07      0.13        43\n",
      "                     Turbiana       0.46      0.27      0.34        49\n",
      "                      Verdejo       0.86      0.39      0.54        77\n",
      "                   Verdicchio       0.88      0.40      0.55        53\n",
      "                   Vermentino       1.00      0.20      0.34        59\n",
      "                    Vernaccia       0.53      0.21      0.31        42\n",
      "                     Viognier       0.78      0.35      0.49       260\n",
      "                        Viura       1.00      0.22      0.36        27\n",
      "                  White Blend       0.62      0.50      0.55       573\n",
      "                     Zweigelt       0.94      0.31      0.47        51\n",
      "\n",
      "                     accuracy                           0.64     31553\n",
      "                    macro avg       0.67      0.33      0.39     31553\n",
      "                 weighted avg       0.65      0.64      0.61     31553\n",
      "\n"
     ]
    }
   ],
   "source": [
    "print(classification_report(y_test2, predictedsb6))"
   ]
  },
  {
   "cell_type": "markdown",
   "metadata": {},
   "source": [
    "### RANDOM FOREST CLASSIFIER, COUNTVECTORIZER AND TFIDFVECTORIZER\n",
    "Logistic Regression performs better than Random Forest Classifier in this data set, with higher accuracy. The best performed model was Random Forest with CountVectorizer.\n",
    "\n",
    "All of the models have better scores than the baseline\n"
   ]
  },
  {
   "cell_type": "code",
   "execution_count": 24,
   "metadata": {},
   "outputs": [
    {
     "data": {
      "text/plain": [
       "0.644312743637689"
      ]
     },
     "execution_count": 24,
     "metadata": {},
     "output_type": "execute_result"
    }
   ],
   "source": [
    "#RandomForestClassifier with CountVectoriazer\n",
    "pipelinesb7 = Pipeline([\n",
    "    ('vect', cvec),\n",
    "    ('cls', RandomForestClassifier(n_estimators=200, n_jobs = 2))\n",
    "])\n",
    "pipelinesb7.fit(X_train2, y_train2)\n",
    "predictedsb7 = pipelinesb7.predict(X_test2)\n",
    "pipelinesb7.score(X_test2, y_test2)"
   ]
  },
  {
   "cell_type": "code",
   "execution_count": 25,
   "metadata": {},
   "outputs": [
    {
     "name": "stderr",
     "output_type": "stream",
     "text": [
      "/Users/Mariagimenoperez/anaconda3/lib/python3.6/site-packages/sklearn/metrics/classification.py:1437: UndefinedMetricWarning: Precision and F-score are ill-defined and being set to 0.0 in labels with no predicted samples.\n",
      "  'precision', 'predicted', average, warn_for)\n"
     ]
    },
    {
     "name": "stdout",
     "output_type": "stream",
     "text": [
      "                               precision    recall  f1-score   support\n",
      "\n",
      "                    Aglianico       1.00      0.20      0.33        86\n",
      "                     Albariño       0.98      0.36      0.53       172\n",
      "                      Barbera       1.00      0.33      0.50       174\n",
      "                Blaufränkisch       1.00      0.23      0.38        60\n",
      "                      Bonarda       1.00      0.04      0.08        24\n",
      "     Bordeaux-style Red Blend       0.59      0.83      0.69      1556\n",
      "   Bordeaux-style White Blend       0.88      0.25      0.39       223\n",
      "               Cabernet Franc       0.98      0.23      0.37       375\n",
      "           Cabernet Sauvignon       0.50      0.81      0.62      2445\n",
      "    Cabernet Sauvignon-Merlot       1.00      0.07      0.14        27\n",
      "    Cabernet Sauvignon-Shiraz       1.00      0.09      0.16        23\n",
      "                    Carmenère       1.00      0.28      0.43       149\n",
      "              Champagne Blend       0.91      0.52      0.66       374\n",
      "                   Chardonnay       0.53      0.95      0.68      2941\n",
      "                 Chenin Blanc       0.96      0.18      0.30       139\n",
      "Corvina, Rondinella, Molinara       1.00      0.23      0.38        91\n",
      "                     Dolcetto       1.00      0.14      0.25        35\n",
      "                   Falanghina       1.00      0.38      0.55        29\n",
      "                        Fiano       1.00      0.23      0.38        43\n",
      "                     Friulano       0.78      0.27      0.40        26\n",
      "                        G-S-M       1.00      0.14      0.25        57\n",
      "                        Gamay       0.91      0.40      0.55       256\n",
      "                    Garganega       1.00      0.16      0.27        44\n",
      "                     Garnacha       0.94      0.24      0.38       344\n",
      "              Garnacha-Shiraz       1.00      0.53      0.69        32\n",
      "               Gewürztraminer       0.90      0.49      0.63       258\n",
      "                        Glera       0.72      0.62      0.67       119\n",
      "                      Godello       1.00      0.20      0.33        25\n",
      "                        Greco       1.00      0.29      0.45        31\n",
      "                       Grillo       0.86      0.19      0.31        32\n",
      "             Grüner Veltliner       0.84      0.66      0.74       321\n",
      "                       Malbec       0.71      0.49      0.58       693\n",
      "                Malbec-Merlot       1.00      0.21      0.35        28\n",
      "                        Melon       0.00      0.00      0.00        49\n",
      "                       Mencía       1.00      0.24      0.39        46\n",
      "                     Meritage       1.00      0.15      0.27        65\n",
      "                       Merlot       0.90      0.36      0.51       745\n",
      "                   Monastrell       1.00      0.32      0.49        37\n",
      "                Montepulciano       1.00      0.25      0.40        65\n",
      "                      Moscato       0.83      0.22      0.34        69\n",
      "                    Mourvèdre       1.00      0.23      0.37        66\n",
      "                     Muscatoo       1.00      0.09      0.17        33\n",
      "                     Nebbiolo       0.69      0.85      0.76       763\n",
      "                   Negroamaro       1.00      0.05      0.09        21\n",
      "            Nerello Mascalese       1.00      0.44      0.61        41\n",
      "                 Nero d'Avola       0.94      0.40      0.56        77\n",
      "                 Petit Verdot       1.00      0.17      0.29        78\n",
      "                  Pinot Blanc       0.96      0.16      0.28       146\n",
      "                 Pinot Grigio       0.73      0.49      0.59       642\n",
      "                   Pinot Noir       0.60      0.88      0.71      3642\n",
      "                     Pinotage       1.00      0.13      0.23        31\n",
      "                         Port       0.99      0.44      0.61       160\n",
      "               Portuguese Red       0.76      0.54      0.63       612\n",
      "             Portuguese White       0.88      0.44      0.58       288\n",
      "                    Primitivo       0.85      0.46      0.60       778\n",
      "                     Prosecco       0.73      0.21      0.32        39\n",
      "           Provence red blend       1.00      0.14      0.25        21\n",
      "                    Red Blend       0.65      0.68      0.67      2219\n",
      "        Rhône-style Red Blend       0.79      0.65      0.72       472\n",
      "      Rhône-style White Blend       0.89      0.66      0.76       149\n",
      "                     Riesling       0.76      0.84      0.79      1346\n",
      "                         Rosé       0.69      0.78      0.73      1123\n",
      "                    Roussanne       1.00      0.14      0.24        44\n",
      "                   Sagrantino       1.00      0.24      0.39        29\n",
      "                   Sangiovese       0.80      0.40      0.53       683\n",
      "            Sangiovese Grosso       0.95      0.58      0.72       109\n",
      "                    Sauvignon       0.75      0.70      0.72        76\n",
      "              Sauvignon Blanc       0.72      0.69      0.70      1292\n",
      "                       Sherry       1.00      0.25      0.40        24\n",
      "                       Shiraz       0.73      0.56      0.63      1477\n",
      "              Sparkling Blend       0.80      0.58      0.67       634\n",
      "                Spätburgunder       1.00      0.24      0.38        21\n",
      "                     Sémillon       1.00      0.17      0.29        42\n",
      "                       Tannat       1.00      0.04      0.08        47\n",
      "                  Tempranillo       0.57      0.41      0.47       505\n",
      "            Tempranillo Blend       1.00      0.11      0.20       158\n",
      "                Tinta de Toro       1.00      0.17      0.29        42\n",
      "                   Tinto Fino       1.00      0.16      0.28        25\n",
      "                    Torrontés       0.67      0.25      0.36        56\n",
      "             Touriga Nacional       1.00      0.09      0.17        43\n",
      "                     Turbiana       0.74      0.29      0.41        49\n",
      "                      Verdejo       0.90      0.35      0.50        77\n",
      "                   Verdicchio       0.81      0.49      0.61        53\n",
      "                   Vermentino       0.83      0.25      0.39        59\n",
      "                    Vernaccia       0.95      0.48      0.63        42\n",
      "                     Viognier       0.95      0.29      0.44       260\n",
      "                        Viura       1.00      0.04      0.07        27\n",
      "                  White Blend       0.79      0.50      0.61       573\n",
      "                     Zweigelt       0.80      0.24      0.36        51\n",
      "\n",
      "                     accuracy                           0.64     31553\n",
      "                    macro avg       0.88      0.35      0.45     31553\n",
      "                 weighted avg       0.71      0.64      0.62     31553\n",
      "\n"
     ]
    }
   ],
   "source": [
    "print(classification_report(y_test2, predictedsb7))"
   ]
  },
  {
   "cell_type": "code",
   "execution_count": 53,
   "metadata": {},
   "outputs": [
    {
     "data": {
      "text/plain": [
       "0.644946597787849"
      ]
     },
     "execution_count": 53,
     "metadata": {},
     "output_type": "execute_result"
    }
   ],
   "source": [
    "#RandomForestClassifier with TfidVectorizer\n",
    "pipelinesb7 = Pipeline([\n",
    "    ('vect', vect),\n",
    "    ('cls', RandomForestClassifier(n_estimators=200, n_jobs = 2))\n",
    "])\n",
    "pipelinesb7.fit(X_train2, y_train2)\n",
    "predictedsb7 = pipelinesb7.predict(X_test2)\n",
    "pipelinesb7.score(X_test2, y_test2)"
   ]
  },
  {
   "cell_type": "code",
   "execution_count": 55,
   "metadata": {},
   "outputs": [
    {
     "name": "stderr",
     "output_type": "stream",
     "text": [
      "/Users/Mariagimenoperez/anaconda3/lib/python3.6/site-packages/sklearn/metrics/classification.py:1437: UndefinedMetricWarning: Precision and F-score are ill-defined and being set to 0.0 in labels with no predicted samples.\n",
      "  'precision', 'predicted', average, warn_for)\n"
     ]
    },
    {
     "name": "stdout",
     "output_type": "stream",
     "text": [
      "                               precision    recall  f1-score   support\n",
      "\n",
      "                    Aglianico       1.00      0.20      0.33        86\n",
      "                     Albariño       0.97      0.38      0.55       172\n",
      "                      Barbera       1.00      0.37      0.54       174\n",
      "                Blaufränkisch       0.93      0.23      0.37        60\n",
      "                      Bonarda       1.00      0.04      0.08        24\n",
      "     Bordeaux-style Red Blend       0.60      0.82      0.70      1556\n",
      "   Bordeaux-style White Blend       0.89      0.28      0.42       223\n",
      "               Cabernet Franc       0.99      0.21      0.35       375\n",
      "           Cabernet Sauvignon       0.53      0.81      0.64      2445\n",
      "    Cabernet Sauvignon-Merlot       1.00      0.07      0.14        27\n",
      "    Cabernet Sauvignon-Shiraz       1.00      0.09      0.16        23\n",
      "                    Carmenère       1.00      0.26      0.41       149\n",
      "              Champagne Blend       0.89      0.54      0.67       374\n",
      "                   Chardonnay       0.53      0.95      0.68      2941\n",
      "                 Chenin Blanc       0.96      0.19      0.31       139\n",
      "Corvina, Rondinella, Molinara       0.95      0.22      0.36        91\n",
      "                     Dolcetto       1.00      0.11      0.21        35\n",
      "                   Falanghina       1.00      0.38      0.55        29\n",
      "                        Fiano       1.00      0.23      0.38        43\n",
      "                     Friulano       0.88      0.27      0.41        26\n",
      "                        G-S-M       1.00      0.12      0.22        57\n",
      "                        Gamay       0.95      0.42      0.58       256\n",
      "                    Garganega       1.00      0.16      0.27        44\n",
      "                     Garnacha       0.95      0.23      0.37       344\n",
      "              Garnacha-Shiraz       1.00      0.41      0.58        32\n",
      "               Gewürztraminer       0.92      0.49      0.64       258\n",
      "                        Glera       0.77      0.61      0.68       119\n",
      "                      Godello       1.00      0.20      0.33        25\n",
      "                        Greco       0.90      0.29      0.44        31\n",
      "                       Grillo       0.78      0.22      0.34        32\n",
      "             Grüner Veltliner       0.87      0.65      0.74       321\n",
      "                       Malbec       0.72      0.50      0.59       693\n",
      "                Malbec-Merlot       1.00      0.21      0.35        28\n",
      "                        Melon       0.00      0.00      0.00        49\n",
      "                       Mencía       1.00      0.33      0.49        46\n",
      "                     Meritage       1.00      0.15      0.27        65\n",
      "                       Merlot       0.89      0.35      0.50       745\n",
      "                   Monastrell       1.00      0.30      0.46        37\n",
      "                Montepulciano       1.00      0.25      0.40        65\n",
      "                      Moscato       0.84      0.23      0.36        69\n",
      "                    Mourvèdre       1.00      0.23      0.37        66\n",
      "                      Muscato       1.00      0.06      0.11        33\n",
      "                     Nebbiolo       0.69      0.84      0.76       763\n",
      "                   Negroamaro       1.00      0.05      0.09        21\n",
      "            Nerello Mascalese       1.00      0.44      0.61        41\n",
      "                 Nero d'Avola       0.93      0.36      0.52        77\n",
      "                 Petit Verdot       1.00      0.17      0.29        78\n",
      "                  Pinot Blanc       0.95      0.12      0.22       146\n",
      "                 Pinot Grigio       0.74      0.48      0.58       642\n",
      "                   Pinot Noir       0.57      0.89      0.70      3642\n",
      "                     Pinotage       1.00      0.13      0.23        31\n",
      "                         Port       0.99      0.45      0.62       160\n",
      "               Portuguese Red       0.79      0.55      0.65       612\n",
      "             Portuguese White       0.84      0.41      0.55       288\n",
      "                    Primitivo       0.85      0.46      0.60       778\n",
      "                     Prosecco       0.80      0.41      0.54        39\n",
      "           Provence red blend       1.00      0.14      0.25        21\n",
      "                    Red Blend       0.65      0.67      0.66      2219\n",
      "        Rhône-style Red Blend       0.74      0.66      0.70       472\n",
      "      Rhône-style White Blend       0.87      0.64      0.74       149\n",
      "                     Riesling       0.74      0.85      0.79      1346\n",
      "                         Rosé       0.71      0.75      0.73      1123\n",
      "                    Roussanne       1.00      0.16      0.27        44\n",
      "                   Sagrantino       1.00      0.21      0.34        29\n",
      "                   Sangiovese       0.77      0.39      0.52       683\n",
      "            Sangiovese Grosso       0.98      0.58      0.73       109\n",
      "                    Sauvignon       0.74      0.64      0.69        76\n",
      "              Sauvignon Blanc       0.72      0.69      0.71      1292\n",
      "                       Sherry       1.00      0.29      0.45        24\n",
      "                       Shiraz       0.72      0.57      0.64      1477\n",
      "              Sparkling Blend       0.81      0.61      0.69       634\n",
      "                Spätburgunder       1.00      0.19      0.32        21\n",
      "                     Sémillon       1.00      0.17      0.29        42\n",
      "                       Tannat       1.00      0.06      0.12        47\n",
      "                  Tempranillo       0.55      0.38      0.45       505\n",
      "            Tempranillo Blend       0.85      0.15      0.25       158\n",
      "                Tinta de Toro       1.00      0.21      0.35        42\n",
      "                   Tinto Fino       1.00      0.16      0.28        25\n",
      "                    Torrontés       0.74      0.25      0.37        56\n",
      "             Touriga Nacional       1.00      0.12      0.21        43\n",
      "                     Turbiana       0.70      0.29      0.41        49\n",
      "                      Verdejo       1.00      0.36      0.53        77\n",
      "                   Verdicchio       0.82      0.43      0.57        53\n",
      "                   Vermentino       1.00      0.25      0.41        59\n",
      "                    Vernaccia       0.91      0.48      0.62        42\n",
      "                     Viognier       0.97      0.30      0.46       260\n",
      "                        Viura       1.00      0.04      0.07        27\n",
      "                  White Blend       0.75      0.50      0.60       573\n",
      "                     Zweigelt       0.82      0.18      0.29        51\n",
      "\n",
      "                     accuracy                           0.64     31553\n",
      "                    macro avg       0.88      0.35      0.45     31553\n",
      "                 weighted avg       0.71      0.64      0.62     31553\n",
      "\n"
     ]
    }
   ],
   "source": [
    "print(classification_report(y_test2, predictedsb7))"
   ]
  },
  {
   "cell_type": "markdown",
   "metadata": {},
   "source": [
    "### NAIVE BAYES, COUNTVECTORIZER AND TFIDFVECTORIZER\n",
    "\n",
    "The best accuracy I got in MultinomialNB with CountVectorizer. MultinomialNB is one of the two classic Naive Bayes variants used in text classification.\n",
    "\n",
    "Logistic Regression and some of the Random Forest Classifier models perform better than Naive Bayes in this data set, with higher accuracy.\n",
    "\n",
    "All of the models have better scores than the baseline\n"
   ]
  },
  {
   "cell_type": "code",
   "execution_count": 60,
   "metadata": {},
   "outputs": [
    {
     "data": {
      "text/plain": [
       "0.5376350901657528"
      ]
     },
     "execution_count": 60,
     "metadata": {},
     "output_type": "execute_result"
    }
   ],
   "source": [
    "# CountVectorizer with MultinomialNB\n",
    "pipelinebn8 = Pipeline([\n",
    "    ('cvect', cvec),\n",
    "    ('cls', MultinomialNB())\n",
    "])\n",
    "pipelinebn8.fit(X_train2, y_train2)\n",
    "predictedbn8 = pipelinebn8.predict(X_test2)\n",
    "pipelinebn8.score(X_test2, y_test2)"
   ]
  },
  {
   "cell_type": "code",
   "execution_count": 61,
   "metadata": {},
   "outputs": [
    {
     "name": "stderr",
     "output_type": "stream",
     "text": [
      "/Users/Mariagimenoperez/anaconda3/lib/python3.6/site-packages/sklearn/metrics/classification.py:1437: UndefinedMetricWarning: Precision and F-score are ill-defined and being set to 0.0 in labels with no predicted samples.\n",
      "  'precision', 'predicted', average, warn_for)\n"
     ]
    },
    {
     "name": "stdout",
     "output_type": "stream",
     "text": [
      "                               precision    recall  f1-score   support\n",
      "\n",
      "                    Aglianico       0.00      0.00      0.00        86\n",
      "                     Albariño       0.90      0.05      0.10       172\n",
      "                      Barbera       1.00      0.02      0.03       174\n",
      "                Blaufränkisch       0.00      0.00      0.00        60\n",
      "                      Bonarda       0.00      0.00      0.00        24\n",
      "     Bordeaux-style Red Blend       0.53      0.64      0.58      1556\n",
      "   Bordeaux-style White Blend       0.78      0.17      0.28       223\n",
      "               Cabernet Franc       0.59      0.03      0.05       375\n",
      "           Cabernet Sauvignon       0.48      0.70      0.57      2445\n",
      "    Cabernet Sauvignon-Merlot       0.00      0.00      0.00        27\n",
      "    Cabernet Sauvignon-Shiraz       0.00      0.00      0.00        23\n",
      "                    Carmenère       0.67      0.01      0.03       149\n",
      "              Champagne Blend       0.65      0.59      0.62       374\n",
      "                   Chardonnay       0.57      0.83      0.68      2941\n",
      "                 Chenin Blanc       0.00      0.00      0.00       139\n",
      "Corvina, Rondinella, Molinara       1.00      0.03      0.06        91\n",
      "                     Dolcetto       0.00      0.00      0.00        35\n",
      "                   Falanghina       0.00      0.00      0.00        29\n",
      "                        Fiano       0.00      0.00      0.00        43\n",
      "                     Friulano       0.00      0.00      0.00        26\n",
      "                        G-S-M       0.00      0.00      0.00        57\n",
      "                        Gamay       0.83      0.27      0.41       256\n",
      "                    Garganega       0.00      0.00      0.00        44\n",
      "                     Garnacha       0.58      0.02      0.04       344\n",
      "              Garnacha-Shiraz       0.00      0.00      0.00        32\n",
      "               Gewürztraminer       0.91      0.17      0.28       258\n",
      "                        Glera       0.81      0.18      0.30       119\n",
      "                      Godello       0.00      0.00      0.00        25\n",
      "                        Greco       0.00      0.00      0.00        31\n",
      "                       Grillo       0.00      0.00      0.00        32\n",
      "             Grüner Veltliner       0.76      0.60      0.67       321\n",
      "                       Malbec       0.34      0.43      0.38       693\n",
      "                Malbec-Merlot       0.00      0.00      0.00        28\n",
      "                        Melon       0.00      0.00      0.00        49\n",
      "                       Mencía       0.00      0.00      0.00        46\n",
      "                     Meritage       0.00      0.00      0.00        65\n",
      "                       Merlot       0.56      0.05      0.10       745\n",
      "                   Monastrell       0.00      0.00      0.00        37\n",
      "                Montepulciano       1.00      0.02      0.03        65\n",
      "                      Moscato       1.00      0.01      0.03        69\n",
      "                    Mourvèdre       0.00      0.00      0.00        66\n",
      "                      Muscato       0.00      0.00      0.00        33\n",
      "                     Nebbiolo       0.53      0.84      0.65       763\n",
      "                   Negroamaro       0.00      0.00      0.00        21\n",
      "            Nerello Mascalese       0.00      0.00      0.00        41\n",
      "                 Nero d'Avola       0.00      0.00      0.00        77\n",
      "                 Petit Verdot       0.00      0.00      0.00        78\n",
      "                  Pinot Blanc       0.00      0.00      0.00       146\n",
      "                 Pinot Grigio       0.55      0.33      0.41       642\n",
      "                   Pinot Noir       0.66      0.77      0.71      3642\n",
      "                     Pinotage       0.00      0.00      0.00        31\n",
      "                         Port       1.00      0.12      0.22       160\n",
      "               Portuguese Red       0.42      0.76      0.54       612\n",
      "             Portuguese White       0.59      0.45      0.51       288\n",
      "                    Primitivo       0.53      0.45      0.49       778\n",
      "                     Prosecco       0.00      0.00      0.00        39\n",
      "           Provence red blend       0.00      0.00      0.00        21\n",
      "                    Red Blend       0.46      0.55      0.50      2219\n",
      "        Rhône-style Red Blend       0.65      0.51      0.57       472\n",
      "      Rhône-style White Blend       1.00      0.23      0.38       149\n",
      "                     Riesling       0.63      0.83      0.71      1346\n",
      "                         Rosé       0.56      0.71      0.63      1123\n",
      "                    Roussanne       0.00      0.00      0.00        44\n",
      "                   Sagrantino       0.00      0.00      0.00        29\n",
      "                   Sangiovese       0.37      0.26      0.31       683\n",
      "            Sangiovese Grosso       0.90      0.25      0.39       109\n",
      "                    Sauvignon       1.00      0.16      0.27        76\n",
      "              Sauvignon Blanc       0.57      0.66      0.61      1292\n",
      "                       Sherry       0.00      0.00      0.00        24\n",
      "                       Shiraz       0.51      0.52      0.52      1477\n",
      "              Sparkling Blend       0.55      0.63      0.59       634\n",
      "                Spätburgunder       0.00      0.00      0.00        21\n",
      "                     Sémillon       0.00      0.00      0.00        42\n",
      "                       Tannat       0.00      0.00      0.00        47\n",
      "                  Tempranillo       0.31      0.51      0.38       505\n",
      "            Tempranillo Blend       1.00      0.01      0.01       158\n",
      "                Tinta de Toro       0.00      0.00      0.00        42\n",
      "                   Tinto Fino       0.00      0.00      0.00        25\n",
      "                    Torrontés       0.00      0.00      0.00        56\n",
      "             Touriga Nacional       0.00      0.00      0.00        43\n",
      "                     Turbiana       0.00      0.00      0.00        49\n",
      "                      Verdejo       0.00      0.00      0.00        77\n",
      "                   Verdicchio       0.00      0.00      0.00        53\n",
      "                   Vermentino       0.00      0.00      0.00        59\n",
      "                    Vernaccia       0.00      0.00      0.00        42\n",
      "                     Viognier       0.92      0.04      0.08       260\n",
      "                        Viura       0.00      0.00      0.00        27\n",
      "                  White Blend       0.39      0.58      0.47       573\n",
      "                     Zweigelt       0.00      0.00      0.00        51\n",
      "\n",
      "                     accuracy                           0.54     31553\n",
      "                    macro avg       0.32      0.17      0.17     31553\n",
      "                 weighted avg       0.53      0.54      0.49     31553\n",
      "\n"
     ]
    }
   ],
   "source": [
    "print(classification_report(y_test2, predictedbn8))"
   ]
  },
  {
   "cell_type": "code",
   "execution_count": 22,
   "metadata": {},
   "outputs": [
    {
     "data": {
      "text/plain": [
       "0.4202136088486039"
      ]
     },
     "execution_count": 22,
     "metadata": {},
     "output_type": "execute_result"
    }
   ],
   "source": [
    "# MultinomialNB with  TdidfVectorizer\n",
    "pipelines12 = Pipeline([\n",
    "    ('vect',vect) ,\n",
    "    ('cls', MultinomialNB())\n",
    "])\n",
    "pipelines12.fit(X_train2, y_train2)\n",
    "predictes12 = pipelines12.predict(X_test2)\n",
    "pipelines12.score(X_test2, y_test2)"
   ]
  },
  {
   "cell_type": "code",
   "execution_count": 23,
   "metadata": {
    "scrolled": true
   },
   "outputs": [
    {
     "name": "stderr",
     "output_type": "stream",
     "text": [
      "/Users/Mariagimenoperez/anaconda3/lib/python3.6/site-packages/sklearn/metrics/classification.py:1437: UndefinedMetricWarning: Precision and F-score are ill-defined and being set to 0.0 in labels with no predicted samples.\n",
      "  'precision', 'predicted', average, warn_for)\n"
     ]
    },
    {
     "name": "stdout",
     "output_type": "stream",
     "text": [
      "                               precision    recall  f1-score   support\n",
      "\n",
      "                    Aglianico       0.00      0.00      0.00        86\n",
      "                     Albariño       0.00      0.00      0.00       172\n",
      "                      Barbera       0.00      0.00      0.00       174\n",
      "                Blaufränkisch       0.00      0.00      0.00        60\n",
      "                      Bonarda       0.00      0.00      0.00        24\n",
      "     Bordeaux-style Red Blend       0.48      0.57      0.52      1556\n",
      "   Bordeaux-style White Blend       0.00      0.00      0.00       223\n",
      "               Cabernet Franc       0.00      0.00      0.00       375\n",
      "           Cabernet Sauvignon       0.37      0.70      0.48      2445\n",
      "    Cabernet Sauvignon-Merlot       0.00      0.00      0.00        27\n",
      "    Cabernet Sauvignon-Shiraz       0.00      0.00      0.00        23\n",
      "                    Carmenère       0.00      0.00      0.00       149\n",
      "              Champagne Blend       0.93      0.04      0.07       374\n",
      "                   Chardonnay       0.35      0.94      0.51      2941\n",
      "                 Chenin Blanc       0.00      0.00      0.00       139\n",
      "Corvina, Rondinella, Molinara       0.00      0.00      0.00        91\n",
      "                     Dolcetto       0.00      0.00      0.00        35\n",
      "                   Falanghina       0.00      0.00      0.00        29\n",
      "                        Fiano       0.00      0.00      0.00        43\n",
      "                     Friulano       0.00      0.00      0.00        26\n",
      "                        G-S-M       0.00      0.00      0.00        57\n",
      "                        Gamay       1.00      0.00      0.01       256\n",
      "                    Garganega       0.00      0.00      0.00        44\n",
      "                     Garnacha       0.00      0.00      0.00       344\n",
      "              Garnacha-Shiraz       0.00      0.00      0.00        32\n",
      "               Gewürztraminer       0.00      0.00      0.00       258\n",
      "                        Glera       0.00      0.00      0.00       119\n",
      "                      Godello       0.00      0.00      0.00        25\n",
      "                        Greco       0.00      0.00      0.00        31\n",
      "                       Grillo       0.00      0.00      0.00        32\n",
      "             Grüner Veltliner       1.00      0.04      0.08       321\n",
      "                       Malbec       1.00      0.01      0.02       693\n",
      "                Malbec-Merlot       0.00      0.00      0.00        28\n",
      "                        Melon       0.00      0.00      0.00        49\n",
      "                       Mencía       0.00      0.00      0.00        46\n",
      "                     Meritage       0.00      0.00      0.00        65\n",
      "                       Merlot       0.00      0.00      0.00       745\n",
      "                   Monastrell       0.00      0.00      0.00        37\n",
      "                Montepulciano       0.00      0.00      0.00        65\n",
      "                      Moscato       0.00      0.00      0.00        69\n",
      "                    Mourvèdre       0.00      0.00      0.00        66\n",
      "                     Muscatoo       0.00      0.00      0.00        33\n",
      "                     Nebbiolo       0.64      0.58      0.61       763\n",
      "                   Negroamaro       0.00      0.00      0.00        21\n",
      "            Nerello Mascalese       0.00      0.00      0.00        41\n",
      "                 Nero d'Avola       0.00      0.00      0.00        77\n",
      "                 Petit Verdot       0.00      0.00      0.00        78\n",
      "                  Pinot Blanc       0.00      0.00      0.00       146\n",
      "                 Pinot Grigio       0.85      0.03      0.05       642\n",
      "                   Pinot Noir       0.39      0.90      0.54      3642\n",
      "                     Pinotage       0.00      0.00      0.00        31\n",
      "                         Port       0.00      0.00      0.00       160\n",
      "               Portuguese Red       0.86      0.30      0.45       612\n",
      "             Portuguese White       0.83      0.08      0.15       288\n",
      "                    Primitivo       0.95      0.07      0.12       778\n",
      "                     Prosecco       0.00      0.00      0.00        39\n",
      "           Provence red blend       0.00      0.00      0.00        21\n",
      "                    Red Blend       0.37      0.70      0.49      2219\n",
      "        Rhône-style Red Blend       0.86      0.11      0.19       472\n",
      "      Rhône-style White Blend       0.00      0.00      0.00       149\n",
      "                     Riesling       0.58      0.69      0.63      1346\n",
      "                         Rosé       0.75      0.37      0.49      1123\n",
      "                    Roussanne       0.00      0.00      0.00        44\n",
      "                   Sagrantino       0.00      0.00      0.00        29\n",
      "                   Sangiovese       0.00      0.00      0.00       683\n",
      "            Sangiovese Grosso       0.00      0.00      0.00       109\n",
      "                    Sauvignon       0.00      0.00      0.00        76\n",
      "              Sauvignon Blanc       0.74      0.35      0.48      1292\n",
      "                       Sherry       0.00      0.00      0.00        24\n",
      "                       Shiraz       0.76      0.18      0.28      1477\n",
      "              Sparkling Blend       0.77      0.13      0.23       634\n",
      "                Spätburgunder       0.00      0.00      0.00        21\n",
      "                     Sémillon       0.00      0.00      0.00        42\n",
      "                       Tannat       0.00      0.00      0.00        47\n",
      "                  Tempranillo       0.88      0.01      0.03       505\n",
      "            Tempranillo Blend       0.00      0.00      0.00       158\n",
      "                Tinta de Toro       0.00      0.00      0.00        42\n",
      "                   Tinto Fino       0.00      0.00      0.00        25\n",
      "                    Torrontés       0.00      0.00      0.00        56\n",
      "             Touriga Nacional       0.00      0.00      0.00        43\n",
      "                     Turbiana       0.00      0.00      0.00        49\n",
      "                      Verdejo       0.00      0.00      0.00        77\n",
      "                   Verdicchio       0.00      0.00      0.00        53\n",
      "                   Vermentino       0.00      0.00      0.00        59\n",
      "                    Vernaccia       0.00      0.00      0.00        42\n",
      "                     Viognier       0.00      0.00      0.00       260\n",
      "                        Viura       0.00      0.00      0.00        27\n",
      "                  White Blend       0.77      0.14      0.24       573\n",
      "                     Zweigelt       0.00      0.00      0.00        51\n",
      "\n",
      "                     accuracy                           0.42     31553\n",
      "                    macro avg       0.18      0.08      0.07     31553\n",
      "                 weighted avg       0.46      0.42      0.33     31553\n",
      "\n"
     ]
    }
   ],
   "source": [
    "print(classification_report(y_test2, predictes12))"
   ]
  },
  {
   "cell_type": "code",
   "execution_count": 26,
   "metadata": {},
   "outputs": [
    {
     "data": {
      "text/plain": [
       "0.5197920958387475"
      ]
     },
     "execution_count": 26,
     "metadata": {},
     "output_type": "execute_result"
    }
   ],
   "source": [
    "# BernoulliNB with CountVectorizer\n",
    "pipelines9 = Pipeline([\n",
    "    ('vect', cvec),\n",
    "    ('cls', BernoulliNB())\n",
    "])\n",
    "pipelines9.fit(X_train2, y_train2)\n",
    "predictes9 = pipelines9.predict(X_test2)\n",
    "pipelines9.score(X_test2, y_test2)"
   ]
  },
  {
   "cell_type": "markdown",
   "metadata": {},
   "source": [
    "## PROVINCE AS A TARGET"
   ]
  },
  {
   "cell_type": "markdown",
   "metadata": {},
   "source": [
    "By looking at the provinces, we can find out that there are 1303 provinces in this dataset. Each one having different number of inputs, many of them having only one. Certainly, the latter ones will not be of use, because we will not be able to train and test on one sample. I will keep the provinces thay appear more than 100 times. I will also reduce the number by joining some of them."
   ]
  },
  {
   "cell_type": "code",
   "execution_count": 29,
   "metadata": {},
   "outputs": [],
   "source": [
    "df3 = df[df['province'].map(df['province'].value_counts()) > 100]"
   ]
  },
  {
   "cell_type": "code",
   "execution_count": 30,
   "metadata": {
    "scrolled": true
   },
   "outputs": [
    {
     "name": "stderr",
     "output_type": "stream",
     "text": [
      "/Users/Mariagimenoperez/anaconda3/lib/python3.6/site-packages/pandas/core/generic.py:5096: SettingWithCopyWarning: \n",
      "A value is trying to be set on a copy of a slice from a DataFrame.\n",
      "Try using .loc[row_indexer,col_indexer] = value instead\n",
      "\n",
      "See the caveats in the documentation: http://pandas.pydata.org/pandas-docs/stable/indexing.html#indexing-view-versus-copy\n",
      "  self[name] = value\n"
     ]
    }
   ],
   "source": [
    "df3.province = df3.province.apply(lambda x: str(x).replace('Blaye Côtes de Bordeaux', 'Bordeaux').\n",
    "                                    replace('Bordeaux Rosé', 'Bordeaux').replace('Bordeaux Supérieur', 'Bordeaux').\n",
    "                                   replace('Bordeaux Blanc', 'Bordeaux').replace('Sta. Rita Hills', 'California').\n",
    "                                   replace('Cava', 'Penedes').replace('Mendocino County', 'California').\n",
    "                                   replace('Russian River Valley', 'Sonoma Valley').replace('North Coast', 'Sonoma Valley').\n",
    "                                 replace('Alentejano', 'Alentejo'))\n",
    "\n",
    "\n",
    "\n"
   ]
  },
  {
   "cell_type": "code",
   "execution_count": 31,
   "metadata": {},
   "outputs": [],
   "source": [
    "df3 = df3[df3.province!='Other']"
   ]
  },
  {
   "cell_type": "code",
   "execution_count": 32,
   "metadata": {},
   "outputs": [
    {
     "data": {
      "text/plain": [
       "149"
      ]
     },
     "execution_count": 32,
     "metadata": {},
     "output_type": "execute_result"
    }
   ],
   "source": [
    "(len(df3.province.unique()))"
   ]
  },
  {
   "cell_type": "code",
   "execution_count": 34,
   "metadata": {},
   "outputs": [
    {
     "name": "stdout",
     "output_type": "stream",
     "text": [
      "The province baseline is 0.2677460940891997\n"
     ]
    }
   ],
   "source": [
    "print('The province baseline is', df3.province.value_counts(normalize=True).max())"
   ]
  },
  {
   "cell_type": "code",
   "execution_count": 35,
   "metadata": {},
   "outputs": [],
   "source": [
    "X3 = df3.description\n",
    "y3 = df3.province"
   ]
  },
  {
   "cell_type": "code",
   "execution_count": 36,
   "metadata": {},
   "outputs": [],
   "source": [
    "X_train3, X_test3, y_train3, y_test3 = train_test_split(X3, y3, test_size=0.2, stratify = y3, random_state = 1)"
   ]
  },
  {
   "cell_type": "markdown",
   "metadata": {},
   "source": [
    "### LOGISTIC REGRESSION WITH COUNTVECTORIZER AND TFIDFVECTORIZER  \n",
    "The scores did not differ so much but the best performed model was with CountVectorizer and Logistic Regression with Ridge Regularization. I calculated the cross validation in this model and the score does not differ so much than the accuracy score.\n",
    " \n",
    "All of the models have better scores than the baseline.\n"
   ]
  },
  {
   "cell_type": "code",
   "execution_count": 111,
   "metadata": {},
   "outputs": [
    {
     "name": "stderr",
     "output_type": "stream",
     "text": [
      "[Parallel(n_jobs=2)]: Using backend LokyBackend with 2 concurrent workers.\n",
      "[Parallel(n_jobs=2)]: Done  46 tasks      | elapsed:   43.7s\n",
      "[Parallel(n_jobs=2)]: Done 149 out of 149 | elapsed:  2.3min finished\n"
     ]
    },
    {
     "data": {
      "text/plain": [
       "0.6884643644379133"
      ]
     },
     "execution_count": 111,
     "metadata": {},
     "output_type": "execute_result"
    }
   ],
   "source": [
    "# CountVectorizer and Logisitic Regression with Ridge regularization\n",
    "pipelinep1 = Pipeline([\n",
    "    ('vect', cvec),\n",
    "    ('cls', LogisticRegression(penalty = 'l2', solver='lbfgs', multi_class='ovr', verbose = 1, n_jobs = 2))\n",
    "])\n",
    "pipelinep1.fit(X_train3, y_train3)\n",
    "predictedp1 = pipelinep1.predict(X_test3)\n",
    "pipelinep1.score(X_test3, y_test3)"
   ]
  },
  {
   "cell_type": "code",
   "execution_count": 112,
   "metadata": {},
   "outputs": [
    {
     "name": "stdout",
     "output_type": "stream",
     "text": [
      "                         precision    recall  f1-score   support\n",
      "\n",
      "       Aconcagua Valley       0.27      0.12      0.16        26\n",
      "      Adelaida District       0.05      0.04      0.04        26\n",
      "               Alentejo       0.48      0.33      0.39       269\n",
      "       Alexander Valley       0.00      0.00      0.00        24\n",
      "                 Alsace       0.69      0.81      0.75       654\n",
      "             Alto Adige       0.84      0.91      0.88        35\n",
      "          Amador County       0.00      0.00      0.00        31\n",
      "                America       1.00      0.17      0.29        29\n",
      "              Andalucia       0.85      0.58      0.69        38\n",
      "        Anderson Valley       0.12      0.06      0.09        31\n",
      "        Australia Other       0.23      0.06      0.10        49\n",
      "                  Baden       0.67      0.19      0.30        21\n",
      "               Bairrada       0.83      0.41      0.55        37\n",
      "             Barbaresco       0.32      0.16      0.21        38\n",
      "                 Barolo       0.66      0.82      0.73       158\n",
      "             Beaujolais       0.68      0.61      0.64       209\n",
      "               Bordeaux       0.61      0.80      0.69      1072\n",
      "       British Columbia       0.00      0.00      0.00        30\n",
      " Brunello di Montalcino       0.53      0.55      0.54        84\n",
      "             Burgenland       0.50      0.41      0.45       157\n",
      "               Burgundy       0.58      0.72      0.64       700\n",
      "       Cachapoal Valley       0.24      0.10      0.14        52\n",
      "                 Cahors       0.74      0.53      0.62        38\n",
      "             California       0.84      0.97      0.90      8017\n",
      "               Carneros       0.12      0.07      0.09        45\n",
      "              Carnuntum       0.60      0.21      0.31        29\n",
      "      Casablanca Valley       0.35      0.28      0.31       132\n",
      "              Catalonia       0.64      0.54      0.59       247\n",
      "          Central Coast       0.20      0.16      0.18        37\n",
      "          Central Italy       0.68      0.46      0.55       241\n",
      "          Central Otago       0.53      0.35      0.42        46\n",
      "          Central Spain       0.21      0.06      0.09       100\n",
      "         Central Valley       0.18      0.07      0.10        85\n",
      "              Champagne       0.86      0.84      0.85       419\n",
      "     Chehalem Mountains       0.00      0.00      0.00        21\n",
      "       Chianti Classico       0.67      0.54      0.59        56\n",
      "    Châteauneuf-du-Pape       0.63      0.76      0.69        41\n",
      "         Coastal Region       0.33      0.04      0.06        28\n",
      "       Colchagua Valley       0.35      0.24      0.29       211\n",
      "               Colorado       0.80      0.36      0.50        22\n",
      "   Columbia Valley (WA)       0.54      0.77      0.63       171\n",
      "       Crémant d'Alsace       1.00      0.50      0.67        24\n",
      "          Curicó Valley       0.08      0.02      0.03        54\n",
      "      Côtes de Gascogne       0.65      0.59      0.62        22\n",
      "      Côtes de Provence       0.73      0.76      0.75        62\n",
      "         Côtes du Rhône       0.72      0.72      0.72        32\n",
      "                  Douro       0.62      0.48      0.54       314\n",
      "       Dry Creek Valley       0.15      0.10      0.12        40\n",
      "           Dundee Hills       0.32      0.24      0.27        38\n",
      "                    Dão       0.76      0.44      0.56        86\n",
      "              El Dorado       0.00      0.00      0.00        24\n",
      "                England       0.84      0.59      0.70        27\n",
      "       Eola-Amity Hills       0.13      0.06      0.09        31\n",
      "                   Etna       0.75      0.56      0.64        27\n",
      "           Finger Lakes       0.95      1.00      0.98        63\n",
      "           France Other       0.33      0.16      0.22       131\n",
      "                Franken       0.86      0.55      0.67        22\n",
      "                Galicia       0.61      0.42      0.49        89\n",
      "                Galilee       0.67      0.53      0.59        78\n",
      "               Gigondas       0.67      0.57      0.62        21\n",
      "            Hawke's Bay       0.93      0.34      0.50        41\n",
      "                  Idaho       0.50      0.04      0.07        52\n",
      "            Italy Other       0.36      0.13      0.20        30\n",
      "           Judean Hills       0.21      0.09      0.13        32\n",
      "                Kamptal       0.40      0.26      0.32        92\n",
      "               Kremstal       0.35      0.22      0.27        82\n",
      "   Languedoc-Roussillon       0.47      0.48      0.47       119\n",
      "                Levante       0.74      0.39      0.51        95\n",
      "           Leyda Valley       0.57      0.40      0.47        60\n",
      "          Limarí Valley       0.50      0.09      0.15        23\n",
      "                 Lisboa       0.65      0.36      0.47       141\n",
      "       Livermore Valley       0.10      0.04      0.06        24\n",
      "                   Lodi       0.17      0.14      0.16        50\n",
      "           Loire Valley       0.59      0.56      0.58       360\n",
      "               Lombardy       0.48      0.34      0.40       117\n",
      "           Maipo Valley       0.24      0.15      0.19       155\n",
      "            Marlborough       0.65      0.64      0.65       235\n",
      "          Martinborough       1.00      0.17      0.30        23\n",
      "           Maule Valley       0.41      0.21      0.28       112\n",
      "           McLaren Vale       0.65      0.70      0.68        37\n",
      "                Mendoza       0.38      0.49      0.43        67\n",
      "       Mendoza Province       0.49      0.59      0.54       682\n",
      "               Michigan       0.45      0.21      0.29        24\n",
      "                Moldova       0.92      0.50      0.65        22\n",
      "               Monterey       0.07      0.05      0.06        20\n",
      "                  Mosel       0.58      0.67      0.62       274\n",
      "                   Nahe       0.64      0.23      0.33        31\n",
      "            Napa Valley       0.54      0.61      0.58       158\n",
      "               New York       0.67      0.68      0.68       540\n",
      "       Niederösterreich       0.36      0.28      0.31       133\n",
      "     Northeastern Italy       0.61      0.65      0.63       412\n",
      "         Northern Spain       0.55      0.68      0.61       830\n",
      "                Ontario       0.67      0.09      0.16        22\n",
      "                 Oregon       0.73      0.77      0.75      1262\n",
      "            Paso Robles       0.44      0.68      0.54       121\n",
      "                Penedes       0.85      0.82      0.84        28\n",
      "   Península de Setúbal       0.50      0.17      0.25        30\n",
      "                  Pfalz       0.54      0.24      0.33        58\n",
      "               Piedmont       0.70      0.73      0.72       705\n",
      "                   Port       0.80      0.78      0.79       144\n",
      "               Provence       0.61      0.60      0.60       247\n",
      "           Rapel Valley       0.10      0.03      0.04        37\n",
      "           Red Mountain       0.22      0.15      0.18        39\n",
      "               Rheingau       0.23      0.07      0.10        75\n",
      "            Rheinhessen       0.38      0.25      0.30        87\n",
      "           Rhône Valley       0.72      0.72      0.72       298\n",
      "       Ribera del Duero       0.46      0.44      0.45        36\n",
      "                  Rioja       0.58      0.73      0.65        98\n",
      "           Rogue Valley       0.50      0.14      0.22        21\n",
      "          Saint-Émilion       0.75      0.39      0.51        31\n",
      "               Sancerre       0.59      0.73      0.66        30\n",
      "   Santa Barbara County       0.28      0.16      0.20        51\n",
      "   Santa Cruz Mountains       0.20      0.14      0.17        28\n",
      "  Santa Lucia Highlands       0.18      0.16      0.17        43\n",
      "     Santa Maria Valley       0.24      0.17      0.20        30\n",
      "      Santa Ynez Valley       0.12      0.10      0.11        42\n",
      "                Sicilia       0.82      0.75      0.78        36\n",
      "      Sicily & Sardinia       0.78      0.58      0.66       346\n",
      "       Sierra Foothills       0.05      0.03      0.04        29\n",
      "           Sonoma Coast       0.42      0.38      0.40        95\n",
      "          Sonoma County       0.15      0.10      0.12        42\n",
      "          Sonoma Valley       0.39      0.48      0.43       191\n",
      "        South Australia       0.58      0.53      0.55       308\n",
      "         Southern Italy       0.74      0.50      0.59       270\n",
      "       Southwest France       0.68      0.51      0.58       299\n",
      "           Stellenbosch       0.42      0.35      0.38        91\n",
      "                   Tejo       0.55      0.31      0.40       173\n",
      "        Temecula Valley       0.27      0.13      0.18        23\n",
      "                  Texas       0.45      0.29      0.35        35\n",
      "          Thermenregion       0.50      0.15      0.24        26\n",
      "        Thracian Valley       0.77      0.36      0.49        28\n",
      "                Toscana       0.72      0.68      0.70        31\n",
      "                Tuscany       0.70      0.79      0.74      1110\n",
      "             Uco Valley       0.22      0.07      0.11        27\n",
      "                 Veneto       0.68      0.63      0.66       455\n",
      "               Victoria       0.39      0.12      0.19        73\n",
      "          Vin de France       0.89      0.78      0.83        32\n",
      "            Vinho Verde       0.84      0.67      0.75       113\n",
      "               Virginia       0.69      0.57      0.62       199\n",
      "                 Wachau       0.51      0.33      0.40        92\n",
      "                 Wagram       0.43      0.25      0.32        24\n",
      "Walla Walla Valley (WA)       0.45      0.26      0.33        50\n",
      "             Washington       0.79      0.81      0.80      1813\n",
      "            Weinviertel       0.20      0.04      0.07        23\n",
      "      Western Australia       0.72      0.38      0.50        68\n",
      "           Western Cape       0.31      0.23      0.27        65\n",
      "      Willamette Valley       0.49      0.72      0.58       127\n",
      "          Yakima Valley       0.41      0.20      0.26        46\n",
      "        Yamhill-Carlton       0.11      0.04      0.06        25\n",
      "\n",
      "               accuracy                           0.69     29942\n",
      "              macro avg       0.50      0.38      0.42     29942\n",
      "           weighted avg       0.67      0.69      0.67     29942\n",
      "\n"
     ]
    }
   ],
   "source": [
    "print(classification_report(y_test3, predictedp1))"
   ]
  },
  {
   "cell_type": "code",
   "execution_count": 123,
   "metadata": {},
   "outputs": [
    {
     "name": "stderr",
     "output_type": "stream",
     "text": [
      "[Parallel(n_jobs=2)]: Using backend LokyBackend with 2 concurrent workers.\n",
      "[Parallel(n_jobs=2)]: Done  46 tasks      | elapsed:   27.5s\n",
      "[Parallel(n_jobs=2)]: Done 149 out of 149 | elapsed:  1.5min finished\n",
      "[Parallel(n_jobs=2)]: Using backend LokyBackend with 2 concurrent workers.\n",
      "[Parallel(n_jobs=2)]: Done  46 tasks      | elapsed:   28.0s\n",
      "[Parallel(n_jobs=2)]: Done 149 out of 149 | elapsed:  1.5min finished\n",
      "[Parallel(n_jobs=2)]: Using backend LokyBackend with 2 concurrent workers.\n",
      "[Parallel(n_jobs=2)]: Done  46 tasks      | elapsed:   28.1s\n",
      "[Parallel(n_jobs=2)]: Done 149 out of 149 | elapsed:  1.5min finished\n",
      "[Parallel(n_jobs=2)]: Using backend LokyBackend with 2 concurrent workers.\n",
      "[Parallel(n_jobs=2)]: Done  46 tasks      | elapsed:   28.0s\n",
      "[Parallel(n_jobs=2)]: Done 149 out of 149 | elapsed:  1.6min finished\n",
      "[Parallel(n_jobs=2)]: Using backend LokyBackend with 2 concurrent workers.\n",
      "[Parallel(n_jobs=2)]: Done  46 tasks      | elapsed:   32.5s\n",
      "[Parallel(n_jobs=2)]: Done 149 out of 149 | elapsed:  1.6min finished\n"
     ]
    },
    {
     "name": "stdout",
     "output_type": "stream",
     "text": [
      "[0.6780628  0.6755348  0.67985807 0.68402575 0.682056  ]\n",
      "0.6799074825393505\n"
     ]
    }
   ],
   "source": [
    "cross = cross_val_score(pipelinep1, X_train3, y_train3, cv=5)\n",
    "print(cross)\n",
    "print(cross.mean())"
   ]
  },
  {
   "cell_type": "code",
   "execution_count": 91,
   "metadata": {},
   "outputs": [
    {
     "name": "stderr",
     "output_type": "stream",
     "text": [
      "[Parallel(n_jobs=2)]: Using backend ThreadingBackend with 2 concurrent workers.\n"
     ]
    },
    {
     "name": "stdout",
     "output_type": "stream",
     "text": [
      "max_iter reached after 34 seconds\n"
     ]
    },
    {
     "name": "stderr",
     "output_type": "stream",
     "text": [
      "/Users/Mariagimenoperez/anaconda3/lib/python3.6/site-packages/sklearn/linear_model/sag.py:337: ConvergenceWarning: The max_iter was reached which means the coef_ did not converge\n",
      "  \"the coef_ did not converge\", ConvergenceWarning)\n"
     ]
    },
    {
     "name": "stdout",
     "output_type": "stream",
     "text": [
      "max_iter reached after 37 seconds\n",
      "max_iter reached after 31 seconds\n",
      "max_iter reached after 71 seconds\n",
      "max_iter reached after 23 seconds\n",
      "max_iter reached after 32 seconds\n",
      "max_iter reached after 111 seconds\n",
      "max_iter reached after 37 seconds\n",
      "max_iter reached after 34 seconds\n",
      "max_iter reached after 33 seconds\n",
      "max_iter reached after 50 seconds\n",
      "max_iter reached after 35 seconds\n",
      "max_iter reached after 30 seconds\n",
      "max_iter reached after 29 seconds\n",
      "max_iter reached after 32 seconds\n",
      "max_iter reached after 59 seconds\n",
      "max_iter reached after 39 seconds\n",
      "max_iter reached after 32 seconds\n",
      "max_iter reached after 122 seconds\n",
      "max_iter reached after 73 seconds\n",
      "max_iter reached after 47 seconds\n",
      "max_iter reached after 102 seconds\n",
      "max_iter reached after 30 seconds\n",
      "max_iter reached after 39 seconds\n",
      "max_iter reached after 39 seconds\n",
      "max_iter reached after 73 seconds\n",
      "max_iter reached after 84 seconds\n",
      "max_iter reached after 34 seconds\n",
      "max_iter reached after 329 seconds\n",
      "max_iter reached after 44 seconds\n",
      "max_iter reached after 80 seconds\n",
      "max_iter reached after 64 seconds\n",
      "max_iter reached after 62 seconds\n",
      "max_iter reached after 31 seconds\n",
      "max_iter reached after 31 seconds\n",
      "max_iter reached after 66 seconds\n",
      "max_iter reached after 28 seconds\n",
      "max_iter reached after 40 seconds\n",
      "max_iter reached after 35 seconds\n",
      "max_iter reached after 85 seconds\n",
      "max_iter reached after 45 seconds\n",
      "max_iter reached after 26 seconds\n",
      "max_iter reached after 25 seconds\n",
      "max_iter reached after 50 seconds\n",
      "max_iter reached after 31 seconds\n",
      "max_iter reached after 28 seconds\n"
     ]
    },
    {
     "name": "stderr",
     "output_type": "stream",
     "text": [
      "[Parallel(n_jobs=2)]: Done  46 tasks      | elapsed: 20.9min\n"
     ]
    },
    {
     "name": "stdout",
     "output_type": "stream",
     "text": [
      "max_iter reached after 36 seconds\n",
      "max_iter reached after 70 seconds\n",
      "max_iter reached after 37 seconds\n",
      "max_iter reached after 38 seconds\n",
      "max_iter reached after 29 seconds\n",
      "max_iter reached after 28 seconds\n",
      "max_iter reached after 35 seconds\n",
      "max_iter reached after 25 seconds\n",
      "max_iter reached after 22 seconds\n",
      "max_iter reached after 29 seconds\n",
      "max_iter reached after 64 seconds\n",
      "max_iter reached after 49 seconds\n",
      "max_iter reached after 27 seconds\n",
      "max_iter reached after 51 seconds\n",
      "max_iter reached after 41 seconds\n",
      "max_iter reached after 42 seconds\n",
      "max_iter reached after 33 seconds\n",
      "max_iter reached after 40 seconds\n",
      "max_iter reached after 57 seconds\n",
      "max_iter reached after 54 seconds\n",
      "max_iter reached after 51 seconds\n",
      "max_iter reached after 61 seconds\n",
      "max_iter reached after 34 seconds\n",
      "max_iter reached after 48 seconds\n",
      "max_iter reached after 28 seconds\n",
      "max_iter reached after 53 seconds\n",
      "max_iter reached after 34 seconds\n",
      "max_iter reached after 50 seconds\n",
      "max_iter reached after 79 seconds\n",
      "max_iter reached after 73 seconds\n",
      "max_iter reached after 81 seconds\n",
      "max_iter reached after 35 seconds\n",
      "max_iter reached after 32 seconds\n",
      "max_iter reached after 66 seconds\n",
      "max_iter reached after 42 seconds\n",
      "max_iter reached after 35 seconds\n",
      "max_iter reached after 29 seconds\n",
      "max_iter reached after 32 seconds\n",
      "max_iter reached after 126 seconds\n",
      "max_iter reached after 37 seconds\n",
      "max_iter reached after 75 seconds\n",
      "max_iter reached after 52 seconds\n",
      "max_iter reached after 69 seconds\n",
      "max_iter reached after 122 seconds\n",
      "max_iter reached after 91 seconds\n",
      "max_iter reached after 34 seconds\n",
      "max_iter reached after 133 seconds\n",
      "max_iter reached after 49 seconds\n",
      "max_iter reached after 26 seconds\n",
      "max_iter reached after 32 seconds\n",
      "max_iter reached after 183 seconds\n",
      "max_iter reached after 49 seconds\n",
      "max_iter reached after 46 seconds\n",
      "max_iter reached after 93 seconds\n",
      "max_iter reached after 70 seconds\n",
      "max_iter reached after 42 seconds\n",
      "max_iter reached after 34 seconds\n",
      "max_iter reached after 53 seconds\n",
      "max_iter reached after 53 seconds\n",
      "max_iter reached after 33 seconds\n",
      "max_iter reached after 84 seconds\n",
      "max_iter reached after 40 seconds\n",
      "max_iter reached after 30 seconds\n",
      "max_iter reached after 26 seconds\n",
      "max_iter reached after 28 seconds\n",
      "max_iter reached after 42 seconds\n",
      "max_iter reached after 34 seconds\n",
      "max_iter reached after 36 seconds\n",
      "max_iter reached after 34 seconds\n",
      "max_iter reached after 27 seconds\n",
      "max_iter reached after 38 seconds\n",
      "max_iter reached after 34 seconds\n",
      "max_iter reached after 78 seconds\n",
      "max_iter reached after 46 seconds\n",
      "max_iter reached after 36 seconds\n",
      "max_iter reached after 59 seconds\n",
      "max_iter reached after 103 seconds\n",
      "max_iter reached after 78 seconds\n",
      "max_iter reached after 59 seconds\n",
      "max_iter reached after 76 seconds\n",
      "max_iter reached after 31 seconds\n",
      "max_iter reached after 59 seconds\n",
      "max_iter reached after 42 seconds\n",
      "max_iter reached after 38 seconds\n",
      "max_iter reached after 33 seconds\n",
      "max_iter reached after 30 seconds\n",
      "max_iter reached after 34 seconds\n",
      "max_iter reached after 121 seconds\n",
      "max_iter reached after 95 seconds\n",
      "max_iter reached after 26 seconds\n",
      "max_iter reached after 60 seconds\n",
      "max_iter reached after 39 seconds\n",
      "max_iter reached after 76 seconds\n",
      "max_iter reached after 58 seconds\n",
      "max_iter reached after 35 seconds\n",
      "max_iter reached after 36 seconds\n",
      "max_iter reached after 32 seconds\n",
      "max_iter reached after 52 seconds\n",
      "max_iter reached after 51 seconds\n",
      "max_iter reached after 186 seconds\n",
      "max_iter reached after 52 seconds\n",
      "max_iter reached after 36 seconds\n",
      "max_iter reached after 33 seconds\n"
     ]
    },
    {
     "name": "stderr",
     "output_type": "stream",
     "text": [
      "[Parallel(n_jobs=2)]: Done 149 out of 149 | elapsed: 66.0min finished\n"
     ]
    },
    {
     "data": {
      "text/plain": [
       "0.6863602965733752"
      ]
     },
     "execution_count": 91,
     "metadata": {},
     "output_type": "execute_result"
    }
   ],
   "source": [
    "# CountVectorizer and Logisitic Regression with Lasso regularization\n",
    "pipelinesp2 = Pipeline([\n",
    "    ('vect', cvec),\n",
    "    ('cls', LogisticRegression(penalty = 'l1', solver='saga', multi_class='ovr', verbose = 1, n_jobs = 2))\n",
    "])\n",
    "pipelinesp2.fit(X_train3, y_train3)\n",
    "predictedp2 = pipelinesp2.predict(X_test3)\n",
    "pipelinesp2.score(X_test3, y_test3)"
   ]
  },
  {
   "cell_type": "code",
   "execution_count": 93,
   "metadata": {},
   "outputs": [
    {
     "name": "stderr",
     "output_type": "stream",
     "text": [
      "/Users/Mariagimenoperez/anaconda3/lib/python3.6/site-packages/sklearn/metrics/classification.py:1437: UndefinedMetricWarning: Precision and F-score are ill-defined and being set to 0.0 in labels with no predicted samples.\n",
      "  'precision', 'predicted', average, warn_for)\n"
     ]
    },
    {
     "name": "stdout",
     "output_type": "stream",
     "text": [
      "                         precision    recall  f1-score   support\n",
      "\n",
      "       Aconcagua Valley       0.00      0.00      0.00        26\n",
      "      Adelaida District       0.11      0.04      0.06        26\n",
      "               Alentejo       0.46      0.30      0.36       269\n",
      "       Alexander Valley       0.00      0.00      0.00        24\n",
      "                 Alsace       0.67      0.81      0.73       654\n",
      "             Alto Adige       0.83      0.86      0.85        35\n",
      "          Amador County       0.21      0.10      0.13        31\n",
      "                America       0.80      0.14      0.24        29\n",
      "              Andalucia       0.74      0.53      0.62        38\n",
      "        Anderson Valley       0.11      0.06      0.08        31\n",
      "        Australia Other       0.30      0.06      0.10        49\n",
      "                  Baden       0.43      0.14      0.21        21\n",
      "               Bairrada       0.94      0.41      0.57        37\n",
      "             Barbaresco       0.30      0.08      0.12        38\n",
      "                 Barolo       0.63      0.85      0.73       158\n",
      "             Beaujolais       0.64      0.57      0.60       209\n",
      "               Bordeaux       0.60      0.79      0.68      1072\n",
      "       British Columbia       0.00      0.00      0.00        30\n",
      " Brunello di Montalcino       0.58      0.54      0.56        84\n",
      "             Burgenland       0.53      0.46      0.49       157\n",
      "               Burgundy       0.58      0.72      0.64       700\n",
      "       Cachapoal Valley       0.10      0.02      0.03        52\n",
      "                 Cahors       0.66      0.50      0.57        38\n",
      "             California       0.83      0.97      0.89      8017\n",
      "               Carneros       0.33      0.11      0.17        45\n",
      "              Carnuntum       0.33      0.10      0.16        29\n",
      "      Casablanca Valley       0.36      0.29      0.32       132\n",
      "              Catalonia       0.66      0.53      0.59       247\n",
      "          Central Coast       0.28      0.19      0.23        37\n",
      "          Central Italy       0.70      0.43      0.53       241\n",
      "          Central Otago       0.70      0.35      0.46        46\n",
      "          Central Spain       0.26      0.05      0.08       100\n",
      "         Central Valley       0.20      0.05      0.08        85\n",
      "              Champagne       0.85      0.84      0.84       419\n",
      "     Chehalem Mountains       0.25      0.05      0.08        21\n",
      "       Chianti Classico       0.64      0.54      0.58        56\n",
      "    Châteauneuf-du-Pape       0.56      0.73      0.63        41\n",
      "         Coastal Region       0.00      0.00      0.00        28\n",
      "       Colchagua Valley       0.37      0.24      0.29       211\n",
      "               Colorado       0.86      0.27      0.41        22\n",
      "   Columbia Valley (WA)       0.54      0.79      0.64       171\n",
      "       Crémant d'Alsace       0.69      0.46      0.55        24\n",
      "          Curicó Valley       0.00      0.00      0.00        54\n",
      "      Côtes de Gascogne       0.62      0.45      0.53        22\n",
      "      Côtes de Provence       0.64      0.73      0.68        62\n",
      "         Côtes du Rhône       0.64      0.72      0.68        32\n",
      "                  Douro       0.63      0.48      0.54       314\n",
      "       Dry Creek Valley       0.24      0.10      0.14        40\n",
      "           Dundee Hills       0.31      0.21      0.25        38\n",
      "                    Dão       0.76      0.40      0.52        86\n",
      "              El Dorado       0.00      0.00      0.00        24\n",
      "                England       0.72      0.48      0.58        27\n",
      "       Eola-Amity Hills       0.19      0.10      0.13        31\n",
      "                   Etna       0.76      0.59      0.67        27\n",
      "           Finger Lakes       0.95      0.98      0.97        63\n",
      "           France Other       0.39      0.15      0.22       131\n",
      "                Franken       0.83      0.45      0.59        22\n",
      "                Galicia       0.63      0.43      0.51        89\n",
      "                Galilee       0.67      0.49      0.56        78\n",
      "               Gigondas       0.67      0.38      0.48        21\n",
      "            Hawke's Bay       1.00      0.27      0.42        41\n",
      "                  Idaho       0.00      0.00      0.00        52\n",
      "            Italy Other       0.50      0.20      0.29        30\n",
      "           Judean Hills       0.29      0.12      0.17        32\n",
      "                Kamptal       0.41      0.27      0.33        92\n",
      "               Kremstal       0.38      0.21      0.27        82\n",
      "   Languedoc-Roussillon       0.47      0.47      0.47       119\n",
      "                Levante       0.76      0.41      0.53        95\n",
      "           Leyda Valley       0.62      0.43      0.51        60\n",
      "          Limarí Valley       0.57      0.17      0.27        23\n",
      "                 Lisboa       0.59      0.33      0.42       141\n",
      "       Livermore Valley       0.12      0.04      0.06        24\n",
      "                   Lodi       0.14      0.10      0.11        50\n",
      "           Loire Valley       0.57      0.56      0.57       360\n",
      "               Lombardy       0.51      0.32      0.40       117\n",
      "           Maipo Valley       0.28      0.19      0.23       155\n",
      "            Marlborough       0.67      0.64      0.66       235\n",
      "          Martinborough       1.00      0.17      0.30        23\n",
      "           Maule Valley       0.38      0.15      0.22       112\n",
      "           McLaren Vale       0.62      0.78      0.69        37\n",
      "                Mendoza       0.39      0.49      0.43        67\n",
      "       Mendoza Province       0.50      0.63      0.56       682\n",
      "               Michigan       0.45      0.21      0.29        24\n",
      "                Moldova       0.91      0.45      0.61        22\n",
      "               Monterey       0.00      0.00      0.00        20\n",
      "                  Mosel       0.57      0.64      0.61       274\n",
      "                   Nahe       0.56      0.16      0.25        31\n",
      "            Napa Valley       0.54      0.66      0.59       158\n",
      "               New York       0.63      0.67      0.65       540\n",
      "       Niederösterreich       0.36      0.24      0.29       133\n",
      "     Northeastern Italy       0.60      0.68      0.64       412\n",
      "         Northern Spain       0.56      0.71      0.62       830\n",
      "                Ontario       0.67      0.27      0.39        22\n",
      "                 Oregon       0.74      0.76      0.75      1262\n",
      "            Paso Robles       0.40      0.64      0.50       121\n",
      "                Penedes       0.75      0.75      0.75        28\n",
      "   Península de Setúbal       0.55      0.20      0.29        30\n",
      "                  Pfalz       0.50      0.21      0.29        58\n",
      "               Piedmont       0.70      0.73      0.72       705\n",
      "                   Port       0.83      0.79      0.81       144\n",
      "               Provence       0.58      0.59      0.58       247\n",
      "           Rapel Valley       0.00      0.00      0.00        37\n",
      "           Red Mountain       0.24      0.15      0.19        39\n",
      "               Rheingau       0.09      0.03      0.04        75\n",
      "            Rheinhessen       0.35      0.21      0.26        87\n",
      "           Rhône Valley       0.71      0.71      0.71       298\n",
      "       Ribera del Duero       0.42      0.44      0.43        36\n",
      "                  Rioja       0.57      0.79      0.66        98\n",
      "           Rogue Valley       0.67      0.19      0.30        21\n",
      "          Saint-Émilion       0.79      0.35      0.49        31\n",
      "               Sancerre       0.52      0.53      0.52        30\n",
      "   Santa Barbara County       0.13      0.10      0.11        51\n",
      "   Santa Cruz Mountains       0.33      0.18      0.23        28\n",
      "  Santa Lucia Highlands       0.23      0.16      0.19        43\n",
      "     Santa Maria Valley       0.26      0.17      0.20        30\n",
      "      Santa Ynez Valley       0.14      0.12      0.13        42\n",
      "                Sicilia       0.75      0.75      0.75        36\n",
      "      Sicily & Sardinia       0.80      0.57      0.67       346\n",
      "       Sierra Foothills       0.00      0.00      0.00        29\n",
      "           Sonoma Coast       0.52      0.45      0.48        95\n",
      "          Sonoma County       0.17      0.10      0.12        42\n",
      "          Sonoma Valley       0.42      0.54      0.47       191\n",
      "        South Australia       0.57      0.53      0.55       308\n",
      "         Southern Italy       0.74      0.51      0.60       270\n",
      "       Southwest France       0.68      0.51      0.58       299\n",
      "           Stellenbosch       0.40      0.34      0.37        91\n",
      "                   Tejo       0.59      0.34      0.43       173\n",
      "        Temecula Valley       0.21      0.13      0.16        23\n",
      "                  Texas       0.35      0.23      0.28        35\n",
      "          Thermenregion       0.50      0.15      0.24        26\n",
      "        Thracian Valley       0.77      0.36      0.49        28\n",
      "                Toscana       0.69      0.65      0.67        31\n",
      "                Tuscany       0.69      0.79      0.74      1110\n",
      "             Uco Valley       0.12      0.04      0.06        27\n",
      "                 Veneto       0.70      0.62      0.66       455\n",
      "               Victoria       0.39      0.15      0.22        73\n",
      "          Vin de France       0.80      0.75      0.77        32\n",
      "            Vinho Verde       0.89      0.62      0.73       113\n",
      "               Virginia       0.71      0.59      0.64       199\n",
      "                 Wachau       0.47      0.26      0.34        92\n",
      "                 Wagram       0.00      0.00      0.00        24\n",
      "Walla Walla Valley (WA)       0.44      0.24      0.31        50\n",
      "             Washington       0.79      0.81      0.80      1813\n",
      "            Weinviertel       0.17      0.04      0.07        23\n",
      "      Western Australia       0.63      0.38      0.48        68\n",
      "           Western Cape       0.23      0.17      0.20        65\n",
      "      Willamette Valley       0.50      0.75      0.60       127\n",
      "          Yakima Valley       0.55      0.13      0.21        46\n",
      "        Yamhill-Carlton       0.00      0.00      0.00        25\n",
      "\n",
      "               accuracy                           0.69     29942\n",
      "              macro avg       0.49      0.37      0.40     29942\n",
      "           weighted avg       0.66      0.69      0.66     29942\n",
      "\n"
     ]
    }
   ],
   "source": [
    "print(classification_report(y_test3, predictedp2))"
   ]
  },
  {
   "cell_type": "code",
   "execution_count": 94,
   "metadata": {},
   "outputs": [
    {
     "data": {
      "text/plain": [
       "['pipelinesp2_conca_province2']"
      ]
     },
     "execution_count": 94,
     "metadata": {},
     "output_type": "execute_result"
    }
   ],
   "source": [
    "joblib.dump(pipelinesp2, 'pipelinesp2_conca_province2')"
   ]
  },
  {
   "cell_type": "code",
   "execution_count": 95,
   "metadata": {},
   "outputs": [],
   "source": [
    "pipe_reloaded2 = joblib.load('pipelinesp2_conca_province2')"
   ]
  },
  {
   "cell_type": "code",
   "execution_count": 37,
   "metadata": {},
   "outputs": [
    {
     "name": "stderr",
     "output_type": "stream",
     "text": [
      "[Parallel(n_jobs=2)]: Using backend LokyBackend with 2 concurrent workers.\n",
      "[Parallel(n_jobs=2)]: Done  46 tasks      | elapsed:   26.1s\n",
      "[Parallel(n_jobs=2)]: Done 149 out of 149 | elapsed:  1.3min finished\n"
     ]
    },
    {
     "data": {
      "text/plain": [
       "0.6585398436978158"
      ]
     },
     "execution_count": 37,
     "metadata": {},
     "output_type": "execute_result"
    }
   ],
   "source": [
    "#running\n",
    "# TfidfVectorizer and Logisitic Regression with Ridge regularization\n",
    "pipelines3 = Pipeline([\n",
    "    ('vect', vect),\n",
    "    ('cls', LogisticRegression(penalty = 'l2', solver='lbfgs', multi_class='ovr', verbose = 1, n_jobs = 2))\n",
    "])\n",
    "pipelines3.fit(X_train3, y_train3)\n",
    "predicteds3 = pipelines3.predict(X_test3)\n",
    "pipelines3.score(X_test3, y_test3)"
   ]
  },
  {
   "cell_type": "code",
   "execution_count": 38,
   "metadata": {},
   "outputs": [
    {
     "name": "stderr",
     "output_type": "stream",
     "text": [
      "/Users/Mariagimenoperez/anaconda3/lib/python3.6/site-packages/sklearn/metrics/classification.py:1437: UndefinedMetricWarning: Precision and F-score are ill-defined and being set to 0.0 in labels with no predicted samples.\n",
      "  'precision', 'predicted', average, warn_for)\n"
     ]
    },
    {
     "name": "stdout",
     "output_type": "stream",
     "text": [
      "                         precision    recall  f1-score   support\n",
      "\n",
      "       Aconcagua Valley       0.00      0.00      0.00        26\n",
      "      Adelaida District       0.00      0.00      0.00        26\n",
      "               Alentejo       0.49      0.26      0.34       269\n",
      "       Alexander Valley       0.00      0.00      0.00        24\n",
      "                 Alsace       0.59      0.82      0.68       654\n",
      "             Alto Adige       0.76      0.83      0.79        35\n",
      "          Amador County       0.00      0.00      0.00        31\n",
      "                America       0.00      0.00      0.00        29\n",
      "              Andalucia       1.00      0.18      0.31        38\n",
      "        Anderson Valley       0.33      0.06      0.11        31\n",
      "        Australia Other       0.00      0.00      0.00        49\n",
      "                  Baden       0.00      0.00      0.00        21\n",
      "               Bairrada       0.91      0.27      0.42        37\n",
      "             Barbaresco       0.00      0.00      0.00        38\n",
      "                 Barolo       0.56      0.91      0.69       158\n",
      "             Beaujolais       0.71      0.52      0.60       209\n",
      "               Bordeaux       0.54      0.83      0.65      1072\n",
      "       British Columbia       0.00      0.00      0.00        30\n",
      " Brunello di Montalcino       0.59      0.43      0.50        84\n",
      "             Burgenland       0.58      0.29      0.39       157\n",
      "               Burgundy       0.54      0.71      0.61       700\n",
      "       Cachapoal Valley       0.00      0.00      0.00        52\n",
      "                 Cahors       0.88      0.18      0.30        38\n",
      "             California       0.74      0.98      0.84      8017\n",
      "               Carneros       0.00      0.00      0.00        45\n",
      "              Carnuntum       0.00      0.00      0.00        29\n",
      "      Casablanca Valley       0.44      0.20      0.28       132\n",
      "              Catalonia       0.71      0.43      0.53       247\n",
      "          Central Coast       0.00      0.00      0.00        37\n",
      "          Central Italy       0.86      0.36      0.51       241\n",
      "          Central Otago       1.00      0.13      0.23        46\n",
      "          Central Spain       0.00      0.00      0.00       100\n",
      "         Central Valley       0.00      0.00      0.00        85\n",
      "              Champagne       0.87      0.82      0.84       419\n",
      "     Chehalem Mountains       0.00      0.00      0.00        21\n",
      "       Chianti Classico       0.77      0.48      0.59        56\n",
      "    Châteauneuf-du-Pape       0.56      0.83      0.67        41\n",
      "         Coastal Region       0.00      0.00      0.00        28\n",
      "       Colchagua Valley       0.37      0.18      0.24       211\n",
      "               Colorado       0.00      0.00      0.00        22\n",
      "   Columbia Valley (WA)       0.53      0.88      0.66       171\n",
      "       Crémant d'Alsace       1.00      0.08      0.15        24\n",
      "          Curicó Valley       0.00      0.00      0.00        54\n",
      "      Côtes de Gascogne       1.00      0.18      0.31        22\n",
      "      Côtes de Provence       0.64      0.61      0.63        62\n",
      "         Côtes du Rhône       0.56      0.59      0.58        32\n",
      "                  Douro       0.68      0.41      0.51       314\n",
      "       Dry Creek Valley       0.00      0.00      0.00        40\n",
      "           Dundee Hills       0.00      0.00      0.00        38\n",
      "                    Dão       0.91      0.37      0.53        86\n",
      "              El Dorado       0.00      0.00      0.00        24\n",
      "                England       1.00      0.07      0.14        27\n",
      "       Eola-Amity Hills       0.00      0.00      0.00        31\n",
      "                   Etna       0.91      0.37      0.53        27\n",
      "           Finger Lakes       0.95      0.98      0.97        63\n",
      "           France Other       0.55      0.05      0.08       131\n",
      "                Franken       1.00      0.23      0.37        22\n",
      "                Galicia       0.72      0.35      0.47        89\n",
      "                Galilee       0.71      0.38      0.50        78\n",
      "               Gigondas       1.00      0.10      0.17        21\n",
      "            Hawke's Bay       1.00      0.02      0.05        41\n",
      "                  Idaho       0.00      0.00      0.00        52\n",
      "            Italy Other       1.00      0.03      0.06        30\n",
      "           Judean Hills       0.00      0.00      0.00        32\n",
      "                Kamptal       0.31      0.12      0.17        92\n",
      "               Kremstal       0.33      0.05      0.09        82\n",
      "   Languedoc-Roussillon       0.45      0.42      0.44       119\n",
      "                Levante       0.94      0.32      0.47        95\n",
      "           Leyda Valley       0.81      0.22      0.34        60\n",
      "          Limarí Valley       0.00      0.00      0.00        23\n",
      "                 Lisboa       0.76      0.23      0.35       141\n",
      "       Livermore Valley       0.00      0.00      0.00        24\n",
      "                   Lodi       0.15      0.08      0.10        50\n",
      "           Loire Valley       0.56      0.51      0.54       360\n",
      "               Lombardy       0.43      0.22      0.29       117\n",
      "           Maipo Valley       0.47      0.13      0.20       155\n",
      "            Marlborough       0.64      0.60      0.62       235\n",
      "          Martinborough       0.00      0.00      0.00        23\n",
      "           Maule Valley       0.45      0.04      0.08       112\n",
      "           McLaren Vale       0.50      0.49      0.49        37\n",
      "                Mendoza       0.33      0.33      0.33        67\n",
      "       Mendoza Province       0.48      0.59      0.53       682\n",
      "               Michigan       1.00      0.04      0.08        24\n",
      "                Moldova       0.75      0.27      0.40        22\n",
      "               Monterey       0.00      0.00      0.00        20\n",
      "                  Mosel       0.55      0.68      0.61       274\n",
      "                   Nahe       1.00      0.03      0.06        31\n",
      "            Napa Valley       0.54      0.66      0.60       158\n",
      "               New York       0.61      0.64      0.62       540\n",
      "       Niederösterreich       0.31      0.13      0.18       133\n",
      "     Northeastern Italy       0.57      0.66      0.61       412\n",
      "         Northern Spain       0.49      0.74      0.59       830\n",
      "                Ontario       0.00      0.00      0.00        22\n",
      "                 Oregon       0.71      0.75      0.73      1262\n",
      "            Paso Robles       0.36      0.78      0.49       121\n",
      "                Penedes       0.81      0.46      0.59        28\n",
      "   Península de Setúbal       0.67      0.07      0.12        30\n",
      "                  Pfalz       0.60      0.05      0.10        58\n",
      "               Piedmont       0.67      0.69      0.68       705\n",
      "                   Port       0.93      0.63      0.75       144\n",
      "               Provence       0.62      0.53      0.57       247\n",
      "           Rapel Valley       0.00      0.00      0.00        37\n",
      "           Red Mountain       0.00      0.00      0.00        39\n",
      "               Rheingau       0.00      0.00      0.00        75\n",
      "            Rheinhessen       0.50      0.08      0.14        87\n",
      "           Rhône Valley       0.76      0.65      0.70       298\n",
      "       Ribera del Duero       0.62      0.14      0.23        36\n",
      "                  Rioja       0.41      0.81      0.54        98\n",
      "           Rogue Valley       0.00      0.00      0.00        21\n",
      "          Saint-Émilion       1.00      0.03      0.06        31\n",
      "               Sancerre       0.50      0.10      0.17        30\n",
      "   Santa Barbara County       0.22      0.04      0.07        51\n",
      "   Santa Cruz Mountains       0.00      0.00      0.00        28\n",
      "  Santa Lucia Highlands       0.17      0.05      0.07        43\n",
      "     Santa Maria Valley       1.00      0.03      0.06        30\n",
      "      Santa Ynez Valley       0.00      0.00      0.00        42\n",
      "                Sicilia       0.80      0.56      0.66        36\n",
      "      Sicily & Sardinia       0.77      0.47      0.58       346\n",
      "       Sierra Foothills       0.00      0.00      0.00        29\n",
      "           Sonoma Coast       0.65      0.23      0.34        95\n",
      "          Sonoma County       0.00      0.00      0.00        42\n",
      "          Sonoma Valley       0.40      0.65      0.49       191\n",
      "        South Australia       0.56      0.46      0.51       308\n",
      "         Southern Italy       0.81      0.37      0.51       270\n",
      "       Southwest France       0.68      0.47      0.56       299\n",
      "           Stellenbosch       0.52      0.25      0.34        91\n",
      "                   Tejo       0.62      0.29      0.39       173\n",
      "        Temecula Valley       0.00      0.00      0.00        23\n",
      "                  Texas       0.40      0.17      0.24        35\n",
      "          Thermenregion       0.00      0.00      0.00        26\n",
      "        Thracian Valley       0.86      0.21      0.34        28\n",
      "                Toscana       0.93      0.42      0.58        31\n",
      "                Tuscany       0.66      0.78      0.72      1110\n",
      "             Uco Valley       0.00      0.00      0.00        27\n",
      "                 Veneto       0.69      0.57      0.63       455\n",
      "               Victoria       0.00      0.00      0.00        73\n",
      "          Vin de France       0.79      0.81      0.80        32\n",
      "            Vinho Verde       0.97      0.62      0.76       113\n",
      "               Virginia       0.74      0.51      0.60       199\n",
      "                 Wachau       0.48      0.12      0.19        92\n",
      "                 Wagram       0.00      0.00      0.00        24\n",
      "Walla Walla Valley (WA)       0.67      0.04      0.08        50\n",
      "             Washington       0.77      0.79      0.78      1813\n",
      "            Weinviertel       0.00      0.00      0.00        23\n",
      "      Western Australia       1.00      0.15      0.26        68\n",
      "           Western Cape       0.47      0.12      0.20        65\n",
      "      Willamette Valley       0.50      0.87      0.63       127\n",
      "          Yakima Valley       0.00      0.00      0.00        46\n",
      "        Yamhill-Carlton       0.00      0.00      0.00        25\n",
      "\n",
      "               accuracy                           0.66     29942\n",
      "              macro avg       0.46      0.27      0.29     29942\n",
      "           weighted avg       0.63      0.66      0.61     29942\n",
      "\n"
     ]
    }
   ],
   "source": [
    "print(classification_report(y_test3, predicteds3))"
   ]
  },
  {
   "cell_type": "code",
   "execution_count": 141,
   "metadata": {},
   "outputs": [
    {
     "name": "stderr",
     "output_type": "stream",
     "text": [
      "/Users/Mariagimenoperez/anaconda3/lib/python3.6/site-packages/sklearn/linear_model/sag.py:337: ConvergenceWarning: The max_iter was reached which means the coef_ did not converge\n",
      "  \"the coef_ did not converge\", ConvergenceWarning)\n"
     ]
    },
    {
     "data": {
      "text/plain": [
       "0.6712644445928796"
      ]
     },
     "execution_count": 141,
     "metadata": {},
     "output_type": "execute_result"
    }
   ],
   "source": [
    "# TfidfVectorizer and Logisitic Regression with Lasso regularization\n",
    "pipelines4 = Pipeline([\n",
    "    ('vect', vect),\n",
    "    ('cls', LogisticRegression(penalty = 'l1', solver='saga', multi_class='ovr', ))\n",
    "])\n",
    "pipelines4.fit(X_train3, y_train3)\n",
    "predicteds4 = pipelines4.predict(X_test3)\n",
    "pipelines4.score(X_test3, y_test3)"
   ]
  },
  {
   "cell_type": "code",
   "execution_count": 142,
   "metadata": {},
   "outputs": [
    {
     "name": "stderr",
     "output_type": "stream",
     "text": [
      "/Users/Mariagimenoperez/anaconda3/lib/python3.6/site-packages/sklearn/metrics/classification.py:1437: UndefinedMetricWarning: Precision and F-score are ill-defined and being set to 0.0 in labels with no predicted samples.\n",
      "  'precision', 'predicted', average, warn_for)\n"
     ]
    },
    {
     "name": "stdout",
     "output_type": "stream",
     "text": [
      "                         precision    recall  f1-score   support\n",
      "\n",
      "       Aconcagua Valley       0.00      0.00      0.00        26\n",
      "      Adelaida District       0.00      0.00      0.00        26\n",
      "               Alentejo       0.49      0.28      0.36       269\n",
      "       Alexander Valley       0.00      0.00      0.00        24\n",
      "                 Alsace       0.61      0.81      0.70       654\n",
      "             Alto Adige       0.72      0.97      0.83        35\n",
      "          Amador County       0.50      0.03      0.06        31\n",
      "                America       0.67      0.07      0.12        29\n",
      "              Andalucia       0.77      0.45      0.57        38\n",
      "        Anderson Valley       0.25      0.13      0.17        31\n",
      "        Australia Other       0.50      0.02      0.04        49\n",
      "                  Baden       1.00      0.14      0.25        21\n",
      "               Bairrada       0.89      0.43      0.58        37\n",
      "             Barbaresco       0.38      0.08      0.13        38\n",
      "                 Barolo       0.60      0.85      0.70       158\n",
      "             Beaujolais       0.67      0.57      0.62       209\n",
      "               Bordeaux       0.57      0.81      0.67      1072\n",
      "       British Columbia       0.00      0.00      0.00        30\n",
      " Brunello di Montalcino       0.55      0.55      0.55        84\n",
      "             Burgenland       0.53      0.38      0.44       157\n",
      "               Burgundy       0.57      0.70      0.63       700\n",
      "       Cachapoal Valley       0.00      0.00      0.00        52\n",
      "                 Cahors       0.69      0.29      0.41        38\n",
      "             California       0.78      0.97      0.86      8017\n",
      "               Carneros       1.00      0.02      0.04        45\n",
      "              Carnuntum       0.00      0.00      0.00        29\n",
      "      Casablanca Valley       0.42      0.24      0.31       132\n",
      "              Catalonia       0.71      0.49      0.58       247\n",
      "          Central Coast       0.33      0.05      0.09        37\n",
      "          Central Italy       0.80      0.42      0.55       241\n",
      "          Central Otago       0.79      0.24      0.37        46\n",
      "          Central Spain       0.75      0.06      0.11       100\n",
      "         Central Valley       0.33      0.01      0.02        85\n",
      "              Champagne       0.84      0.82      0.83       419\n",
      "     Chehalem Mountains       0.00      0.00      0.00        21\n",
      "       Chianti Classico       0.70      0.50      0.58        56\n",
      "    Châteauneuf-du-Pape       0.52      0.71      0.60        41\n",
      "         Coastal Region       0.00      0.00      0.00        28\n",
      "       Colchagua Valley       0.35      0.21      0.26       211\n",
      "               Colorado       1.00      0.05      0.09        22\n",
      "   Columbia Valley (WA)       0.52      0.88      0.66       171\n",
      "       Crémant d'Alsace       0.80      0.33      0.47        24\n",
      "          Curicó Valley       0.00      0.00      0.00        54\n",
      "      Côtes de Gascogne       0.61      0.50      0.55        22\n",
      "      Côtes de Provence       0.58      0.63      0.60        62\n",
      "         Côtes du Rhône       0.43      0.66      0.52        32\n",
      "                  Douro       0.65      0.44      0.53       314\n",
      "       Dry Creek Valley       0.00      0.00      0.00        40\n",
      "           Dundee Hills       0.00      0.00      0.00        38\n",
      "                    Dão       0.82      0.38      0.52        86\n",
      "              El Dorado       0.00      0.00      0.00        24\n",
      "                England       0.62      0.37      0.47        27\n",
      "       Eola-Amity Hills       0.00      0.00      0.00        31\n",
      "                   Etna       0.68      0.48      0.57        27\n",
      "           Finger Lakes       0.95      0.98      0.97        63\n",
      "           France Other       0.36      0.11      0.16       131\n",
      "                Franken       0.70      0.32      0.44        22\n",
      "                Galicia       0.60      0.35      0.44        89\n",
      "                Galilee       0.72      0.42      0.53        78\n",
      "               Gigondas       0.71      0.24      0.36        21\n",
      "            Hawke's Bay       0.78      0.17      0.28        41\n",
      "                  Idaho       0.50      0.02      0.04        52\n",
      "            Italy Other       0.50      0.10      0.17        30\n",
      "           Judean Hills       0.33      0.06      0.11        32\n",
      "                Kamptal       0.32      0.17      0.23        92\n",
      "               Kremstal       0.29      0.10      0.15        82\n",
      "   Languedoc-Roussillon       0.41      0.42      0.42       119\n",
      "                Levante       0.89      0.43      0.58        95\n",
      "           Leyda Valley       0.67      0.33      0.44        60\n",
      "          Limarí Valley       1.00      0.17      0.30        23\n",
      "                 Lisboa       0.79      0.27      0.40       141\n",
      "       Livermore Valley       0.00      0.00      0.00        24\n",
      "                   Lodi       0.16      0.14      0.15        50\n",
      "           Loire Valley       0.58      0.51      0.54       360\n",
      "               Lombardy       0.47      0.29      0.36       117\n",
      "           Maipo Valley       0.36      0.15      0.22       155\n",
      "            Marlborough       0.60      0.58      0.59       235\n",
      "          Martinborough       1.00      0.04      0.08        23\n",
      "           Maule Valley       0.55      0.11      0.18       112\n",
      "           McLaren Vale       0.57      0.76      0.65        37\n",
      "                Mendoza       0.47      0.48      0.47        67\n",
      "       Mendoza Province       0.48      0.63      0.55       682\n",
      "               Michigan       0.83      0.21      0.33        24\n",
      "                Moldova       0.75      0.41      0.53        22\n",
      "               Monterey       0.00      0.00      0.00        20\n",
      "                  Mosel       0.56      0.66      0.61       274\n",
      "                   Nahe       0.60      0.10      0.17        31\n",
      "            Napa Valley       0.52      0.68      0.59       158\n",
      "               New York       0.61      0.64      0.63       540\n",
      "       Niederösterreich       0.33      0.20      0.25       133\n",
      "     Northeastern Italy       0.58      0.65      0.62       412\n",
      "         Northern Spain       0.54      0.72      0.62       830\n",
      "                Ontario       1.00      0.05      0.09        22\n",
      "                 Oregon       0.70      0.76      0.72      1262\n",
      "            Paso Robles       0.36      0.79      0.49       121\n",
      "                Penedes       0.82      0.64      0.72        28\n",
      "   Península de Setúbal       0.62      0.17      0.26        30\n",
      "                  Pfalz       0.43      0.05      0.09        58\n",
      "               Piedmont       0.69      0.70      0.69       705\n",
      "                   Port       0.85      0.73      0.79       144\n",
      "               Provence       0.60      0.54      0.57       247\n",
      "           Rapel Valley       0.00      0.00      0.00        37\n",
      "           Red Mountain       0.00      0.00      0.00        39\n",
      "               Rheingau       0.20      0.01      0.03        75\n",
      "            Rheinhessen       0.25      0.08      0.12        87\n",
      "           Rhône Valley       0.71      0.66      0.68       298\n",
      "       Ribera del Duero       0.56      0.39      0.46        36\n",
      "                  Rioja       0.47      0.88      0.61        98\n",
      "           Rogue Valley       1.00      0.10      0.17        21\n",
      "          Saint-Émilion       0.73      0.26      0.38        31\n",
      "               Sancerre       0.75      0.40      0.52        30\n",
      "   Santa Barbara County       0.11      0.04      0.06        51\n",
      "   Santa Cruz Mountains       1.00      0.07      0.13        28\n",
      "  Santa Lucia Highlands       0.23      0.14      0.17        43\n",
      "     Santa Maria Valley       0.30      0.10      0.15        30\n",
      "      Santa Ynez Valley       0.14      0.02      0.04        42\n",
      "                Sicilia       0.83      0.53      0.64        36\n",
      "      Sicily & Sardinia       0.80      0.55      0.66       346\n",
      "       Sierra Foothills       0.00      0.00      0.00        29\n",
      "           Sonoma Coast       0.70      0.34      0.45        95\n",
      "          Sonoma County       0.00      0.00      0.00        42\n",
      "          Sonoma Valley       0.41      0.66      0.50       191\n",
      "        South Australia       0.56      0.47      0.51       308\n",
      "         Southern Italy       0.75      0.49      0.59       270\n",
      "       Southwest France       0.70      0.50      0.58       299\n",
      "           Stellenbosch       0.41      0.26      0.32        91\n",
      "                   Tejo       0.64      0.34      0.44       173\n",
      "        Temecula Valley       1.00      0.04      0.08        23\n",
      "                  Texas       0.27      0.17      0.21        35\n",
      "          Thermenregion       1.00      0.12      0.21        26\n",
      "        Thracian Valley       0.67      0.29      0.40        28\n",
      "                Toscana       0.73      0.52      0.60        31\n",
      "                Tuscany       0.69      0.77      0.73      1110\n",
      "             Uco Valley       1.00      0.07      0.14        27\n",
      "                 Veneto       0.70      0.60      0.64       455\n",
      "               Victoria       0.62      0.07      0.12        73\n",
      "          Vin de France       0.74      0.78      0.76        32\n",
      "            Vinho Verde       0.88      0.63      0.73       113\n",
      "               Virginia       0.68      0.52      0.59       199\n",
      "                 Wachau       0.28      0.11      0.16        92\n",
      "                 Wagram       0.00      0.00      0.00        24\n",
      "Walla Walla Valley (WA)       0.44      0.08      0.14        50\n",
      "             Washington       0.76      0.78      0.77      1813\n",
      "            Weinviertel       0.00      0.00      0.00        23\n",
      "      Western Australia       0.81      0.31      0.45        68\n",
      "           Western Cape       0.27      0.11      0.15        65\n",
      "      Willamette Valley       0.48      0.88      0.62       127\n",
      "          Yakima Valley       0.50      0.02      0.04        46\n",
      "        Yamhill-Carlton       0.00      0.00      0.00        25\n",
      "\n",
      "               accuracy                           0.67     29942\n",
      "              macro avg       0.52      0.32      0.35     29942\n",
      "           weighted avg       0.65      0.67      0.64     29942\n",
      "\n"
     ]
    }
   ],
   "source": [
    "print(classification_report(y_test3, predicteds4))"
   ]
  },
  {
   "cell_type": "markdown",
   "metadata": {},
   "source": [
    "### RANDOM FOREST CLASSIFIER, COUNTVECTORIZER AND TFIDFVECTORIZER\n",
    "Logistic Regression performs better than Random Forest Classifier in this data set, with higher accuracy.\n",
    "\n",
    "The best performed model was Random Forest with CountVectorizer.\n",
    "\n",
    "All of the models have better scores than the baseline\n"
   ]
  },
  {
   "cell_type": "code",
   "execution_count": 130,
   "metadata": {},
   "outputs": [],
   "source": [
    "cvecsr = CountVectorizer(strip_accents='unicode', stop_words=\"english\", ngram_range=(1, 1))"
   ]
  },
  {
   "cell_type": "code",
   "execution_count": 144,
   "metadata": {},
   "outputs": [
    {
     "data": {
      "text/plain": [
       "0.5217420346002271"
      ]
     },
     "execution_count": 144,
     "metadata": {},
     "output_type": "execute_result"
    }
   ],
   "source": [
    "# Random Forest with CountVectorizer\n",
    "pipelines6  = Pipeline([\n",
    "    ('vect', cvecsr),\n",
    "    #('tfidf', TfidfTransformer()),\n",
    "    ('cls', RandomForestClassifier(n_estimators=200, n_jobs = 2))\n",
    "])\n",
    "pipelines6.fit(X_train3, y_train3)\n",
    "predicteds6 = pipelines6.predict(X_test3)\n",
    "pipelines6.score(X_test3, y_test3)"
   ]
  },
  {
   "cell_type": "code",
   "execution_count": 145,
   "metadata": {},
   "outputs": [
    {
     "name": "stderr",
     "output_type": "stream",
     "text": [
      "/Users/Mariagimenoperez/anaconda3/lib/python3.6/site-packages/sklearn/metrics/classification.py:1437: UndefinedMetricWarning: Precision and F-score are ill-defined and being set to 0.0 in labels with no predicted samples.\n",
      "  'precision', 'predicted', average, warn_for)\n"
     ]
    },
    {
     "name": "stdout",
     "output_type": "stream",
     "text": [
      "                         precision    recall  f1-score   support\n",
      "\n",
      "       Aconcagua Valley       1.00      0.15      0.27        26\n",
      "      Adelaida District       0.00      0.00      0.00        26\n",
      "               Alentejo       0.84      0.22      0.34       269\n",
      "       Alexander Valley       0.00      0.00      0.00        24\n",
      "                 Alsace       0.63      0.73      0.68       654\n",
      "             Alto Adige       0.53      0.57      0.55        35\n",
      "          Amador County       0.00      0.00      0.00        31\n",
      "                America       1.00      0.10      0.19        29\n",
      "              Andalucia       1.00      0.03      0.05        38\n",
      "        Anderson Valley       0.00      0.00      0.00        31\n",
      "        Australia Other       0.00      0.00      0.00        49\n",
      "                  Baden       1.00      0.10      0.17        21\n",
      "               Bairrada       1.00      0.08      0.15        37\n",
      "             Barbaresco       0.06      0.03      0.04        38\n",
      "                 Barolo       0.41      0.55      0.47       158\n",
      "             Beaujolais       0.69      0.20      0.31       209\n",
      "               Bordeaux       0.40      0.81      0.54      1072\n",
      "       British Columbia       0.00      0.00      0.00        30\n",
      " Brunello di Montalcino       0.12      0.06      0.08        84\n",
      "             Burgenland       0.78      0.16      0.26       157\n",
      "               Burgundy       0.42      0.50      0.46       700\n",
      "       Cachapoal Valley       1.00      0.15      0.27        52\n",
      "                 Cahors       0.06      0.03      0.04        38\n",
      "             California       0.50      0.99      0.67      8017\n",
      "               Carneros       0.00      0.00      0.00        45\n",
      "              Carnuntum       1.00      0.17      0.29        29\n",
      "      Casablanca Valley       0.67      0.11      0.18       132\n",
      "              Catalonia       0.66      0.12      0.20       247\n",
      "          Central Coast       0.00      0.00      0.00        37\n",
      "          Central Italy       0.86      0.05      0.09       241\n",
      "          Central Otago       1.00      0.20      0.33        46\n",
      "          Central Spain       0.00      0.00      0.00       100\n",
      "         Central Valley       1.00      0.12      0.21        85\n",
      "              Champagne       0.91      0.74      0.82       419\n",
      "     Chehalem Mountains       0.00      0.00      0.00        21\n",
      "       Chianti Classico       0.13      0.07      0.09        56\n",
      "    Châteauneuf-du-Pape       0.54      0.54      0.54        41\n",
      "         Coastal Region       1.00      0.07      0.13        28\n",
      "       Colchagua Valley       0.86      0.12      0.21       211\n",
      "               Colorado       1.00      0.41      0.58        22\n",
      "   Columbia Valley (WA)       0.46      0.64      0.54       171\n",
      "       Crémant d'Alsace       0.00      0.00      0.00        24\n",
      "          Curicó Valley       1.00      0.07      0.14        54\n",
      "      Côtes de Gascogne       0.17      0.09      0.12        22\n",
      "      Côtes de Provence       0.35      0.23      0.27        62\n",
      "         Côtes du Rhône       0.42      0.31      0.36        32\n",
      "                  Douro       0.91      0.40      0.55       314\n",
      "       Dry Creek Valley       0.00      0.00      0.00        40\n",
      "           Dundee Hills       0.00      0.00      0.00        38\n",
      "                    Dão       0.96      0.30      0.46        86\n",
      "              El Dorado       0.00      0.00      0.00        24\n",
      "                England       1.00      0.22      0.36        27\n",
      "       Eola-Amity Hills       0.00      0.00      0.00        31\n",
      "                   Etna       0.14      0.07      0.10        27\n",
      "           Finger Lakes       0.68      0.71      0.70        63\n",
      "           France Other       0.08      0.01      0.01       131\n",
      "                Franken       1.00      0.64      0.78        22\n",
      "                Galicia       0.87      0.15      0.25        89\n",
      "                Galilee       1.00      0.23      0.38        78\n",
      "               Gigondas       0.00      0.00      0.00        21\n",
      "            Hawke's Bay       1.00      0.20      0.33        41\n",
      "                  Idaho       1.00      0.10      0.18        52\n",
      "            Italy Other       0.00      0.00      0.00        30\n",
      "           Judean Hills       1.00      0.09      0.17        32\n",
      "                Kamptal       1.00      0.12      0.21        92\n",
      "               Kremstal       0.85      0.13      0.23        82\n",
      "   Languedoc-Roussillon       1.00      0.01      0.02       119\n",
      "                Levante       1.00      0.08      0.16        95\n",
      "           Leyda Valley       1.00      0.15      0.26        60\n",
      "          Limarí Valley       0.00      0.00      0.00        23\n",
      "                 Lisboa       1.00      0.26      0.42       141\n",
      "       Livermore Valley       0.00      0.00      0.00        24\n",
      "                   Lodi       0.20      0.02      0.04        50\n",
      "           Loire Valley       0.46      0.19      0.27       360\n",
      "               Lombardy       0.44      0.09      0.15       117\n",
      "           Maipo Valley       0.89      0.11      0.20       155\n",
      "            Marlborough       0.87      0.41      0.56       235\n",
      "          Martinborough       1.00      0.17      0.30        23\n",
      "           Maule Valley       1.00      0.15      0.26       112\n",
      "           McLaren Vale       0.36      0.14      0.20        37\n",
      "                Mendoza       0.29      0.24      0.26        67\n",
      "       Mendoza Province       0.42      0.35      0.38       682\n",
      "               Michigan       0.00      0.00      0.00        24\n",
      "                Moldova       1.00      0.50      0.67        22\n",
      "               Monterey       0.00      0.00      0.00        20\n",
      "                  Mosel       0.62      0.61      0.62       274\n",
      "                   Nahe       1.00      0.26      0.41        31\n",
      "            Napa Valley       0.56      0.44      0.49       158\n",
      "               New York       0.57      0.18      0.27       540\n",
      "       Niederösterreich       0.72      0.14      0.23       133\n",
      "     Northeastern Italy       0.43      0.52      0.47       412\n",
      "         Northern Spain       0.41      0.50      0.45       830\n",
      "                Ontario       0.00      0.00      0.00        22\n",
      "                 Oregon       0.68      0.33      0.44      1262\n",
      "            Paso Robles       0.16      0.03      0.05       121\n",
      "                Penedes       0.42      0.50      0.46        28\n",
      "   Península de Setúbal       1.00      0.13      0.24        30\n",
      "                  Pfalz       1.00      0.24      0.39        58\n",
      "               Piedmont       0.57      0.45      0.50       705\n",
      "                   Port       0.98      0.35      0.51       144\n",
      "               Provence       0.61      0.23      0.34       247\n",
      "           Rapel Valley       1.00      0.08      0.15        37\n",
      "           Red Mountain       0.00      0.00      0.00        39\n",
      "               Rheingau       1.00      0.08      0.15        75\n",
      "            Rheinhessen       1.00      0.14      0.24        87\n",
      "           Rhône Valley       0.31      0.06      0.10       298\n",
      "       Ribera del Duero       0.05      0.03      0.04        36\n",
      "                  Rioja       0.33      0.55      0.41        98\n",
      "           Rogue Valley       0.00      0.00      0.00        21\n",
      "          Saint-Émilion       0.10      0.03      0.05        31\n",
      "               Sancerre       0.00      0.00      0.00        30\n",
      "   Santa Barbara County       0.00      0.00      0.00        51\n",
      "   Santa Cruz Mountains       0.00      0.00      0.00        28\n",
      "  Santa Lucia Highlands       0.00      0.00      0.00        43\n",
      "     Santa Maria Valley       0.00      0.00      0.00        30\n",
      "      Santa Ynez Valley       0.00      0.00      0.00        42\n",
      "                Sicilia       0.30      0.28      0.29        36\n",
      "      Sicily & Sardinia       0.52      0.18      0.27       346\n",
      "       Sierra Foothills       0.00      0.00      0.00        29\n",
      "           Sonoma Coast       0.55      0.06      0.11        95\n",
      "          Sonoma County       0.00      0.00      0.00        42\n",
      "          Sonoma Valley       0.40      0.47      0.43       191\n",
      "        South Australia       0.69      0.12      0.20       308\n",
      "         Southern Italy       0.75      0.03      0.06       270\n",
      "       Southwest France       0.48      0.07      0.12       299\n",
      "           Stellenbosch       1.00      0.03      0.06        91\n",
      "                   Tejo       0.76      0.24      0.36       173\n",
      "        Temecula Valley       0.00      0.00      0.00        23\n",
      "                  Texas       1.00      0.26      0.41        35\n",
      "          Thermenregion       1.00      0.04      0.07        26\n",
      "        Thracian Valley       1.00      0.14      0.25        28\n",
      "                Toscana       0.56      0.16      0.25        31\n",
      "                Tuscany       0.55      0.63      0.59      1110\n",
      "             Uco Valley       0.00      0.00      0.00        27\n",
      "                 Veneto       0.71      0.32      0.44       455\n",
      "               Victoria       1.00      0.07      0.13        73\n",
      "          Vin de France       0.32      0.19      0.24        32\n",
      "            Vinho Verde       0.96      0.58      0.72       113\n",
      "               Virginia       0.98      0.22      0.36       199\n",
      "                 Wachau       1.00      0.20      0.33        92\n",
      "                 Wagram       1.00      0.25      0.40        24\n",
      "Walla Walla Valley (WA)       0.00      0.00      0.00        50\n",
      "             Washington       0.72      0.57      0.64      1813\n",
      "            Weinviertel       1.00      0.13      0.23        23\n",
      "      Western Australia       0.00      0.00      0.00        68\n",
      "           Western Cape       0.67      0.09      0.16        65\n",
      "      Willamette Valley       0.35      0.49      0.41       127\n",
      "          Yakima Valley       0.00      0.00      0.00        46\n",
      "        Yamhill-Carlton       0.00      0.00      0.00        25\n",
      "\n",
      "               accuracy                           0.52     29942\n",
      "              macro avg       0.52      0.18      0.23     29942\n",
      "           weighted avg       0.57      0.52      0.46     29942\n",
      "\n"
     ]
    }
   ],
   "source": [
    "print(classification_report(y_test3, predicteds6))"
   ]
  },
  {
   "cell_type": "code",
   "execution_count": 133,
   "metadata": {},
   "outputs": [
    {
     "data": {
      "text/plain": [
       "0.47790875551156303"
      ]
     },
     "execution_count": 133,
     "metadata": {},
     "output_type": "execute_result"
    }
   ],
   "source": [
    "# Random Forest with TfidfVectorizer and max_depth = 10\n",
    "pipelines7 = Pipeline([\n",
    "    ('vect', TfidfVectorizer(stop_words='english', sublinear_tf=True,\n",
    "                             ngram_range = (1,1), strip_accents='unicode')),\n",
    "    \n",
    "    ('cls', RandomForestClassifier(n_estimators=200, n_jobs = 2, max_depth = 10 ))\n",
    "])\n",
    "pipelines7.fit(X_train3, y_train3)\n",
    "predicteds7 = pipelines7.predict(X_test3)\n",
    "pipelines7.score(X_test3, y_test3)"
   ]
  },
  {
   "cell_type": "code",
   "execution_count": 134,
   "metadata": {},
   "outputs": [
    {
     "name": "stderr",
     "output_type": "stream",
     "text": [
      "/Users/Mariagimenoperez/anaconda3/lib/python3.6/site-packages/sklearn/metrics/classification.py:1437: UndefinedMetricWarning: Precision and F-score are ill-defined and being set to 0.0 in labels with no predicted samples.\n",
      "  'precision', 'predicted', average, warn_for)\n"
     ]
    },
    {
     "name": "stdout",
     "output_type": "stream",
     "text": [
      "                precision    recall  f1-score   support\n",
      "\n",
      "     Argentina       0.00      0.00      0.00       919\n",
      "     Australia       0.00      0.00      0.00       671\n",
      "       Austria       0.00      0.00      0.00       791\n",
      "        Brazil       0.00      0.00      0.00        11\n",
      "      Bulgaria       0.00      0.00      0.00        39\n",
      "        Canada       0.00      0.00      0.00        62\n",
      "         Chile       0.00      0.00      0.00      1082\n",
      "       Croatia       0.00      0.00      0.00        19\n",
      "        Cyprus       0.00      0.00      0.00         2\n",
      "Czech Republic       0.00      0.00      0.00         3\n",
      "       England       0.00      0.00      0.00        27\n",
      "        France       0.79      0.13      0.22      5586\n",
      "       Georgia       0.00      0.00      0.00        26\n",
      "       Germany       0.00      0.00      0.00       606\n",
      "        Greece       0.00      0.00      0.00       111\n",
      "       Hungary       0.00      0.00      0.00        34\n",
      "         India       0.00      0.00      0.00         3\n",
      "        Israel       0.00      0.00      0.00       144\n",
      "         Italy       1.00      0.32      0.49      4601\n",
      "        Kosovo       0.00      0.00      0.00         2\n",
      "       Lebanon       0.00      0.00      0.00         7\n",
      "    Luxembourg       0.00      0.00      0.00         4\n",
      "     Macedonia       0.00      0.00      0.00         2\n",
      "        Mexico       0.00      0.00      0.00        14\n",
      "       Moldova       0.00      0.00      0.00        23\n",
      "       Morocco       0.00      0.00      0.00         6\n",
      "      New York       0.00      0.00      0.00        96\n",
      "   New Zealand       0.00      0.00      0.00       409\n",
      "        Oregon       0.00      0.00      0.00       351\n",
      "          Peru       0.00      0.00      0.00         3\n",
      "      Portugal       0.00      0.00      0.00      1408\n",
      "       Romania       0.00      0.00      0.00        32\n",
      "        Serbia       0.00      0.00      0.00         2\n",
      "      Slovenia       0.00      0.00      0.00        16\n",
      "  South Africa       0.00      0.00      0.00       303\n",
      "         Spain       0.00      0.00      0.00      1749\n",
      "   Switzerland       0.00      0.00      0.00         8\n",
      "        Turkey       0.00      0.00      0.00        19\n",
      "            US       0.44      1.00      0.61     13733\n",
      "       Ukraine       0.00      0.00      0.00         3\n",
      "       Uruguay       0.00      0.00      0.00        37\n",
      "    Washington       0.00      0.00      0.00       375\n",
      "\n",
      "      accuracy                           0.48     33339\n",
      "     macro avg       0.05      0.03      0.03     33339\n",
      "  weighted avg       0.45      0.48      0.36     33339\n",
      "\n"
     ]
    }
   ],
   "source": [
    "print(classification_report(y_test3, predicteds7))"
   ]
  },
  {
   "cell_type": "markdown",
   "metadata": {},
   "source": [
    "### NAIVE BAYES, COUNTVECTORIZER AND TFIDFVECTORIZER\n",
    "The best accuracy I got in MultinomialNB with CountVectorizer. MultinomialNB is one of the two classic Naive Bayes variants used in text classification.\n",
    "\n",
    "Logistic Regression in all of models performs better than Native Bayes in this data set, with higher accuracy. But in this case, Naive Bayes performs better than Random Forest Classifier.\n",
    "\n",
    "All of the models have better scores than the baseline\n"
   ]
  },
  {
   "cell_type": "code",
   "execution_count": 149,
   "metadata": {},
   "outputs": [
    {
     "data": {
      "text/plain": [
       "0.578318081624474"
      ]
     },
     "execution_count": 149,
     "metadata": {},
     "output_type": "execute_result"
    }
   ],
   "source": [
    "# MultinomialNB with CountVectorizer\n",
    "pipelines8 = Pipeline([\n",
    "    ('vect', cvec),\n",
    "    ('cls', MultinomialNB())\n",
    "])\n",
    "pipelines8.fit(X_train3, y_train3)\n",
    "predictes8 = pipelines8.predict(X_test3)\n",
    "pipelines8.score(X_test3, y_test3)"
   ]
  },
  {
   "cell_type": "code",
   "execution_count": 153,
   "metadata": {},
   "outputs": [
    {
     "data": {
      "text/plain": [
       "0.5359695411128181"
      ]
     },
     "execution_count": 153,
     "metadata": {},
     "output_type": "execute_result"
    }
   ],
   "source": [
    "# BernoulliNB with CountVectorizer\n",
    "pipelines9 = Pipeline([\n",
    "    ('vect', cvec),\n",
    "    ('cls', BernoulliNB())\n",
    "])\n",
    "pipelines9.fit(X_train3, y_train3)\n",
    "predictes9 = pipelines9.predict(X_test3)\n",
    "pipelines9.score(X_test3, y_test3)"
   ]
  },
  {
   "cell_type": "code",
   "execution_count": 156,
   "metadata": {},
   "outputs": [
    {
     "data": {
      "text/plain": [
       "0.393226905350344"
      ]
     },
     "execution_count": 156,
     "metadata": {},
     "output_type": "execute_result"
    }
   ],
   "source": [
    "# MultinomialNB with  TdidfVectorizer\n",
    "pipelines10 = Pipeline([\n",
    "    ('vect',vect) ,\n",
    "    ('cls', MultinomialNB())\n",
    "])\n",
    "pipelines10.fit(X_train3, y_train3)\n",
    "predictes10 = pipelines10.predict(X_test3)\n",
    "pipelines10.score(X_test3, y_test3)"
   ]
  }
 ],
 "metadata": {
  "kernelspec": {
   "display_name": "Python 3",
   "language": "python",
   "name": "python3"
  },
  "language_info": {
   "codemirror_mode": {
    "name": "ipython",
    "version": 3
   },
   "file_extension": ".py",
   "mimetype": "text/x-python",
   "name": "python",
   "nbconvert_exporter": "python",
   "pygments_lexer": "ipython3",
   "version": "3.6.8"
  }
 },
 "nbformat": 4,
 "nbformat_minor": 2
}
